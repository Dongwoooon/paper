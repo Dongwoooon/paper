{
 "cells": [
  {
   "cell_type": "markdown",
   "metadata": {},
   "source": [
    "# patent data에서 필요한 firm-lv 변수 뽑기\n",
    "\n",
    "### 1. patent에 gvkey, country, year 붙이기\n",
    "- gvkey, country: assignee\n",
    "- year: patent_class\n",
    "\n",
    "### 2. 변수 제작\n",
    "- fwd, bwd cit (sum, avg)\n",
    "- self citation intensity = self / 전체 (fwd, bwd)\n",
    "- size\n",
    "- country: firm fixed effect 하면 사라질건데... 일단 구해놓자 중복 많네 귀찮게... 나중에 수작업으로 선별해야\n",
    "- class로 구한 (normalized) herfindahl index"
   ]
  },
  {
   "cell_type": "markdown",
   "metadata": {},
   "source": [
    "### 1. patent info - gvkey, country, year\n",
    "- year 붙이기 (patent_class, patent_info join)  \n",
    "__=> patent_id, year, info__  \n",
    "- patent_id -> assignee -> gvkey (patent_assignee join, assignee_gvkey join)   \n",
    "__=> gvkey, year, info, assignee__\n",
    "- gvkey, assignee만 분리 후, assignee -> raw_assignee -> country (assignee_raw join, assignee join)\n",
    "__=> gvkey, country__"
   ]
  },
  {
   "cell_type": "code",
   "execution_count": 1,
   "metadata": {
    "collapsed": true
   },
   "outputs": [],
   "source": [
    "import pandas as pd\n",
    "import numpy as np\n",
    "import csv\n",
    "import os\n",
    "import math\n",
    "\n",
    "os.chdir('E:/apps/db_table')"
   ]
  },
  {
   "cell_type": "markdown",
   "metadata": {},
   "source": [
    "__1. patent_id, year, info__"
   ]
  },
  {
   "cell_type": "code",
   "execution_count": 2,
   "metadata": {},
   "outputs": [
    {
     "data": {
      "text/plain": [
       "(139224, 850774)"
      ]
     },
     "execution_count": 2,
     "metadata": {},
     "output_type": "execute_result"
    }
   ],
   "source": [
    "bio = pd.read_csv('patent_class_BIO.csv')\n",
    "ee = pd.read_csv('patent_class_EE&IT.csv')\n",
    "\n",
    "bio = bio.loc[:,['patent_id','year']]\n",
    "ee = ee.loc[:,['patent_id','year']]\n",
    "\n",
    "df = pd.read_csv('patent_info.csv')\n",
    "\n",
    "bio = bio.merge(df,how='left',on='patent_id')\n",
    "ee = ee.merge(df,how='left',on='patent_id')\n",
    "\n",
    "len(bio), len(ee)"
   ]
  },
  {
   "cell_type": "code",
   "execution_count": 3,
   "metadata": {},
   "outputs": [
    {
     "data": {
      "text/plain": [
       "['patent_id',\n",
       " 'year',\n",
       " 'num_assignees',\n",
       " 'num_claims',\n",
       " 'num_foreign_citations',\n",
       " 'num_other_citations',\n",
       " 'num_self_citations',\n",
       " 'num_times_cited',\n",
       " 'num_us_citations',\n",
       " 'num_self_future_citations']"
      ]
     },
     "execution_count": 3,
     "metadata": {},
     "output_type": "execute_result"
    }
   ],
   "source": [
    "list(bio)"
   ]
  },
  {
   "cell_type": "markdown",
   "metadata": {},
   "source": [
    "__2. patent_id -> gvkey__"
   ]
  },
  {
   "cell_type": "code",
   "execution_count": 4,
   "metadata": {},
   "outputs": [
    {
     "data": {
      "text/plain": [
       "(144911, 871338)"
      ]
     },
     "execution_count": 4,
     "metadata": {},
     "output_type": "execute_result"
    }
   ],
   "source": [
    "df = pd.read_csv('patent_assignee.csv')\n",
    "\n",
    "bio = bio.merge(df, how='left', on='patent_id')\n",
    "ee = ee.merge(df, how='left', on='patent_id')\n",
    "\n",
    "len(bio), len(ee)"
   ]
  },
  {
   "cell_type": "code",
   "execution_count": 5,
   "metadata": {},
   "outputs": [
    {
     "data": {
      "text/plain": [
       "(144974, 871446)"
      ]
     },
     "execution_count": 5,
     "metadata": {},
     "output_type": "execute_result"
    }
   ],
   "source": [
    "df = pd.read_csv('assignee_gvkey_BIO.csv')\n",
    "df1 = pd.read_csv('assignee_gvkey_EE&IT.csv')\n",
    "\n",
    "bio = bio.merge(df, how='left', on='assignee')\n",
    "ee = ee.merge(df1, how='left', on='assignee')\n",
    "\n",
    "len(bio), len(ee)"
   ]
  },
  {
   "cell_type": "code",
   "execution_count": 6,
   "metadata": {},
   "outputs": [
    {
     "data": {
      "text/plain": [
       "(54112, 554481)"
      ]
     },
     "execution_count": 6,
     "metadata": {},
     "output_type": "execute_result"
    }
   ],
   "source": [
    "bio.dropna(how='any',inplace=True)  #drop patents which don't have gvkey of assignee\n",
    "ee.dropna(how='any',inplace=True)\n",
    "\n",
    "len(bio), len(ee)"
   ]
  },
  {
   "cell_type": "code",
   "execution_count": 7,
   "metadata": {
    "collapsed": true
   },
   "outputs": [],
   "source": [
    "bio.to_csv('bio_temp.csv',index=False)\n",
    "ee.to_csv('ee_temp.csv',index=False)"
   ]
  },
  {
   "cell_type": "markdown",
   "metadata": {},
   "source": [
    "__3. gvkey -> country__"
   ]
  },
  {
   "cell_type": "code",
   "execution_count": 2,
   "metadata": {
    "collapsed": true
   },
   "outputs": [],
   "source": [
    "bio = pd.read_csv('bio_temp.csv')\n",
    "ee = pd.read_csv('ee_temp.csv')"
   ]
  },
  {
   "cell_type": "code",
   "execution_count": 8,
   "metadata": {},
   "outputs": [
    {
     "data": {
      "text/plain": [
       "(681, 621)"
      ]
     },
     "execution_count": 8,
     "metadata": {},
     "output_type": "execute_result"
    }
   ],
   "source": [
    "biocon = bio.loc[:,['gvkey','assignee']]\n",
    "eecon = ee.loc[:,['gvkey','assignee']]\n",
    "\n",
    "biocon.drop_duplicates(inplace=True)\n",
    "eecon.drop_duplicates(inplace=True)\n",
    "\n",
    "len(biocon), len(eecon)"
   ]
  },
  {
   "cell_type": "code",
   "execution_count": 9,
   "metadata": {},
   "outputs": [
    {
     "data": {
      "text/plain": [
       "120186"
      ]
     },
     "execution_count": 9,
     "metadata": {},
     "output_type": "execute_result"
    }
   ],
   "source": [
    "df = pd.read_csv('assignee.csv')\n",
    "df = df.loc[:,['country_code','pdpass']]\n",
    "df.dropna(how='any',inplace=True)\n",
    "df.drop_duplicates(inplace=True)\n",
    "\n",
    "len(df)"
   ]
  },
  {
   "cell_type": "code",
   "execution_count": 10,
   "metadata": {
    "collapsed": true
   },
   "outputs": [],
   "source": [
    "pdp = pd.read_csv('pdpass.csv')\n",
    "\n",
    "df = df.merge(pdp,how='left',on='pdpass')\n",
    "\n",
    "biocon = biocon.merge(df, how='left', on='assignee')\n",
    "eecon = eecon.merge(df, how='left', on='assignee')\n",
    "\n",
    "biocon = biocon.loc[:,['gvkey','country_code']]\n",
    "eecon = eecon.loc[:,['gvkey','country_code']]"
   ]
  },
  {
   "cell_type": "code",
   "execution_count": 11,
   "metadata": {},
   "outputs": [
    {
     "data": {
      "text/plain": [
       "(568, 978)"
      ]
     },
     "execution_count": 11,
     "metadata": {},
     "output_type": "execute_result"
    }
   ],
   "source": [
    "biocon.drop_duplicates(inplace=True)\n",
    "eecon.drop_duplicates(inplace=True)\n",
    "\n",
    "len(biocon), len(eecon)"
   ]
  },
  {
   "cell_type": "code",
   "execution_count": 12,
   "metadata": {
    "collapsed": true
   },
   "outputs": [],
   "source": [
    "biocon.to_csv('country_bio.csv',index=False)\n",
    "eecon.to_csv('country_EE&IT.csv',index=False)"
   ]
  },
  {
   "cell_type": "markdown",
   "metadata": {},
   "source": [
    "### 2 .변수 제작\n",
    "- groupby gvkey, year\n",
    "- size (count)\n",
    "- claim, fwd, bwd, self, self_fwd cit (avg) => 그 후 self citation intensity = self / 전체 (fwd, bwd)\n",
    "- Herf index"
   ]
  },
  {
   "cell_type": "code",
   "execution_count": 3,
   "metadata": {
    "scrolled": true
   },
   "outputs": [
    {
     "data": {
      "text/plain": [
       "['patent_id',\n",
       " 'year',\n",
       " 'num_assignees',\n",
       " 'num_claims',\n",
       " 'num_foreign_citations',\n",
       " 'num_other_citations',\n",
       " 'num_self_citations',\n",
       " 'num_times_cited',\n",
       " 'num_us_citations',\n",
       " 'num_self_future_citations',\n",
       " 'assignee',\n",
       " 'gvkey']"
      ]
     },
     "execution_count": 3,
     "metadata": {},
     "output_type": "execute_result"
    }
   ],
   "source": [
    "list(bio)"
   ]
  },
  {
   "cell_type": "code",
   "execution_count": 4,
   "metadata": {
    "collapsed": true
   },
   "outputs": [],
   "source": [
    "del bio['assignee']\n",
    "del ee['assignee']"
   ]
  },
  {
   "cell_type": "markdown",
   "metadata": {},
   "source": [
    "__1. size__"
   ]
  },
  {
   "cell_type": "code",
   "execution_count": 12,
   "metadata": {},
   "outputs": [
    {
     "data": {
      "text/plain": [
       "(2203, 3174)"
      ]
     },
     "execution_count": 12,
     "metadata": {},
     "output_type": "execute_result"
    }
   ],
   "source": [
    "biosize = bio.loc[:,['gvkey','year']]\n",
    "eesize = ee.loc[:,['gvkey','year']]\n",
    "\n",
    "biosize['pat_size'] = ''\n",
    "eesize['pat_size'] = ''\n",
    "\n",
    "biosize = biosize.groupby(['gvkey','year'], as_index=False).agg('count')\n",
    "eesize = eesize.groupby(['gvkey','year'], as_index=False).agg('count')\n",
    "\n",
    "len(biosize), len(eesize)"
   ]
  },
  {
   "cell_type": "code",
   "execution_count": 14,
   "metadata": {},
   "outputs": [
    {
     "data": {
      "text/html": [
       "<div>\n",
       "<style>\n",
       "    .dataframe thead tr:only-child th {\n",
       "        text-align: right;\n",
       "    }\n",
       "\n",
       "    .dataframe thead th {\n",
       "        text-align: left;\n",
       "    }\n",
       "\n",
       "    .dataframe tbody tr th {\n",
       "        vertical-align: top;\n",
       "    }\n",
       "</style>\n",
       "<table border=\"1\" class=\"dataframe\">\n",
       "  <thead>\n",
       "    <tr style=\"text-align: right;\">\n",
       "      <th></th>\n",
       "      <th>gvkey</th>\n",
       "      <th>year</th>\n",
       "      <th>pat_size</th>\n",
       "    </tr>\n",
       "  </thead>\n",
       "  <tbody>\n",
       "    <tr>\n",
       "      <th>0</th>\n",
       "      <td>1078.0</td>\n",
       "      <td>2005</td>\n",
       "      <td>168</td>\n",
       "    </tr>\n",
       "    <tr>\n",
       "      <th>1</th>\n",
       "      <td>1078.0</td>\n",
       "      <td>2006</td>\n",
       "      <td>216</td>\n",
       "    </tr>\n",
       "    <tr>\n",
       "      <th>2</th>\n",
       "      <td>1078.0</td>\n",
       "      <td>2007</td>\n",
       "      <td>216</td>\n",
       "    </tr>\n",
       "    <tr>\n",
       "      <th>3</th>\n",
       "      <td>1078.0</td>\n",
       "      <td>2008</td>\n",
       "      <td>186</td>\n",
       "    </tr>\n",
       "    <tr>\n",
       "      <th>4</th>\n",
       "      <td>1078.0</td>\n",
       "      <td>2009</td>\n",
       "      <td>188</td>\n",
       "    </tr>\n",
       "    <tr>\n",
       "      <th>5</th>\n",
       "      <td>1078.0</td>\n",
       "      <td>2010</td>\n",
       "      <td>364</td>\n",
       "    </tr>\n",
       "    <tr>\n",
       "      <th>6</th>\n",
       "      <td>1078.0</td>\n",
       "      <td>2011</td>\n",
       "      <td>435</td>\n",
       "    </tr>\n",
       "    <tr>\n",
       "      <th>7</th>\n",
       "      <td>1078.0</td>\n",
       "      <td>2012</td>\n",
       "      <td>524</td>\n",
       "    </tr>\n",
       "    <tr>\n",
       "      <th>8</th>\n",
       "      <td>1602.0</td>\n",
       "      <td>2005</td>\n",
       "      <td>46</td>\n",
       "    </tr>\n",
       "    <tr>\n",
       "      <th>9</th>\n",
       "      <td>1602.0</td>\n",
       "      <td>2006</td>\n",
       "      <td>67</td>\n",
       "    </tr>\n",
       "  </tbody>\n",
       "</table>\n",
       "</div>"
      ],
      "text/plain": [
       "    gvkey  year  pat_size\n",
       "0  1078.0  2005       168\n",
       "1  1078.0  2006       216\n",
       "2  1078.0  2007       216\n",
       "3  1078.0  2008       186\n",
       "4  1078.0  2009       188\n",
       "5  1078.0  2010       364\n",
       "6  1078.0  2011       435\n",
       "7  1078.0  2012       524\n",
       "8  1602.0  2005        46\n",
       "9  1602.0  2006        67"
      ]
     },
     "execution_count": 14,
     "metadata": {},
     "output_type": "execute_result"
    }
   ],
   "source": [
    "biosize.iloc[0:10,:]"
   ]
  },
  {
   "cell_type": "markdown",
   "metadata": {},
   "source": [
    "__2. citation__"
   ]
  },
  {
   "cell_type": "code",
   "execution_count": 5,
   "metadata": {
    "collapsed": true
   },
   "outputs": [],
   "source": [
    "bio = bio.rename(columns = {'num_us_citations':'bwd','num_times_cited':'fwd','num_self_citations':'self',\n",
    "                            'num_self_future_citations':'self_fwd'})\n",
    "ee = ee.rename(columns = {'num_us_citations':'bwd','num_times_cited':'fwd','num_self_citations':'self',\n",
    "                            'num_self_future_citations':'self_fwd'})\n",
    "\n",
    "biocit = bio.loc[:,['gvkey','year','num_claims','bwd','fwd','self','self_fwd']]\n",
    "eecit = ee.loc[:,['gvkey','year','num_claims','bwd','fwd','self','self_fwd']]"
   ]
  },
  {
   "cell_type": "code",
   "execution_count": 6,
   "metadata": {},
   "outputs": [],
   "source": [
    "biocit = biocit.groupby(['gvkey','year'], as_index=False).mean()\n",
    "eecit = eecit.groupby(['gvkey','year'], as_index=False).mean()"
   ]
  },
  {
   "cell_type": "code",
   "execution_count": 24,
   "metadata": {},
   "outputs": [
    {
     "data": {
      "text/plain": [
       "(2203, 3174)"
      ]
     },
     "execution_count": 24,
     "metadata": {},
     "output_type": "execute_result"
    }
   ],
   "source": [
    "biocit['self_ratio'] = biocit['self'] / biocit['bwd']\n",
    "biocit['self_ratio_fwd'] = biocit['self_fwd'] / biocit['fwd']\n",
    "\n",
    "eecit['self_ratio'] = eecit['self'] / eecit['bwd']\n",
    "eecit['self_ratio_fwd'] = eecit['self_fwd'] / eecit['fwd']\n",
    "\n",
    "len(biocit), len(eecit)"
   ]
  },
  {
   "cell_type": "code",
   "execution_count": 8,
   "metadata": {
    "scrolled": true
   },
   "outputs": [
    {
     "data": {
      "text/html": [
       "<div>\n",
       "<style>\n",
       "    .dataframe thead tr:only-child th {\n",
       "        text-align: right;\n",
       "    }\n",
       "\n",
       "    .dataframe thead th {\n",
       "        text-align: left;\n",
       "    }\n",
       "\n",
       "    .dataframe tbody tr th {\n",
       "        vertical-align: top;\n",
       "    }\n",
       "</style>\n",
       "<table border=\"1\" class=\"dataframe\">\n",
       "  <thead>\n",
       "    <tr style=\"text-align: right;\">\n",
       "      <th></th>\n",
       "      <th>gvkey</th>\n",
       "      <th>year</th>\n",
       "      <th>num_claims</th>\n",
       "      <th>bwd</th>\n",
       "      <th>fwd</th>\n",
       "      <th>self</th>\n",
       "      <th>self_fwd</th>\n",
       "      <th>self_ratio</th>\n",
       "      <th>self_ratio_fwd</th>\n",
       "    </tr>\n",
       "  </thead>\n",
       "  <tbody>\n",
       "    <tr>\n",
       "      <th>0</th>\n",
       "      <td>1078.0</td>\n",
       "      <td>2005</td>\n",
       "      <td>22.922619</td>\n",
       "      <td>31.702381</td>\n",
       "      <td>44.601190</td>\n",
       "      <td>3.630952</td>\n",
       "      <td>4.035714</td>\n",
       "      <td>0.114532</td>\n",
       "      <td>0.090484</td>\n",
       "    </tr>\n",
       "    <tr>\n",
       "      <th>1</th>\n",
       "      <td>1078.0</td>\n",
       "      <td>2006</td>\n",
       "      <td>20.972222</td>\n",
       "      <td>36.629630</td>\n",
       "      <td>37.861111</td>\n",
       "      <td>5.125000</td>\n",
       "      <td>6.689815</td>\n",
       "      <td>0.139914</td>\n",
       "      <td>0.176694</td>\n",
       "    </tr>\n",
       "    <tr>\n",
       "      <th>2</th>\n",
       "      <td>1078.0</td>\n",
       "      <td>2007</td>\n",
       "      <td>18.611111</td>\n",
       "      <td>53.328704</td>\n",
       "      <td>33.375000</td>\n",
       "      <td>6.032407</td>\n",
       "      <td>4.916667</td>\n",
       "      <td>0.113117</td>\n",
       "      <td>0.147316</td>\n",
       "    </tr>\n",
       "    <tr>\n",
       "      <th>3</th>\n",
       "      <td>1078.0</td>\n",
       "      <td>2008</td>\n",
       "      <td>16.419355</td>\n",
       "      <td>59.709677</td>\n",
       "      <td>20.553763</td>\n",
       "      <td>6.043011</td>\n",
       "      <td>2.532258</td>\n",
       "      <td>0.101207</td>\n",
       "      <td>0.123202</td>\n",
       "    </tr>\n",
       "    <tr>\n",
       "      <th>4</th>\n",
       "      <td>1078.0</td>\n",
       "      <td>2009</td>\n",
       "      <td>16.462766</td>\n",
       "      <td>89.202128</td>\n",
       "      <td>17.255319</td>\n",
       "      <td>7.494681</td>\n",
       "      <td>3.292553</td>\n",
       "      <td>0.084019</td>\n",
       "      <td>0.190814</td>\n",
       "    </tr>\n",
       "    <tr>\n",
       "      <th>5</th>\n",
       "      <td>1078.0</td>\n",
       "      <td>2010</td>\n",
       "      <td>17.230769</td>\n",
       "      <td>116.706044</td>\n",
       "      <td>12.027473</td>\n",
       "      <td>5.763736</td>\n",
       "      <td>2.211538</td>\n",
       "      <td>0.049387</td>\n",
       "      <td>0.183874</td>\n",
       "    </tr>\n",
       "    <tr>\n",
       "      <th>6</th>\n",
       "      <td>1078.0</td>\n",
       "      <td>2011</td>\n",
       "      <td>18.671264</td>\n",
       "      <td>139.457471</td>\n",
       "      <td>6.963218</td>\n",
       "      <td>4.749425</td>\n",
       "      <td>1.098851</td>\n",
       "      <td>0.034056</td>\n",
       "      <td>0.157808</td>\n",
       "    </tr>\n",
       "    <tr>\n",
       "      <th>7</th>\n",
       "      <td>1078.0</td>\n",
       "      <td>2012</td>\n",
       "      <td>18.034351</td>\n",
       "      <td>164.366412</td>\n",
       "      <td>4.740458</td>\n",
       "      <td>3.931298</td>\n",
       "      <td>0.687023</td>\n",
       "      <td>0.023918</td>\n",
       "      <td>0.144928</td>\n",
       "    </tr>\n",
       "    <tr>\n",
       "      <th>8</th>\n",
       "      <td>1602.0</td>\n",
       "      <td>2005</td>\n",
       "      <td>24.978261</td>\n",
       "      <td>8.391304</td>\n",
       "      <td>9.630435</td>\n",
       "      <td>0.782609</td>\n",
       "      <td>0.826087</td>\n",
       "      <td>0.093264</td>\n",
       "      <td>0.085779</td>\n",
       "    </tr>\n",
       "    <tr>\n",
       "      <th>9</th>\n",
       "      <td>1602.0</td>\n",
       "      <td>2006</td>\n",
       "      <td>21.701493</td>\n",
       "      <td>12.000000</td>\n",
       "      <td>7.447761</td>\n",
       "      <td>0.686567</td>\n",
       "      <td>0.910448</td>\n",
       "      <td>0.057214</td>\n",
       "      <td>0.122244</td>\n",
       "    </tr>\n",
       "  </tbody>\n",
       "</table>\n",
       "</div>"
      ],
      "text/plain": [
       "    gvkey  year  num_claims         bwd        fwd      self  self_fwd  \\\n",
       "0  1078.0  2005   22.922619   31.702381  44.601190  3.630952  4.035714   \n",
       "1  1078.0  2006   20.972222   36.629630  37.861111  5.125000  6.689815   \n",
       "2  1078.0  2007   18.611111   53.328704  33.375000  6.032407  4.916667   \n",
       "3  1078.0  2008   16.419355   59.709677  20.553763  6.043011  2.532258   \n",
       "4  1078.0  2009   16.462766   89.202128  17.255319  7.494681  3.292553   \n",
       "5  1078.0  2010   17.230769  116.706044  12.027473  5.763736  2.211538   \n",
       "6  1078.0  2011   18.671264  139.457471   6.963218  4.749425  1.098851   \n",
       "7  1078.0  2012   18.034351  164.366412   4.740458  3.931298  0.687023   \n",
       "8  1602.0  2005   24.978261    8.391304   9.630435  0.782609  0.826087   \n",
       "9  1602.0  2006   21.701493   12.000000   7.447761  0.686567  0.910448   \n",
       "\n",
       "   self_ratio  self_ratio_fwd  \n",
       "0    0.114532        0.090484  \n",
       "1    0.139914        0.176694  \n",
       "2    0.113117        0.147316  \n",
       "3    0.101207        0.123202  \n",
       "4    0.084019        0.190814  \n",
       "5    0.049387        0.183874  \n",
       "6    0.034056        0.157808  \n",
       "7    0.023918        0.144928  \n",
       "8    0.093264        0.085779  \n",
       "9    0.057214        0.122244  "
      ]
     },
     "execution_count": 8,
     "metadata": {},
     "output_type": "execute_result"
    }
   ],
   "source": [
    "biocit.iloc[0:10,:]"
   ]
  },
  {
   "cell_type": "code",
   "execution_count": 25,
   "metadata": {
    "scrolled": true
   },
   "outputs": [
    {
     "data": {
      "text/plain": [
       "(2203, 3174)"
      ]
     },
     "execution_count": 25,
     "metadata": {},
     "output_type": "execute_result"
    }
   ],
   "source": [
    "bio = biosize.merge(biocit,how='left',on=['gvkey','year'])\n",
    "ee = eesize.merge(eecit,how='left',on=['gvkey','year'])\n",
    "\n",
    "len(bio), len(ee)"
   ]
  },
  {
   "cell_type": "code",
   "execution_count": 29,
   "metadata": {
    "collapsed": true
   },
   "outputs": [],
   "source": [
    "bio1 = bio.drop(['self_ratio','self_ratio_fwd'], axis=1)\n",
    "ee1 = ee.drop(['self_ratio','self_ratio_fwd'], axis=1)\n",
    "\n",
    "bio1.to_csv('E:/apps/feature/patent_bio.csv',index=False)\n",
    "ee1.to_csv('E:/apps/feature/patent_EE&IT.csv',index=False)"
   ]
  },
  {
   "cell_type": "code",
   "execution_count": 30,
   "metadata": {},
   "outputs": [
    {
     "data": {
      "text/plain": [
       "gvkey             False\n",
       "year              False\n",
       "pat_size          False\n",
       "num_claims        False\n",
       "bwd               False\n",
       "fwd               False\n",
       "self              False\n",
       "self_fwd          False\n",
       "self_ratio         True\n",
       "self_ratio_fwd     True\n",
       "dtype: bool"
      ]
     },
     "execution_count": 30,
     "metadata": {},
     "output_type": "execute_result"
    }
   ],
   "source": [
    "bio.isnull().any()"
   ]
  },
  {
   "cell_type": "code",
   "execution_count": 31,
   "metadata": {},
   "outputs": [
    {
     "data": {
      "text/plain": [
       "(2109, 3169)"
      ]
     },
     "execution_count": 31,
     "metadata": {},
     "output_type": "execute_result"
    }
   ],
   "source": [
    "bio.dropna(how='any',inplace=True)\n",
    "ee.dropna(how='any',inplace=True)\n",
    "\n",
    "len(bio), len(ee)"
   ]
  },
  {
   "cell_type": "code",
   "execution_count": 33,
   "metadata": {},
   "outputs": [],
   "source": [
    "bio.to_csv('E:/apps/feature/patent_self_bio.csv',index=False)\n",
    "ee.to_csv('E:/apps/feature/patent_self_EE&IT.csv',index=False)"
   ]
  },
  {
   "cell_type": "markdown",
   "metadata": {},
   "source": [
    "__3. herfindhal index__"
   ]
  },
  {
   "cell_type": "code",
   "execution_count": 1,
   "metadata": {
    "collapsed": true
   },
   "outputs": [],
   "source": [
    "import pandas as pd\n",
    "import numpy as np\n",
    "import csv\n",
    "import os\n",
    "import math\n",
    "\n",
    "os.chdir('E:/apps/appcit measure')"
   ]
  },
  {
   "cell_type": "code",
   "execution_count": 2,
   "metadata": {
    "collapsed": true
   },
   "outputs": [],
   "source": [
    "header = ['gvkey','year','herf_cls']\n",
    "\n",
    "def get_herf(ind,y_start,y_end):\n",
    "    fname = 'E:/apps/feature/cls_herf_' + ind + '.csv'\n",
    "    with open(fname,'wb') as f:\n",
    "        writer = csv.writer(f)\n",
    "        writer.writerow(header)\n",
    "        \n",
    "        for y in range(y_start,1+y_end):   \n",
    "            cls = 'class_vector_' + ind + '_' + str(y) +'.csv'\n",
    "            df = pd.read_csv(cls)            \n",
    "            \n",
    "            for i in range(0,len(df)):\n",
    "                row = []\n",
    "                row.append(df.iloc[i,0])\n",
    "                row.append(y)\n",
    "                herf = round(sum([x**2 for x in df.iloc[i,1:]]),3)\n",
    "                row.append(herf)\n",
    "                \n",
    "                writer.writerow(row)"
   ]
  },
  {
   "cell_type": "code",
   "execution_count": 3,
   "metadata": {
    "collapsed": true
   },
   "outputs": [],
   "source": [
    "get_herf('bio',2005,2012)\n",
    "get_herf('EE&IT',2005,2012)"
   ]
  }
 ],
 "metadata": {
  "kernelspec": {
   "display_name": "Python 2",
   "language": "python",
   "name": "python2"
  },
  "language_info": {
   "codemirror_mode": {
    "name": "ipython",
    "version": 2
   },
   "file_extension": ".py",
   "mimetype": "text/x-python",
   "name": "python",
   "nbconvert_exporter": "python",
   "pygments_lexer": "ipython2",
   "version": "2.7.13"
  }
 },
 "nbformat": 4,
 "nbformat_minor": 2
}
