{
 "cells": [
  {
   "cell_type": "markdown",
   "metadata": {},
   "source": [
    "# xml 파일 쪼개기\n",
    "\n",
    "### 각 application이 하나의 xml 파일 그 자체    \n",
    "__=> 하나씩 잘라야 함__"
   ]
  },
  {
   "cell_type": "code",
   "execution_count": 1,
   "metadata": {
    "collapsed": true
   },
   "outputs": [],
   "source": [
    "import os\n",
    "import re\n",
    "import xml.etree.ElementTree as et\n",
    "\n",
    "os.chdir('J:/data')"
   ]
  },
  {
   "cell_type": "code",
   "execution_count": 2,
   "metadata": {
    "collapsed": false
   },
   "outputs": [],
   "source": [
    "f=open('sample.xml', 'r')\n",
    "endtag_regex = re.compile('^<!DOCTYPE (.*) SYSTEM')\n",
    "endtag = ''\n",
    "doc=''"
   ]
  },
  {
   "cell_type": "code",
   "execution_count": 10,
   "metadata": {
    "collapsed": true
   },
   "outputs": [],
   "source": [
    "line = f.readline()\n",
    "doc += line"
   ]
  },
  {
   "cell_type": "code",
   "execution_count": 11,
   "metadata": {
    "collapsed": false
   },
   "outputs": [
    {
     "data": {
      "text/plain": [
       "[]"
      ]
     },
     "execution_count": 11,
     "metadata": {},
     "output_type": "execute_result"
    }
   ],
   "source": [
    "endtag"
   ]
  },
  {
   "cell_type": "code",
   "execution_count": 12,
   "metadata": {
    "collapsed": false
   },
   "outputs": [
    {
     "data": {
      "text/plain": [
       "['us-patent-application']"
      ]
     },
     "execution_count": 12,
     "metadata": {},
     "output_type": "execute_result"
    }
   ],
   "source": [
    "endtag_regex.findall(line)"
   ]
  },
  {
   "cell_type": "code",
   "execution_count": 13,
   "metadata": {
    "collapsed": false
   },
   "outputs": [
    {
     "data": {
      "text/plain": [
       "['us-patent-application']"
      ]
     },
     "execution_count": 13,
     "metadata": {},
     "output_type": "execute_result"
    }
   ],
   "source": [
    "endtag = endtag_regex.findall(line) if not endtag else endtag\n",
    "endtag"
   ]
  },
  {
   "cell_type": "code",
   "execution_count": 14,
   "metadata": {
    "collapsed": false
   },
   "outputs": [
    {
     "data": {
      "text/plain": [
       "False"
      ]
     },
     "execution_count": 14,
     "metadata": {},
     "output_type": "execute_result"
    }
   ],
   "source": [
    "not endtag"
   ]
  },
  {
   "cell_type": "code",
   "execution_count": 15,
   "metadata": {
    "collapsed": false
   },
   "outputs": [
    {
     "data": {
      "text/plain": [
       "'<?xml version=\"1.0\" encoding=\"UTF-8\"?>\\n<!DOCTYPE us-patent-application SYSTEM \"us-patent-application-v41-2005-08-25.dtd\" [ ]>\\n'"
      ]
     },
     "execution_count": 15,
     "metadata": {},
     "output_type": "execute_result"
    }
   ],
   "source": [
    "doc"
   ]
  },
  {
   "cell_type": "code",
   "execution_count": 16,
   "metadata": {
    "collapsed": true
   },
   "outputs": [],
   "source": [
    "terminate = re.compile('^</{0}>'.format(endtag[0]))"
   ]
  },
  {
   "cell_type": "code",
   "execution_count": 17,
   "metadata": {
    "collapsed": false
   },
   "outputs": [
    {
     "data": {
      "text/plain": [
       "[]"
      ]
     },
     "execution_count": 17,
     "metadata": {},
     "output_type": "execute_result"
    }
   ],
   "source": [
    "terminate.findall(line)"
   ]
  },
  {
   "cell_type": "markdown",
   "metadata": {},
   "source": [
    "if not ~ else? 이게 뭐지?"
   ]
  },
  {
   "cell_type": "code",
   "execution_count": null,
   "metadata": {
    "collapsed": false
   },
   "outputs": [],
   "source": [
    "if not endtag == True:\n",
    "    endtag = endtag_regex.findall(line)\n",
    "else:\n",
    "    endtag\n",
    "\n",
    "endtag"
   ]
  },
  {
   "cell_type": "markdown",
   "metadata": {},
   "source": [
    "아하 이렇게 쓰기 싫어서 그냥 한 줄로 끝냈구만!  \n",
    "그렇다면 정리해서 함수로 만들자"
   ]
  },
  {
   "cell_type": "code",
   "execution_count": 18,
   "metadata": {
    "collapsed": true
   },
   "outputs": [],
   "source": [
    "def extract_xml_strings(filename):\n",
    "    \"\"\"\n",
    "    Given a string [filename], opens the file and returns a generator\n",
    "    that yields tuples. A tuple is of format (year, xmldoc string). A tuple\n",
    "    is returned for every valid XML doc in [filename]\n",
    "    \"\"\"\n",
    "    # search for terminating XML tag\n",
    "    endtag_regex = re.compile('^<!DOCTYPE (.*) SYSTEM')\n",
    "    endtag = ''\n",
    "    with open(filename, 'r') as f:\n",
    "        doc = ''  # initialize current XML doc to empty string\n",
    "        for line in f:\n",
    "            doc += line\n",
    "            endtag = endtag_regex.findall(line) if not endtag else endtag   #is there any endtags?\n",
    "            if not endtag:\n",
    "                continue      #if there's no end tag, keep the loop going\n",
    "            terminate = re.compile('^</{0}>'.format(endtag[0]))    #if there's a end tag, then check whether the doc is finished or not\n",
    "            if terminate.findall(line):     #if there's a terminator\n",
    "                yield (doc)                 #export doc and reinitialize a doc\n",
    "                endtag = ''\n",
    "                doc = ''"
   ]
  },
  {
   "cell_type": "code",
   "execution_count": 29,
   "metadata": {
    "collapsed": false
   },
   "outputs": [],
   "source": [
    "sample = extract_xml_strings('sample.xml')"
   ]
  },
  {
   "cell_type": "code",
   "execution_count": 30,
   "metadata": {
    "collapsed": false
   },
   "outputs": [
    {
     "name": "stdout",
     "output_type": "stream",
     "text": [
      "<?xml version=\"1.0\" encoding=\"UTF-8\"?>\n",
      "<!DOCTYPE us-patent-application SYSTEM \"us-patent-application-v41-2005-08-25.dtd\" [ ]>\n",
      "<us-patent-application lang=\"EN\" dtd-version=\"v4.1 2005-08-25\" file=\"US20070050875A1-20070308.XML\" status=\"PRODUCTION\" id=\"us-patent-application\" country=\"US\" date-produced=\"20070221\" date-publ=\"20070308\">\n",
      "<us-bibliographic-data-application lang=\"EN\" country=\"US\">\n",
      "<publication-reference>\n",
      "<document-id>\n",
      "<country>US</country>\n",
      "<doc-number>20070050875</doc-number>\n",
      "<kind>A1</kind>\n",
      "<date>20070308</date>\n",
      "</document-id>\n",
      "</publication-reference>\n",
      "<application-reference appl-type=\"utility\">\n",
      "<document-id>\n",
      "<country>US</country>\n",
      "<doc-number>11210174</doc-number>\n",
      "<date>20050822</date>\n",
      "</document-id>\n",
      "</application-reference>\n",
      "<us-application-series-code>11</us-application-series-code>\n",
      "<classifications-ipcr>\n",
      "<classification-ipcr>\n",
      "<ipc-version-indicator><date>20060101</date></ipc-version-indicator>\n",
      "<classification-level>A</classification-level>\n",
      "<section>A</section>\n",
      "<class>61</class>\n",
      "<subclass>F</subclass>\n",
      "<main-group>9</main-group>\n",
      "<subgroup>00</subgroup>\n",
      "<symbol-position>F</symbol-position>\n",
      "<classification-value>I</classification-value>\n",
      "<action-date><date>20070308</date></action-date>\n",
      "<generating-office><country>US</country></generating-office>\n",
      "<classification-status>B</classification-status>\n",
      "<classification-data-source>H</classification-data-source>\n",
      "</classification-ipcr>\n",
      "</classifications-ipcr>\n",
      "<classification-national>\n",
      "<country>US</country>\n",
      "<main-classification>002015000</main-classification>\n",
      "</classification-national>\n",
      "<invention-title id=\"d0e102\">Face shield for helmet and method for making same</invention-title>\n",
      "<parties>\n",
      "<applicants>\n",
      "<applicant sequence=\"00\" app-type=\"applicant-inventor\" designation=\"us-only\">\n",
      "<addressbook>\n",
      "<last-name>Bentley</last-name>\n",
      "<first-name>Kirby</first-name>\n",
      "<address>\n",
      "<city>Stamping Ground</city>\n",
      "<state>KY</state>\n",
      "<country>US</country>\n",
      "</address>\n",
      "</addressbook>\n",
      "<nationality>\n",
      "<country>US</country>\n",
      "</nationality>\n",
      "<residence>\n",
      "<country>US</country>\n",
      "</residence>\n",
      "</applicant>\n",
      "<applicant sequence=\"01\" app-type=\"applicant-inventor\" designation=\"us-only\">\n",
      "<addressbook>\n",
      "<last-name>Bentley</last-name>\n",
      "<first-name>Karen</first-name>\n",
      "<middle-name>Lynn</middle-name>\n",
      "<address>\n",
      "<city>Stamping Ground</city>\n",
      "<state>KY</state>\n",
      "<country>US</country>\n",
      "</address>\n",
      "</addressbook>\n",
      "<nationality>\n",
      "<country>US</country>\n",
      "</nationality>\n",
      "<residence>\n",
      "<country>US</country>\n",
      "</residence>\n",
      "</applicant>\n",
      "</applicants>\n",
      "<correspondence-address>\n",
      "<addressbook>\n",
      "<name>David O. Simmons;Galasso &#x26; Associates LP</name>\n",
      "<address>\n",
      "<address-1>P.O. Box 26503</address-1>\n",
      "<city>Austin</city>\n",
      "<state>TX</state>\n",
      "<postcode>78755-0503</postcode>\n",
      "<country>US</country>\n",
      "</address>\n",
      "</addressbook>\n",
      "</correspondence-address>\n",
      "</parties>\n",
      "</us-bibliographic-data-application>\n",
      "<abstract id=\"abstract\">\n",
      "<p id=\"p-0001\" num=\"0000\">A face shield for a helmet comprises a face shield body including end portions and a central portion extending between the end portions. Each one of the end portions is configured for enabling attachment of the face shield to a respective attachment portion of a helmet. The central portion is made from transparent polymeric material. The polymeric material in a first area of the central portion exhibits non-photochromic properties at least one layer of the polymeric material in a second area of the central portion exhibits photochromic properties. </p>\n",
      "</abstract>\n",
      "</us-patent-application>\n",
      "\n",
      "<?xml version=\"1.0\" encoding=\"UTF-8\"?>\n",
      "<!DOCTYPE us-patent-application SYSTEM \"us-patent-application-v41-2005-08-25.dtd\" [ ]>\n",
      "<us-patent-application lang=\"EN\" dtd-version=\"v4.1 2005-08-25\" file=\"US20070050878A1-20070308.XML\" status=\"PRODUCTION\" id=\"us-patent-application\" country=\"US\" date-produced=\"20070221\" date-publ=\"20070308\">\n",
      "<us-bibliographic-data-application lang=\"EN\" country=\"US\">\n",
      "<publication-reference>\n",
      "<document-id>\n",
      "<country>US</country>\n",
      "<doc-number>20070050878</doc-number>\n",
      "<kind>A1</kind>\n",
      "<date>20070308</date>\n",
      "</document-id>\n",
      "</publication-reference>\n",
      "<application-reference appl-type=\"utility\">\n",
      "<document-id>\n",
      "<country>US</country>\n",
      "<doc-number>10566685</doc-number>\n",
      "<date>20040729</date>\n",
      "</document-id>\n",
      "</application-reference>\n",
      "<us-application-series-code>10</us-application-series-code>\n",
      "<priority-claims>\n",
      "<priority-claim sequence=\"01\" kind=\"national\">\n",
      "<country>JP</country>\n",
      "<doc-number>2003-284908</doc-number>\n",
      "<date>20030801</date>\n",
      "</priority-claim>\n",
      "</priority-claims>\n",
      "<classifications-ipcr>\n",
      "<classification-ipcr>\n",
      "<ipc-version-indicator><date>20060101</date></ipc-version-indicator>\n",
      "<classification-level>A</classification-level>\n",
      "<section>A</section>\n",
      "<class>41</class>\n",
      "<subclass>D</subclass>\n",
      "<main-group>13</main-group>\n",
      "<subgroup>00</subgroup>\n",
      "<symbol-position>F</symbol-position>\n",
      "<classification-value>I</classification-value>\n",
      "<action-date><date>20070308</date></action-date>\n",
      "<generating-office><country>US</country></generating-office>\n",
      "<classification-status>B</classification-status>\n",
      "<classification-data-source>H</classification-data-source>\n",
      "</classification-ipcr>\n",
      "</classifications-ipcr>\n",
      "<classification-national>\n",
      "<country>US</country>\n",
      "<main-classification>002069000</main-classification>\n",
      "</classification-national>\n",
      "<invention-title id=\"d0e117\">Cooling Suit</invention-title>\n",
      "<parties>\n",
      "<applicants>\n",
      "<applicant sequence=\"00\" app-type=\"applicant-inventor\" designation=\"us-only\">\n",
      "<addressbook>\n",
      "<last-name>Ichigaya</last-name>\n",
      "<first-name>Hiroshi</first-name>\n",
      "<address>\n",
      "<city>Saitama</city>\n",
      "<country>JP</country>\n",
      "</address>\n",
      "</addressbook>\n",
      "<nationality>\n",
      "<country>JP</country>\n",
      "</nationality>\n",
      "<residence>\n",
      "<country>JP</country>\n",
      "</residence>\n",
      "</applicant>\n",
      "</applicants>\n",
      "<correspondence-address>\n",
      "<addressbook>\n",
      "<name>CROWELL &#x26; MORING LLP;INTELLECTUAL PROPERTY GROUP</name>\n",
      "<address>\n",
      "<address-1>P.O. BOX 14300</address-1>\n",
      "<city>WASHINGTON</city>\n",
      "<state>DC</state>\n",
      "<postcode>20044-4300</postcode>\n",
      "<country>US</country>\n",
      "</address>\n",
      "</addressbook>\n",
      "</correspondence-address>\n",
      "</parties>\n",
      "<assignees>\n",
      "<assignee>\n",
      "<addressbook>\n",
      "<orgname>SEFT DEVELOPMENT LABORATORY CO., LTD.</orgname>\n",
      "<role>03</role>\n",
      "<address>\n",
      "<city>Saitama-shi</city>\n",
      "<country>JP</country>\n",
      "</address>\n",
      "</addressbook>\n",
      "</assignee>\n",
      "</assignees>\n",
      "<pct-or-regional-filing-data>\n",
      "<document-id>\n",
      "<country>WO</country>\n",
      "<doc-number>PCT/JP04/10806</doc-number>\n",
      "<date>20040729</date>\n",
      "</document-id>\n",
      "<us-371c124-date><date>20060912</date></us-371c124-date>\n",
      "</pct-or-regional-filing-data>\n",
      "</us-bibliographic-data-application>\n",
      "<abstract id=\"abstract\">\n",
      "<p id=\"p-0001\" num=\"0000\">The present invention aims at providing a cooling suit having a simple structure and capable of assuredly vaporizing a large amount of perspiration. To this end, there is provided a cooling suit to be worn on a wearer, comprising: an air inlet <b>2</b><i>a </i>configured to introduce outside air; parallel airstream generation means <b>3 </b>for introducing the outside air through the air inlet to generate parallel airstreams which are substantially parallel to the wearer's body; a guide sheet simultaneously serving as a garment <b>2 </b>and for guiding the parallel airstreams generated by the parallel airstream generation means, parallelly to the wearer's body; an air exit portion configured to discharge the parallel airstreams to the exterior; and electric-power source means for supplying electric power to the parallel airstream generation means; wherein the parallel airstream generation means cooperatively blows air of a total amount of about 5 m<sup>3</sup>/H to 500 m<sup>3</sup>/H into between the guide sheet and an undergarment or wearer's body to cause positive pressures between the guide sheet and the undergarment or wearer's body to thereby produce an air flow space therebetween, and the parallel airstream generation means causes the blown air to flow through the air flow space to thereby discharge moisture due to perspiration to the exterior and to thereby constantly feed fresh outside air into the air flow space, thereby largely intensifying conditions where perspiration can be evaporated. </p>\n",
      "</abstract>\n",
      "</us-patent-application>\n"
     ]
    }
   ],
   "source": [
    "for x in sample:\n",
    "    print x"
   ]
  },
  {
   "cell_type": "markdown",
   "metadata": {},
   "source": [
    "good~ 이젠 sample.next 해서 각 doc을 parsing, ID, DN, assignee, class 추출하자"
   ]
  },
  {
   "cell_type": "markdown",
   "metadata": {},
   "source": [
    "# 각 XML에서 원하는 element 뽑기\n",
    "\n",
    "App ID, DN, Assignee, Class 필요"
   ]
  },
  {
   "cell_type": "code",
   "execution_count": null,
   "metadata": {
    "collapsed": true
   },
   "outputs": [],
   "source": []
  }
 ],
 "metadata": {
  "anaconda-cloud": {},
  "kernelspec": {
   "display_name": "Python [conda root]",
   "language": "python",
   "name": "conda-root-py"
  },
  "language_info": {
   "codemirror_mode": {
    "name": "ipython",
    "version": 2
   },
   "file_extension": ".py",
   "mimetype": "text/x-python",
   "name": "python",
   "nbconvert_exporter": "python",
   "pygments_lexer": "ipython2",
   "version": "2.7.13"
  }
 },
 "nbformat": 4,
 "nbformat_minor": 1
}
