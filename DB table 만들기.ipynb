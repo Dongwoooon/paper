{
 "cells": [
  {
   "cell_type": "markdown",
   "metadata": {},
   "source": [
    "# DB 테이블 만들기\n",
    "\n",
    "### 1. patent  \n",
    "- patent_assignee 합친 거 만들기\n",
    "- assignee 쪼개기: patent_id 지우고 drop_duplicates (pdpass로 연결하면 되니까)\n",
    "- patent class, patent info 에서 중복 제거\n",
    "- year 추가"
   ]
  },
  {
   "cell_type": "code",
   "execution_count": 1,
   "metadata": {},
   "outputs": [
    {
     "data": {
      "text/plain": [
       "['patent_id',\n",
       " 'assignee',\n",
       " 'raw_assignee',\n",
       " 'pdpass',\n",
       " 'country_code',\n",
       " 'state_code']"
      ]
     },
     "execution_count": 1,
     "metadata": {},
     "output_type": "execute_result"
    }
   ],
   "source": [
    "#-*- coding: utf-8 -*-\n",
    "import os\n",
    "import pandas as pd\n",
    "\n",
    "os.chdir('E:/apps')\n",
    "\n",
    "df = pd.read_csv('fung/pid_assignee.csv')\n",
    "list(df)"
   ]
  },
  {
   "cell_type": "code",
   "execution_count": 2,
   "metadata": {},
   "outputs": [
    {
     "data": {
      "text/plain": [
       "2842685"
      ]
     },
     "execution_count": 2,
     "metadata": {},
     "output_type": "execute_result"
    }
   ],
   "source": [
    "len(df)"
   ]
  },
  {
   "cell_type": "markdown",
   "metadata": {},
   "source": [
    "__patent_assignee 만들기__"
   ]
  },
  {
   "cell_type": "code",
   "execution_count": 4,
   "metadata": {},
   "outputs": [
    {
     "data": {
      "text/plain": [
       "2828844"
      ]
     },
     "execution_count": 4,
     "metadata": {},
     "output_type": "execute_result"
    }
   ],
   "source": [
    "df1 = df.loc[:,['patent_id','assignee']]\n",
    "df1.drop_duplicates(inplace=True)\n",
    "len(df1)"
   ]
  },
  {
   "cell_type": "code",
   "execution_count": 6,
   "metadata": {},
   "outputs": [
    {
     "data": {
      "text/plain": [
       "numpy.int64"
      ]
     },
     "execution_count": 6,
     "metadata": {},
     "output_type": "execute_result"
    }
   ],
   "source": [
    "type(df1.iloc[1,0])"
   ]
  },
  {
   "cell_type": "code",
   "execution_count": 9,
   "metadata": {},
   "outputs": [
    {
     "data": {
      "text/plain": [
       "2070579"
      ]
     },
     "execution_count": 9,
     "metadata": {},
     "output_type": "execute_result"
    }
   ],
   "source": [
    "df1 = df1.loc[df1['patent_id'] > 6836898]\n",
    "len(df1)"
   ]
  },
  {
   "cell_type": "code",
   "execution_count": 10,
   "metadata": {},
   "outputs": [
    {
     "data": {
      "text/plain": [
       "1489783"
      ]
     },
     "execution_count": 10,
     "metadata": {},
     "output_type": "execute_result"
    }
   ],
   "source": [
    "df1 = df1.loc[df1['patent_id'] < 8400000]\n",
    "len(df1)"
   ]
  },
  {
   "cell_type": "code",
   "execution_count": 12,
   "metadata": {
    "collapsed": true
   },
   "outputs": [],
   "source": [
    "df1.sort_values(by='patent_id',inplace=True)\n",
    "df1 = df1.loc[pd.isnull(df['assignee'])==False]\n",
    "df1.to_csv('db_table/patent_assignee.csv',index=False)"
   ]
  },
  {
   "cell_type": "code",
   "execution_count": 1,
   "metadata": {},
   "outputs": [
    {
     "data": {
      "text/plain": [
       "1489783"
      ]
     },
     "execution_count": 1,
     "metadata": {},
     "output_type": "execute_result"
    }
   ],
   "source": [
    "#-*- coding: utf-8 -*-\n",
    "import os\n",
    "import pandas as pd\n",
    "\n",
    "os.chdir('E:/apps')\n",
    "df1 = pd.read_csv('db_table/patent_assignee.csv')\n",
    "len(df1)"
   ]
  },
  {
   "cell_type": "code",
   "execution_count": 3,
   "metadata": {},
   "outputs": [
    {
     "data": {
      "text/plain": [
       "1342649"
      ]
     },
     "execution_count": 3,
     "metadata": {},
     "output_type": "execute_result"
    }
   ],
   "source": [
    "df1 = df1.loc[pd.isnull(df1['assignee'])==False]\n",
    "len(df1)"
   ]
  },
  {
   "cell_type": "code",
   "execution_count": 4,
   "metadata": {
    "collapsed": true
   },
   "outputs": [],
   "source": [
    "df1.to_csv('db_table/patent_assignee.csv',index=False)"
   ]
  },
  {
   "cell_type": "markdown",
   "metadata": {},
   "source": [
    "__assignee 만들기__"
   ]
  },
  {
   "cell_type": "code",
   "execution_count": 3,
   "metadata": {
    "scrolled": true
   },
   "outputs": [
    {
     "data": {
      "text/plain": [
       "336480"
      ]
     },
     "execution_count": 3,
     "metadata": {},
     "output_type": "execute_result"
    }
   ],
   "source": [
    "df.drop(['patent_id','assignee'], axis=1, inplace=True)\n",
    "\n",
    "df.drop_duplicates(inplace=True)\n",
    "len(df)"
   ]
  },
  {
   "cell_type": "code",
   "execution_count": 4,
   "metadata": {
    "collapsed": true
   },
   "outputs": [],
   "source": [
    "df.to_csv('assignee.csv',index=False)"
   ]
  },
  {
   "cell_type": "code",
   "execution_count": 5,
   "metadata": {
    "collapsed": true
   },
   "outputs": [],
   "source": [
    "df = pd.read_csv('patent_info.csv')\n",
    "df1 = pd.read_csv('patent_class_BIO.csv')\n",
    "df2 = pd.read_csv('patent_class_EE&IT.csv')\n",
    "\n",
    "df.drop_duplicates(inplace=True)\n",
    "df1.drop_duplicates(inplace=True)\n",
    "df2.drop_duplicates(inplace=True)\n",
    "\n",
    "df.to_csv('db_table/patent_info.csv',index=False)\n",
    "df1.to_csv('db_table/patent_class_BIO.csv',index=False)\n",
    "df2.to_csv('db_table/patent_class_EE&IT.csv',index=False)"
   ]
  },
  {
   "cell_type": "code",
   "execution_count": 14,
   "metadata": {
    "collapsed": true
   },
   "outputs": [],
   "source": [
    "# pdpass에서 assignee가 primary key인지 확인\n",
    "#-*- coding: utf-8 -*-\n",
    "import os\n",
    "import pandas as pd\n",
    "\n",
    "os.chdir('E:/apps')"
   ]
  },
  {
   "cell_type": "code",
   "execution_count": 16,
   "metadata": {
    "scrolled": true
   },
   "outputs": [
    {
     "data": {
      "text/plain": [
       "247567"
      ]
     },
     "execution_count": 16,
     "metadata": {},
     "output_type": "execute_result"
    }
   ],
   "source": [
    "pdp = pd.read_csv('db_table/pdpass.csv')\n",
    "len(pdp)"
   ]
  },
  {
   "cell_type": "code",
   "execution_count": 18,
   "metadata": {},
   "outputs": [
    {
     "data": {
      "text/plain": [
       "247102"
      ]
     },
     "execution_count": 18,
     "metadata": {},
     "output_type": "execute_result"
    }
   ],
   "source": [
    "len(pdp['assignee'].unique())"
   ]
  },
  {
   "cell_type": "code",
   "execution_count": 19,
   "metadata": {},
   "outputs": [
    {
     "data": {
      "text/plain": [
       "pandas.core.series.Series"
      ]
     },
     "execution_count": 19,
     "metadata": {},
     "output_type": "execute_result"
    }
   ],
   "source": [
    "dup = pdp.duplicated('assignee')\n",
    "type(dup)"
   ]
  },
  {
   "cell_type": "code",
   "execution_count": 21,
   "metadata": {},
   "outputs": [
    {
     "name": "stdout",
     "output_type": "stream",
     "text": [
      "11124\n"
     ]
    }
   ],
   "source": [
    "for i in range(0,len(dup)):\n",
    "    if dup[i] == True:\n",
    "        print i\n",
    "        break"
   ]
  },
  {
   "cell_type": "code",
   "execution_count": 22,
   "metadata": {},
   "outputs": [
    {
     "data": {
      "text/plain": [
       "pdpass                        -18181\n",
       "assignee    KABUSHIKI KAISHA TOSHIBA\n",
       "Name: 11124, dtype: object"
      ]
     },
     "execution_count": 22,
     "metadata": {},
     "output_type": "execute_result"
    }
   ],
   "source": [
    "pdp.iloc[11124,:]"
   ]
  },
  {
   "cell_type": "markdown",
   "metadata": {},
   "source": [
    "__year 추가__"
   ]
  },
  {
   "cell_type": "code",
   "execution_count": 1,
   "metadata": {
    "collapsed": true
   },
   "outputs": [],
   "source": [
    "#-*- coding: utf-8 -*-\n",
    "import os\n",
    "import pandas as pd\n",
    "\n",
    "os.chdir('E:/apps')"
   ]
  },
  {
   "cell_type": "code",
   "execution_count": 8,
   "metadata": {
    "collapsed": true,
    "scrolled": true
   },
   "outputs": [],
   "source": [
    "df=pd.read_csv('patent_class_EE&IT.csv')\n",
    "def year(date):\n",
    "    return date[:4]\n",
    "\n",
    "df['year'] = df['disp_dt'].apply(year)\n",
    "del df['disp_dt']\n",
    "df.to_csv('patent_class_EE&IT.csv',index=False)"
   ]
  },
  {
   "cell_type": "markdown",
   "metadata": {},
   "source": [
    "### 2. application\n",
    "- app의 key = number로 통일"
   ]
  },
  {
   "cell_type": "code",
   "execution_count": 6,
   "metadata": {},
   "outputs": [
    {
     "data": {
      "text/plain": [
       "['number', 'app_id', 'date', 'raw_assignee', 'country', 'granted_dum']"
      ]
     },
     "execution_count": 6,
     "metadata": {},
     "output_type": "execute_result"
    }
   ],
   "source": [
    "df = pd.read_csv('app/app_info.csv')\n",
    "list(df)"
   ]
  },
  {
   "cell_type": "code",
   "execution_count": 7,
   "metadata": {
    "collapsed": true
   },
   "outputs": [],
   "source": [
    "df.drop(['app_id','country'], axis=1, inplace=True)\n",
    "df.drop_duplicates(inplace=True)\n",
    "\n",
    "df.to_csv('db_table/app_info.csv',index=False)"
   ]
  },
  {
   "cell_type": "markdown",
   "metadata": {},
   "source": [
    "### 3. compustat\n",
    "- 바이오, 전기전자 합쳐서 큰 compu_gvkey 만들기\n",
    "- 05-07, 08-12 합치기\n",
    "- sic 붙이기"
   ]
  },
  {
   "cell_type": "code",
   "execution_count": 1,
   "metadata": {
    "collapsed": true
   },
   "outputs": [],
   "source": [
    "#-*- coding: utf-8 -*-\n",
    "import os\n",
    "import pandas as pd\n",
    "\n",
    "os.chdir('E:/apps')"
   ]
  },
  {
   "cell_type": "code",
   "execution_count": 2,
   "metadata": {},
   "outputs": [
    {
     "name": "stdout",
     "output_type": "stream",
     "text": [
      "782 743\n"
     ]
    }
   ],
   "source": [
    "df = pd.read_csv('compustat_gvkey_temp.csv')\n",
    "df1 = df.groupby(['gvkey','conm'], as_index=False).sum()\n",
    "print len(df), len(df1)"
   ]
  },
  {
   "cell_type": "code",
   "execution_count": 4,
   "metadata": {
    "collapsed": true
   },
   "outputs": [],
   "source": [
    "df1.to_csv('db_table/compustat_gvkey_numpat.csv',index=False)"
   ]
  },
  {
   "cell_type": "markdown",
   "metadata": {},
   "source": [
    "__compu 합치기__"
   ]
  },
  {
   "cell_type": "code",
   "execution_count": 6,
   "metadata": {},
   "outputs": [
    {
     "name": "stdout",
     "output_type": "stream",
     "text": [
      "111933 215711\n"
     ]
    }
   ],
   "source": [
    "os.chdir('E:/apps/compustat')\n",
    "df = pd.read_csv('compustat_05-07.csv')\n",
    "df1 = pd.read_csv('compustat_08-12.csv')\n",
    "\n",
    "print len(df), len(df1)"
   ]
  },
  {
   "cell_type": "code",
   "execution_count": 7,
   "metadata": {},
   "outputs": [
    {
     "name": "stdout",
     "output_type": "stream",
     "text": [
      "111933 215711 327644\n"
     ]
    }
   ],
   "source": [
    "glb = pd.concat([df,df1])\n",
    "\n",
    "print len(df), len(df1), len(glb)"
   ]
  },
  {
   "cell_type": "code",
   "execution_count": 8,
   "metadata": {
    "collapsed": true
   },
   "outputs": [],
   "source": [
    "glb.sort_values(by=['gvkey','fyear'], inplace=True)\n",
    "glb.to_csv('compustat_05-12.csv',index=False)"
   ]
  },
  {
   "cell_type": "markdown",
   "metadata": {},
   "source": [
    "__sic 붙이기__"
   ]
  },
  {
   "cell_type": "code",
   "execution_count": 5,
   "metadata": {},
   "outputs": [
    {
     "name": "stdout",
     "output_type": "stream",
     "text": [
      "327644 337408\n"
     ]
    }
   ],
   "source": [
    "os.chdir('E:/apps/compustat')\n",
    "df = pd.read_csv('compustat_05-12.csv')\n",
    "sic = pd.read_csv('sic.csv')\n",
    "sic.drop_duplicates(inplace=True)\n",
    "\n",
    "print len(df), len(sic)"
   ]
  },
  {
   "cell_type": "code",
   "execution_count": 6,
   "metadata": {},
   "outputs": [
    {
     "data": {
      "text/plain": [
       "327644"
      ]
     },
     "execution_count": 6,
     "metadata": {},
     "output_type": "execute_result"
    }
   ],
   "source": [
    "df = df.merge(sic, how='left', on=['gvkey','fyear'])\n",
    "len(df)"
   ]
  },
  {
   "cell_type": "code",
   "execution_count": 7,
   "metadata": {
    "collapsed": true
   },
   "outputs": [],
   "source": [
    "df.to_csv('compustat_05-12.csv',index=False)"
   ]
  },
  {
   "cell_type": "code",
   "execution_count": 8,
   "metadata": {},
   "outputs": [
    {
     "data": {
      "text/plain": [
       "54527"
      ]
     },
     "execution_count": 8,
     "metadata": {},
     "output_type": "execute_result"
    }
   ],
   "source": [
    "del df\n",
    "del sic['fyear']\n",
    "\n",
    "sic.drop_duplicates(inplace=True)\n",
    "len(sic)"
   ]
  },
  {
   "cell_type": "code",
   "execution_count": 10,
   "metadata": {
    "collapsed": true
   },
   "outputs": [],
   "source": [
    "sic.to_csv('sic_real.csv',index=False)\n",
    "\n",
    "os.chdir('E:/apps/db_table')\n",
    "\n",
    "bio = pd.read_csv('compustat_gvkey_numpat_BIO.csv')\n",
    "ee = pd.read_csv('compustat_gvkey_numpat_EE&IT.csv')"
   ]
  },
  {
   "cell_type": "code",
   "execution_count": 11,
   "metadata": {},
   "outputs": [
    {
     "name": "stdout",
     "output_type": "stream",
     "text": [
      "299 423\n"
     ]
    }
   ],
   "source": [
    "print len(bio), len(ee)"
   ]
  },
  {
   "cell_type": "code",
   "execution_count": 12,
   "metadata": {},
   "outputs": [
    {
     "name": "stdout",
     "output_type": "stream",
     "text": [
      "299 423\n"
     ]
    }
   ],
   "source": [
    "bio = bio.merge(sic, how='left', on='gvkey')\n",
    "ee = ee.merge(sic, how='left', on='gvkey')\n",
    "\n",
    "print len(bio), len(ee)"
   ]
  },
  {
   "cell_type": "code",
   "execution_count": 14,
   "metadata": {
    "collapsed": true
   },
   "outputs": [],
   "source": [
    "bio.to_csv('compustat_gvkey_BIO.csv',index=False)\n",
    "ee.to_csv('compustat_gvkey_EE&IT.csv',index=False)"
   ]
  }
 ],
 "metadata": {
  "kernelspec": {
   "display_name": "Python 2",
   "language": "python",
   "name": "python2"
  },
  "language_info": {
   "codemirror_mode": {
    "name": "ipython",
    "version": 2
   },
   "file_extension": ".py",
   "mimetype": "text/x-python",
   "name": "python",
   "nbconvert_exporter": "python",
   "pygments_lexer": "ipython2",
   "version": "2.7.13"
  }
 },
 "nbformat": 4,
 "nbformat_minor": 2
}
