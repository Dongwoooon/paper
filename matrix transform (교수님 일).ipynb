{
 "cells": [
  {
   "cell_type": "code",
   "execution_count": 1,
   "metadata": {
    "collapsed": true
   },
   "outputs": [],
   "source": [
    "import csv\n",
    "import os\n",
    "import numpy as np\n",
    "import math\n",
    "import re\n",
    "\n",
    "os.chdir('J:/data')"
   ]
  },
  {
   "cell_type": "code",
   "execution_count": 2,
   "metadata": {
    "collapsed": true
   },
   "outputs": [],
   "source": [
    "def similarity(l1,l2):\n",
    "    cnt = 0\n",
    "    for i in xrange(len(l1)):\n",
    "        if math.isnan(l1[i])==False and math.isnan(l2[i])==False:\n",
    "            cnt += 1 \n",
    "\n",
    "    return cnt"
   ]
  },
  {
   "cell_type": "code",
   "execution_count": 3,
   "metadata": {
    "collapsed": true
   },
   "outputs": [],
   "source": [
    "def t_similarity(l1,l2,t):\n",
    "    cnt = 0\n",
    "    for i in xrange(len(l1)):\n",
    "        if math.isnan(l1[i])==False and math.isnan(l2[i])==False:\n",
    "            if l1[i] > t and l2[i] > t:\n",
    "                cnt += 1 \n",
    "\n",
    "    return cnt"
   ]
  },
  {
   "cell_type": "code",
   "execution_count": 4,
   "metadata": {
    "collapsed": true
   },
   "outputs": [],
   "source": [
    "def w_similarity(l1,l2):\n",
    "    cnt = 0.0\n",
    "    for i in xrange(len(l1)):\n",
    "        if math.isnan(l1[i])==False and math.isnan(l2[i])==False:\n",
    "            w= float(l1[i]) * l2[i]\n",
    "            cnt += w\n",
    "    \n",
    "    return round(cnt,3)          "
   ]
  },
  {
   "cell_type": "code",
   "execution_count": 5,
   "metadata": {
    "collapsed": true
   },
   "outputs": [],
   "source": [
    "def get_sim(l1,fn,arr):\n",
    "    sim = []\n",
    "    for row in arr:\n",
    "        sim.append(fn(l1,row))\n",
    "    \n",
    "    sim.append(sum(not math.isnan(x) for x in l1))\n",
    "    \n",
    "    return sim"
   ]
  },
  {
   "cell_type": "code",
   "execution_count": 6,
   "metadata": {
    "collapsed": true
   },
   "outputs": [],
   "source": [
    "def get_sim_t(l1,t,arr):\n",
    "    sim = []\n",
    "    for row in arr:\n",
    "        sim.append(t_similarity(l1,row,t))\n",
    "    \n",
    "    sim.append(sum(not math.isnan(x) and x > t for x in l1))\n",
    "    \n",
    "    return sim"
   ]
  },
  {
   "cell_type": "code",
   "execution_count": 8,
   "metadata": {},
   "outputs": [],
   "source": [
    "arr = np.genfromtxt('sample.csv',delimiter=',',names=True)\n",
    "\n",
    "with open('sam_cate.csv','rb') as f:\n",
    "    reader = csv.reader(f)\n",
    "    header = reader.next()\n",
    "\n",
    "header.append('total_atts')\n",
    "header\n",
    "\n",
    "with open('counting.csv','wb') as f:\n",
    "    writer = csv.writer(f)\n",
    "    writer.writerow(header)\n",
    "    \n",
    "    fnlist = [similarity, w_similarity]\n",
    "    for fn in fnlist:\n",
    "        for row in arr:\n",
    "            line = get_sim(row,fn,arr)\n",
    "            writer.writerow(line)\n",
    "            \n",
    "        writer.writerow([])\n",
    "        \n",
    "    thresh = [0.3,0.5,0.7]        \n",
    "    for t in thresh:\n",
    "        for row in arr:\n",
    "            line = get_sim_t(row,t,arr)\n",
    "            writer.writerow(line)\n",
    "            \n",
    "        writer.writerow([])"
   ]
  }
 ],
 "metadata": {
  "kernelspec": {
   "display_name": "Python 2",
   "language": "python",
   "name": "python2"
  },
  "language_info": {
   "codemirror_mode": {
    "name": "ipython",
    "version": 2
   },
   "file_extension": ".py",
   "mimetype": "text/x-python",
   "name": "python",
   "nbconvert_exporter": "python",
   "pygments_lexer": "ipython2",
   "version": "2.7.13"
  }
 },
 "nbformat": 4,
 "nbformat_minor": 2
}
