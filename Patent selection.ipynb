{
 "cells": [
  {
   "cell_type": "markdown",
   "metadata": {},
   "source": [
    "# Patent selection\n",
    "\n",
    "### 필요한 patent만 골라내기\n",
    "1. NBER 2번대(전기전자), 4번대(IT)\n",
    "2. grated year = 2006 ~ 2010\n",
    "3. 일단 2010만 고르기"
   ]
  },
  {
   "cell_type": "code",
   "execution_count": 5,
   "metadata": {
    "collapsed": true
   },
   "outputs": [],
   "source": [
    "import csv\n",
    "import os\n",
    "\n",
    "os.chdir('E:/apps')"
   ]
  },
  {
   "cell_type": "markdown",
   "metadata": {},
   "source": [
    "### 1. NBER, granted year 고르기"
   ]
  },
  {
   "cell_type": "code",
   "execution_count": 2,
   "metadata": {},
   "outputs": [
    {
     "data": {
      "text/plain": [
       "['appl_id',\n",
       " 'pubno',\n",
       " 'patent',\n",
       " 'nber',\n",
       " 'uspc',\n",
       " 'uspc_sub',\n",
       " 'appl_dt',\n",
       " 'prior_dt',\n",
       " 'pub_dt',\n",
       " 'disp_dt',\n",
       " 'disp_ty',\n",
       " 'exp_dt',\n",
       " 'exp_dt_max',\n",
       " 'pta']"
      ]
     },
     "execution_count": 2,
     "metadata": {},
     "output_type": "execute_result"
    }
   ],
   "source": [
    "raw = open('raw_app/historical_masterfile.csv')\n",
    "reader = csv.reader(raw)\n",
    "header = reader.next()\n",
    "header"
   ]
  },
  {
   "cell_type": "markdown",
   "metadata": {},
   "source": [
    "3번 item이 NBER, 9번이 granted date  \n",
    "-> [3][0] = NBER, [9][-4:] = year"
   ]
  },
  {
   "cell_type": "code",
   "execution_count": null,
   "metadata": {},
   "outputs": [],
   "source": [
    "NBER = ['2','4']\n",
    "YEAR = []   \n",
    "for i in range(0,5):\n",
    "    y=2006\n",
    "    y += i\n",
    "    YEAR.append(str(y))\n",
    "\n",
    "with open('raw_app/historical_masterfile.csv','rb') as raw,open('patent_EE&CC_06_10.csv','wb') as sel:\n",
    "    reader = csv.reader(raw)\n",
    "    header = reader.next()\n",
    "    \n",
    "    writer = csv.writer(sel)\n",
    "    writer.writerow(header)\n",
    "    \n",
    "    for line in reader:\n",
    "        if line[3][0] in NBER and line[9][-4:] in YEAR:\n",
    "            writer.writerow(line)    "
   ]
  },
  {
   "cell_type": "markdown",
   "metadata": {},
   "source": [
    "### 2. 일단 2010 고르기"
   ]
  },
  {
   "cell_type": "code",
   "execution_count": 6,
   "metadata": {
    "collapsed": true
   },
   "outputs": [],
   "source": [
    "with open('patent_EE&CC_06_10.csv','rb') as raw,open('patent_EE&CC_10.csv','wb') as sel:\n",
    "    reader = csv.reader(raw)\n",
    "    header = reader.next()\n",
    "    \n",
    "    writer = csv.writer(sel)\n",
    "    writer.writerow(header)\n",
    "    \n",
    "    for line in reader:\n",
    "        if line[9][-4:] == '2010':\n",
    "            writer.writerow(line)"
   ]
  }
 ],
 "metadata": {
  "kernelspec": {
   "display_name": "Python 2",
   "language": "python",
   "name": "python2"
  },
  "language_info": {
   "codemirror_mode": {
    "name": "ipython",
    "version": 2
   },
   "file_extension": ".py",
   "mimetype": "text/x-python",
   "name": "python",
   "nbconvert_exporter": "python",
   "pygments_lexer": "ipython2",
   "version": "2.7.13"
  }
 },
 "nbformat": 4,
 "nbformat_minor": 2
}
