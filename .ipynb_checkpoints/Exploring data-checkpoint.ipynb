{
 "cells": [
  {
   "cell_type": "markdown",
   "metadata": {},
   "source": [
    "# 보유 데이터 확인"
   ]
  },
  {
   "cell_type": "code",
   "execution_count": 1,
   "metadata": {
    "collapsed": true
   },
   "outputs": [],
   "source": [
    "import pandas as pd\n",
    "import csv\n",
    "import os\n",
    "\n",
    "os.chdir('E:/apps')"
   ]
  },
  {
   "cell_type": "markdown",
   "metadata": {},
   "source": [
    "### grant_application.csv"
   ]
  },
  {
   "cell_type": "code",
   "execution_count": 2,
   "metadata": {
    "collapsed": true
   },
   "outputs": [],
   "source": [
    "csv_patent1 = open('grant_application.csv')\n",
    "csv_patent_reader1 = csv.reader(csv_patent1)\n",
    "header1 = csv_patent_reader1.next()"
   ]
  },
  {
   "cell_type": "code",
   "execution_count": 3,
   "metadata": {},
   "outputs": [
    {
     "data": {
      "text/plain": [
       "['id', 'patent_id', 'type', 'number', 'country', 'date']"
      ]
     },
     "execution_count": 3,
     "metadata": {},
     "output_type": "execute_result"
    }
   ],
   "source": [
    "header1"
   ]
  },
  {
   "cell_type": "markdown",
   "metadata": {},
   "source": [
    "app_id / app이 진화한 patent_id / filed date 를 알 수 있군!"
   ]
  },
  {
   "cell_type": "code",
   "execution_count": 5,
   "metadata": {},
   "outputs": [
    {
     "data": {
      "text/plain": [
       "['07/469540', '5180907', 'NA', 'NA', '', '1901-06-03']"
      ]
     },
     "execution_count": 5,
     "metadata": {},
     "output_type": "execute_result"
    }
   ],
   "source": [
    "csv_patent_reader1.next()"
   ]
  },
  {
   "cell_type": "markdown",
   "metadata": {},
   "source": [
    "### application_application.tsv"
   ]
  },
  {
   "cell_type": "code",
   "execution_count": 2,
   "metadata": {
    "collapsed": true
   },
   "outputs": [],
   "source": [
    "tsv = open('application_application.tsv','rb')\n",
    "tsv_reader = csv.reader(tsv, delimiter='\\t')\n",
    "header2=tsv_reader.next()"
   ]
  },
  {
   "cell_type": "code",
   "execution_count": 3,
   "metadata": {},
   "outputs": [
    {
     "data": {
      "text/plain": [
       "['id',\n",
       " 'type',\n",
       " 'number',\n",
       " 'country',\n",
       " 'date',\n",
       " 'abstract',\n",
       " 'title',\n",
       " 'granted',\n",
       " 'num_claims']"
      ]
     },
     "execution_count": 3,
     "metadata": {},
     "output_type": "execute_result"
    }
   ],
   "source": [
    "header2"
   ]
  },
  {
   "cell_type": "markdown",
   "metadata": {},
   "source": [
    "app_id / country / date / granted 여부 알 수 있군!  \n",
    "근데 abstract는 뭐지?"
   ]
  },
  {
   "cell_type": "code",
   "execution_count": 5,
   "metadata": {},
   "outputs": [
    {
     "data": {
      "text/plain": [
       "['1994/8537802',\n",
       " 'utility',\n",
       " '85/37802',\n",
       " 'US',\n",
       " '1994-05-05',\n",
       " 'The present invention relates to a polynucleic acid composition comprising or consisting of at least one polynucleic acid containing 8 or more contiguous nucleotides corresponding to a nucleotide sequence from the region spanning positions 417 to 957 of the Core/E1 region of HCV type 3; and/or the region spanning positions 4664 to 4730 of the NS3 region of HCV type 3; and/or the region spanning positions 4892 to 5292 of the NS3/4 region of HCV type 3; and/or the region spanning positions 8 023 to 8 235 of the NS5 region of the BR36 subgroup of HCV type 3a; and/or the coding region of HCV type 4a starting at nucleotide 379 in the core region; and/or the coding region of HCV type 4; and/or the coding region of HCV type 5, with said nucleotide numbering being with respect to the numbering of HCV nucleic acids as shown in Table 1, and with said polynucleic acids containing at least one nucleotide difference with known HCV type 1, and/or HCV type 2 genomes in the above-indicated regions, or the complement thereof. ',\n",
       " 'HEPATITIS-C VIRUS TYPE 4, 5 AND 6',\n",
       " '0',\n",
       " '29']"
      ]
     },
     "execution_count": 5,
     "metadata": {},
     "output_type": "execute_result"
    }
   ],
   "source": [
    "tsv_reader.next()"
   ]
  },
  {
   "cell_type": "markdown",
   "metadata": {},
   "source": [
    "abs를 읽어봐야 class를 알겠는데... 일단 app citation 데이터 요청하자"
   ]
  },
  {
   "cell_type": "markdown",
   "metadata": {},
   "source": [
    "### app_claims_stats.csv"
   ]
  },
  {
   "cell_type": "code",
   "execution_count": 2,
   "metadata": {
    "scrolled": true
   },
   "outputs": [
    {
     "data": {
      "text/plain": [
       "['pub_no',\n",
       " 'appl_id',\n",
       " 'claim_no',\n",
       " 'ind_flg',\n",
       " 'cnx_flg',\n",
       " 'word_ct',\n",
       " 'char_ct',\n",
       " 'or_ct',\n",
       " 'sf_ct',\n",
       " 'cns_ct']"
      ]
     },
     "execution_count": 2,
     "metadata": {},
     "output_type": "execute_result"
    }
   ],
   "source": [
    "csv_patent1 = open('app_claims_stats.csv')\n",
    "csv_patent_reader1 = csv.reader(csv_patent1)\n",
    "header = csv_patent_reader1.next()\n",
    "header"
   ]
  },
  {
   "cell_type": "markdown",
   "metadata": {},
   "source": [
    "DN / app_id / # of claim / # of indep.claim / # of canceled.claim / # of words 알 수 있군"
   ]
  },
  {
   "cell_type": "code",
   "execution_count": 3,
   "metadata": {
    "scrolled": true
   },
   "outputs": [
    {
     "data": {
      "text/plain": [
       "['20010000001', '09725796', '7', '0', '0', '20', '112', '1', '1', '1']"
      ]
     },
     "execution_count": 3,
     "metadata": {},
     "output_type": "execute_result"
    }
   ],
   "source": [
    "csv_patent_reader1.next()"
   ]
  },
  {
   "cell_type": "markdown",
   "metadata": {},
   "source": [
    "### app_class.csv"
   ]
  },
  {
   "cell_type": "code",
   "execution_count": 12,
   "metadata": {},
   "outputs": [
    {
     "data": {
      "text/plain": [
       "['number', 'id', 'mainclass', 'subclass', 'further_m', 'further_s']"
      ]
     },
     "execution_count": 12,
     "metadata": {},
     "output_type": "execute_result"
    }
   ],
   "source": [
    "csv_patent1 = open('app_class.csv')\n",
    "csv_patent_reader1 = csv.reader(csv_patent1)\n",
    "header = csv_patent_reader1.next()\n",
    "header"
   ]
  },
  {
   "cell_type": "markdown",
   "metadata": {},
   "source": [
    "DN / app_id / class 정보 알 수 있음"
   ]
  },
  {
   "cell_type": "code",
   "execution_count": 14,
   "metadata": {},
   "outputs": [
    {
     "data": {
      "text/plain": [
       "['20020000002', '09/888723', '2', '239']"
      ]
     },
     "execution_count": 14,
     "metadata": {},
     "output_type": "execute_result"
    }
   ],
   "source": [
    "csv_patent_reader1.next()"
   ]
  },
  {
   "cell_type": "markdown",
   "metadata": {},
   "source": [
    "__2002년부터 시작이네 이건__"
   ]
  },
  {
   "cell_type": "markdown",
   "metadata": {},
   "source": [
    "### app_profile.csv"
   ]
  },
  {
   "cell_type": "code",
   "execution_count": 9,
   "metadata": {},
   "outputs": [
    {
     "data": {
      "text/plain": [
       "['number', 'id', 'date', 'assignee', 'country']"
      ]
     },
     "execution_count": 9,
     "metadata": {},
     "output_type": "execute_result"
    }
   ],
   "source": [
    "csv_patent1 = open('app_profile.csv')\n",
    "csv_patent_reader1 = csv.reader(csv_patent1)\n",
    "header = csv_patent_reader1.next()\n",
    "header"
   ]
  },
  {
   "cell_type": "markdown",
   "metadata": {},
   "source": [
    "DN / app_id /date / ass / country 알 수 있음"
   ]
  },
  {
   "cell_type": "code",
   "execution_count": 11,
   "metadata": {},
   "outputs": [
    {
     "data": {
      "text/plain": [
       "['20020000002', '09/888723', '2001-06-25', 'private']"
      ]
     },
     "execution_count": 11,
     "metadata": {},
     "output_type": "execute_result"
    }
   ],
   "source": [
    "csv_patent_reader1.next()"
   ]
  },
  {
   "cell_type": "markdown",
   "metadata": {},
   "source": [
    "### historical_masterfile.csv"
   ]
  },
  {
   "cell_type": "code",
   "execution_count": 15,
   "metadata": {
    "scrolled": true
   },
   "outputs": [
    {
     "data": {
      "text/plain": [
       "['appl_id',\n",
       " 'pubno',\n",
       " 'patent',\n",
       " 'nber',\n",
       " 'uspc',\n",
       " 'uspc_sub',\n",
       " 'appl_dt',\n",
       " 'prior_dt',\n",
       " 'pub_dt',\n",
       " 'disp_dt',\n",
       " 'disp_ty',\n",
       " 'exp_dt',\n",
       " 'exp_dt_max',\n",
       " 'pta']"
      ]
     },
     "execution_count": 15,
     "metadata": {},
     "output_type": "execute_result"
    }
   ],
   "source": [
    "csv_patent1 = open('historical_masterfile.csv')\n",
    "csv_patent_reader1 = csv.reader(csv_patent1)\n",
    "header = csv_patent_reader1.next()\n",
    "header"
   ]
  },
  {
   "cell_type": "markdown",
   "metadata": {},
   "source": [
    "app_id / (DN) / patent_id / nber (industry) 알 수 있음 "
   ]
  },
  {
   "cell_type": "code",
   "execution_count": 17,
   "metadata": {},
   "outputs": [
    {
     "data": {
      "text/plain": [
       "['08186218',\n",
       " '',\n",
       " '5448746',\n",
       " '22',\n",
       " '712',\n",
       " '210',\n",
       " '25jan1994',\n",
       " '29mar1991',\n",
       " '',\n",
       " '05sep1995',\n",
       " 'ISS',\n",
       " '04sep2012',\n",
       " '',\n",
       " '0']"
      ]
     },
     "execution_count": 17,
     "metadata": {},
     "output_type": "execute_result"
    }
   ],
   "source": [
    "csv_patent_reader1.next()"
   ]
  }
 ],
 "metadata": {
  "anaconda-cloud": {},
  "kernelspec": {
   "display_name": "Python 2",
   "language": "python",
   "name": "python2"
  },
  "language_info": {
   "codemirror_mode": {
    "name": "ipython",
    "version": 2
   },
   "file_extension": ".py",
   "mimetype": "text/x-python",
   "name": "python",
   "nbconvert_exporter": "python",
   "pygments_lexer": "ipython2",
   "version": "2.7.13"
  }
 },
 "nbformat": 4,
 "nbformat_minor": 1
}
