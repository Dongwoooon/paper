{
 "cells": [
  {
   "cell_type": "markdown",
   "metadata": {},
   "source": [
    "# raw data에서 필요한 column 고르기"
   ]
  },
  {
   "cell_type": "code",
   "execution_count": null,
   "metadata": {
    "collapsed": true
   },
   "outputs": [],
   "source": [
    "#-*- coding: utf-8 -*-\n",
    "\n",
    "import csv\n",
    "import os\n",
    "import sys\n",
    "\n",
    "os.chdir('E:/apps')"
   ]
  },
  {
   "cell_type": "markdown",
   "metadata": {},
   "source": [
    "### application_application.tsv"
   ]
  },
  {
   "cell_type": "markdown",
   "metadata": {},
   "source": [
    "여기서 건질 column : number (app_id), granted (granted dummy)   \n",
    "  \n",
    "__problem__   \n",
    "1. __앞자리가 0으로 시작하는 number__는 0이 빠져서 / 위치가 이상함   \n",
    "=> 변환 필요  \n",
    "__ex) 85/37802 -> 08/537802 __\n",
    "2. number에 app_id와 DN이 섞여있음  \n",
    "=> 따로 뽑자   \n"
   ]
  },
  {
   "cell_type": "code",
   "execution_count": null,
   "metadata": {
    "collapsed": true
   },
   "outputs": [],
   "source": [
    "def app_id(aid):\n",
    "    if len(aid) == 8:\n",
    "        aid = aid.replace(\"/\",\"\")\n",
    "        aid = '0' + aid[0] + '/' + aid[1:]\n",
    "    \n",
    "    return aid"
   ]
  },
  {
   "cell_type": "code",
   "execution_count": null,
   "metadata": {
    "collapsed": true
   },
   "outputs": [],
   "source": [
    "with open('application_application.tsv','rU') as tsv, open('app_granted.csv','wb') as fw:\n",
    "    reader = csv.reader(tsv, delimiter='\\t', quoting=csv.QUOTE_NONE)\n",
    "    reader.next()\n",
    "    \n",
    "    writer = csv.writer(fw)\n",
    "    header = ['number','app_id','granted_dum']\n",
    "    writer.writerow(header)  \n",
    "    \n",
    "    for line in reader:\n",
    "        try:\n",
    "            row=[]\n",
    "            if len(line[2]) < 10:\n",
    "                row.append('')\n",
    "                row.append(app_id(line[2]))\n",
    "            else:\n",
    "                row.append(line[2])\n",
    "                row.append('')\n",
    "            \n",
    "            row.append(line[7])\n",
    "            writer.writerow(row)\n",
    "            \n",
    "        except IndexError:\n",
    "            pass"
   ]
  },
  {
   "cell_type": "markdown",
   "metadata": {},
   "source": [
    "__another problem__  \n",
    "1. DN으로 나오는 애들 granted가 자꾸 null로 뜸  \n",
    "=> 얘네만 따로 csv 만들어보자"
   ]
  },
  {
   "cell_type": "code",
   "execution_count": null,
   "metadata": {
    "collapsed": true
   },
   "outputs": [],
   "source": [
    "with open('application_application.tsv','rU') as tsv, open('dn.csv','wb') as shit:\n",
    "    reader = csv.reader(tsv, delimiter='\\t', quoting=csv.QUOTE_NONE)\n",
    "    header = reader.next()\n",
    "    \n",
    "    writer = csv.writer(shit)\n",
    "    writer.writerow(header)\n",
    "    \n",
    "    for line in reader:\n",
    "        if len(line[2]) > 10:\n",
    "            writer.writerow(line)    "
   ]
  },
  {
   "cell_type": "markdown",
   "metadata": {},
   "source": [
    "그냥 원래 null로 적혀있음 어쩔 수 없음"
   ]
  }
 ],
 "metadata": {
  "kernelspec": {
   "display_name": "Python 2",
   "language": "python",
   "name": "python2"
  },
  "language_info": {
   "codemirror_mode": {
    "name": "ipython",
    "version": 2
   },
   "file_extension": ".py",
   "mimetype": "text/x-python",
   "name": "python",
   "nbconvert_exporter": "python",
   "pygments_lexer": "ipython2",
   "version": "2.7.13"
  }
 },
 "nbformat": 4,
 "nbformat_minor": 2
}
