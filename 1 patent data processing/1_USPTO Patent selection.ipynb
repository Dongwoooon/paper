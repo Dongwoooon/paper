{
 "cells": [
  {
   "cell_type": "markdown",
   "metadata": {},
   "source": [
    "# USPTO Patent selection\n",
    "\n",
    "### USPTO hist에서 필요한 USPTO patent만 골라내기\n",
    "1. NBER 2번대(전기전자), 4번대(IT)\n",
    "2. grated year = 2006 ~ 2010\n",
    "3. 일단 2010만 고르기"
   ]
  },
  {
   "cell_type": "code",
   "execution_count": 5,
   "metadata": {
    "collapsed": true
   },
   "outputs": [],
   "source": [
    "import csv\n",
    "import os\n",
    "\n",
    "os.chdir('E:/apps')"
   ]
  },
  {
   "cell_type": "markdown",
   "metadata": {},
   "source": [
    "### 1. NBER=2,4 or NBER=3 / granted year=08~12 고르기"
   ]
  },
  {
   "cell_type": "code",
   "execution_count": 2,
   "metadata": {},
   "outputs": [
    {
     "data": {
      "text/plain": [
       "['appl_id',\n",
       " 'pubno',\n",
       " 'patent',\n",
       " 'nber',\n",
       " 'uspc',\n",
       " 'uspc_sub',\n",
       " 'appl_dt',\n",
       " 'prior_dt',\n",
       " 'pub_dt',\n",
       " 'disp_dt',\n",
       " 'disp_ty',\n",
       " 'exp_dt',\n",
       " 'exp_dt_max',\n",
       " 'pta']"
      ]
     },
     "execution_count": 2,
     "metadata": {},
     "output_type": "execute_result"
    }
   ],
   "source": [
    "raw = open('raw_uspto/historical_masterfile.csv')\n",
    "reader = csv.reader(raw)\n",
    "header = reader.next()\n",
    "header"
   ]
  },
  {
   "cell_type": "markdown",
   "metadata": {},
   "source": [
    "3번 item이 NBER, 9번이 granted date  \n",
    "-> [3][0] = NBER, [9][-4:] = year"
   ]
  },
  {
   "cell_type": "code",
   "execution_count": null,
   "metadata": {
    "collapsed": true
   },
   "outputs": [],
   "source": [
    "IT = ['2','4']\n",
    "YEAR = []   \n",
    "for i in range(0,8):\n",
    "    y=2005\n",
    "    y += i\n",
    "    YEAR.append(str(y))\n",
    "\n",
    "with open('raw_uspto/historical_masterfile.csv','rb') as raw,open('uspto_EE&IT_05_12.csv','wb') as sel, open('uspto_BIO_05_12.csv','wb') as sel2:\n",
    "    reader = csv.reader(raw)\n",
    "    header = reader.next()\n",
    "    \n",
    "    writer = csv.writer(sel)\n",
    "    writer2 = csv.writer(sel2)\n",
    "    \n",
    "    writer.writerow(header)\n",
    "    writer2.writerow(header)\n",
    "    \n",
    "    for line in reader:\n",
    "        try:\n",
    "            pid = int(line[2])\n",
    "            if pid > 6836898 and pid < 8341760:\n",
    "                if line[3][0] in IT and line[9][-4:] in YEAR:\n",
    "                    writer.writerow(line)\n",
    "\n",
    "                elif line[3][0] =='3' and line[9][-4:] in YEAR:\n",
    "                    writer2.writerow(line)\n",
    "                \n",
    "        except ValueError:      #if pid != int, go to the next pat\n",
    "                continue    \n",
    "            \n"
   ]
  },
  {
   "cell_type": "code",
   "execution_count": null,
   "metadata": {
    "collapsed": true
   },
   "outputs": [],
   "source": [
    "with open('raw_uspto/historical_masterfile.csv','rb') as raw,open('uspto_BIO_05_12.csv','wb') as sel:\n",
    "    reader = csv.reader(raw)\n",
    "    header = reader.next()\n",
    "    \n",
    "    writer = csv.writer(sel)\n",
    "    writer.writerow(header)\n",
    "    \n",
    "    for line in reader:\n",
    "        if line[3][0] =='3' and line[9][-4:] in YEAR:\n",
    "            writer.writerow(line)"
   ]
  },
  {
   "cell_type": "markdown",
   "metadata": {},
   "source": [
    "** *이거 하고 엑셀로 column 이름 수정 (patent -> patent_id), column 일부 제거 **"
   ]
  }
 ],
 "metadata": {
  "kernelspec": {
   "display_name": "Python 2",
   "language": "python",
   "name": "python2"
  },
  "language_info": {
   "codemirror_mode": {
    "name": "ipython",
    "version": 2
   },
   "file_extension": ".py",
   "mimetype": "text/x-python",
   "name": "python",
   "nbconvert_exporter": "python",
   "pygments_lexer": "ipython2",
   "version": "2.7.13"
  }
 },
 "nbformat": 4,
 "nbformat_minor": 2
}
