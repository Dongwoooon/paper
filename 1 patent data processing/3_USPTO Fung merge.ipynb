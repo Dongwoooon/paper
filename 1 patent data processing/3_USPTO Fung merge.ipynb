{
 "cells": [
  {
   "cell_type": "markdown",
   "metadata": {},
   "source": [
    "# USPTO와 FUNG merge\n",
    "\n",
    "### USPTO에서 필요한 변수\n",
    "- patent_id\n",
    "- nber\n",
    "- class (uspc, uspc_sub)\n",
    "- date (appl_dt, disp_dt)\n",
    "\n",
    "### merge 방법\n",
    "- USPTO에서 patent_id < 0 인 patent는 중간에 버린 거 => 분석 대상에서 제외\n",
    "- USPTO(left), FUNG(right)로 left join => assignee 여럿인 patent도 괜찮음\n",
    "\n",
    "### 간단한 assignee profile\n",
    "- assignee별 특허 개수\n",
    "- assignee 이름 processing"
   ]
  },
  {
   "cell_type": "code",
   "execution_count": 1,
   "metadata": {},
   "outputs": [
    {
     "data": {
      "text/plain": [
       "['patent_id',\n",
       " 'nber',\n",
       " 'uspc',\n",
       " 'uspc_sub',\n",
       " 'appl_dt',\n",
       " 'disp_dt',\n",
       " 'assignee',\n",
       " 'country_code',\n",
       " 'state_code',\n",
       " 'num_assignees',\n",
       " 'num_claims',\n",
       " 'num_foreign_citations',\n",
       " 'num_other_citations',\n",
       " 'num_self_citations',\n",
       " 'num_times_cited',\n",
       " 'num_us_citations',\n",
       " 'num_self_future_citations']"
      ]
     },
     "execution_count": 1,
     "metadata": {},
     "output_type": "execute_result"
    }
   ],
   "source": [
    "#-*- coding: utf-8 -*-\n",
    "import os\n",
    "import pandas as pd\n",
    "\n",
    "os.chdir('E:/apps')\n",
    "\n",
    "df=pd.read_csv('uspto_EE&CC_10.csv')\n",
    "cols = ['patent_id','nber','uspc','uspc_sub','appl_dt','disp_dt']\n",
    "df=df[cols]\n",
    "df = df.loc[df['patent_id']>0,:]\n",
    "\n",
    "df1=pd.read_csv('fung/patent_fung.csv')\n",
    "df = df.merge(df1, on='patent_id', how='left', sort=True)\n",
    "list(df)"
   ]
  },
  {
   "cell_type": "code",
   "execution_count": 2,
   "metadata": {
    "collapsed": true
   },
   "outputs": [],
   "source": [
    "df.to_csv('patent_EE&CC_10_vars.csv', index=False)"
   ]
  },
  {
   "cell_type": "markdown",
   "metadata": {},
   "source": [
    "** assignee profile **"
   ]
  },
  {
   "cell_type": "code",
   "execution_count": 11,
   "metadata": {},
   "outputs": [
    {
     "data": {
      "text/plain": [
       "assignee\n",
       "International Business Machines Corporation    5578\n",
       "Samsung Electronics Co., Ltd.                  3617\n",
       "Microsoft Corporation                          2985\n",
       "Panasonic Corporation                          2131\n",
       "Canon Kabushiki Kaisha                         2033\n",
       "Kabushiki Kaisha Toshiba                       1937\n",
       "Sony Corporation                               1923\n",
       "Intel Corporation                              1564\n",
       "Hitachi, Ltd.                                  1248\n",
       "Hewlett-Packard Development Company, L.P.      1233\n",
       "dtype: int64"
      ]
     },
     "execution_count": 11,
     "metadata": {},
     "output_type": "execute_result"
    }
   ],
   "source": [
    "counts = df.groupby('assignee').size()\n",
    "counts.sort_values(ascending=False,inplace=True)\n",
    "counts[0:10]"
   ]
  },
  {
   "cell_type": "markdown",
   "metadata": {},
   "source": [
    "꼴 보니까 이름 processing 한 번 해야겠네 (어차피 compustat때문에 할거지만!)"
   ]
  },
  {
   "cell_type": "code",
   "execution_count": 12,
   "metadata": {},
   "outputs": [],
   "source": [
    "counts.to_csv('patent_assignee_10.csv')"
   ]
  }
 ],
 "metadata": {
  "kernelspec": {
   "display_name": "Python 2",
   "language": "python",
   "name": "python2"
  },
  "language_info": {
   "codemirror_mode": {
    "name": "ipython",
    "version": 2
   },
   "file_extension": ".py",
   "mimetype": "text/x-python",
   "name": "python",
   "nbconvert_exporter": "python",
   "pygments_lexer": "ipython2",
   "version": "2.7.13"
  }
 },
 "nbformat": 4,
 "nbformat_minor": 2
}
