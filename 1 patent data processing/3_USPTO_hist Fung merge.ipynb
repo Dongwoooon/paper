{
 "cells": [
  {
   "cell_type": "markdown",
   "metadata": {},
   "source": [
    "# USPTO_hist와 FUNG merge\n",
    "\n",
    "### USPTO_hist에서 필요한 변수\n",
    "- patent_id\n",
    "- nber\n",
    "- class (uspc, uspc_sub)\n",
    "- date (appl_dt, disp_dt)\n",
    "\n",
    "### merge 방법\n",
    "- USPTO에서 patent_id < 0 인 patent는 중간에 버린 거 => 분석 대상에서 제외\n",
    "- USPTO(left), FUNG(right)로 left join => assignee 여럿인 patent도 괜찮음\n",
    "\n",
    "### 간단한 assignee profile\n",
    "- assignee별 특허 개수\n",
    "- assignee 이름 processing"
   ]
  },
  {
   "cell_type": "code",
   "execution_count": 1,
   "metadata": {},
   "outputs": [
    {
     "data": {
      "text/plain": [
       "['patent_id',\n",
       " 'nber',\n",
       " 'uspc',\n",
       " 'uspc_sub',\n",
       " 'appl_dt',\n",
       " 'disp_dt',\n",
       " 'assignee',\n",
       " 'country_code',\n",
       " 'state_code',\n",
       " 'pdpass',\n",
       " 'num_assignees',\n",
       " 'num_claims',\n",
       " 'num_foreign_citations',\n",
       " 'num_other_citations',\n",
       " 'num_us_citations',\n",
       " 'num_times_cited',\n",
       " 'num_self_citations',\n",
       " 'num_self_future_citations']"
      ]
     },
     "execution_count": 1,
     "metadata": {},
     "output_type": "execute_result"
    }
   ],
   "source": [
    "#-*- coding: utf-8 -*-\n",
    "import os\n",
    "import pandas as pd\n",
    "\n",
    "os.chdir('E:/apps')\n",
    "\n",
    "df=pd.read_csv('uspto_hist_EE&CC_10.csv')\n",
    "cols = ['patent_id','nber','uspc','uspc_sub','appl_dt','disp_dt']\n",
    "df=df[cols]\n",
    "df = df.loc[df['patent_id']>0,:]\n",
    "\n",
    "df1=pd.read_csv('fung/patent_fung.csv')\n",
    "df = df.merge(df1, on='patent_id', how='left', sort=True)\n",
    "list(df)"
   ]
  },
  {
   "cell_type": "code",
   "execution_count": 2,
   "metadata": {
    "collapsed": true
   },
   "outputs": [],
   "source": [
    "df.to_csv('patent_EE&CC_10_vars.csv', index=False)"
   ]
  },
  {
   "cell_type": "markdown",
   "metadata": {},
   "source": [
    "** assignee profile, patent_assignee 파일 생성 **"
   ]
  },
  {
   "cell_type": "code",
   "execution_count": 3,
   "metadata": {},
   "outputs": [
    {
     "data": {
      "text/plain": [
       "assignee\n",
       "INTERNATIONAL BUSINESS MACHINES CORPORATION    5614\n",
       "SAMSUNG ELECTRONICS CO LTD                     4128\n",
       "MICROSOFT CORPORATION                          3011\n",
       "PANASONIC CORPORATION                          2128\n",
       "CANON KABUSHIKI KAISHA                         2044\n",
       "KABUSHIKI KAISHA TOSHIBA                       1964\n",
       "SONY CORPORATION                               1930\n",
       "INTEL CORPORATION                              1567\n",
       "HITACHI LTD                                    1273\n",
       "HEWLETT PACKARD DEVELOPMENT COMPANY LP         1248\n",
       "dtype: int64"
      ]
     },
     "execution_count": 3,
     "metadata": {},
     "output_type": "execute_result"
    }
   ],
   "source": [
    "df = df.loc[:,['patent_id','assignee']]\n",
    "df.to_csv('patent_assignee.csv', index=False)\n",
    "\n",
    "counts = df.groupby('assignee').size()\n",
    "counts.sort_values(ascending=False,inplace=True)\n",
    "counts[0:10]"
   ]
  },
  {
   "cell_type": "code",
   "execution_count": 6,
   "metadata": {
    "collapsed": true
   },
   "outputs": [],
   "source": [
    "counts.to_csv('assignee_profile.csv')"
   ]
  }
 ],
 "metadata": {
  "kernelspec": {
   "display_name": "Python 2",
   "language": "python",
   "name": "python2"
  },
  "language_info": {
   "codemirror_mode": {
    "name": "ipython",
    "version": 2
   },
   "file_extension": ".py",
   "mimetype": "text/x-python",
   "name": "python",
   "nbconvert_exporter": "python",
   "pygments_lexer": "ipython2",
   "version": "2.7.13"
  }
 },
 "nbformat": 4,
 "nbformat_minor": 2
}
