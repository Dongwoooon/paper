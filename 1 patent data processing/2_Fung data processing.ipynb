{
 "cells": [
  {
   "cell_type": "markdown",
   "metadata": {},
   "source": [
    "# Fung data (assignee, patent) 붙여서 하나로 만들기\n",
    "\n",
    "### Disambiguated assignee 붙이기\n",
    "- Fung에서 제공하는 pdpass key 사용\n",
    "- assingee 이름 disambiguation ㄱㄱ\n",
    "\n",
    "### Assignee 정보와 Patent 정보 붙이기\n",
    "- patent 하나에 assignee 여럿일 수 있음\n",
    "- 우리의 목표는 firm level로 aggregate\n",
    "- 따라서 assignee 기준으로 left join"
   ]
  },
  {
   "cell_type": "markdown",
   "metadata": {},
   "source": [
    "### 1. Disambiguated assignee 붙이기"
   ]
  },
  {
   "cell_type": "code",
   "execution_count": 1,
   "metadata": {
    "collapsed": true
   },
   "outputs": [],
   "source": [
    "#-*- coding: utf-8 -*-\n",
    "import os\n",
    "import csv\n",
    "import pandas as pd\n",
    "import sys\n",
    "\n",
    "os.chdir('E:/apps/fung')\n",
    "\n",
    "df1 = pd.read_csv('assignee_1.csv')\n",
    "df2 = pd.read_csv('assignee_2.csv')\n",
    "df3 = pd.read_csv('assignee_3.csv')\n",
    "\n",
    "df = df1.append([df2, df3], ignore_index=True)\n",
    "del df1, df2, df3\n",
    "\n",
    "pdpass = pd.read_csv('pdpass.csv')\n",
    "df = df.merge(pdpass, on='pdpass', how='left')"
   ]
  },
  {
   "cell_type": "code",
   "execution_count": 2,
   "metadata": {},
   "outputs": [
    {
     "data": {
      "text/plain": [
       "['state_code',\n",
       " 'patent_id',\n",
       " 'raw_assignee',\n",
       " 'country_code',\n",
       " 'pdpass',\n",
       " 'assignee']"
      ]
     },
     "execution_count": 2,
     "metadata": {},
     "output_type": "execute_result"
    }
   ],
   "source": [
    "list(df)"
   ]
  },
  {
   "cell_type": "code",
   "execution_count": 6,
   "metadata": {
    "collapsed": true
   },
   "outputs": [],
   "source": [
    "cols = df.columns.tolist()\n",
    "cols = [cols[1], cols[-1]] + cols[2:4] + [cols[0], cols[4]]\n",
    "\n",
    "df = df[cols]\n",
    "df.to_csv('assignee.csv', index=False)"
   ]
  },
  {
   "cell_type": "markdown",
   "metadata": {},
   "source": [
    "### 2. join assignee and patent"
   ]
  },
  {
   "cell_type": "code",
   "execution_count": 6,
   "metadata": {},
   "outputs": [
    {
     "data": {
      "text/plain": [
       "['patent_id',\n",
       " 'assignee',\n",
       " 'raw_assignee',\n",
       " 'country_code',\n",
       " 'state_code',\n",
       " 'pdpass',\n",
       " 'num_assignees',\n",
       " 'num_claims',\n",
       " 'num_foreign_citations',\n",
       " 'num_other_citations',\n",
       " 'num_self_citations',\n",
       " 'num_times_cited',\n",
       " 'num_us_citations',\n",
       " 'num_self_future_citations']"
      ]
     },
     "execution_count": 6,
     "metadata": {},
     "output_type": "execute_result"
    }
   ],
   "source": [
    "df1 = pd.read_csv('patent_1.csv')\n",
    "df2 = pd.read_csv('patent_2.csv')\n",
    "df3 = pd.read_csv('patent_3.csv')\n",
    "\n",
    "df1 = df1.append([df2, df3], ignore_index=True)\n",
    "del df2, df3\n",
    "\n",
    "df1.to_csv('patent_vars.csv', index=False)\n",
    "\n",
    "df = df.merge(df1, on='patent_id', how='left', sort=True)\n",
    "del df1\n",
    "\n",
    "list(df)"
   ]
  },
  {
   "cell_type": "markdown",
   "metadata": {},
   "source": [
    "여기서 두 개로 분리\n",
    "1. patent_fung : raw_assignee 제거 (아무 필요가 없거든)\n",
    "2. assignee_raw : assignee, raw_assignee 남기기 (나중에 join 용)"
   ]
  },
  {
   "cell_type": "code",
   "execution_count": 10,
   "metadata": {
    "collapsed": true
   },
   "outputs": [],
   "source": [
    "cols = df.columns.tolist()\n",
    "cols = cols[0:10] + [cols[-2], cols[-3], cols[-4], cols[-1]]\n",
    "df = df[cols]\n",
    "\n",
    "raw = df.iloc[:,1:3]\n",
    "raw.drop_duplicates(inplace=True)\n",
    "raw.to_csv('assignee_raw.csv',index=False)\n",
    "\n",
    "del df['raw_assignee']\n",
    "df.to_csv('patent_fung.csv', index=False)"
   ]
  },
  {
   "cell_type": "markdown",
   "metadata": {},
   "source": [
    "### 3. assingee_raw 다시 만들기 - 왜 없어졌지?"
   ]
  },
  {
   "cell_type": "code",
   "execution_count": 1,
   "metadata": {},
   "outputs": [
    {
     "name": "stderr",
     "output_type": "stream",
     "text": [
      "C:\\Users\\DW\\Anaconda2\\lib\\site-packages\\IPython\\core\\interactiveshell.py:2717: DtypeWarning: Columns (1) have mixed types. Specify dtype option on import or set low_memory=False.\n",
      "  interactivity=interactivity, compiler=compiler, result=result)\n"
     ]
    },
    {
     "data": {
      "text/plain": [
       "['patent_id',\n",
       " 'assignee',\n",
       " 'raw_assignee',\n",
       " 'country_code',\n",
       " 'state_code',\n",
       " 'pdpass']"
      ]
     },
     "execution_count": 1,
     "metadata": {},
     "output_type": "execute_result"
    }
   ],
   "source": [
    "#-*- coding: utf-8 -*-\n",
    "import os\n",
    "import csv\n",
    "import pandas as pd\n",
    "import sys\n",
    "\n",
    "os.chdir('E:/apps/fung')\n",
    "\n",
    "df = pd.read_csv('assignee.csv')\n",
    "\n",
    "list(df)"
   ]
  },
  {
   "cell_type": "code",
   "execution_count": 2,
   "metadata": {
    "collapsed": true
   },
   "outputs": [],
   "source": [
    "raw = df.iloc[:,1:3]\n",
    "raw.drop_duplicates(inplace=True)\n",
    "raw.to_csv('assignee_raw.csv',index=False)"
   ]
  }
 ],
 "metadata": {
  "kernelspec": {
   "display_name": "Python 2",
   "language": "python",
   "name": "python2"
  },
  "language_info": {
   "codemirror_mode": {
    "name": "ipython",
    "version": 2
   },
   "file_extension": ".py",
   "mimetype": "text/x-python",
   "name": "python",
   "nbconvert_exporter": "python",
   "pygments_lexer": "ipython2",
   "version": "2.7.13"
  }
 },
 "nbformat": 4,
 "nbformat_minor": 2
}
