{
 "cells": [
  {
   "cell_type": "markdown",
   "metadata": {},
   "source": [
    "# USPTO와 FUNG merge\n",
    "\n",
    "### USPTO에서 필요한 변수\n",
    "- patent_id\n",
    "- nber\n",
    "- class (uspc, uspc_sub)\n",
    "- date (appl_dt, disp_dt)\n",
    "\n",
    "### merge 방법\n",
    "- USPTO에서 patent_id < 0 인 patent는 중간에 버린 거 => 분석 대상에서 제외\n",
    "- USPTO(left), FUNG(right)로 left join => assignee 여럿인 patent도 괜찮음"
   ]
  },
  {
   "cell_type": "code",
   "execution_count": 1,
   "metadata": {},
   "outputs": [
    {
     "data": {
      "text/plain": [
       "['patent_id',\n",
       " 'nber',\n",
       " 'uspc',\n",
       " 'uspc_sub',\n",
       " 'appl_dt',\n",
       " 'disp_dt',\n",
       " 'assignee',\n",
       " 'country_code',\n",
       " 'state_code',\n",
       " 'num_assignees',\n",
       " 'num_claims',\n",
       " 'num_foreign_citations',\n",
       " 'num_other_citations',\n",
       " 'num_self_citations',\n",
       " 'num_times_cited',\n",
       " 'num_us_citations',\n",
       " 'num_self_future_citations']"
      ]
     },
     "execution_count": 1,
     "metadata": {},
     "output_type": "execute_result"
    }
   ],
   "source": [
    "#-*- coding: utf-8 -*-\n",
    "import os\n",
    "import pandas as pd\n",
    "\n",
    "os.chdir('E:/apps')\n",
    "\n",
    "df=pd.read_csv('uspto_EE&CC_10.csv')\n",
    "cols = ['patent_id','nber','uspc','uspc_sub','appl_dt','disp_dt']\n",
    "df=df[cols]\n",
    "df = df.loc[df['patent_id']>0,:]\n",
    "\n",
    "df1=pd.read_csv('fung/patent_fung.csv')\n",
    "df = df.merge(df1, on='patent_id', how='left', sort=True)\n",
    "list(df)"
   ]
  },
  {
   "cell_type": "code",
   "execution_count": 2,
   "metadata": {
    "collapsed": true
   },
   "outputs": [],
   "source": [
    "df.to_csv('patent_EE&CC_10_vars.csv', index=False)"
   ]
  },
  {
   "cell_type": "markdown",
   "metadata": {},
   "source": [
    "**assignee 몇 개 있나 알아보자**"
   ]
  },
  {
   "cell_type": "code",
   "execution_count": 8,
   "metadata": {},
   "outputs": [
    {
     "data": {
      "text/plain": [
       "17474"
      ]
     },
     "execution_count": 8,
     "metadata": {},
     "output_type": "execute_result"
    }
   ],
   "source": [
    "ass = df['assignee'].to_frame()\n",
    "ass.drop_duplicates(inplace=True)\n",
    "len(ass)"
   ]
  },
  {
   "cell_type": "code",
   "execution_count": 9,
   "metadata": {
    "collapsed": true
   },
   "outputs": [],
   "source": [
    "ass.to_csv('patent_assignee_10.csv',index=False)"
   ]
  },
  {
   "cell_type": "markdown",
   "metadata": {},
   "source": [
    "꼴 보니까 이름 processing 한 번 해야겠네 (어차피 compustat때문에 할거지만!)"
   ]
  }
 ],
 "metadata": {
  "kernelspec": {
   "display_name": "Python 2",
   "language": "python",
   "name": "python2"
  },
  "language_info": {
   "codemirror_mode": {
    "name": "ipython",
    "version": 2
   },
   "file_extension": ".py",
   "mimetype": "text/x-python",
   "name": "python",
   "nbconvert_exporter": "python",
   "pygments_lexer": "ipython2",
   "version": "2.7.13"
  }
 },
 "nbformat": 4,
 "nbformat_minor": 2
}
