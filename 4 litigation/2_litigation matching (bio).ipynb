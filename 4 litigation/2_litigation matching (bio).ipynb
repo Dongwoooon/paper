{
 "cells": [
  {
   "cell_type": "markdown",
   "metadata": {},
   "source": [
    "### 1. raw_assignee -> assignee -> GVkey 순서로 match"
   ]
  },
  {
   "cell_type": "code",
   "execution_count": 1,
   "metadata": {
    "collapsed": true
   },
   "outputs": [],
   "source": [
    "import os\n",
    "import pandas as pd\n",
    "\n",
    "os.chdir('E:/apps')\n",
    "\n",
    "df = pd.read_csv('litigation/pat_lit_raw_match.csv')\n",
    "df1 = pd.read_csv('assignee_raw.csv')\n",
    "\n",
    "del df['new_raw_assignee']\n",
    "df1 = df1.merge(df, on='raw_assignee', how='left', sort=True)\n",
    "df1.drop_duplicates(inplace=True)\n",
    "\n",
    "df2 = pd.read_csv('db_table/assignee_gvkey_BIO.csv')\n",
    "df2 = df2.merge(df1, on='assignee', how='left', sort=True)\n",
    "df2.drop_duplicates(inplace=True)\n",
    "\n",
    "df2.to_csv('patent_lit_key_BIO.csv',index=False)"
   ]
  },
  {
   "cell_type": "code",
   "execution_count": 3,
   "metadata": {},
   "outputs": [
    {
     "data": {
      "text/plain": [
       "325"
      ]
     },
     "execution_count": 3,
     "metadata": {},
     "output_type": "execute_result"
    }
   ],
   "source": [
    "len(pd.unique(df2['gvkey']))"
   ]
  }
 ],
 "metadata": {
  "kernelspec": {
   "display_name": "Python 2",
   "language": "python",
   "name": "python2"
  },
  "language_info": {
   "codemirror_mode": {
    "name": "ipython",
    "version": 2
   },
   "file_extension": ".py",
   "mimetype": "text/x-python",
   "name": "python",
   "nbconvert_exporter": "python",
   "pygments_lexer": "ipython2",
   "version": "2.7.13"
  }
 },
 "nbformat": 4,
 "nbformat_minor": 2
}
