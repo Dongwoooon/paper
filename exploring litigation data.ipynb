{
 "cells": [
  {
   "cell_type": "markdown",
   "metadata": {},
   "source": [
    "### 1. patent infringement case 개수 확인 & 고르기"
   ]
  },
  {
   "cell_type": "markdown",
   "metadata": {},
   "source": [
    "특허 소송의 경우, cause == ~ patent infringement"
   ]
  },
  {
   "cell_type": "code",
   "execution_count": 1,
   "metadata": {},
   "outputs": [
    {
     "data": {
      "text/plain": [
       "61803"
      ]
     },
     "execution_count": 1,
     "metadata": {},
     "output_type": "execute_result"
    }
   ],
   "source": [
    "import csv\n",
    "import os\n",
    "import re\n",
    "\n",
    "os.chdir('E:/apps')\n",
    "\n",
    "patent_regex = re.compile('.* Patent Infringement$')\n",
    "cnt = 0\n",
    "with open('litigation/cases.csv', 'rb') as f:\n",
    "    reader = csv.reader(f)\n",
    "    header = reader.next()\n",
    "    i = header.index('case_cause')\n",
    "    for line in reader:\n",
    "        if patent_regex.findall(line[i]):\n",
    "            cnt+=1\n",
    "cnt"
   ]
  },
  {
   "cell_type": "markdown",
   "metadata": {},
   "source": [
    "와 많네 이거만 골라서 하나 만들자"
   ]
  },
  {
   "cell_type": "code",
   "execution_count": 2,
   "metadata": {
    "collapsed": true
   },
   "outputs": [],
   "source": [
    "with open('litigation/cases.csv', 'rb') as f, open('litigation/patent_cases.csv','wb') as f2:\n",
    "    reader = csv.reader(f)\n",
    "    writer = csv.writer(f2)\n",
    "    \n",
    "    header = reader.next()\n",
    "    writer.writerow(header)\n",
    "    i = header.index('case_cause')\n",
    "    \n",
    "    for line in reader:   \n",
    "        if patent_regex.findall(line[i]):\n",
    "            writer.writerow(line)"
   ]
  },
  {
   "cell_type": "markdown",
   "metadata": {},
   "source": [
    "### 2. patent case에 맞는 기업들 고르기"
   ]
  },
  {
   "cell_type": "code",
   "execution_count": 1,
   "metadata": {
    "collapsed": true
   },
   "outputs": [],
   "source": [
    "import pandas as pd\n",
    "import os\n",
    "\n",
    "os.chdir('E:/apps/litigation')\n",
    "\n",
    "df = pd.read_csv('patent_cases.csv')\n",
    "df1 = pd.read_csv('names.csv')\n",
    "\n",
    "df = df['case_row_id'].to_frame()\n",
    "df = df.merge(df1,how='left',on='case_row_id')"
   ]
  },
  {
   "cell_type": "code",
   "execution_count": 4,
   "metadata": {},
   "outputs": [
    {
     "data": {
      "text/plain": [
       "['case_row_id',\n",
       " 'case_number',\n",
       " 'party_row_count',\n",
       " 'party_type',\n",
       " 'name_row_count',\n",
       " 'name']"
      ]
     },
     "execution_count": 4,
     "metadata": {},
     "output_type": "execute_result"
    }
   ],
   "source": [
    "list(df)"
   ]
  },
  {
   "cell_type": "code",
   "execution_count": 5,
   "metadata": {
    "collapsed": true
   },
   "outputs": [],
   "source": [
    "df.to_csv('patent_names.csv',index=False)"
   ]
  },
  {
   "cell_type": "code",
   "execution_count": 2,
   "metadata": {},
   "outputs": [
    {
     "data": {
      "text/html": [
       "<div>\n",
       "<style>\n",
       "    .dataframe thead tr:only-child th {\n",
       "        text-align: right;\n",
       "    }\n",
       "\n",
       "    .dataframe thead th {\n",
       "        text-align: left;\n",
       "    }\n",
       "\n",
       "    .dataframe tbody tr th {\n",
       "        vertical-align: top;\n",
       "    }\n",
       "</style>\n",
       "<table border=\"1\" class=\"dataframe\">\n",
       "  <thead>\n",
       "    <tr style=\"text-align: right;\">\n",
       "      <th></th>\n",
       "      <th>case_row_id</th>\n",
       "      <th>case_number</th>\n",
       "      <th>party_row_count</th>\n",
       "      <th>party_type</th>\n",
       "      <th>name_row_count</th>\n",
       "      <th>name</th>\n",
       "    </tr>\n",
       "  </thead>\n",
       "  <tbody>\n",
       "    <tr>\n",
       "      <th>0</th>\n",
       "      <td>54973</td>\n",
       "      <td>01-Jan-1970</td>\n",
       "      <td>306263.0</td>\n",
       "      <td>Plaintiff</td>\n",
       "      <td>399941.0</td>\n",
       "      <td>ASTRAZENECA AB</td>\n",
       "    </tr>\n",
       "    <tr>\n",
       "      <th>1</th>\n",
       "      <td>54973</td>\n",
       "      <td>01-Jan-1970</td>\n",
       "      <td>306264.0</td>\n",
       "      <td>Plaintiff</td>\n",
       "      <td>399942.0</td>\n",
       "      <td>AKTIEBOLAGET HASSLE</td>\n",
       "    </tr>\n",
       "    <tr>\n",
       "      <th>2</th>\n",
       "      <td>54973</td>\n",
       "      <td>01-Jan-1970</td>\n",
       "      <td>306265.0</td>\n",
       "      <td>Plaintiff</td>\n",
       "      <td>399943.0</td>\n",
       "      <td>ASTRAZENECA LP</td>\n",
       "    </tr>\n",
       "    <tr>\n",
       "      <th>3</th>\n",
       "      <td>54973</td>\n",
       "      <td>01-Jan-1970</td>\n",
       "      <td>306266.0</td>\n",
       "      <td>Plaintiff</td>\n",
       "      <td>399944.0</td>\n",
       "      <td>KBI INC,</td>\n",
       "    </tr>\n",
       "    <tr>\n",
       "      <th>4</th>\n",
       "      <td>54973</td>\n",
       "      <td>01-Jan-1970</td>\n",
       "      <td>306267.0</td>\n",
       "      <td>Plaintiff</td>\n",
       "      <td>399945.0</td>\n",
       "      <td>KBI-E INC.</td>\n",
       "    </tr>\n",
       "  </tbody>\n",
       "</table>\n",
       "</div>"
      ],
      "text/plain": [
       "   case_row_id  case_number  party_row_count party_type  name_row_count  \\\n",
       "0        54973  01-Jan-1970         306263.0  Plaintiff        399941.0   \n",
       "1        54973  01-Jan-1970         306264.0  Plaintiff        399942.0   \n",
       "2        54973  01-Jan-1970         306265.0  Plaintiff        399943.0   \n",
       "3        54973  01-Jan-1970         306266.0  Plaintiff        399944.0   \n",
       "4        54973  01-Jan-1970         306267.0  Plaintiff        399945.0   \n",
       "\n",
       "                  name  \n",
       "0       ASTRAZENECA AB  \n",
       "1  AKTIEBOLAGET HASSLE  \n",
       "2       ASTRAZENECA LP  \n",
       "3             KBI INC,  \n",
       "4           KBI-E INC.  "
      ]
     },
     "execution_count": 2,
     "metadata": {},
     "output_type": "execute_result"
    }
   ],
   "source": [
    "df.iloc[0:5,:]"
   ]
  },
  {
   "cell_type": "code",
   "execution_count": 3,
   "metadata": {},
   "outputs": [
    {
     "data": {
      "text/plain": [
       "490216"
      ]
     },
     "execution_count": 3,
     "metadata": {},
     "output_type": "execute_result"
    }
   ],
   "source": [
    "len(df)"
   ]
  },
  {
   "cell_type": "code",
   "execution_count": 5,
   "metadata": {},
   "outputs": [
    {
     "data": {
      "text/plain": [
       "142601"
      ]
     },
     "execution_count": 5,
     "metadata": {},
     "output_type": "execute_result"
    }
   ],
   "source": [
    "df = df['name'].to_frame()\n",
    "df.drop_duplicates(inplace=True)\n",
    "len(df)"
   ]
  },
  {
   "cell_type": "code",
   "execution_count": 6,
   "metadata": {
    "collapsed": true
   },
   "outputs": [],
   "source": [
    "df.to_csv('lit_name.csv',index=False)"
   ]
  }
 ],
 "metadata": {
  "kernelspec": {
   "display_name": "Python 2",
   "language": "python",
   "name": "python2"
  },
  "language_info": {
   "codemirror_mode": {
    "name": "ipython",
    "version": 2
   },
   "file_extension": ".py",
   "mimetype": "text/x-python",
   "name": "python",
   "nbconvert_exporter": "python",
   "pygments_lexer": "ipython2",
   "version": "2.7.13"
  }
 },
 "nbformat": 4,
 "nbformat_minor": 2
}
