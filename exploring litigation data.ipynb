{
 "cells": [
  {
   "cell_type": "markdown",
   "metadata": {},
   "source": [
    "### 1. patent infringement case 개수 확인 & 고르기"
   ]
  },
  {
   "cell_type": "markdown",
   "metadata": {},
   "source": [
    "특허 소송의 경우, cause == ~ patent infringement"
   ]
  },
  {
   "cell_type": "code",
   "execution_count": 1,
   "metadata": {},
   "outputs": [
    {
     "data": {
      "text/plain": [
       "61803"
      ]
     },
     "execution_count": 1,
     "metadata": {},
     "output_type": "execute_result"
    }
   ],
   "source": [
    "import csv\n",
    "import os\n",
    "import re\n",
    "\n",
    "os.chdir('E:/apps')\n",
    "\n",
    "patent_regex = re.compile('.* Patent Infringement$')\n",
    "cnt = 0\n",
    "with open('litigation/cases.csv', 'rb') as f:\n",
    "    reader = csv.reader(f)\n",
    "    header = reader.next()\n",
    "    i = header.index('case_cause')\n",
    "    for line in reader:\n",
    "        if patent_regex.findall(line[i]):\n",
    "            cnt+=1\n",
    "cnt"
   ]
  },
  {
   "cell_type": "markdown",
   "metadata": {},
   "source": [
    "와 많네 이거만 골라서 하나 만들자"
   ]
  },
  {
   "cell_type": "code",
   "execution_count": 2,
   "metadata": {
    "collapsed": true
   },
   "outputs": [],
   "source": [
    "with open('litigation/cases.csv', 'rb') as f, open('litigation/patent_cases.csv','wb') as f2:\n",
    "    reader = csv.reader(f)\n",
    "    writer = csv.writer(f2)\n",
    "    \n",
    "    header = reader.next()\n",
    "    writer.writerow(header)\n",
    "    i = header.index('case_cause')\n",
    "    \n",
    "    for line in reader:   \n",
    "        if patent_regex.findall(line[i]):\n",
    "            writer.writerow(line)"
   ]
  }
 ],
 "metadata": {
  "kernelspec": {
   "display_name": "Python 2",
   "language": "python",
   "name": "python2"
  },
  "language_info": {
   "codemirror_mode": {
    "name": "ipython",
    "version": 2
   },
   "file_extension": ".py",
   "mimetype": "text/x-python",
   "name": "python",
   "nbconvert_exporter": "python",
   "pygments_lexer": "ipython2",
   "version": "2.7.13"
  }
 },
 "nbformat": 4,
 "nbformat_minor": 2
}
