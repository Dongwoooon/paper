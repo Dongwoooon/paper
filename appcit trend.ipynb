{
 "cells": [
  {
   "cell_type": "markdown",
   "metadata": {},
   "source": [
    "# 연도별, 산업별 app_cit trend 비교\n",
    "\n",
    "### 1. appcit(byfirm) / cit\n",
    "### cit \n",
    "- pat_class, pat_info join\n",
    "- groupby year sum\n",
    "\n",
    "### appcit\n",
    "- pat_class, app_citation join\n",
    "- groupby year count\n",
    "\n",
    "### concatenate 후 마무리\n",
    "\n",
    "### 2. appcit(byfirm) / appcit\n",
    "### appcit(byfirm) / cit\n",
    "- 위에서 구함\n",
    "\n",
    "### appcit / cit\n",
    "- 코드에 byfirm 대신 appcit 집어넣으면 됨\n",
    "\n",
    "### appcit(byfirm)/cit  * cit / appcit 으로 마무리"
   ]
  },
  {
   "cell_type": "markdown",
   "metadata": {},
   "source": [
    "__1. total cit__"
   ]
  },
  {
   "cell_type": "code",
   "execution_count": 46,
   "metadata": {
    "collapsed": true
   },
   "outputs": [],
   "source": [
    "import os\n",
    "import pandas as pd\n",
    "import numpy as np\n",
    "\n",
    "os.chdir('E:/apps/db_table')"
   ]
  },
  {
   "cell_type": "code",
   "execution_count": 65,
   "metadata": {
    "collapsed": true
   },
   "outputs": [],
   "source": [
    "bio = pd.read_csv('patent_class_BIO.csv')\n",
    "ee = pd.read_csv('patent_class_EE&IT.csv')\n",
    "\n",
    "bio = bio.loc[bio['nber']==32,:]\n",
    "bio = bio.loc[:,['patent_id','year']]\n",
    "\n",
    "ee = ee.loc[ee['nber']==25,:]\n",
    "ee = ee.loc[:,['patent_id','year']]\n",
    "\n",
    "df = pd.read_csv('patent_info.csv')\n",
    "df = df.loc[:,['patent_id','num_us_citations']]\n",
    "\n",
    "bio = bio.merge(df,how='left',on='patent_id')\n",
    "ee = ee.merge(df,how='left',on='patent_id')"
   ]
  },
  {
   "cell_type": "code",
   "execution_count": 66,
   "metadata": {
    "collapsed": true
   },
   "outputs": [],
   "source": [
    "bio.drop('patent_id',axis=1,inplace=True)\n",
    "ee.drop('patent_id',axis=1,inplace=True)\n",
    "\n",
    "bio = bio.groupby('year',as_index=False).agg(['count','sum'])\n",
    "ee = ee.groupby('year',as_index=False).agg(['count','sum'])"
   ]
  },
  {
   "cell_type": "code",
   "execution_count": 67,
   "metadata": {
    "collapsed": true
   },
   "outputs": [],
   "source": [
    "bio_cit = bio\n",
    "ee_cit = ee"
   ]
  },
  {
   "cell_type": "code",
   "execution_count": 68,
   "metadata": {
    "collapsed": true,
    "scrolled": false
   },
   "outputs": [],
   "source": [
    "bio_cit.columns = bio_cit.columns.droplevel(0)\n",
    "bio_cit.reset_index(inplace=True)\n",
    "\n",
    "ee_cit.columns = ee_cit.columns.droplevel(0)\n",
    "ee_cit.reset_index(inplace=True)"
   ]
  },
  {
   "cell_type": "markdown",
   "metadata": {},
   "source": [
    "__2.appcit (byfirm)__"
   ]
  },
  {
   "cell_type": "code",
   "execution_count": 69,
   "metadata": {
    "collapsed": true
   },
   "outputs": [],
   "source": [
    "bio = pd.read_csv('patent_class_BIO.csv')\n",
    "ee = pd.read_csv('patent_class_EE&IT.csv')\n",
    "\n",
    "bio = bio.loc[bio['nber']==32,:]\n",
    "bio = bio.loc[:,['patent_id','year']]\n",
    "\n",
    "ee = ee.loc[ee['nber']==25,:]\n",
    "ee = ee.loc[:,['patent_id','year']]\n",
    "\n",
    "df = pd.read_csv('app_citation_byfirm.csv')"
   ]
  },
  {
   "cell_type": "code",
   "execution_count": 70,
   "metadata": {},
   "outputs": [
    {
     "data": {
      "text/plain": [
       "(47522, 43911)"
      ]
     },
     "execution_count": 70,
     "metadata": {},
     "output_type": "execute_result"
    }
   ],
   "source": [
    "len(bio), len(ee)"
   ]
  },
  {
   "cell_type": "code",
   "execution_count": 71,
   "metadata": {},
   "outputs": [
    {
     "data": {
      "text/plain": [
       "(651011, 322047)"
      ]
     },
     "execution_count": 71,
     "metadata": {},
     "output_type": "execute_result"
    }
   ],
   "source": [
    "bio = bio.merge(df,how='left',on='patent_id')\n",
    "ee = ee.merge(df,how='left',on='patent_id')\n",
    "\n",
    "len(bio), len(ee)"
   ]
  },
  {
   "cell_type": "code",
   "execution_count": 72,
   "metadata": {},
   "outputs": [
    {
     "data": {
      "text/plain": [
       "(629987, 297874)"
      ]
     },
     "execution_count": 72,
     "metadata": {},
     "output_type": "execute_result"
    }
   ],
   "source": [
    "bio.dropna(how='any',inplace=True)\n",
    "ee.dropna(how='any',inplace=True)\n",
    "\n",
    "len(bio), len(ee)"
   ]
  },
  {
   "cell_type": "code",
   "execution_count": 73,
   "metadata": {
    "collapsed": true
   },
   "outputs": [],
   "source": [
    "bio.drop('patent_id',axis=1,inplace=True)\n",
    "ee.drop('patent_id',axis=1,inplace=True)\n",
    "\n",
    "bio = bio.groupby('year',as_index=False).count()\n",
    "ee = ee.groupby('year',as_index=False).count()\n",
    "\n",
    "bio = bio.merge(bio_cit,on='year')\n",
    "ee = ee.merge(ee_cit,on='year')"
   ]
  },
  {
   "cell_type": "code",
   "execution_count": 74,
   "metadata": {
    "collapsed": true
   },
   "outputs": [],
   "source": [
    "bio['ratio'] = bio['number'] / bio['sum']\n",
    "ee['ratio'] = ee['number'] / ee['sum']\n",
    "\n",
    "bio_bf = bio\n",
    "ee_bf = ee"
   ]
  },
  {
   "cell_type": "markdown",
   "metadata": {},
   "source": [
    "__3. appcit (total)__"
   ]
  },
  {
   "cell_type": "code",
   "execution_count": 75,
   "metadata": {},
   "outputs": [
    {
     "data": {
      "text/plain": [
       "(47522, 43911)"
      ]
     },
     "execution_count": 75,
     "metadata": {},
     "output_type": "execute_result"
    }
   ],
   "source": [
    "bio = pd.read_csv('patent_class_BIO.csv')\n",
    "ee = pd.read_csv('patent_class_EE&IT.csv')\n",
    "\n",
    "bio = bio.loc[bio['nber']==32,:]\n",
    "bio = bio.loc[:,['patent_id','year']]\n",
    "\n",
    "ee = ee.loc[ee['nber']==25,:]\n",
    "ee = ee.loc[:,['patent_id','year']]\n",
    "\n",
    "df = pd.read_csv('app_citation.csv')\n",
    "df.drop('by_examiner',axis=1,inplace=True)\n",
    "len(bio), len(ee)"
   ]
  },
  {
   "cell_type": "code",
   "execution_count": 76,
   "metadata": {},
   "outputs": [
    {
     "data": {
      "text/plain": [
       "(707824, 443599)"
      ]
     },
     "execution_count": 76,
     "metadata": {},
     "output_type": "execute_result"
    }
   ],
   "source": [
    "bio = bio.merge(df,how='left',on='patent_id')\n",
    "ee = ee.merge(df,how='left',on='patent_id')\n",
    "\n",
    "len(bio), len(ee)"
   ]
  },
  {
   "cell_type": "code",
   "execution_count": 77,
   "metadata": {
    "collapsed": true
   },
   "outputs": [],
   "source": [
    "bio.drop('patent_id',axis=1,inplace=True)\n",
    "ee.drop('patent_id',axis=1,inplace=True)\n",
    "\n",
    "bio = bio.groupby('year',as_index=False).count()\n",
    "ee = ee.groupby('year',as_index=False).count()\n",
    "\n",
    "bio = bio.merge(bio_cit,on='year')\n",
    "ee = ee.merge(ee_cit,on='year')"
   ]
  },
  {
   "cell_type": "code",
   "execution_count": 78,
   "metadata": {},
   "outputs": [
    {
     "data": {
      "text/html": [
       "<div>\n",
       "<style>\n",
       "    .dataframe thead tr:only-child th {\n",
       "        text-align: right;\n",
       "    }\n",
       "\n",
       "    .dataframe thead th {\n",
       "        text-align: left;\n",
       "    }\n",
       "\n",
       "    .dataframe tbody tr th {\n",
       "        vertical-align: top;\n",
       "    }\n",
       "</style>\n",
       "<table border=\"1\" class=\"dataframe\">\n",
       "  <thead>\n",
       "    <tr style=\"text-align: right;\">\n",
       "      <th></th>\n",
       "      <th>year</th>\n",
       "      <th>number</th>\n",
       "      <th>count</th>\n",
       "      <th>sum</th>\n",
       "      <th>ratio_t</th>\n",
       "    </tr>\n",
       "  </thead>\n",
       "  <tbody>\n",
       "    <tr>\n",
       "      <th>0</th>\n",
       "      <td>2005</td>\n",
       "      <td>5757</td>\n",
       "      <td>4109</td>\n",
       "      <td>140656.0</td>\n",
       "      <td>0.040930</td>\n",
       "    </tr>\n",
       "    <tr>\n",
       "      <th>1</th>\n",
       "      <td>2006</td>\n",
       "      <td>13178</td>\n",
       "      <td>4731</td>\n",
       "      <td>197627.0</td>\n",
       "      <td>0.066681</td>\n",
       "    </tr>\n",
       "    <tr>\n",
       "      <th>2</th>\n",
       "      <td>2007</td>\n",
       "      <td>24477</td>\n",
       "      <td>4263</td>\n",
       "      <td>210377.0</td>\n",
       "      <td>0.116348</td>\n",
       "    </tr>\n",
       "    <tr>\n",
       "      <th>3</th>\n",
       "      <td>2008</td>\n",
       "      <td>25182</td>\n",
       "      <td>3599</td>\n",
       "      <td>184696.0</td>\n",
       "      <td>0.136343</td>\n",
       "    </tr>\n",
       "    <tr>\n",
       "      <th>4</th>\n",
       "      <td>2009</td>\n",
       "      <td>47865</td>\n",
       "      <td>4394</td>\n",
       "      <td>285199.0</td>\n",
       "      <td>0.167830</td>\n",
       "    </tr>\n",
       "    <tr>\n",
       "      <th>5</th>\n",
       "      <td>2010</td>\n",
       "      <td>120190</td>\n",
       "      <td>7536</td>\n",
       "      <td>580300.0</td>\n",
       "      <td>0.207117</td>\n",
       "    </tr>\n",
       "    <tr>\n",
       "      <th>6</th>\n",
       "      <td>2011</td>\n",
       "      <td>187149</td>\n",
       "      <td>8420</td>\n",
       "      <td>766736.0</td>\n",
       "      <td>0.244085</td>\n",
       "    </tr>\n",
       "    <tr>\n",
       "      <th>7</th>\n",
       "      <td>2012</td>\n",
       "      <td>270922</td>\n",
       "      <td>10446</td>\n",
       "      <td>986501.0</td>\n",
       "      <td>0.274629</td>\n",
       "    </tr>\n",
       "  </tbody>\n",
       "</table>\n",
       "</div>"
      ],
      "text/plain": [
       "   year  number  count       sum   ratio_t\n",
       "0  2005    5757   4109  140656.0  0.040930\n",
       "1  2006   13178   4731  197627.0  0.066681\n",
       "2  2007   24477   4263  210377.0  0.116348\n",
       "3  2008   25182   3599  184696.0  0.136343\n",
       "4  2009   47865   4394  285199.0  0.167830\n",
       "5  2010  120190   7536  580300.0  0.207117\n",
       "6  2011  187149   8420  766736.0  0.244085\n",
       "7  2012  270922  10446  986501.0  0.274629"
      ]
     },
     "execution_count": 78,
     "metadata": {},
     "output_type": "execute_result"
    }
   ],
   "source": [
    "bio['ratio_t'] = bio['number'] / bio['sum']\n",
    "ee['ratio_t'] = ee['number'] / ee['sum']"
   ]
  },
  {
   "cell_type": "code",
   "execution_count": 80,
   "metadata": {},
   "outputs": [
    {
     "data": {
      "text/html": [
       "<div>\n",
       "<style>\n",
       "    .dataframe thead tr:only-child th {\n",
       "        text-align: right;\n",
       "    }\n",
       "\n",
       "    .dataframe thead th {\n",
       "        text-align: left;\n",
       "    }\n",
       "\n",
       "    .dataframe tbody tr th {\n",
       "        vertical-align: top;\n",
       "    }\n",
       "</style>\n",
       "<table border=\"1\" class=\"dataframe\">\n",
       "  <thead>\n",
       "    <tr style=\"text-align: right;\">\n",
       "      <th></th>\n",
       "      <th>year</th>\n",
       "      <th>number</th>\n",
       "      <th>count</th>\n",
       "      <th>sum</th>\n",
       "      <th>ratio_t</th>\n",
       "      <th>ratio_bf</th>\n",
       "      <th>ratio_bf/t</th>\n",
       "    </tr>\n",
       "  </thead>\n",
       "  <tbody>\n",
       "    <tr>\n",
       "      <th>0</th>\n",
       "      <td>2005</td>\n",
       "      <td>5757</td>\n",
       "      <td>4109</td>\n",
       "      <td>140656.0</td>\n",
       "      <td>0.040930</td>\n",
       "      <td>0.032640</td>\n",
       "      <td>0.797464</td>\n",
       "    </tr>\n",
       "    <tr>\n",
       "      <th>1</th>\n",
       "      <td>2006</td>\n",
       "      <td>13178</td>\n",
       "      <td>4731</td>\n",
       "      <td>197627.0</td>\n",
       "      <td>0.066681</td>\n",
       "      <td>0.055519</td>\n",
       "      <td>0.832600</td>\n",
       "    </tr>\n",
       "    <tr>\n",
       "      <th>2</th>\n",
       "      <td>2007</td>\n",
       "      <td>24477</td>\n",
       "      <td>4263</td>\n",
       "      <td>210377.0</td>\n",
       "      <td>0.116348</td>\n",
       "      <td>0.101147</td>\n",
       "      <td>0.869347</td>\n",
       "    </tr>\n",
       "    <tr>\n",
       "      <th>3</th>\n",
       "      <td>2008</td>\n",
       "      <td>25182</td>\n",
       "      <td>3599</td>\n",
       "      <td>184696.0</td>\n",
       "      <td>0.136343</td>\n",
       "      <td>0.118595</td>\n",
       "      <td>0.869828</td>\n",
       "    </tr>\n",
       "    <tr>\n",
       "      <th>4</th>\n",
       "      <td>2009</td>\n",
       "      <td>47865</td>\n",
       "      <td>4394</td>\n",
       "      <td>285199.0</td>\n",
       "      <td>0.167830</td>\n",
       "      <td>0.147595</td>\n",
       "      <td>0.879432</td>\n",
       "    </tr>\n",
       "    <tr>\n",
       "      <th>5</th>\n",
       "      <td>2010</td>\n",
       "      <td>120190</td>\n",
       "      <td>7536</td>\n",
       "      <td>580300.0</td>\n",
       "      <td>0.207117</td>\n",
       "      <td>0.185066</td>\n",
       "      <td>0.893535</td>\n",
       "    </tr>\n",
       "    <tr>\n",
       "      <th>6</th>\n",
       "      <td>2011</td>\n",
       "      <td>187149</td>\n",
       "      <td>8420</td>\n",
       "      <td>766736.0</td>\n",
       "      <td>0.244085</td>\n",
       "      <td>0.223902</td>\n",
       "      <td>0.917312</td>\n",
       "    </tr>\n",
       "    <tr>\n",
       "      <th>7</th>\n",
       "      <td>2012</td>\n",
       "      <td>270922</td>\n",
       "      <td>10446</td>\n",
       "      <td>986501.0</td>\n",
       "      <td>0.274629</td>\n",
       "      <td>0.253501</td>\n",
       "      <td>0.923066</td>\n",
       "    </tr>\n",
       "  </tbody>\n",
       "</table>\n",
       "</div>"
      ],
      "text/plain": [
       "   year  number  count       sum   ratio_t  ratio_bf  ratio_bf/t\n",
       "0  2005    5757   4109  140656.0  0.040930  0.032640    0.797464\n",
       "1  2006   13178   4731  197627.0  0.066681  0.055519    0.832600\n",
       "2  2007   24477   4263  210377.0  0.116348  0.101147    0.869347\n",
       "3  2008   25182   3599  184696.0  0.136343  0.118595    0.869828\n",
       "4  2009   47865   4394  285199.0  0.167830  0.147595    0.879432\n",
       "5  2010  120190   7536  580300.0  0.207117  0.185066    0.893535\n",
       "6  2011  187149   8420  766736.0  0.244085  0.223902    0.917312\n",
       "7  2012  270922  10446  986501.0  0.274629  0.253501    0.923066"
      ]
     },
     "execution_count": 80,
     "metadata": {},
     "output_type": "execute_result"
    }
   ],
   "source": [
    "bio['ratio_bf'] = bio_bf['ratio']\n",
    "bio['ratio_bf/t'] = bio['ratio_bf'] / bio['ratio_t']\n",
    "bio"
   ]
  },
  {
   "cell_type": "code",
   "execution_count": 81,
   "metadata": {
    "scrolled": true
   },
   "outputs": [
    {
     "data": {
      "text/html": [
       "<div>\n",
       "<style>\n",
       "    .dataframe thead tr:only-child th {\n",
       "        text-align: right;\n",
       "    }\n",
       "\n",
       "    .dataframe thead th {\n",
       "        text-align: left;\n",
       "    }\n",
       "\n",
       "    .dataframe tbody tr th {\n",
       "        vertical-align: top;\n",
       "    }\n",
       "</style>\n",
       "<table border=\"1\" class=\"dataframe\">\n",
       "  <thead>\n",
       "    <tr style=\"text-align: right;\">\n",
       "      <th></th>\n",
       "      <th>year</th>\n",
       "      <th>number</th>\n",
       "      <th>count</th>\n",
       "      <th>sum</th>\n",
       "      <th>ratio_t</th>\n",
       "      <th>ratio_bf</th>\n",
       "      <th>ratio_bf/t</th>\n",
       "    </tr>\n",
       "  </thead>\n",
       "  <tbody>\n",
       "    <tr>\n",
       "      <th>0</th>\n",
       "      <td>2005</td>\n",
       "      <td>1611</td>\n",
       "      <td>2158</td>\n",
       "      <td>39600.0</td>\n",
       "      <td>0.040682</td>\n",
       "      <td>0.014091</td>\n",
       "      <td>0.346369</td>\n",
       "    </tr>\n",
       "    <tr>\n",
       "      <th>1</th>\n",
       "      <td>2006</td>\n",
       "      <td>7161</td>\n",
       "      <td>3575</td>\n",
       "      <td>79299.0</td>\n",
       "      <td>0.090304</td>\n",
       "      <td>0.045486</td>\n",
       "      <td>0.503701</td>\n",
       "    </tr>\n",
       "    <tr>\n",
       "      <th>2</th>\n",
       "      <td>2007</td>\n",
       "      <td>10931</td>\n",
       "      <td>3116</td>\n",
       "      <td>80657.0</td>\n",
       "      <td>0.135525</td>\n",
       "      <td>0.072281</td>\n",
       "      <td>0.533346</td>\n",
       "    </tr>\n",
       "    <tr>\n",
       "      <th>3</th>\n",
       "      <td>2008</td>\n",
       "      <td>19441</td>\n",
       "      <td>3935</td>\n",
       "      <td>103089.0</td>\n",
       "      <td>0.188585</td>\n",
       "      <td>0.107063</td>\n",
       "      <td>0.567718</td>\n",
       "    </tr>\n",
       "    <tr>\n",
       "      <th>4</th>\n",
       "      <td>2009</td>\n",
       "      <td>37376</td>\n",
       "      <td>4812</td>\n",
       "      <td>148322.0</td>\n",
       "      <td>0.251992</td>\n",
       "      <td>0.162929</td>\n",
       "      <td>0.646565</td>\n",
       "    </tr>\n",
       "    <tr>\n",
       "      <th>5</th>\n",
       "      <td>2010</td>\n",
       "      <td>86206</td>\n",
       "      <td>7759</td>\n",
       "      <td>313354.0</td>\n",
       "      <td>0.275107</td>\n",
       "      <td>0.189380</td>\n",
       "      <td>0.688386</td>\n",
       "    </tr>\n",
       "    <tr>\n",
       "      <th>6</th>\n",
       "      <td>2011</td>\n",
       "      <td>113188</td>\n",
       "      <td>8122</td>\n",
       "      <td>332545.0</td>\n",
       "      <td>0.340369</td>\n",
       "      <td>0.247401</td>\n",
       "      <td>0.726862</td>\n",
       "    </tr>\n",
       "    <tr>\n",
       "      <th>7</th>\n",
       "      <td>2012</td>\n",
       "      <td>158338</td>\n",
       "      <td>10385</td>\n",
       "      <td>386279.0</td>\n",
       "      <td>0.409906</td>\n",
       "      <td>0.287515</td>\n",
       "      <td>0.701417</td>\n",
       "    </tr>\n",
       "  </tbody>\n",
       "</table>\n",
       "</div>"
      ],
      "text/plain": [
       "   year  number  count       sum   ratio_t  ratio_bf  ratio_bf/t\n",
       "0  2005    1611   2158   39600.0  0.040682  0.014091    0.346369\n",
       "1  2006    7161   3575   79299.0  0.090304  0.045486    0.503701\n",
       "2  2007   10931   3116   80657.0  0.135525  0.072281    0.533346\n",
       "3  2008   19441   3935  103089.0  0.188585  0.107063    0.567718\n",
       "4  2009   37376   4812  148322.0  0.251992  0.162929    0.646565\n",
       "5  2010   86206   7759  313354.0  0.275107  0.189380    0.688386\n",
       "6  2011  113188   8122  332545.0  0.340369  0.247401    0.726862\n",
       "7  2012  158338  10385  386279.0  0.409906  0.287515    0.701417"
      ]
     },
     "execution_count": 81,
     "metadata": {},
     "output_type": "execute_result"
    }
   ],
   "source": [
    "ee['ratio_bf'] = ee_bf['ratio']\n",
    "ee['ratio_bf/t'] = ee['ratio_bf'] / ee['ratio_t']\n",
    "ee"
   ]
  },
  {
   "cell_type": "code",
   "execution_count": 45,
   "metadata": {
    "collapsed": true
   },
   "outputs": [],
   "source": [
    "bio.to_csv('appcit_trend_drug.csv',index=False)\n",
    "ee.to_csv('appcit_trend_infosto.csv',index=False)"
   ]
  },
  {
   "cell_type": "code",
   "execution_count": 82,
   "metadata": {
    "collapsed": true
   },
   "outputs": [],
   "source": [
    "ee.to_csv('appcit_trend_ebiz.csv',index=False)"
   ]
  }
 ],
 "metadata": {
  "kernelspec": {
   "display_name": "Python 2",
   "language": "python",
   "name": "python2"
  },
  "language_info": {
   "codemirror_mode": {
    "name": "ipython",
    "version": 2
   },
   "file_extension": ".py",
   "mimetype": "text/x-python",
   "name": "python",
   "nbconvert_exporter": "python",
   "pygments_lexer": "ipython2",
   "version": "2.7.13"
  }
 },
 "nbformat": 4,
 "nbformat_minor": 2
}
