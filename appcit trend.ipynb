{
 "cells": [
  {
   "cell_type": "markdown",
   "metadata": {},
   "source": [
    "# 연도별, 산업별 app_cit trend 비교\n",
    "\n",
    "### 1. appcit(byfirm) / cit\n",
    "### cit \n",
    "- pat_class, pat_info join\n",
    "- groupby year sum\n",
    "\n",
    "### appcit\n",
    "- pat_class, app_citation join\n",
    "- groupby year count\n",
    "\n",
    "### concatenate 후 마무리\n",
    "\n",
    "### 2. appcit(byfirm) / appcit\n",
    "### appcit(byfirm) / cit\n",
    "- 위에서 구함\n",
    "\n",
    "### appcit / cit\n",
    "- 코드에 byfirm 대신 appcit 집어넣으면 됨\n",
    "\n",
    "### appcit(byfirm)/cit  * cit / appcit 으로 마무리"
   ]
  },
  {
   "cell_type": "markdown",
   "metadata": {},
   "source": [
    "__1. total cit__"
   ]
  },
  {
   "cell_type": "code",
   "execution_count": 1,
   "metadata": {
    "collapsed": true
   },
   "outputs": [],
   "source": [
    "import os\n",
    "import pandas as pd\n",
    "import numpy as np\n",
    "\n",
    "os.chdir('E:/apps/db_table')"
   ]
  },
  {
   "cell_type": "code",
   "execution_count": 65,
   "metadata": {
    "collapsed": true
   },
   "outputs": [],
   "source": [
    "bio = pd.read_csv('patent_class_BIO.csv')\n",
    "ee = pd.read_csv('patent_class_EE&IT.csv')\n",
    "\n",
    "bio = bio.loc[bio['nber']==32,:]\n",
    "bio = bio.loc[:,['patent_id','year']]\n",
    "\n",
    "ee = ee.loc[ee['nber']==25,:]\n",
    "ee = ee.loc[:,['patent_id','year']]\n",
    "\n",
    "df = pd.read_csv('patent_info.csv')\n",
    "df = df.loc[:,['patent_id','num_us_citations']]\n",
    "\n",
    "bio = bio.merge(df,how='left',on='patent_id')\n",
    "ee = ee.merge(df,how='left',on='patent_id')"
   ]
  },
  {
   "cell_type": "code",
   "execution_count": 3,
   "metadata": {
    "collapsed": true
   },
   "outputs": [],
   "source": [
    "bio.drop('patent_id',axis=1,inplace=True)\n",
    "ee.drop('patent_id',axis=1,inplace=True)\n",
    "\n",
    "bio = bio.groupby('year',as_index=False).agg(['count','sum'])\n",
    "ee = ee.groupby('year',as_index=False).agg(['count','sum'])"
   ]
  },
  {
   "cell_type": "code",
   "execution_count": 4,
   "metadata": {
    "collapsed": true
   },
   "outputs": [],
   "source": [
    "bio_cit = bio\n",
    "ee_cit = ee"
   ]
  },
  {
   "cell_type": "code",
   "execution_count": 5,
   "metadata": {
    "collapsed": true,
    "scrolled": false
   },
   "outputs": [],
   "source": [
    "bio_cit.columns = bio_cit.columns.droplevel(0)\n",
    "bio_cit.reset_index(inplace=True)\n",
    "\n",
    "ee_cit.columns = ee_cit.columns.droplevel(0)\n",
    "ee_cit.reset_index(inplace=True)"
   ]
  },
  {
   "cell_type": "markdown",
   "metadata": {},
   "source": [
    "__2.appcit (byfirm)__"
   ]
  },
  {
   "cell_type": "code",
   "execution_count": 69,
   "metadata": {
    "collapsed": true
   },
   "outputs": [],
   "source": [
    "bio = pd.read_csv('patent_class_BIO.csv')\n",
    "ee = pd.read_csv('patent_class_EE&IT.csv')\n",
    "\n",
    "bio = bio.loc[bio['nber']==32,:]\n",
    "bio = bio.loc[:,['patent_id','year']]\n",
    "\n",
    "ee = ee.loc[ee['nber']==25,:]\n",
    "ee = ee.loc[:,['patent_id','year']]\n",
    "\n",
    "df = pd.read_csv('app_citation_byfirm.csv')"
   ]
  },
  {
   "cell_type": "code",
   "execution_count": 7,
   "metadata": {},
   "outputs": [
    {
     "data": {
      "text/plain": [
       "(139224, 850774)"
      ]
     },
     "execution_count": 7,
     "metadata": {},
     "output_type": "execute_result"
    }
   ],
   "source": [
    "len(bio), len(ee)"
   ]
  },
  {
   "cell_type": "code",
   "execution_count": 8,
   "metadata": {},
   "outputs": [
    {
     "data": {
      "text/plain": [
       "(1135343, 3200986)"
      ]
     },
     "execution_count": 8,
     "metadata": {},
     "output_type": "execute_result"
    }
   ],
   "source": [
    "bio = bio.merge(df,how='left',on='patent_id')\n",
    "ee = ee.merge(df,how='left',on='patent_id')\n",
    "\n",
    "len(bio), len(ee)"
   ]
  },
  {
   "cell_type": "code",
   "execution_count": 9,
   "metadata": {},
   "outputs": [
    {
     "data": {
      "text/plain": [
       "(1061284, 2680241)"
      ]
     },
     "execution_count": 9,
     "metadata": {},
     "output_type": "execute_result"
    }
   ],
   "source": [
    "bio.dropna(how='any',inplace=True)\n",
    "ee.dropna(how='any',inplace=True)\n",
    "\n",
    "len(bio), len(ee)"
   ]
  },
  {
   "cell_type": "code",
   "execution_count": 10,
   "metadata": {
    "collapsed": true
   },
   "outputs": [],
   "source": [
    "bio.drop('patent_id',axis=1,inplace=True)\n",
    "ee.drop('patent_id',axis=1,inplace=True)\n",
    "\n",
    "bio = bio.groupby('year',as_index=False).count()\n",
    "ee = ee.groupby('year',as_index=False).count()\n",
    "\n",
    "bio = bio.merge(bio_cit,on='year')\n",
    "ee = ee.merge(ee_cit,on='year')"
   ]
  },
  {
   "cell_type": "code",
   "execution_count": 11,
   "metadata": {
    "collapsed": true
   },
   "outputs": [],
   "source": [
    "bio['ratio'] = bio['number'] / bio['sum']\n",
    "ee['ratio'] = ee['number'] / ee['sum']\n",
    "\n",
    "bio_bf = bio\n",
    "ee_bf = ee"
   ]
  },
  {
   "cell_type": "markdown",
   "metadata": {},
   "source": [
    "__3. appcit (total)__"
   ]
  },
  {
   "cell_type": "code",
   "execution_count": 75,
   "metadata": {},
   "outputs": [
    {
     "data": {
      "text/plain": [
       "(47522, 43911)"
      ]
     },
     "execution_count": 75,
     "metadata": {},
     "output_type": "execute_result"
    }
   ],
   "source": [
    "bio = pd.read_csv('patent_class_BIO.csv')\n",
    "ee = pd.read_csv('patent_class_EE&IT.csv')\n",
    "\n",
    "bio = bio.loc[bio['nber']==32,:]\n",
    "bio = bio.loc[:,['patent_id','year']]\n",
    "\n",
    "ee = ee.loc[ee['nber']==25,:]\n",
    "ee = ee.loc[:,['patent_id','year']]\n",
    "\n",
    "df = pd.read_csv('app_citation.csv')\n",
    "df.drop('by_examiner',axis=1,inplace=True)\n",
    "len(bio), len(ee)"
   ]
  },
  {
   "cell_type": "code",
   "execution_count": 13,
   "metadata": {},
   "outputs": [
    {
     "data": {
      "text/plain": [
       "(1233406, 4601174)"
      ]
     },
     "execution_count": 13,
     "metadata": {},
     "output_type": "execute_result"
    }
   ],
   "source": [
    "bio = bio.merge(df,how='left',on='patent_id')\n",
    "ee = ee.merge(df,how='left',on='patent_id')\n",
    "\n",
    "len(bio), len(ee)"
   ]
  },
  {
   "cell_type": "code",
   "execution_count": 14,
   "metadata": {
    "collapsed": true
   },
   "outputs": [],
   "source": [
    "bio.drop('patent_id',axis=1,inplace=True)\n",
    "ee.drop('patent_id',axis=1,inplace=True)\n",
    "\n",
    "bio = bio.groupby('year',as_index=False).count()\n",
    "ee = ee.groupby('year',as_index=False).count()\n",
    "\n",
    "bio = bio.merge(bio_cit,on='year')\n",
    "ee = ee.merge(ee_cit,on='year')"
   ]
  },
  {
   "cell_type": "code",
   "execution_count": 15,
   "metadata": {},
   "outputs": [],
   "source": [
    "bio['ratio_t'] = bio['number'] / bio['sum']\n",
    "ee['ratio_t'] = ee['number'] / ee['sum']"
   ]
  },
  {
   "cell_type": "code",
   "execution_count": 16,
   "metadata": {},
   "outputs": [
    {
     "data": {
      "text/html": [
       "<div>\n",
       "<style>\n",
       "    .dataframe thead tr:only-child th {\n",
       "        text-align: right;\n",
       "    }\n",
       "\n",
       "    .dataframe thead th {\n",
       "        text-align: left;\n",
       "    }\n",
       "\n",
       "    .dataframe tbody tr th {\n",
       "        vertical-align: top;\n",
       "    }\n",
       "</style>\n",
       "<table border=\"1\" class=\"dataframe\">\n",
       "  <thead>\n",
       "    <tr style=\"text-align: right;\">\n",
       "      <th></th>\n",
       "      <th>year</th>\n",
       "      <th>number</th>\n",
       "      <th>count</th>\n",
       "      <th>sum</th>\n",
       "      <th>ratio_t</th>\n",
       "      <th>ratio_bf</th>\n",
       "      <th>ratio_bf/t</th>\n",
       "    </tr>\n",
       "  </thead>\n",
       "  <tbody>\n",
       "    <tr>\n",
       "      <th>0</th>\n",
       "      <td>2005</td>\n",
       "      <td>11625</td>\n",
       "      <td>12410</td>\n",
       "      <td>253299.0</td>\n",
       "      <td>0.045894</td>\n",
       "      <td>0.036127</td>\n",
       "      <td>0.787183</td>\n",
       "    </tr>\n",
       "    <tr>\n",
       "      <th>1</th>\n",
       "      <td>2006</td>\n",
       "      <td>30251</td>\n",
       "      <td>15226</td>\n",
       "      <td>364780.0</td>\n",
       "      <td>0.082929</td>\n",
       "      <td>0.069626</td>\n",
       "      <td>0.839576</td>\n",
       "    </tr>\n",
       "    <tr>\n",
       "      <th>2</th>\n",
       "      <td>2007</td>\n",
       "      <td>45461</td>\n",
       "      <td>14137</td>\n",
       "      <td>367385.0</td>\n",
       "      <td>0.123742</td>\n",
       "      <td>0.105617</td>\n",
       "      <td>0.853523</td>\n",
       "    </tr>\n",
       "    <tr>\n",
       "      <th>3</th>\n",
       "      <td>2008</td>\n",
       "      <td>52691</td>\n",
       "      <td>12744</td>\n",
       "      <td>346889.0</td>\n",
       "      <td>0.151896</td>\n",
       "      <td>0.131434</td>\n",
       "      <td>0.865290</td>\n",
       "    </tr>\n",
       "    <tr>\n",
       "      <th>4</th>\n",
       "      <td>2009</td>\n",
       "      <td>94171</td>\n",
       "      <td>14311</td>\n",
       "      <td>498405.0</td>\n",
       "      <td>0.188945</td>\n",
       "      <td>0.166959</td>\n",
       "      <td>0.883637</td>\n",
       "    </tr>\n",
       "    <tr>\n",
       "      <th>5</th>\n",
       "      <td>2010</td>\n",
       "      <td>205720</td>\n",
       "      <td>21280</td>\n",
       "      <td>921051.0</td>\n",
       "      <td>0.223354</td>\n",
       "      <td>0.199728</td>\n",
       "      <td>0.894225</td>\n",
       "    </tr>\n",
       "    <tr>\n",
       "      <th>6</th>\n",
       "      <td>2011</td>\n",
       "      <td>314437</td>\n",
       "      <td>22457</td>\n",
       "      <td>1204623.0</td>\n",
       "      <td>0.261025</td>\n",
       "      <td>0.238111</td>\n",
       "      <td>0.912215</td>\n",
       "    </tr>\n",
       "    <tr>\n",
       "      <th>7</th>\n",
       "      <td>2012</td>\n",
       "      <td>423056</td>\n",
       "      <td>26605</td>\n",
       "      <td>1475889.0</td>\n",
       "      <td>0.286645</td>\n",
       "      <td>0.263118</td>\n",
       "      <td>0.917923</td>\n",
       "    </tr>\n",
       "  </tbody>\n",
       "</table>\n",
       "</div>"
      ],
      "text/plain": [
       "   year  number  count        sum   ratio_t  ratio_bf  ratio_bf/t\n",
       "0  2005   11625  12410   253299.0  0.045894  0.036127    0.787183\n",
       "1  2006   30251  15226   364780.0  0.082929  0.069626    0.839576\n",
       "2  2007   45461  14137   367385.0  0.123742  0.105617    0.853523\n",
       "3  2008   52691  12744   346889.0  0.151896  0.131434    0.865290\n",
       "4  2009   94171  14311   498405.0  0.188945  0.166959    0.883637\n",
       "5  2010  205720  21280   921051.0  0.223354  0.199728    0.894225\n",
       "6  2011  314437  22457  1204623.0  0.261025  0.238111    0.912215\n",
       "7  2012  423056  26605  1475889.0  0.286645  0.263118    0.917923"
      ]
     },
     "execution_count": 16,
     "metadata": {},
     "output_type": "execute_result"
    }
   ],
   "source": [
    "bio['ratio_bf'] = bio_bf['ratio']\n",
    "bio['ratio_bf/t'] = bio['ratio_bf'] / bio['ratio_t']\n",
    "bio"
   ]
  },
  {
   "cell_type": "code",
   "execution_count": 17,
   "metadata": {
    "scrolled": false
   },
   "outputs": [
    {
     "data": {
      "text/html": [
       "<div>\n",
       "<style>\n",
       "    .dataframe thead tr:only-child th {\n",
       "        text-align: right;\n",
       "    }\n",
       "\n",
       "    .dataframe thead th {\n",
       "        text-align: left;\n",
       "    }\n",
       "\n",
       "    .dataframe tbody tr th {\n",
       "        vertical-align: top;\n",
       "    }\n",
       "</style>\n",
       "<table border=\"1\" class=\"dataframe\">\n",
       "  <thead>\n",
       "    <tr style=\"text-align: right;\">\n",
       "      <th></th>\n",
       "      <th>year</th>\n",
       "      <th>number</th>\n",
       "      <th>count</th>\n",
       "      <th>sum</th>\n",
       "      <th>ratio_t</th>\n",
       "      <th>ratio_bf</th>\n",
       "      <th>ratio_bf/t</th>\n",
       "    </tr>\n",
       "  </thead>\n",
       "  <tbody>\n",
       "    <tr>\n",
       "      <th>0</th>\n",
       "      <td>2005</td>\n",
       "      <td>62336</td>\n",
       "      <td>73352</td>\n",
       "      <td>1017248.0</td>\n",
       "      <td>0.061279</td>\n",
       "      <td>0.027763</td>\n",
       "      <td>0.453061</td>\n",
       "    </tr>\n",
       "    <tr>\n",
       "      <th>1</th>\n",
       "      <td>2006</td>\n",
       "      <td>156069</td>\n",
       "      <td>95330</td>\n",
       "      <td>1519136.0</td>\n",
       "      <td>0.102735</td>\n",
       "      <td>0.050052</td>\n",
       "      <td>0.487195</td>\n",
       "    </tr>\n",
       "    <tr>\n",
       "      <th>2</th>\n",
       "      <td>2007</td>\n",
       "      <td>221426</td>\n",
       "      <td>86900</td>\n",
       "      <td>1486652.0</td>\n",
       "      <td>0.148943</td>\n",
       "      <td>0.078800</td>\n",
       "      <td>0.529062</td>\n",
       "    </tr>\n",
       "    <tr>\n",
       "      <th>3</th>\n",
       "      <td>2008</td>\n",
       "      <td>321787</td>\n",
       "      <td>91285</td>\n",
       "      <td>1665403.0</td>\n",
       "      <td>0.193219</td>\n",
       "      <td>0.108104</td>\n",
       "      <td>0.559488</td>\n",
       "    </tr>\n",
       "    <tr>\n",
       "      <th>4</th>\n",
       "      <td>2009</td>\n",
       "      <td>486697</td>\n",
       "      <td>99169</td>\n",
       "      <td>2012925.0</td>\n",
       "      <td>0.241786</td>\n",
       "      <td>0.143923</td>\n",
       "      <td>0.595249</td>\n",
       "    </tr>\n",
       "    <tr>\n",
       "      <th>5</th>\n",
       "      <td>2010</td>\n",
       "      <td>779628</td>\n",
       "      <td>126378</td>\n",
       "      <td>2787964.0</td>\n",
       "      <td>0.279641</td>\n",
       "      <td>0.170533</td>\n",
       "      <td>0.609828</td>\n",
       "    </tr>\n",
       "    <tr>\n",
       "      <th>6</th>\n",
       "      <td>2011</td>\n",
       "      <td>978976</td>\n",
       "      <td>129485</td>\n",
       "      <td>3114006.0</td>\n",
       "      <td>0.314378</td>\n",
       "      <td>0.202649</td>\n",
       "      <td>0.644602</td>\n",
       "    </tr>\n",
       "    <tr>\n",
       "      <th>7</th>\n",
       "      <td>2012</td>\n",
       "      <td>1346720</td>\n",
       "      <td>147757</td>\n",
       "      <td>3635715.0</td>\n",
       "      <td>0.370414</td>\n",
       "      <td>0.242754</td>\n",
       "      <td>0.655358</td>\n",
       "    </tr>\n",
       "  </tbody>\n",
       "</table>\n",
       "</div>"
      ],
      "text/plain": [
       "   year   number   count        sum   ratio_t  ratio_bf  ratio_bf/t\n",
       "0  2005    62336   73352  1017248.0  0.061279  0.027763    0.453061\n",
       "1  2006   156069   95330  1519136.0  0.102735  0.050052    0.487195\n",
       "2  2007   221426   86900  1486652.0  0.148943  0.078800    0.529062\n",
       "3  2008   321787   91285  1665403.0  0.193219  0.108104    0.559488\n",
       "4  2009   486697   99169  2012925.0  0.241786  0.143923    0.595249\n",
       "5  2010   779628  126378  2787964.0  0.279641  0.170533    0.609828\n",
       "6  2011   978976  129485  3114006.0  0.314378  0.202649    0.644602\n",
       "7  2012  1346720  147757  3635715.0  0.370414  0.242754    0.655358"
      ]
     },
     "execution_count": 17,
     "metadata": {},
     "output_type": "execute_result"
    }
   ],
   "source": [
    "ee['ratio_bf'] = ee_bf['ratio']\n",
    "ee['ratio_bf/t'] = ee['ratio_bf'] / ee['ratio_t']\n",
    "ee"
   ]
  },
  {
   "cell_type": "code",
   "execution_count": 18,
   "metadata": {
    "collapsed": true
   },
   "outputs": [],
   "source": [
    "bio.to_csv('appcit_trend_drug.csv',index=False)\n",
    "ee.to_csv('appcit_trend_infosto.csv',index=False)"
   ]
  },
  {
   "cell_type": "code",
   "execution_count": 82,
   "metadata": {
    "collapsed": true
   },
   "outputs": [],
   "source": [
    "ee.to_csv('appcit_trend_ebiz.csv',index=False)"
   ]
  }
 ],
 "metadata": {
  "kernelspec": {
   "display_name": "Python 2",
   "language": "python",
   "name": "python2"
  },
  "language_info": {
   "codemirror_mode": {
    "name": "ipython",
    "version": 2
   },
   "file_extension": ".py",
   "mimetype": "text/x-python",
   "name": "python",
   "nbconvert_exporter": "python",
   "pygments_lexer": "ipython2",
   "version": "2.7.13"
  }
 },
 "nbformat": 4,
 "nbformat_minor": 2
}
