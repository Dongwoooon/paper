{
 "cells": [
  {
   "cell_type": "markdown",
   "metadata": {},
   "source": [
    "# Compustat에서 필요한 firm-lv 변수 뽑기\n",
    "\n",
    "### 1. gvkey, year selection\n",
    "- app_cit에 있는 기업만 고르기\n",
    "\n",
    "### 2. 단순 변수 선택 & 제작\n",
    "- ROA (ebit / at)\n",
    "- 이익률 (ebit / revt)\n",
    "- R&D intensity (xrd / revt)\n",
    "\n",
    "### 3. market concentration\n",
    "- 이건 전체 compustat 데이터로 비교 필요\n",
    "- sic 코드 같은 애들 싹 다 모은 후 구하기"
   ]
  },
  {
   "cell_type": "markdown",
   "metadata": {},
   "source": [
    "### 1. selection"
   ]
  },
  {
   "cell_type": "code",
   "execution_count": 1,
   "metadata": {
    "collapsed": true
   },
   "outputs": [],
   "source": [
    "import pandas as pd\n",
    "import numpy as np\n",
    "import csv\n",
    "import os\n",
    "import math\n",
    "\n",
    "os.chdir('E:/apps')"
   ]
  },
  {
   "cell_type": "code",
   "execution_count": 2,
   "metadata": {},
   "outputs": [
    {
     "data": {
      "text/plain": [
       "(1445, 2665)"
      ]
     },
     "execution_count": 2,
     "metadata": {},
     "output_type": "execute_result"
    }
   ],
   "source": [
    "raw = pd.read_csv('db_table/compustat_05-12.csv')\n",
    "\n",
    "bio = pd.read_csv('appcit_bio.csv')\n",
    "bio = bio.rename(columns = {'year':'fyear'})\n",
    "bio.drop('app_cit', axis=1, inplace=True)\n",
    "\n",
    "ee = pd.read_csv('appcit_EE&IT.csv')\n",
    "ee = ee.rename(columns = {'year':'fyear'})\n",
    "ee.drop('app_cit', axis=1, inplace=True)\n",
    "\n",
    "len(bio), len(ee)"
   ]
  },
  {
   "cell_type": "code",
   "execution_count": 3,
   "metadata": {},
   "outputs": [
    {
     "data": {
      "text/plain": [
       "(1445, 2665)"
      ]
     },
     "execution_count": 3,
     "metadata": {},
     "output_type": "execute_result"
    }
   ],
   "source": [
    "bio = bio.merge(raw,how='left',on=['gvkey','fyear'])\n",
    "ee = ee.merge(raw,how='left',on=['gvkey','fyear'])\n",
    "\n",
    "len(bio), len(ee)"
   ]
  },
  {
   "cell_type": "code",
   "execution_count": 7,
   "metadata": {
    "collapsed": true
   },
   "outputs": [],
   "source": [
    "bio.to_csv('compu_bio.csv', index=False)\n",
    "ee.to_csv('compu_EE&IT.csv',index=False)"
   ]
  },
  {
   "cell_type": "markdown",
   "metadata": {},
   "source": [
    "### 2. simple feature 제작\n",
    "- ROA : ebit, at 없는 애들 못 구함\n",
    "- 이익률 : ebit, revt 없는 애들 못 구함\n",
    "- R&D intensity : xrd, revt 없는 애들 못 구함  \n",
    "=> dropna on [ebit, at, revt, (xrd)]"
   ]
  },
  {
   "cell_type": "markdown",
   "metadata": {},
   "source": [
    "__2.1 drop na__"
   ]
  },
  {
   "cell_type": "code",
   "execution_count": 4,
   "metadata": {
    "scrolled": true
   },
   "outputs": [
    {
     "data": {
      "text/plain": [
       "['gvkey',\n",
       " 'fyear',\n",
       " 'conm',\n",
       " 'consol',\n",
       " 'datadate',\n",
       " 'fic',\n",
       " 'curcd',\n",
       " 'act',\n",
       " 'at',\n",
       " 'ebit',\n",
       " 'emp',\n",
       " 'fatb',\n",
       " 'fate',\n",
       " 'fatl',\n",
       " 'fatp',\n",
       " 'fopo',\n",
       " 'fsrco',\n",
       " 'fsrcopo',\n",
       " 'fsrcopt',\n",
       " 'fsrct',\n",
       " 'fuseo',\n",
       " 'fuset',\n",
       " 'ppegt',\n",
       " 'ppent',\n",
       " 'revt',\n",
       " 'teq',\n",
       " 'xlr',\n",
       " 'xrd',\n",
       " 'xstfws',\n",
       " 'ni',\n",
       " 'sic']"
      ]
     },
     "execution_count": 4,
     "metadata": {},
     "output_type": "execute_result"
    }
   ],
   "source": [
    "list(bio)"
   ]
  },
  {
   "cell_type": "code",
   "execution_count": 5,
   "metadata": {},
   "outputs": [
    {
     "name": "stdout",
     "output_type": "stream",
     "text": [
      "11 21\n"
     ]
    }
   ],
   "source": [
    "colnm = list(bio)\n",
    "print colnm.index('fatb'), colnm.index('fuset')"
   ]
  },
  {
   "cell_type": "code",
   "execution_count": 6,
   "metadata": {
    "collapsed": true
   },
   "outputs": [],
   "source": [
    "bio.drop(colnm[11:22], axis=1, inplace=True)\n",
    "ee.drop(colnm[11:22], axis=1, inplace=True)"
   ]
  },
  {
   "cell_type": "code",
   "execution_count": 7,
   "metadata": {},
   "outputs": [
    {
     "name": "stdout",
     "output_type": "stream",
     "text": [
      "1445 1341 1300\n"
     ]
    }
   ],
   "source": [
    "bio1 = bio.dropna(axis=0, how='any',subset=['at','revt','ebit'])\n",
    "bio2 = bio.dropna(axis=0, how='any',subset=['at','revt','ebit','xrd'])\n",
    "\n",
    "print len(bio), len(bio1), len(bio2)"
   ]
  },
  {
   "cell_type": "code",
   "execution_count": 8,
   "metadata": {},
   "outputs": [
    {
     "name": "stdout",
     "output_type": "stream",
     "text": [
      "2665 2542 2411\n"
     ]
    }
   ],
   "source": [
    "ee1 = ee.dropna(axis=0, how='any',subset=['at','revt','ebit'])\n",
    "ee2 = ee.dropna(axis=0, how='any',subset=['at','revt','ebit','xrd'])\n",
    "\n",
    "print len(ee), len(ee1), len(ee2)"
   ]
  },
  {
   "cell_type": "code",
   "execution_count": 9,
   "metadata": {
    "collapsed": true
   },
   "outputs": [],
   "source": [
    "bio2.to_csv('compu_bio_na.csv', index=False)\n",
    "ee2.to_csv('compu_EE&IT_na.csv',index=False)"
   ]
  },
  {
   "cell_type": "markdown",
   "metadata": {},
   "source": [
    "__2.2 변수 제작__"
   ]
  },
  {
   "cell_type": "code",
   "execution_count": 2,
   "metadata": {},
   "outputs": [],
   "source": [
    "bio = pd.read_csv('compu_bio_na.csv')\n",
    "ee = pd.read_csv('compu_EE&IT_na.csv')\n",
    "\n",
    "bio['roa'] = bio['ebit'] / bio['at']\n",
    "bio['margin'] = bio['ebit'] / bio['revt']\n",
    "bio['rdi'] = bio['xrd'] / bio['revt']\n",
    "\n",
    "ee['roa'] = ee['ebit'] / ee['at']\n",
    "ee['margin'] = ee['ebit'] / ee['revt']\n",
    "ee['rdi'] = ee['xrd'] / ee['revt']"
   ]
  },
  {
   "cell_type": "code",
   "execution_count": 5,
   "metadata": {},
   "outputs": [],
   "source": [
    "bio.to_csv('compu_bio_temp.csv', index=False)\n",
    "ee.to_csv('compu_EE&IT_temp.csv',index=False)"
   ]
  }
 ],
 "metadata": {
  "kernelspec": {
   "display_name": "Python 2",
   "language": "python",
   "name": "python2"
  },
  "language_info": {
   "codemirror_mode": {
    "name": "ipython",
    "version": 2
   },
   "file_extension": ".py",
   "mimetype": "text/x-python",
   "name": "python",
   "nbconvert_exporter": "python",
   "pygments_lexer": "ipython2",
   "version": "2.7.13"
  }
 },
 "nbformat": 4,
 "nbformat_minor": 2
}
