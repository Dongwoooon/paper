{
 "cells": [
  {
   "cell_type": "markdown",
   "metadata": {},
   "source": [
    "# App citation (IV) 제작\n",
    "\n",
    "### 1. 기업간 adj matrix 제작\n",
    "- (patent_id -> cited)를 (gvkey -> gvkey)로 바꾸기\n",
    "\n",
    "### 2. weight sum\n",
    "- 전에 구한 weight로 weight sum해서 firm level 변수 제작"
   ]
  },
  {
   "cell_type": "markdown",
   "metadata": {},
   "source": [
    "### 1. 기업간 adj matrix 제작\n",
    "- 특정 산업에 해당하는 patent selection (patent_class, app_citation_byfirm join)  \n",
    "__=> patent_id, number, year__  \n",
    "- patent_id -> assignee -> gvkey (patent_assignee join, assignee_gvkey join)   \n",
    "__=> gvkey, number, year__\n",
    "- number -> raw_assignee -> assignee -> gvkey (app_info join, assignee_raw join, assignee_gvkey join)  \n",
    "__=> gvkey, gvkey_cited, year__\n",
    "- year 기준으로 subset, 각각에 대해 adj matrix 제작 (여긴 R 사용)"
   ]
  }
 ],
 "metadata": {
  "kernelspec": {
   "display_name": "Python 2",
   "language": "python",
   "name": "python2"
  },
  "language_info": {
   "codemirror_mode": {
    "name": "ipython",
    "version": 2
   },
   "file_extension": ".py",
   "mimetype": "text/x-python",
   "name": "python",
   "nbconvert_exporter": "python",
   "pygments_lexer": "ipython2",
   "version": "2.7.13"
  }
 },
 "nbformat": 4,
 "nbformat_minor": 2
}
