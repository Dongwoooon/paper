{
 "cells": [
  {
   "cell_type": "markdown",
   "metadata": {},
   "source": [
    "# Bio 산업 assignee와 compustat matching\n",
    "\n",
    "### Compustat\n",
    "- 2010년 상장사 재무정보\n",
    "- nameprocessing 새로 필요\n",
    "\n",
    "### matching 방법\n",
    "- 이름 기준으로 matching (key가 딱히 없음)\n",
    "- nameprocessing 결과로 1차 matching\n",
    "- matching 실패한 assignee 중 num_patent 기준 상위 n%에 대해 manual matching\n",
    "- match 후 key 부여 (index = key로 두면 될 듯)\n",
    "\n",
    "### 마무리\n",
    "- compustat_gvkey_numpat\n",
    "- assignee_gvkey"
   ]
  },
  {
   "cell_type": "code",
   "execution_count": 1,
   "metadata": {
    "collapsed": true
   },
   "outputs": [],
   "source": [
    "#-*- coding: utf-8 -*-\n",
    "import os\n",
    "import pandas as pd\n",
    "\n",
    "os.chdir('E:/apps')\n",
    "\n",
    "### AG, BV, CORP, CO, kabushiki kaisha 처리 필요\n",
    "\n",
    "def nameprocessing(s):\n",
    "    s = s.lower()\n",
    "    s = s.replace(\"-\",\" \")\n",
    "    s = s.replace(\"&\",'and')\n",
    "\n",
    "    rm = ['.',',',';',\"'\",'kabushiki kaisha','kabushikikaisha','limited','company','corporation','incorporated']\n",
    "\n",
    "    for i in rm:\n",
    "        s = s.replace(i,\"\")\n",
    "\n",
    "    sp=s.split()\n",
    "    sp.reverse()\n",
    "\n",
    "    abb=['inc','ltd','llc','pte','plc','kft','co','gmbh','corp','ag','bv','kg']\n",
    "\n",
    "    for i in range(0,len(sp)):\n",
    "        if sp[i] in abb:\n",
    "            sp[i]=''\n",
    "    \n",
    "    sp.reverse()\n",
    "    return ''.join(sp)"
   ]
  },
  {
   "cell_type": "markdown",
   "metadata": {},
   "source": [
    "### 1. nameprocessing"
   ]
  },
  {
   "cell_type": "code",
   "execution_count": 2,
   "metadata": {
    "scrolled": true
   },
   "outputs": [
    {
     "data": {
      "text/html": [
       "<div>\n",
       "<style>\n",
       "    .dataframe thead tr:only-child th {\n",
       "        text-align: right;\n",
       "    }\n",
       "\n",
       "    .dataframe thead th {\n",
       "        text-align: left;\n",
       "    }\n",
       "\n",
       "    .dataframe tbody tr th {\n",
       "        vertical-align: top;\n",
       "    }\n",
       "</style>\n",
       "<table border=\"1\" class=\"dataframe\">\n",
       "  <thead>\n",
       "    <tr style=\"text-align: right;\">\n",
       "      <th></th>\n",
       "      <th>conm</th>\n",
       "      <th>gvkey</th>\n",
       "      <th>new_assignee</th>\n",
       "    </tr>\n",
       "  </thead>\n",
       "  <tbody>\n",
       "    <tr>\n",
       "      <th>0</th>\n",
       "      <td>ASM INTERNATIONAL NV</td>\n",
       "      <td>1166</td>\n",
       "      <td>asminternationalnv</td>\n",
       "    </tr>\n",
       "    <tr>\n",
       "      <th>1</th>\n",
       "      <td>HADERA PAPER LTD</td>\n",
       "      <td>1491</td>\n",
       "      <td>haderapaper</td>\n",
       "    </tr>\n",
       "    <tr>\n",
       "      <th>2</th>\n",
       "      <td>ATLAS CONS MINING &amp; DEV CORP</td>\n",
       "      <td>1855</td>\n",
       "      <td>atlasconsmininganddev</td>\n",
       "    </tr>\n",
       "    <tr>\n",
       "      <th>3</th>\n",
       "      <td>BRITISH AMER TOBACCO PLC</td>\n",
       "      <td>1932</td>\n",
       "      <td>britishamertobacco</td>\n",
       "    </tr>\n",
       "    <tr>\n",
       "      <th>4</th>\n",
       "      <td>BANK LEUMI LE-ISRAEL BM</td>\n",
       "      <td>2018</td>\n",
       "      <td>bankleumileisraelbm</td>\n",
       "    </tr>\n",
       "  </tbody>\n",
       "</table>\n",
       "</div>"
      ],
      "text/plain": [
       "                           conm  gvkey           new_assignee\n",
       "0          ASM INTERNATIONAL NV   1166     asminternationalnv\n",
       "1              HADERA PAPER LTD   1491            haderapaper\n",
       "2  ATLAS CONS MINING & DEV CORP   1855  atlasconsmininganddev\n",
       "3      BRITISH AMER TOBACCO PLC   1932     britishamertobacco\n",
       "4       BANK LEUMI LE-ISRAEL BM   2018    bankleumileisraelbm"
      ]
     },
     "execution_count": 2,
     "metadata": {},
     "output_type": "execute_result"
    }
   ],
   "source": [
    "com = pd.read_csv('compustat_10.csv')[['conm','gvkey']]\n",
    "com['new_assignee'] = com['conm'].apply(nameprocessing)\n",
    "com.iloc[0:5,:]"
   ]
  },
  {
   "cell_type": "code",
   "execution_count": 3,
   "metadata": {},
   "outputs": [
    {
     "data": {
      "text/html": [
       "<div>\n",
       "<style>\n",
       "    .dataframe thead tr:only-child th {\n",
       "        text-align: right;\n",
       "    }\n",
       "\n",
       "    .dataframe thead th {\n",
       "        text-align: left;\n",
       "    }\n",
       "\n",
       "    .dataframe tbody tr th {\n",
       "        vertical-align: top;\n",
       "    }\n",
       "</style>\n",
       "<table border=\"1\" class=\"dataframe\">\n",
       "  <thead>\n",
       "    <tr style=\"text-align: right;\">\n",
       "      <th></th>\n",
       "      <th>assignee</th>\n",
       "      <th>num_patent</th>\n",
       "      <th>new_assignee</th>\n",
       "    </tr>\n",
       "  </thead>\n",
       "  <tbody>\n",
       "    <tr>\n",
       "      <th>0</th>\n",
       "      <td>BOSTON SCIENTIFIC SCIMED INC</td>\n",
       "      <td>1419</td>\n",
       "      <td>bostonscientificscimed</td>\n",
       "    </tr>\n",
       "    <tr>\n",
       "      <th>1</th>\n",
       "      <td>MONSANTO TECHNOLOGY LLC</td>\n",
       "      <td>1405</td>\n",
       "      <td>monsantotechnology</td>\n",
       "    </tr>\n",
       "    <tr>\n",
       "      <th>2</th>\n",
       "      <td>MEDTRONIC INC</td>\n",
       "      <td>1289</td>\n",
       "      <td>medtronic</td>\n",
       "    </tr>\n",
       "    <tr>\n",
       "      <th>3</th>\n",
       "      <td>PIONEER HI BRED INTERNATIONAL INC</td>\n",
       "      <td>1128</td>\n",
       "      <td>pioneerhibredinternational</td>\n",
       "    </tr>\n",
       "    <tr>\n",
       "      <th>4</th>\n",
       "      <td>CARDIAC PACEMAKERS INC</td>\n",
       "      <td>1071</td>\n",
       "      <td>cardiacpacemakers</td>\n",
       "    </tr>\n",
       "  </tbody>\n",
       "</table>\n",
       "</div>"
      ],
      "text/plain": [
       "                            assignee  num_patent                new_assignee\n",
       "0       BOSTON SCIENTIFIC SCIMED INC        1419      bostonscientificscimed\n",
       "1            MONSANTO TECHNOLOGY LLC        1405          monsantotechnology\n",
       "2                      MEDTRONIC INC        1289                   medtronic\n",
       "3  PIONEER HI BRED INTERNATIONAL INC        1128  pioneerhibredinternational\n",
       "4             CARDIAC PACEMAKERS INC        1071           cardiacpacemakers"
      ]
     },
     "execution_count": 3,
     "metadata": {},
     "output_type": "execute_result"
    }
   ],
   "source": [
    "df = pd.read_csv('assignee_profile_BIO.csv')\n",
    "df['new_assignee'] = df['assignee'].apply(nameprocessing)\n",
    "df.to_csv('assignee_new_BIO.csv', index=False)\n",
    "df.iloc[0:5,:]"
   ]
  },
  {
   "cell_type": "markdown",
   "metadata": {},
   "source": [
    "### 2. matching\n",
    "\n",
    "1. assignee를 new_assingee 기준으로 뭉치기\n",
    "2. compustat과 new_assignee 기준으로 match"
   ]
  },
  {
   "cell_type": "code",
   "execution_count": 4,
   "metadata": {},
   "outputs": [
    {
     "name": "stdout",
     "output_type": "stream",
     "text": [
      "7413 7278\n"
     ]
    }
   ],
   "source": [
    "a=len(df)\n",
    "df = df.groupby('new_assignee',as_index=False).sum()\n",
    "df.sort_values('num_patent', ascending=False, inplace=True)\n",
    "\n",
    "print a, len(df)"
   ]
  },
  {
   "cell_type": "code",
   "execution_count": 5,
   "metadata": {},
   "outputs": [
    {
     "name": "stdout",
     "output_type": "stream",
     "text": [
      "2.0 10.8589074938\n"
     ]
    }
   ],
   "source": [
    "df = df.merge(com, on='new_assignee', how='left', sort=False)\n",
    "df.drop_duplicates(inplace=True)   #I don't know why but there are some duplicates\n",
    "df.to_csv('patent_compustat_key_BIO.csv',index=False)\n",
    "print df['num_patent'].median(), df['num_patent'].mean()"
   ]
  },
  {
   "cell_type": "markdown",
   "metadata": {},
   "source": [
    "### 3. manual processing\n",
    "- num_patent가 평균 보다 큰 기업의 경우(11개) matching 시도 (엑셀로) (전체의 80% 커버)\n",
    "- median이 2.0이니 흠..."
   ]
  }
 ],
 "metadata": {
  "kernelspec": {
   "display_name": "Python 2",
   "language": "python",
   "name": "python2"
  },
  "language_info": {
   "codemirror_mode": {
    "name": "ipython",
    "version": 2
   },
   "file_extension": ".py",
   "mimetype": "text/x-python",
   "name": "python",
   "nbconvert_exporter": "python",
   "pygments_lexer": "ipython2",
   "version": "2.7.13"
  }
 },
 "nbformat": 4,
 "nbformat_minor": 2
}
