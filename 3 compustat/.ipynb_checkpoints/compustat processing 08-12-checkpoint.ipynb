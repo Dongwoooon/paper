{
 "cells": [
  {
   "cell_type": "markdown",
   "metadata": {},
   "source": [
    "# COMPUSTAT 전처리\n",
    "\n",
    "### 1. currency 확인\n",
    "- 문제: compustat global의 경우 currency 지멋대로\n",
    "- 각 회사별 currency code 필요 => wrds에서 받은 data와 merge (gvkey가 있어서 다행)\n",
    "- compustat US도 currency code = 'USD' 붙이고\n",
    "- compustat global + US 해서 완성본 만들기\n",
    "\n",
    "### 2. currency 통일\n",
    "- 그럼 이제 USD로 통일하자\n",
    "- 그러려면 currency마다 매년 exchange rate 알아야 함\n",
    "- globla과 US에 **동시에 등장하는 기업**들 개꿀!\n",
    "    - compustat에서 USD로 이미 바꿔줌 & 바꾸면서 exchange rate도 적어놓음\n",
    "    - 동시에 등장하는 기업은 global 삭제, US만 남김 (gvkey로 구분 가능)\n",
    "    - exchange rate 활용해서 다른 기업들도 USD로 바꾸자\n",
    "    \n",
    "### 3. net income 통일\n",
    "- global: nicon, ninc (연결, 별도)\n",
    "- us: ninoc\n",
    "- 연결, 별도 재무정보가 모두 존재하면 연결 사용  \n",
    "=> new_assignee, year, patent_id가 같은 상태에서 consol=C 살리고 consol=N 죽이면 됨  \n",
    "=> 정렬했기 때문에 C가 항상 N보다 위에 있음  \n",
    "=> __keep first__"
   ]
  },
  {
   "cell_type": "markdown",
   "metadata": {},
   "source": [
    "### 1. compustat global+US"
   ]
  },
  {
   "cell_type": "code",
   "execution_count": 1,
   "metadata": {
    "collapsed": true
   },
   "outputs": [],
   "source": [
    "#-*- coding: utf-8 -*-\n",
    "import pandas as pd\n",
    "import os\n",
    "\n",
    "os.chdir('E:/apps/compustat')\n",
    "\n",
    "glb = pd.read_csv('compustat_08-12_glb.csv')\n",
    "us = pd.read_csv('compustat_08-12_us.csv')\n",
    "curcd = pd.read_csv('08-12_curcd.csv')\n",
    "\n",
    "glb = glb.merge(curcd, how='left', on=['gvkey','fyear'])\n",
    "us['curcd'] = 'USD'\n",
    "\n",
    "glb = pd.concat([glb,us],ignore_index=True)\n",
    "glb.sort_values(by='gvkey',inplace=True)"
   ]
  },
  {
   "cell_type": "markdown",
   "metadata": {},
   "source": [
    "### 2. currecy 통일\n",
    "** 2.1 global, US 동시 등장 기업 정리 **\n",
    "- global 출신 data는 모두 ninoc == na 인 걸 활용해서 정리하자\n",
    "- gvkey, fyear, ninoc 기준으로 오름차순 정렬 후 keep first 하면 끝 (na가 밑에 있으니까)"
   ]
  },
  {
   "cell_type": "code",
   "execution_count": 2,
   "metadata": {},
   "outputs": [
    {
     "name": "stdout",
     "output_type": "stream",
     "text": [
      "225916 215716 10200\n"
     ]
    }
   ],
   "source": [
    "a=len(glb)\n",
    "glb.sort_values(by=['gvkey','fyear','ninoc'],inplace=True)\n",
    "glb = glb.drop_duplicates(subset=['gvkey','fyear'],keep='first')\n",
    "glb.to_csv('compustat_08-12_glbus.csv',index=False)\n",
    "\n",
    "print a, len(glb), a-len(glb)"
   ]
  },
  {
   "cell_type": "markdown",
   "metadata": {},
   "source": [
    "__2.2 exchange rate 파악__"
   ]
  },
  {
   "cell_type": "code",
   "execution_count": 3,
   "metadata": {},
   "outputs": [
    {
     "data": {
      "text/plain": [
       "46647"
      ]
     },
     "execution_count": 3,
     "metadata": {},
     "output_type": "execute_result"
    }
   ],
   "source": [
    "# 동시 등장 기업 활용\n",
    "currtr = pd.read_csv('08-12_currtr.csv')\n",
    "currtr = currtr.drop_duplicates()\n",
    "len(currtr)"
   ]
  },
  {
   "cell_type": "code",
   "execution_count": 4,
   "metadata": {},
   "outputs": [
    {
     "data": {
      "text/plain": [
       "664"
      ]
     },
     "execution_count": 4,
     "metadata": {},
     "output_type": "execute_result"
    }
   ],
   "source": [
    "curr = curcd.merge(currtr, how='left', on=['gvkey','fyear'])\n",
    "del curr['gvkey']\n",
    "curr = curr.drop_duplicates()\n",
    "len(curr)"
   ]
  },
  {
   "cell_type": "code",
   "execution_count": 5,
   "metadata": {
    "collapsed": true
   },
   "outputs": [],
   "source": [
    "curr=curr.groupby(['curcd','fyear']).mean()\n",
    "curr.to_csv('exchange_rate_08-12.csv')"
   ]
  },
  {
   "cell_type": "markdown",
   "metadata": {},
   "source": [
    "__2.3 USD로 통일__\n",
    "- 데이터를 재무정보+curcd & 나머지로 나누기\n",
    "- 재무정보에 환율 곱하기\n",
    "- 다시 합치기"
   ]
  },
  {
   "cell_type": "code",
   "execution_count": 1,
   "metadata": {
    "collapsed": true
   },
   "outputs": [],
   "source": [
    "#-*- coding: utf-8 -*-\n",
    "import pandas as pd\n",
    "import os, math\n",
    "\n",
    "os.chdir('E:/apps/compustat')\n",
    "\n",
    "glb = pd.read_csv('compustat_08-12_glbus.csv')\n",
    "glb = glb.loc[pd.isnull(glb['curcd'])==False]"
   ]
  },
  {
   "cell_type": "code",
   "execution_count": 2,
   "metadata": {
    "collapsed": true
   },
   "outputs": [],
   "source": [
    "cols = glb.columns.tolist()\n",
    "split = ['conm','consol','datadate','fic','gvkey']\n",
    "for i in split:\n",
    "    cols.remove(i)\n",
    "\n",
    "split += ['curcd','fyear']\n",
    "tmp_num = glb[cols]\n",
    "tmp = glb[split]\n",
    "\n",
    "curr = pd.read_csv('exchange_rate_08-12.csv')\n",
    "\n",
    "tmp_num = tmp_num.merge(curr, how='left', on=['curcd','fyear'])\n",
    "tmp_num.drop(['curcd', 'fyear'], axis=1, inplace=True)"
   ]
  },
  {
   "cell_type": "code",
   "execution_count": 5,
   "metadata": {
    "collapsed": true
   },
   "outputs": [],
   "source": [
    "def usd(row):\n",
    "    rate = row[-1]\n",
    "    if not math.isnan(rate):\n",
    "        row = map(lambda x: x*rate, row)\n",
    "        \n",
    "    return row\n",
    "\n",
    "tmp_num = tmp_num.apply(usd, axis=1,reduce = False)\n",
    "del tmp_num['currtr']\n",
    "\n",
    "glb = pd.concat([tmp,tmp_num], axis=1)\n",
    "glb.to_csv('compustat_08-12_usd.csv',index=False)"
   ]
  },
  {
   "cell_type": "markdown",
   "metadata": {},
   "source": [
    "### 3. net income 통일\n",
    "연결과 별도 동시 존재할 때, 연결 기준으로 통합  \n",
    "__ =>  NINC < NICON__ for non-US company\n",
    "사전에 excel로 __consol, ninoc__ 기준으로 정렬,  \n",
    "36035: ninoc -> nicon  \n",
    "208643: nicon -> ninc"
   ]
  },
  {
   "cell_type": "code",
   "execution_count": 1,
   "metadata": {
    "collapsed": true
   },
   "outputs": [],
   "source": [
    "#-*- coding: utf-8 -*-\n",
    "import pandas as pd\n",
    "import os\n",
    "import numpy as np\n",
    "\n",
    "os.chdir('E:/apps/compustat')"
   ]
  },
  {
   "cell_type": "code",
   "execution_count": 2,
   "metadata": {
    "scrolled": true
   },
   "outputs": [
    {
     "name": "stdout",
     "output_type": "stream",
     "text": [
      "1 22\n"
     ]
    }
   ],
   "source": [
    "df = pd.read_csv('compustat_08-12_usd.csv')\n",
    "print list(df).index('consol'), list(df).index('nicon')"
   ]
  },
  {
   "cell_type": "markdown",
   "metadata": {},
   "source": [
    "nicon = 22, ninc = 23, ninoc = 24"
   ]
  },
  {
   "cell_type": "code",
   "execution_count": 3,
   "metadata": {},
   "outputs": [
    {
     "name": "stdout",
     "output_type": "stream",
     "text": [
      "C N\n"
     ]
    }
   ],
   "source": [
    "print df.iloc[208643,1], df.iloc[208644,1]"
   ]
  },
  {
   "cell_type": "code",
   "execution_count": 4,
   "metadata": {
    "scrolled": true
   },
   "outputs": [
    {
     "name": "stdout",
     "output_type": "stream",
     "text": [
      "104821.0 nan\n"
     ]
    }
   ],
   "source": [
    "print df.iloc[36035,24], df.iloc[36036,24]"
   ]
  },
  {
   "cell_type": "code",
   "execution_count": 5,
   "metadata": {},
   "outputs": [
    {
     "data": {
      "text/plain": [
       "32"
      ]
     },
     "execution_count": 5,
     "metadata": {},
     "output_type": "execute_result"
    }
   ],
   "source": [
    "df['ni']=np.nan\n",
    "list(df).index('ni')"
   ]
  },
  {
   "cell_type": "code",
   "execution_count": 6,
   "metadata": {
    "collapsed": true
   },
   "outputs": [],
   "source": [
    "for i in range(0,len(df)):\n",
    "    if i<36036:\n",
    "        df.iloc[i,32] = df.iloc[i,24]\n",
    "    \n",
    "    elif i>36035 and i<208644:\n",
    "        df.iloc[i,32] = df.iloc[i,22]\n",
    "        \n",
    "    else:\n",
    "        df.iloc[i,32] = df.iloc[i,23]"
   ]
  },
  {
   "cell_type": "code",
   "execution_count": 7,
   "metadata": {
    "collapsed": true
   },
   "outputs": [],
   "source": [
    "df.drop(['nicon','ninc','ninoc'], axis=1, inplace=True)\n",
    "df.sort_values(by=['gvkey','fyear'],inplace=True)\n",
    "df.to_csv('compustat_08-12.csv',index=False)"
   ]
  }
 ],
 "metadata": {
  "kernelspec": {
   "display_name": "Python 2",
   "language": "python",
   "name": "python2"
  },
  "language_info": {
   "codemirror_mode": {
    "name": "ipython",
    "version": 2
   },
   "file_extension": ".py",
   "mimetype": "text/x-python",
   "name": "python",
   "nbconvert_exporter": "python",
   "pygments_lexer": "ipython2",
   "version": "2.7.13"
  }
 },
 "nbformat": 4,
 "nbformat_minor": 2
}
