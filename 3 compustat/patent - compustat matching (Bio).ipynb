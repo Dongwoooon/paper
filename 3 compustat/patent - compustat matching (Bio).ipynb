{
 "cells": [
  {
   "cell_type": "markdown",
   "metadata": {},
   "source": [
    "# Bio 산업 assignee와 compustat matching\n",
    "\n",
    "### Compustat\n",
    "- 2010년 상장사 재무정보\n",
    "- nameprocessing 새로 필요\n",
    "\n",
    "### matching 방법\n",
    "- 이름 기준으로 matching (key가 딱히 없음)\n",
    "- nameprocessing 결과로 1차 matching\n",
    "- matching 실패한 assignee 중 num_patent 기준 상위 n%에 대해 manual matching\n",
    "- match 후 key 부여 (index = key로 두면 될 듯)\n",
    "\n",
    "### 마무리\n",
    "- compustat_gvkey_numpat\n",
    "- assignee_gvkey"
   ]
  },
  {
   "cell_type": "code",
   "execution_count": 1,
   "metadata": {
    "collapsed": true
   },
   "outputs": [],
   "source": [
    "#-*- coding: utf-8 -*-\n",
    "import os\n",
    "import pandas as pd\n",
    "\n",
    "os.chdir('E:/apps')\n",
    "\n",
    "### AG, BV, CORP, CO, kabushiki kaisha 처리 필요\n",
    "\n",
    "def nameprocessing(s):\n",
    "    s = s.lower()\n",
    "    s = s.replace(\"-\",\" \")\n",
    "    s = s.replace(\"&\",'and')\n",
    "\n",
    "    rm = ['.',',',';',\"'\",'kabushiki kaisha','kabushikikaisha','limited','company','corporation','incorporated']\n",
    "\n",
    "    for i in rm:\n",
    "        s = s.replace(i,\"\")\n",
    "\n",
    "    sp=s.split()\n",
    "    sp.reverse()\n",
    "\n",
    "    abb=['inc','ltd','llc','pte','plc','kft','co','gmbh','corp','ag','bv','kg']\n",
    "\n",
    "    for i in range(0,len(sp)):\n",
    "        if sp[i] in abb:\n",
    "            sp[i]=''\n",
    "    \n",
    "    sp.reverse()\n",
    "    return ''.join(sp)"
   ]
  },
  {
   "cell_type": "markdown",
   "metadata": {},
   "source": [
    "### 1. nameprocessing"
   ]
  },
  {
   "cell_type": "code",
   "execution_count": 2,
   "metadata": {
    "scrolled": true
   },
   "outputs": [
    {
     "data": {
      "text/html": [
       "<div>\n",
       "<style>\n",
       "    .dataframe thead tr:only-child th {\n",
       "        text-align: right;\n",
       "    }\n",
       "\n",
       "    .dataframe thead th {\n",
       "        text-align: left;\n",
       "    }\n",
       "\n",
       "    .dataframe tbody tr th {\n",
       "        vertical-align: top;\n",
       "    }\n",
       "</style>\n",
       "<table border=\"1\" class=\"dataframe\">\n",
       "  <thead>\n",
       "    <tr style=\"text-align: right;\">\n",
       "      <th></th>\n",
       "      <th>conm</th>\n",
       "      <th>gvkey</th>\n",
       "      <th>new_assignee</th>\n",
       "    </tr>\n",
       "  </thead>\n",
       "  <tbody>\n",
       "    <tr>\n",
       "      <th>0</th>\n",
       "      <td>ASM INTERNATIONAL NV</td>\n",
       "      <td>1166</td>\n",
       "      <td>asminternationalnv</td>\n",
       "    </tr>\n",
       "    <tr>\n",
       "      <th>1</th>\n",
       "      <td>HADERA PAPER LTD</td>\n",
       "      <td>1491</td>\n",
       "      <td>haderapaper</td>\n",
       "    </tr>\n",
       "    <tr>\n",
       "      <th>2</th>\n",
       "      <td>ATLAS CONS MINING &amp; DEV CORP</td>\n",
       "      <td>1855</td>\n",
       "      <td>atlasconsmininganddev</td>\n",
       "    </tr>\n",
       "    <tr>\n",
       "      <th>3</th>\n",
       "      <td>BRITISH AMER TOBACCO PLC</td>\n",
       "      <td>1932</td>\n",
       "      <td>britishamertobacco</td>\n",
       "    </tr>\n",
       "    <tr>\n",
       "      <th>4</th>\n",
       "      <td>BANK LEUMI LE-ISRAEL BM</td>\n",
       "      <td>2018</td>\n",
       "      <td>bankleumileisraelbm</td>\n",
       "    </tr>\n",
       "  </tbody>\n",
       "</table>\n",
       "</div>"
      ],
      "text/plain": [
       "                           conm  gvkey           new_assignee\n",
       "0          ASM INTERNATIONAL NV   1166     asminternationalnv\n",
       "1              HADERA PAPER LTD   1491            haderapaper\n",
       "2  ATLAS CONS MINING & DEV CORP   1855  atlasconsmininganddev\n",
       "3      BRITISH AMER TOBACCO PLC   1932     britishamertobacco\n",
       "4       BANK LEUMI LE-ISRAEL BM   2018    bankleumileisraelbm"
      ]
     },
     "execution_count": 2,
     "metadata": {},
     "output_type": "execute_result"
    }
   ],
   "source": [
    "com = pd.read_csv('compustat_10.csv')[['conm','gvkey']]\n",
    "com['new_assignee'] = com['conm'].apply(nameprocessing)\n",
    "com.iloc[0:5,:]"
   ]
  },
  {
   "cell_type": "code",
   "execution_count": 3,
   "metadata": {},
   "outputs": [
    {
     "data": {
      "text/html": [
       "<div>\n",
       "<style>\n",
       "    .dataframe thead tr:only-child th {\n",
       "        text-align: right;\n",
       "    }\n",
       "\n",
       "    .dataframe thead th {\n",
       "        text-align: left;\n",
       "    }\n",
       "\n",
       "    .dataframe tbody tr th {\n",
       "        vertical-align: top;\n",
       "    }\n",
       "</style>\n",
       "<table border=\"1\" class=\"dataframe\">\n",
       "  <thead>\n",
       "    <tr style=\"text-align: right;\">\n",
       "      <th></th>\n",
       "      <th>assignee</th>\n",
       "      <th>num_patent</th>\n",
       "      <th>new_assignee</th>\n",
       "    </tr>\n",
       "  </thead>\n",
       "  <tbody>\n",
       "    <tr>\n",
       "      <th>0</th>\n",
       "      <td>BOSTON SCIENTIFIC SCIMED INC</td>\n",
       "      <td>1419</td>\n",
       "      <td>bostonscientificscimed</td>\n",
       "    </tr>\n",
       "    <tr>\n",
       "      <th>1</th>\n",
       "      <td>MONSANTO TECHNOLOGY LLC</td>\n",
       "      <td>1405</td>\n",
       "      <td>monsantotechnology</td>\n",
       "    </tr>\n",
       "    <tr>\n",
       "      <th>2</th>\n",
       "      <td>MEDTRONIC INC</td>\n",
       "      <td>1289</td>\n",
       "      <td>medtronic</td>\n",
       "    </tr>\n",
       "    <tr>\n",
       "      <th>3</th>\n",
       "      <td>PIONEER HI BRED INTERNATIONAL INC</td>\n",
       "      <td>1128</td>\n",
       "      <td>pioneerhibredinternational</td>\n",
       "    </tr>\n",
       "    <tr>\n",
       "      <th>4</th>\n",
       "      <td>CARDIAC PACEMAKERS INC</td>\n",
       "      <td>1071</td>\n",
       "      <td>cardiacpacemakers</td>\n",
       "    </tr>\n",
       "  </tbody>\n",
       "</table>\n",
       "</div>"
      ],
      "text/plain": [
       "                            assignee  num_patent                new_assignee\n",
       "0       BOSTON SCIENTIFIC SCIMED INC        1419      bostonscientificscimed\n",
       "1            MONSANTO TECHNOLOGY LLC        1405          monsantotechnology\n",
       "2                      MEDTRONIC INC        1289                   medtronic\n",
       "3  PIONEER HI BRED INTERNATIONAL INC        1128  pioneerhibredinternational\n",
       "4             CARDIAC PACEMAKERS INC        1071           cardiacpacemakers"
      ]
     },
     "execution_count": 3,
     "metadata": {},
     "output_type": "execute_result"
    }
   ],
   "source": [
    "df = pd.read_csv('assignee_profile_BIO.csv')\n",
    "df['new_assignee'] = df['assignee'].apply(nameprocessing)\n",
    "df.to_csv('assignee_new_BIO.csv', index=False)\n",
    "df.iloc[0:5,:]"
   ]
  },
  {
   "cell_type": "markdown",
   "metadata": {},
   "source": [
    "### 2. matching\n",
    "\n",
    "1. assignee를 new_assingee 기준으로 뭉치기\n",
    "2. compustat과 new_assignee 기준으로 match"
   ]
  },
  {
   "cell_type": "code",
   "execution_count": 4,
   "metadata": {},
   "outputs": [
    {
     "name": "stdout",
     "output_type": "stream",
     "text": [
      "7413 7278\n"
     ]
    }
   ],
   "source": [
    "a=len(df)\n",
    "df = df.groupby('new_assignee',as_index=False).sum()\n",
    "df.sort_values('num_patent', ascending=False, inplace=True)\n",
    "\n",
    "print a, len(df)"
   ]
  },
  {
   "cell_type": "code",
   "execution_count": 5,
   "metadata": {},
   "outputs": [
    {
     "name": "stdout",
     "output_type": "stream",
     "text": [
      "2.0 10.8589074938\n"
     ]
    }
   ],
   "source": [
    "df = df.merge(com, on='new_assignee', how='left', sort=False)\n",
    "df.drop_duplicates(inplace=True)   #I don't know why but there are some duplicates\n",
    "df.to_csv('patent_compustat_key_BIO.csv',index=False)\n",
    "print df['num_patent'].median(), df['num_patent'].mean()"
   ]
  },
  {
   "cell_type": "markdown",
   "metadata": {},
   "source": [
    "### 3. manual processing\n",
    "- num_patent가 평균 보다 큰 기업의 경우(11개) matching 시도 (엑셀로) (전체의 80% 커버)\n",
    "- median이 2.0이니 흠..."
   ]
  },
  {
   "cell_type": "markdown",
   "metadata": {},
   "source": [
    "### 4. 마무리 = assignee join 후 쪼개기"
   ]
  },
  {
   "cell_type": "markdown",
   "metadata": {},
   "source": [
    "__1. conm / gvkey 제작__\n",
    "- gvkey 없는 애들 제거\n",
    "- 있는 애들 뭉친 후 num_pat < 11인 애들 제거"
   ]
  },
  {
   "cell_type": "code",
   "execution_count": 16,
   "metadata": {},
   "outputs": [
    {
     "name": "stdout",
     "output_type": "stream",
     "text": [
      "7283 1232\n"
     ]
    }
   ],
   "source": [
    "#-*- coding: utf-8 -*-\n",
    "import os\n",
    "import pandas as pd\n",
    "\n",
    "os.chdir('E:/apps')\n",
    "df = pd.read_csv('compustat/patent_compustat_gvkey_BIO.csv')\n",
    "df1 = df.loc[pd.isnull(df['gvkey'])==False]\n",
    "print len(df), len(df1)"
   ]
  },
  {
   "cell_type": "code",
   "execution_count": 2,
   "metadata": {},
   "outputs": [
    {
     "data": {
      "text/plain": [
       "893"
      ]
     },
     "execution_count": 2,
     "metadata": {},
     "output_type": "execute_result"
    }
   ],
   "source": [
    "npat = df1[['gvkey','num_patent']]\n",
    "\n",
    "npat = npat.groupby('gvkey',as_index=False).sum()\n",
    "len(npat)"
   ]
  },
  {
   "cell_type": "code",
   "execution_count": 3,
   "metadata": {},
   "outputs": [
    {
     "data": {
      "text/plain": [
       "325"
      ]
     },
     "execution_count": 3,
     "metadata": {},
     "output_type": "execute_result"
    }
   ],
   "source": [
    "npat = npat.loc[npat['num_patent'] > 12]\n",
    "len(npat)"
   ]
  },
  {
   "cell_type": "code",
   "execution_count": 4,
   "metadata": {
    "collapsed": true
   },
   "outputs": [],
   "source": [
    "npat = npat.merge(df1[['gvkey','conm']], on='gvkey', how='left', sort=False)\n",
    "npat.drop_duplicates(inplace=True)\n",
    "\n",
    "npat.sort_values(by='num_patent', ascending=False, axis=0, inplace=True)\n",
    "npat.to_csv('compustat_gvkey_numpat_BIO.csv',index=False)"
   ]
  },
  {
   "cell_type": "code",
   "execution_count": 5,
   "metadata": {
    "scrolled": true
   },
   "outputs": [
    {
     "data": {
      "text/html": [
       "<div>\n",
       "<style>\n",
       "    .dataframe thead tr:only-child th {\n",
       "        text-align: right;\n",
       "    }\n",
       "\n",
       "    .dataframe thead th {\n",
       "        text-align: left;\n",
       "    }\n",
       "\n",
       "    .dataframe tbody tr th {\n",
       "        vertical-align: top;\n",
       "    }\n",
       "</style>\n",
       "<table border=\"1\" class=\"dataframe\">\n",
       "  <thead>\n",
       "    <tr style=\"text-align: right;\">\n",
       "      <th></th>\n",
       "      <th>gvkey</th>\n",
       "      <th>num_patent</th>\n",
       "      <th>conm</th>\n",
       "    </tr>\n",
       "  </thead>\n",
       "  <tbody>\n",
       "    <tr>\n",
       "      <th>255</th>\n",
       "      <td>25279.0</td>\n",
       "      <td>2868</td>\n",
       "      <td>BOSTON SCIENTIFIC CORP</td>\n",
       "    </tr>\n",
       "    <tr>\n",
       "      <th>119</th>\n",
       "      <td>7228.0</td>\n",
       "      <td>2644</td>\n",
       "      <td>MEDTRONIC PLC</td>\n",
       "    </tr>\n",
       "    <tr>\n",
       "      <th>81</th>\n",
       "      <td>6266.0</td>\n",
       "      <td>2409</td>\n",
       "      <td>JOHNSON &amp; JOHNSON</td>\n",
       "    </tr>\n",
       "    <tr>\n",
       "      <th>51</th>\n",
       "      <td>4087.0</td>\n",
       "      <td>1709</td>\n",
       "      <td>DU PONT (E I) DE NEMOURS</td>\n",
       "    </tr>\n",
       "    <tr>\n",
       "      <th>0</th>\n",
       "      <td>1078.0</td>\n",
       "      <td>1697</td>\n",
       "      <td>ABBOTT LABORATORIES</td>\n",
       "    </tr>\n",
       "    <tr>\n",
       "      <th>474</th>\n",
       "      <td>140760.0</td>\n",
       "      <td>1521</td>\n",
       "      <td>MONSANTO CO</td>\n",
       "    </tr>\n",
       "    <tr>\n",
       "      <th>268</th>\n",
       "      <td>25648.0</td>\n",
       "      <td>1378</td>\n",
       "      <td>ROCHE HOLDING AG</td>\n",
       "    </tr>\n",
       "    <tr>\n",
       "      <th>524</th>\n",
       "      <td>177264.0</td>\n",
       "      <td>947</td>\n",
       "      <td>COVIDIEN PLC</td>\n",
       "    </tr>\n",
       "    <tr>\n",
       "      <th>397</th>\n",
       "      <td>101310.0</td>\n",
       "      <td>763</td>\n",
       "      <td>NOVARTIS AG</td>\n",
       "    </tr>\n",
       "    <tr>\n",
       "      <th>37</th>\n",
       "      <td>2403.0</td>\n",
       "      <td>691</td>\n",
       "      <td>BRISTOL-MYERS SQUIBB CO</td>\n",
       "    </tr>\n",
       "    <tr>\n",
       "      <th>337</th>\n",
       "      <td>100080.0</td>\n",
       "      <td>676</td>\n",
       "      <td>BAYER AG</td>\n",
       "    </tr>\n",
       "    <tr>\n",
       "      <th>374</th>\n",
       "      <td>100686.0</td>\n",
       "      <td>646</td>\n",
       "      <td>OLYMPUS CORP</td>\n",
       "    </tr>\n",
       "    <tr>\n",
       "      <th>387</th>\n",
       "      <td>101204.0</td>\n",
       "      <td>634</td>\n",
       "      <td>SANOFI</td>\n",
       "    </tr>\n",
       "    <tr>\n",
       "      <th>72</th>\n",
       "      <td>5180.0</td>\n",
       "      <td>520</td>\n",
       "      <td>GLAXOSMITHKLINE PLC</td>\n",
       "    </tr>\n",
       "    <tr>\n",
       "      <th>291</th>\n",
       "      <td>28272.0</td>\n",
       "      <td>493</td>\n",
       "      <td>ASTRAZENECA PLC</td>\n",
       "    </tr>\n",
       "    <tr>\n",
       "      <th>586</th>\n",
       "      <td>222185.0</td>\n",
       "      <td>479</td>\n",
       "      <td>MERCK SHARP DOHME PHARMA TBK</td>\n",
       "    </tr>\n",
       "    <tr>\n",
       "      <th>146</th>\n",
       "      <td>8530.0</td>\n",
       "      <td>455</td>\n",
       "      <td>PFIZER INC</td>\n",
       "    </tr>\n",
       "    <tr>\n",
       "      <th>597</th>\n",
       "      <td>231736.0</td>\n",
       "      <td>426</td>\n",
       "      <td>WYETH LTD</td>\n",
       "    </tr>\n",
       "    <tr>\n",
       "      <th>63</th>\n",
       "      <td>5047.0</td>\n",
       "      <td>425</td>\n",
       "      <td>GENERAL ELECTRIC CO</td>\n",
       "    </tr>\n",
       "    <tr>\n",
       "      <th>559</th>\n",
       "      <td>208594.0</td>\n",
       "      <td>417</td>\n",
       "      <td>PROCTER &amp; GAMBLE HYG &amp; HLTH</td>\n",
       "    </tr>\n",
       "  </tbody>\n",
       "</table>\n",
       "</div>"
      ],
      "text/plain": [
       "        gvkey  num_patent                          conm\n",
       "255   25279.0        2868        BOSTON SCIENTIFIC CORP\n",
       "119    7228.0        2644                 MEDTRONIC PLC\n",
       "81     6266.0        2409             JOHNSON & JOHNSON\n",
       "51     4087.0        1709      DU PONT (E I) DE NEMOURS\n",
       "0      1078.0        1697           ABBOTT LABORATORIES\n",
       "474  140760.0        1521                   MONSANTO CO\n",
       "268   25648.0        1378              ROCHE HOLDING AG\n",
       "524  177264.0         947                  COVIDIEN PLC\n",
       "397  101310.0         763                   NOVARTIS AG\n",
       "37     2403.0         691       BRISTOL-MYERS SQUIBB CO\n",
       "337  100080.0         676                      BAYER AG\n",
       "374  100686.0         646                  OLYMPUS CORP\n",
       "387  101204.0         634                        SANOFI\n",
       "72     5180.0         520           GLAXOSMITHKLINE PLC\n",
       "291   28272.0         493               ASTRAZENECA PLC\n",
       "586  222185.0         479  MERCK SHARP DOHME PHARMA TBK\n",
       "146    8530.0         455                    PFIZER INC\n",
       "597  231736.0         426                     WYETH LTD\n",
       "63     5047.0         425           GENERAL ELECTRIC CO\n",
       "559  208594.0         417   PROCTER & GAMBLE HYG & HLTH"
      ]
     },
     "execution_count": 5,
     "metadata": {},
     "output_type": "execute_result"
    }
   ],
   "source": [
    "npat.iloc[0:20,]"
   ]
  },
  {
   "cell_type": "markdown",
   "metadata": {},
   "source": [
    "__2. assignee / gvkey 제작__\n",
    "- df1에서 npat에 쓴 325개 기업만 고르기\n",
    "- new_assignee 기준으로 merge\n",
    "- new_assingee 제거 후 assignee로 group by"
   ]
  },
  {
   "cell_type": "code",
   "execution_count": 17,
   "metadata": {},
   "outputs": [
    {
     "data": {
      "text/plain": [
       "664"
      ]
     },
     "execution_count": 17,
     "metadata": {},
     "output_type": "execute_result"
    }
   ],
   "source": [
    "df1 = df1[['gvkey','new_assignee']]\n",
    "\n",
    "df1 = npat.merge(df1, on='gvkey', how='left', sort=False)\n",
    "len(df1)"
   ]
  },
  {
   "cell_type": "code",
   "execution_count": 18,
   "metadata": {},
   "outputs": [
    {
     "data": {
      "text/plain": [
       "731"
      ]
     },
     "execution_count": 18,
     "metadata": {},
     "output_type": "execute_result"
    }
   ],
   "source": [
    "ass = pd.read_csv('assignee_new_BIO.csv')\n",
    "df1 = df1.merge(ass, on='new_assignee', how='left', sort=False)\n",
    "df1.drop_duplicates(inplace=True)\n",
    "len(df1)"
   ]
  },
  {
   "cell_type": "code",
   "execution_count": 19,
   "metadata": {
    "scrolled": true
   },
   "outputs": [
    {
     "data": {
      "text/html": [
       "<div>\n",
       "<style>\n",
       "    .dataframe thead tr:only-child th {\n",
       "        text-align: right;\n",
       "    }\n",
       "\n",
       "    .dataframe thead th {\n",
       "        text-align: left;\n",
       "    }\n",
       "\n",
       "    .dataframe tbody tr th {\n",
       "        vertical-align: top;\n",
       "    }\n",
       "</style>\n",
       "<table border=\"1\" class=\"dataframe\">\n",
       "  <thead>\n",
       "    <tr style=\"text-align: right;\">\n",
       "      <th></th>\n",
       "      <th>gvkey</th>\n",
       "      <th>num_patent</th>\n",
       "      <th>conm</th>\n",
       "      <th>new_assignee</th>\n",
       "      <th>assignee</th>\n",
       "    </tr>\n",
       "  </thead>\n",
       "  <tbody>\n",
       "    <tr>\n",
       "      <th>0</th>\n",
       "      <td>25279.0</td>\n",
       "      <td>2868</td>\n",
       "      <td>BOSTON SCIENTIFIC CORP</td>\n",
       "      <td>bostonscientificscimed</td>\n",
       "      <td>BOSTON SCIENTIFIC SCIMED INC</td>\n",
       "    </tr>\n",
       "    <tr>\n",
       "      <th>1</th>\n",
       "      <td>25279.0</td>\n",
       "      <td>2868</td>\n",
       "      <td>BOSTON SCIENTIFIC CORP</td>\n",
       "      <td>cardiacpacemakers</td>\n",
       "      <td>CARDIAC PACEMAKERS INC</td>\n",
       "    </tr>\n",
       "    <tr>\n",
       "      <th>2</th>\n",
       "      <td>25279.0</td>\n",
       "      <td>2868</td>\n",
       "      <td>BOSTON SCIENTIFIC CORP</td>\n",
       "      <td>bostonscientificneuromodulation</td>\n",
       "      <td>BOSTON SCIENTIFIC NEUROMODULATION CORPORATION</td>\n",
       "    </tr>\n",
       "    <tr>\n",
       "      <th>3</th>\n",
       "      <td>25279.0</td>\n",
       "      <td>2868</td>\n",
       "      <td>BOSTON SCIENTIFIC CORP</td>\n",
       "      <td>scimedlifesystems</td>\n",
       "      <td>SCIMED LIFE SYSTEMS INC</td>\n",
       "    </tr>\n",
       "    <tr>\n",
       "      <th>4</th>\n",
       "      <td>25279.0</td>\n",
       "      <td>2868</td>\n",
       "      <td>BOSTON SCIENTIFIC CORP</td>\n",
       "      <td>cameronhealth</td>\n",
       "      <td>CAMERON HEALTH INC</td>\n",
       "    </tr>\n",
       "    <tr>\n",
       "      <th>5</th>\n",
       "      <td>25279.0</td>\n",
       "      <td>2868</td>\n",
       "      <td>BOSTON SCIENTIFIC CORP</td>\n",
       "      <td>endovasculartechnologies</td>\n",
       "      <td>ENDOVASCULAR TECHNOLOGIES INC</td>\n",
       "    </tr>\n",
       "    <tr>\n",
       "      <th>6</th>\n",
       "      <td>25279.0</td>\n",
       "      <td>2868</td>\n",
       "      <td>BOSTON SCIENTIFIC CORP</td>\n",
       "      <td>bostonscientific</td>\n",
       "      <td>BOSTON SCIENTIFIC CORPORATION</td>\n",
       "    </tr>\n",
       "    <tr>\n",
       "      <th>7</th>\n",
       "      <td>25279.0</td>\n",
       "      <td>2868</td>\n",
       "      <td>BOSTON SCIENTIFIC CORP</td>\n",
       "      <td>bostonscientific</td>\n",
       "      <td>BOSTON SCIENTIFIC LIMITED</td>\n",
       "    </tr>\n",
       "    <tr>\n",
       "      <th>8</th>\n",
       "      <td>25279.0</td>\n",
       "      <td>2868</td>\n",
       "      <td>BOSTON SCIENTIFIC CORP</td>\n",
       "      <td>atritech</td>\n",
       "      <td>ATRITECH INC</td>\n",
       "    </tr>\n",
       "    <tr>\n",
       "      <th>9</th>\n",
       "      <td>25279.0</td>\n",
       "      <td>2868</td>\n",
       "      <td>BOSTON SCIENTIFIC CORP</td>\n",
       "      <td>remonmedicaltechnologies</td>\n",
       "      <td>REMON MEDICAL TECHNOLOGIES LTD</td>\n",
       "    </tr>\n",
       "    <tr>\n",
       "      <th>10</th>\n",
       "      <td>7228.0</td>\n",
       "      <td>2644</td>\n",
       "      <td>MEDTRONIC PLC</td>\n",
       "      <td>medtronic</td>\n",
       "      <td>MEDTRONIC INC</td>\n",
       "    </tr>\n",
       "    <tr>\n",
       "      <th>11</th>\n",
       "      <td>7228.0</td>\n",
       "      <td>2644</td>\n",
       "      <td>MEDTRONIC PLC</td>\n",
       "      <td>warsaworthopedic</td>\n",
       "      <td>WARSAW ORTHOPEDIC INC</td>\n",
       "    </tr>\n",
       "    <tr>\n",
       "      <th>12</th>\n",
       "      <td>7228.0</td>\n",
       "      <td>2644</td>\n",
       "      <td>MEDTRONIC PLC</td>\n",
       "      <td>warsaworthopedic</td>\n",
       "      <td>WARSAW ORTHOPEDIC</td>\n",
       "    </tr>\n",
       "    <tr>\n",
       "      <th>13</th>\n",
       "      <td>7228.0</td>\n",
       "      <td>2644</td>\n",
       "      <td>MEDTRONIC PLC</td>\n",
       "      <td>medtronicvascular</td>\n",
       "      <td>MEDTRONIC VASCULAR INC</td>\n",
       "    </tr>\n",
       "    <tr>\n",
       "      <th>14</th>\n",
       "      <td>7228.0</td>\n",
       "      <td>2644</td>\n",
       "      <td>MEDTRONIC PLC</td>\n",
       "      <td>medtronicminimed</td>\n",
       "      <td>MEDTRONIC MINIMED INC</td>\n",
       "    </tr>\n",
       "    <tr>\n",
       "      <th>15</th>\n",
       "      <td>7228.0</td>\n",
       "      <td>2644</td>\n",
       "      <td>MEDTRONIC PLC</td>\n",
       "      <td>kyphonsarl</td>\n",
       "      <td>KYPHON SARL</td>\n",
       "    </tr>\n",
       "    <tr>\n",
       "      <th>16</th>\n",
       "      <td>7228.0</td>\n",
       "      <td>2644</td>\n",
       "      <td>MEDTRONIC PLC</td>\n",
       "      <td>medtronicxomed</td>\n",
       "      <td>MEDTRONIC XOMED INC</td>\n",
       "    </tr>\n",
       "    <tr>\n",
       "      <th>17</th>\n",
       "      <td>7228.0</td>\n",
       "      <td>2644</td>\n",
       "      <td>MEDTRONIC PLC</td>\n",
       "      <td>ev3</td>\n",
       "      <td>EV3 INC</td>\n",
       "    </tr>\n",
       "    <tr>\n",
       "      <th>18</th>\n",
       "      <td>7228.0</td>\n",
       "      <td>2644</td>\n",
       "      <td>MEDTRONIC PLC</td>\n",
       "      <td>medtronicnavigation</td>\n",
       "      <td>MEDTRONIC NAVIGATION INC</td>\n",
       "    </tr>\n",
       "    <tr>\n",
       "      <th>19</th>\n",
       "      <td>7228.0</td>\n",
       "      <td>2644</td>\n",
       "      <td>MEDTRONIC PLC</td>\n",
       "      <td>medtroniccryocathlp</td>\n",
       "      <td>MEDTRONIC CRYOCATH LP</td>\n",
       "    </tr>\n",
       "  </tbody>\n",
       "</table>\n",
       "</div>"
      ],
      "text/plain": [
       "      gvkey  num_patent                    conm  \\\n",
       "0   25279.0        2868  BOSTON SCIENTIFIC CORP   \n",
       "1   25279.0        2868  BOSTON SCIENTIFIC CORP   \n",
       "2   25279.0        2868  BOSTON SCIENTIFIC CORP   \n",
       "3   25279.0        2868  BOSTON SCIENTIFIC CORP   \n",
       "4   25279.0        2868  BOSTON SCIENTIFIC CORP   \n",
       "5   25279.0        2868  BOSTON SCIENTIFIC CORP   \n",
       "6   25279.0        2868  BOSTON SCIENTIFIC CORP   \n",
       "7   25279.0        2868  BOSTON SCIENTIFIC CORP   \n",
       "8   25279.0        2868  BOSTON SCIENTIFIC CORP   \n",
       "9   25279.0        2868  BOSTON SCIENTIFIC CORP   \n",
       "10   7228.0        2644           MEDTRONIC PLC   \n",
       "11   7228.0        2644           MEDTRONIC PLC   \n",
       "12   7228.0        2644           MEDTRONIC PLC   \n",
       "13   7228.0        2644           MEDTRONIC PLC   \n",
       "14   7228.0        2644           MEDTRONIC PLC   \n",
       "15   7228.0        2644           MEDTRONIC PLC   \n",
       "16   7228.0        2644           MEDTRONIC PLC   \n",
       "17   7228.0        2644           MEDTRONIC PLC   \n",
       "18   7228.0        2644           MEDTRONIC PLC   \n",
       "19   7228.0        2644           MEDTRONIC PLC   \n",
       "\n",
       "                       new_assignee  \\\n",
       "0            bostonscientificscimed   \n",
       "1                 cardiacpacemakers   \n",
       "2   bostonscientificneuromodulation   \n",
       "3                 scimedlifesystems   \n",
       "4                     cameronhealth   \n",
       "5          endovasculartechnologies   \n",
       "6                  bostonscientific   \n",
       "7                  bostonscientific   \n",
       "8                          atritech   \n",
       "9          remonmedicaltechnologies   \n",
       "10                        medtronic   \n",
       "11                 warsaworthopedic   \n",
       "12                 warsaworthopedic   \n",
       "13                medtronicvascular   \n",
       "14                 medtronicminimed   \n",
       "15                       kyphonsarl   \n",
       "16                   medtronicxomed   \n",
       "17                              ev3   \n",
       "18              medtronicnavigation   \n",
       "19              medtroniccryocathlp   \n",
       "\n",
       "                                         assignee  \n",
       "0                    BOSTON SCIENTIFIC SCIMED INC  \n",
       "1                          CARDIAC PACEMAKERS INC  \n",
       "2   BOSTON SCIENTIFIC NEUROMODULATION CORPORATION  \n",
       "3                         SCIMED LIFE SYSTEMS INC  \n",
       "4                              CAMERON HEALTH INC  \n",
       "5                   ENDOVASCULAR TECHNOLOGIES INC  \n",
       "6                   BOSTON SCIENTIFIC CORPORATION  \n",
       "7                       BOSTON SCIENTIFIC LIMITED  \n",
       "8                                    ATRITECH INC  \n",
       "9                  REMON MEDICAL TECHNOLOGIES LTD  \n",
       "10                                  MEDTRONIC INC  \n",
       "11                          WARSAW ORTHOPEDIC INC  \n",
       "12                              WARSAW ORTHOPEDIC  \n",
       "13                         MEDTRONIC VASCULAR INC  \n",
       "14                          MEDTRONIC MINIMED INC  \n",
       "15                                    KYPHON SARL  \n",
       "16                            MEDTRONIC XOMED INC  \n",
       "17                                        EV3 INC  \n",
       "18                       MEDTRONIC NAVIGATION INC  \n",
       "19                          MEDTRONIC CRYOCATH LP  "
      ]
     },
     "execution_count": 19,
     "metadata": {},
     "output_type": "execute_result"
    }
   ],
   "source": [
    "df1.iloc[0:20,:]"
   ]
  },
  {
   "cell_type": "code",
   "execution_count": 20,
   "metadata": {
    "collapsed": true
   },
   "outputs": [],
   "source": [
    "df1 = df1[['assignee','gvkey']]\n",
    "df1.to_csv('assignee_gvkey_BIO.csv',index=False)"
   ]
  }
 ],
 "metadata": {
  "kernelspec": {
   "display_name": "Python 2",
   "language": "python",
   "name": "python2"
  },
  "language_info": {
   "codemirror_mode": {
    "name": "ipython",
    "version": 2
   },
   "file_extension": ".py",
   "mimetype": "text/x-python",
   "name": "python",
   "nbconvert_exporter": "python",
   "pygments_lexer": "ipython2",
   "version": "2.7.13"
  }
 },
 "nbformat": 4,
 "nbformat_minor": 2
}
