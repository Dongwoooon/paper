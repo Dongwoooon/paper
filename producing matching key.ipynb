{
 "cells": [
  {
   "cell_type": "markdown",
   "metadata": {},
   "source": [
    "# Matching Compustat firm with assignee\n",
    "\n",
    "### Compustat\n",
    "- 2010년 상장사 재무정보\n",
    "- nameprocessing 완료 (지난 프로젝트에서)\n",
    "\n",
    "### matching 방법\n",
    "- 이름 기준으로 matching (key가 딱히 없음)\n",
    "- nameprocessing 결과로 1차 matching\n",
    "- matching 실패한 assignee 중 num_patent 기준 상위 n%에 대해 manual matching\n",
    "- match 후 key 부여 (index = key로 두면 될 듯)"
   ]
  },
  {
   "cell_type": "markdown",
   "metadata": {},
   "source": [
    "### 1. assignee nameprocessing"
   ]
  },
  {
   "cell_type": "code",
   "execution_count": 1,
   "metadata": {
    "collapsed": true
   },
   "outputs": [],
   "source": [
    "#-*- coding: utf-8 -*-\n",
    "import os\n",
    "import pandas as pd\n",
    "\n",
    "os.chdir('E:/apps')\n",
    "\n",
    "def nameprocessing(s):\n",
    "    s = str(s)\n",
    "    \n",
    "    s = s.replace(\".\",\"\")\n",
    "    s = s.replace(\",\",\"\")    \n",
    "    s = s.replace(\";\",\"\")\n",
    "    s = ''.join(s.split()).lower()\n",
    "    \n",
    "    s = s.replace(\"incorporated\",\"inc\")\n",
    "    s = s.replace(\"limited\",\"ltd\")\n",
    "    s = s.replace(\"gmbh\",\"\")\n",
    "    \n",
    "    rm=['inc','ltd','llc','pte','plc','kft']\n",
    "    for i in range(0,len(s)):\n",
    "        if s[-3:] in rm:\n",
    "            s=s[:-3]\n",
    "        else:\n",
    "            break\n",
    "\n",
    "    return s"
   ]
  },
  {
   "cell_type": "code",
   "execution_count": 2,
   "metadata": {},
   "outputs": [
    {
     "data": {
      "text/html": [
       "<div>\n",
       "<style>\n",
       "    .dataframe thead tr:only-child th {\n",
       "        text-align: right;\n",
       "    }\n",
       "\n",
       "    .dataframe thead th {\n",
       "        text-align: left;\n",
       "    }\n",
       "\n",
       "    .dataframe tbody tr th {\n",
       "        vertical-align: top;\n",
       "    }\n",
       "</style>\n",
       "<table border=\"1\" class=\"dataframe\">\n",
       "  <thead>\n",
       "    <tr style=\"text-align: right;\">\n",
       "      <th></th>\n",
       "      <th>assignee</th>\n",
       "      <th>num_patent</th>\n",
       "      <th>new_assignee</th>\n",
       "    </tr>\n",
       "  </thead>\n",
       "  <tbody>\n",
       "    <tr>\n",
       "      <th>0</th>\n",
       "      <td>International Business Machines Corporation</td>\n",
       "      <td>5578</td>\n",
       "      <td>internationalbusinessmachinescorporation</td>\n",
       "    </tr>\n",
       "    <tr>\n",
       "      <th>1</th>\n",
       "      <td>Samsung Electronics Co., Ltd.</td>\n",
       "      <td>3617</td>\n",
       "      <td>samsungelectronicsco</td>\n",
       "    </tr>\n",
       "    <tr>\n",
       "      <th>2</th>\n",
       "      <td>Microsoft Corporation</td>\n",
       "      <td>2985</td>\n",
       "      <td>microsoftcorporation</td>\n",
       "    </tr>\n",
       "    <tr>\n",
       "      <th>3</th>\n",
       "      <td>Panasonic Corporation</td>\n",
       "      <td>2131</td>\n",
       "      <td>panasoniccorporation</td>\n",
       "    </tr>\n",
       "    <tr>\n",
       "      <th>4</th>\n",
       "      <td>Canon Kabushiki Kaisha</td>\n",
       "      <td>2033</td>\n",
       "      <td>canonkabushikikaisha</td>\n",
       "    </tr>\n",
       "  </tbody>\n",
       "</table>\n",
       "</div>"
      ],
      "text/plain": [
       "                                      assignee  num_patent  \\\n",
       "0  International Business Machines Corporation        5578   \n",
       "1                Samsung Electronics Co., Ltd.        3617   \n",
       "2                        Microsoft Corporation        2985   \n",
       "3                        Panasonic Corporation        2131   \n",
       "4                       Canon Kabushiki Kaisha        2033   \n",
       "\n",
       "                               new_assignee  \n",
       "0  internationalbusinessmachinescorporation  \n",
       "1                      samsungelectronicsco  \n",
       "2                      microsoftcorporation  \n",
       "3                      panasoniccorporation  \n",
       "4                      canonkabushikikaisha  "
      ]
     },
     "execution_count": 2,
     "metadata": {},
     "output_type": "execute_result"
    }
   ],
   "source": [
    "df = pd.read_csv('patent_assignee_10.csv')\n",
    "df['new_assignee'] = df['assignee'].apply(nameprocessing)\n",
    "df.to_csv('patent_assignee_10.csv', index=False)\n",
    "df.iloc[0:5,:]"
   ]
  },
  {
   "cell_type": "markdown",
   "metadata": {},
   "source": [
    "### 2. matching"
   ]
  },
  {
   "cell_type": "markdown",
   "metadata": {},
   "source": [
    "1. assignee를 new_assingee 기준으로 뭉치기\n",
    "2. compustat과 new_assignee 기준으로 match"
   ]
  },
  {
   "cell_type": "code",
   "execution_count": 3,
   "metadata": {},
   "outputs": [],
   "source": [
    "df = df.groupby('new_assignee',as_index=False).sum()\n",
    "df.sort_values('num_patent', ascending=False, inplace=True)"
   ]
  },
  {
   "cell_type": "code",
   "execution_count": 6,
   "metadata": {
    "collapsed": true
   },
   "outputs": [],
   "source": [
    "com = pd.read_csv('compu_10.csv')[['new_assignee','conm']]\n",
    "df = df.merge(com, on='new_assignee', how='left', sort=False)\n",
    "df.index.names = ['PCkey']\n",
    "df.drop_duplicates(inplace=True)   #I don't know why but there are some duplicates\n",
    "df.to_csv('patent_compustat_key.csv')"
   ]
  },
  {
   "cell_type": "code",
   "execution_count": 15,
   "metadata": {},
   "outputs": [
    {
     "name": "stdout",
     "output_type": "stream",
     "text": [
      "1.0 8.30602965404\n"
     ]
    }
   ],
   "source": [
    "print df['num_patent'].median(), df['num_patent'].mean()"
   ]
  },
  {
   "cell_type": "markdown",
   "metadata": {},
   "source": [
    "### 3. manual processing\n",
    "- num_patent가 평균 보다 큰 기업의 경우 matching 시도 (엑셀로)"
   ]
  }
 ],
 "metadata": {
  "kernelspec": {
   "display_name": "Python 2",
   "language": "python",
   "name": "python2"
  },
  "language_info": {
   "codemirror_mode": {
    "name": "ipython",
    "version": 2
   },
   "file_extension": ".py",
   "mimetype": "text/x-python",
   "name": "python",
   "nbconvert_exporter": "python",
   "pygments_lexer": "ipython2",
   "version": "2.7.13"
  }
 },
 "nbformat": 4,
 "nbformat_minor": 2
}
