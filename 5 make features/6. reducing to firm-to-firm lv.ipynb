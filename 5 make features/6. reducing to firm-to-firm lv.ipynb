{
 "cells": [
  {
   "cell_type": "markdown",
   "metadata": {},
   "source": [
    "# firm-firm-year 로 변경\n",
    "\n",
    "### 1. citation\n",
    "- pat_cit, app_cit edge_list 사용\n",
    "- gvkey / gvkey_cited / year / pat_cit (app_cit) 형태로 만들기\n",
    "- outer join\n",
    "\n",
    "### 2. litigation\n",
    "- lit_temp 사용\n",
    "- defend: caseid / gvkey / year / counter, attack: caseid / gvkey_cited\n",
    "- caseid 기준 left join\n",
    "- groupby -> lit_t1, lit_t1_c\n",
    "\n",
    "### 3. tech proximity\n",
    "- 현재 산업별, 연도별 따로 존재\n",
    "- 각 파일 edgelist로 만들기\n",
    "- 산업별로 뭉치기\n",
    "\n",
    "### 4. join\n",
    "- lit_t1 + lit_c: left, fillna(0)\n",
    "- '+' cit: outer, fillna(0)\n",
    "- '+' proxy: left"
   ]
  },
  {
   "cell_type": "markdown",
   "metadata": {},
   "source": [
    "### 1. citation"
   ]
  },
  {
   "cell_type": "code",
   "execution_count": 1,
   "metadata": {
    "collapsed": true
   },
   "outputs": [],
   "source": [
    "import pandas as pd\n",
    "import numpy as np\n",
    "import csv\n",
    "import os\n",
    "import math\n",
    "\n",
    "os.chdir('E:/apps')"
   ]
  },
  {
   "cell_type": "code",
   "execution_count": 3,
   "metadata": {},
   "outputs": [
    {
     "data": {
      "text/html": [
       "<div>\n",
       "<style>\n",
       "    .dataframe thead tr:only-child th {\n",
       "        text-align: right;\n",
       "    }\n",
       "\n",
       "    .dataframe thead th {\n",
       "        text-align: left;\n",
       "    }\n",
       "\n",
       "    .dataframe tbody tr th {\n",
       "        vertical-align: top;\n",
       "    }\n",
       "</style>\n",
       "<table border=\"1\" class=\"dataframe\">\n",
       "  <thead>\n",
       "    <tr style=\"text-align: right;\">\n",
       "      <th></th>\n",
       "      <th>gvkey</th>\n",
       "      <th>gvkey_cited</th>\n",
       "      <th>year</th>\n",
       "      <th>pat_cit</th>\n",
       "    </tr>\n",
       "  </thead>\n",
       "  <tbody>\n",
       "    <tr>\n",
       "      <th>0</th>\n",
       "      <td>1078</td>\n",
       "      <td>1078.0</td>\n",
       "      <td>2005</td>\n",
       "      <td>490</td>\n",
       "    </tr>\n",
       "    <tr>\n",
       "      <th>1</th>\n",
       "      <td>1078</td>\n",
       "      <td>1078.0</td>\n",
       "      <td>2006</td>\n",
       "      <td>968</td>\n",
       "    </tr>\n",
       "    <tr>\n",
       "      <th>2</th>\n",
       "      <td>1078</td>\n",
       "      <td>1078.0</td>\n",
       "      <td>2007</td>\n",
       "      <td>1151</td>\n",
       "    </tr>\n",
       "    <tr>\n",
       "      <th>3</th>\n",
       "      <td>1078</td>\n",
       "      <td>1078.0</td>\n",
       "      <td>2008</td>\n",
       "      <td>1050</td>\n",
       "    </tr>\n",
       "    <tr>\n",
       "      <th>4</th>\n",
       "      <td>1078</td>\n",
       "      <td>1078.0</td>\n",
       "      <td>2009</td>\n",
       "      <td>1487</td>\n",
       "    </tr>\n",
       "    <tr>\n",
       "      <th>5</th>\n",
       "      <td>1078</td>\n",
       "      <td>1078.0</td>\n",
       "      <td>2010</td>\n",
       "      <td>2616</td>\n",
       "    </tr>\n",
       "    <tr>\n",
       "      <th>6</th>\n",
       "      <td>1078</td>\n",
       "      <td>1078.0</td>\n",
       "      <td>2011</td>\n",
       "      <td>3647</td>\n",
       "    </tr>\n",
       "    <tr>\n",
       "      <th>7</th>\n",
       "      <td>1078</td>\n",
       "      <td>1078.0</td>\n",
       "      <td>2012</td>\n",
       "      <td>3826</td>\n",
       "    </tr>\n",
       "    <tr>\n",
       "      <th>8</th>\n",
       "      <td>1078</td>\n",
       "      <td>1602.0</td>\n",
       "      <td>2007</td>\n",
       "      <td>4</td>\n",
       "    </tr>\n",
       "    <tr>\n",
       "      <th>9</th>\n",
       "      <td>1078</td>\n",
       "      <td>1602.0</td>\n",
       "      <td>2008</td>\n",
       "      <td>1</td>\n",
       "    </tr>\n",
       "  </tbody>\n",
       "</table>\n",
       "</div>"
      ],
      "text/plain": [
       "   gvkey  gvkey_cited  year  pat_cit\n",
       "0   1078       1078.0  2005      490\n",
       "1   1078       1078.0  2006      968\n",
       "2   1078       1078.0  2007     1151\n",
       "3   1078       1078.0  2008     1050\n",
       "4   1078       1078.0  2009     1487\n",
       "5   1078       1078.0  2010     2616\n",
       "6   1078       1078.0  2011     3647\n",
       "7   1078       1078.0  2012     3826\n",
       "8   1078       1602.0  2007        4\n",
       "9   1078       1602.0  2008        1"
      ]
     },
     "execution_count": 3,
     "metadata": {},
     "output_type": "execute_result"
    }
   ],
   "source": [
    "pb = pd.read_csv('pat_cit_edge_BIO.csv')\n",
    "pe = pd.read_csv('pat_cit_edge_EE&IT.csv')\n",
    "\n",
    "pb = pb.groupby(['gvkey','gvkey_cited','year']).size().reset_index(name='pat_cit')\n",
    "pe = pe.groupby(['gvkey','gvkey_cited','year']).size().reset_index(name='pat_cit')\n",
    "\n",
    "pb.iloc[0:10,:]"
   ]
  },
  {
   "cell_type": "code",
   "execution_count": 8,
   "metadata": {},
   "outputs": [
    {
     "data": {
      "text/plain": [
       "(23957, 130617)"
      ]
     },
     "execution_count": 8,
     "metadata": {},
     "output_type": "execute_result"
    }
   ],
   "source": [
    "len(pb), len(pe)"
   ]
  },
  {
   "cell_type": "code",
   "execution_count": 10,
   "metadata": {
    "scrolled": true
   },
   "outputs": [
    {
     "data": {
      "text/plain": [
       "(22404, 128099)"
      ]
     },
     "execution_count": 10,
     "metadata": {},
     "output_type": "execute_result"
    }
   ],
   "source": [
    "pb = pb.loc[pb['gvkey']!=pb['gvkey_cited'],:].reset_index(drop=True)\n",
    "pe = pe.loc[pe['gvkey']!=pe['gvkey_cited'],:].reset_index(drop=True)\n",
    "\n",
    "len(pb), len(pe)"
   ]
  },
  {
   "cell_type": "code",
   "execution_count": 15,
   "metadata": {},
   "outputs": [
    {
     "data": {
      "text/plain": [
       "(5134, 32650)"
      ]
     },
     "execution_count": 15,
     "metadata": {},
     "output_type": "execute_result"
    }
   ],
   "source": [
    "ab = pd.read_csv('app_cit_edge_bio.csv')\n",
    "ae = pd.read_csv('app_cit_edge_EE&IT.csv')\n",
    "\n",
    "ab = ab.groupby(['gvkey','gvkey_cited','year']).size().reset_index(name='app_cit')\n",
    "ae = ae.groupby(['gvkey','gvkey_cited','year']).size().reset_index(name='app_cit')\n",
    "\n",
    "len(ab), len(ae)"
   ]
  },
  {
   "cell_type": "code",
   "execution_count": 16,
   "metadata": {},
   "outputs": [
    {
     "data": {
      "text/plain": [
       "(4148, 30966)"
      ]
     },
     "execution_count": 16,
     "metadata": {},
     "output_type": "execute_result"
    }
   ],
   "source": [
    "ab = ab.loc[ab['gvkey']!=ab['gvkey_cited'],:].reset_index(drop=True)\n",
    "ae = ae.loc[ae['gvkey']!=ae['gvkey_cited'],:].reset_index(drop=True)\n",
    "\n",
    "len(ab), len(ae)"
   ]
  },
  {
   "cell_type": "code",
   "execution_count": 17,
   "metadata": {},
   "outputs": [
    {
     "data": {
      "text/html": [
       "<div>\n",
       "<style>\n",
       "    .dataframe thead tr:only-child th {\n",
       "        text-align: right;\n",
       "    }\n",
       "\n",
       "    .dataframe thead th {\n",
       "        text-align: left;\n",
       "    }\n",
       "\n",
       "    .dataframe tbody tr th {\n",
       "        vertical-align: top;\n",
       "    }\n",
       "</style>\n",
       "<table border=\"1\" class=\"dataframe\">\n",
       "  <thead>\n",
       "    <tr style=\"text-align: right;\">\n",
       "      <th></th>\n",
       "      <th>gvkey</th>\n",
       "      <th>gvkey_cited</th>\n",
       "      <th>year</th>\n",
       "      <th>app_cit</th>\n",
       "    </tr>\n",
       "  </thead>\n",
       "  <tbody>\n",
       "    <tr>\n",
       "      <th>0</th>\n",
       "      <td>1078</td>\n",
       "      <td>1602.0</td>\n",
       "      <td>2010</td>\n",
       "      <td>1</td>\n",
       "    </tr>\n",
       "    <tr>\n",
       "      <th>1</th>\n",
       "      <td>1078</td>\n",
       "      <td>1602.0</td>\n",
       "      <td>2011</td>\n",
       "      <td>2</td>\n",
       "    </tr>\n",
       "    <tr>\n",
       "      <th>2</th>\n",
       "      <td>1078</td>\n",
       "      <td>1602.0</td>\n",
       "      <td>2012</td>\n",
       "      <td>1</td>\n",
       "    </tr>\n",
       "    <tr>\n",
       "      <th>3</th>\n",
       "      <td>1078</td>\n",
       "      <td>2044.0</td>\n",
       "      <td>2007</td>\n",
       "      <td>4</td>\n",
       "    </tr>\n",
       "    <tr>\n",
       "      <th>4</th>\n",
       "      <td>1078</td>\n",
       "      <td>2044.0</td>\n",
       "      <td>2008</td>\n",
       "      <td>3</td>\n",
       "    </tr>\n",
       "    <tr>\n",
       "      <th>5</th>\n",
       "      <td>1078</td>\n",
       "      <td>2044.0</td>\n",
       "      <td>2009</td>\n",
       "      <td>4</td>\n",
       "    </tr>\n",
       "    <tr>\n",
       "      <th>6</th>\n",
       "      <td>1078</td>\n",
       "      <td>2044.0</td>\n",
       "      <td>2010</td>\n",
       "      <td>6</td>\n",
       "    </tr>\n",
       "    <tr>\n",
       "      <th>7</th>\n",
       "      <td>1078</td>\n",
       "      <td>2044.0</td>\n",
       "      <td>2011</td>\n",
       "      <td>12</td>\n",
       "    </tr>\n",
       "    <tr>\n",
       "      <th>8</th>\n",
       "      <td>1078</td>\n",
       "      <td>2044.0</td>\n",
       "      <td>2012</td>\n",
       "      <td>8</td>\n",
       "    </tr>\n",
       "    <tr>\n",
       "      <th>9</th>\n",
       "      <td>1078</td>\n",
       "      <td>2085.0</td>\n",
       "      <td>2008</td>\n",
       "      <td>1</td>\n",
       "    </tr>\n",
       "  </tbody>\n",
       "</table>\n",
       "</div>"
      ],
      "text/plain": [
       "   gvkey  gvkey_cited  year  app_cit\n",
       "0   1078       1602.0  2010        1\n",
       "1   1078       1602.0  2011        2\n",
       "2   1078       1602.0  2012        1\n",
       "3   1078       2044.0  2007        4\n",
       "4   1078       2044.0  2008        3\n",
       "5   1078       2044.0  2009        4\n",
       "6   1078       2044.0  2010        6\n",
       "7   1078       2044.0  2011       12\n",
       "8   1078       2044.0  2012        8\n",
       "9   1078       2085.0  2008        1"
      ]
     },
     "execution_count": 17,
     "metadata": {},
     "output_type": "execute_result"
    }
   ],
   "source": [
    "ab.iloc[0:10,:]"
   ]
  },
  {
   "cell_type": "code",
   "execution_count": 18,
   "metadata": {},
   "outputs": [
    {
     "data": {
      "text/plain": [
       "(23418, 134016)"
      ]
     },
     "execution_count": 18,
     "metadata": {},
     "output_type": "execute_result"
    }
   ],
   "source": [
    "pb = pb.merge(ab,how='outer',on=['gvkey','gvkey_cited','year']).fillna(0)\n",
    "pe = pe.merge(ae,how='outer',on=['gvkey','gvkey_cited','year']).fillna(0)\n",
    "\n",
    "len(pb), len(pe)"
   ]
  },
  {
   "cell_type": "code",
   "execution_count": 19,
   "metadata": {
    "collapsed": true
   },
   "outputs": [],
   "source": [
    "pb.to_csv('feature_ffy/cit_bio.csv',index=False)\n",
    "pe.to_csv('feature_ffy/cit_EE&IT.csv',index=False)"
   ]
  },
  {
   "cell_type": "markdown",
   "metadata": {
    "collapsed": true
   },
   "source": [
    "### 2. litigation"
   ]
  },
  {
   "cell_type": "code",
   "execution_count": 2,
   "metadata": {},
   "outputs": [
    {
     "data": {
      "text/plain": [
       "(28494, 35720)"
      ]
     },
     "execution_count": 2,
     "metadata": {},
     "output_type": "execute_result"
    }
   ],
   "source": [
    "os.chdir('E:/apps/db_table')\n",
    "\n",
    "df = pd.read_csv('lit_temp.csv')\n",
    "del df['date_filed']\n",
    "\n",
    "attack = ['Counter Claimant','Plaintiff','Counter-claimant','Consol Counter Claimant','Consol Plaintiff','ThirdParty Plaintiff',\n",
    "          'Counter Plaintiff','Counter-Claimant','Third Party Plaintiff','3rd party plaintiff','Counterclaim Plaintiff']\n",
    "defend = ['Defendant','Counter Defendant','Consol Defendant','Counter-defendant','ThirdParty Defendant','Consol Counter Defendant',\n",
    "         'Third Party Defendant','3rd party defendant','Counter-Defendant','Consolidated Defendant','Counterclaim Defendant']\n",
    "\n",
    "atk = df.loc[df['party_type'].isin(attack),:]\n",
    "dfd = df.loc[df['party_type'].isin(defend),:]\n",
    "\n",
    "len(atk), len(dfd)"
   ]
  },
  {
   "cell_type": "code",
   "execution_count": 3,
   "metadata": {
    "collapsed": true
   },
   "outputs": [],
   "source": [
    "bio = pd.read_csv('litigation_gvkey_BIO.csv')\n",
    "ee = pd.read_csv('litigation_gvkey_EE&IT.csv')\n",
    "\n",
    "bioa = bio.merge(atk,how='left',on='name')\n",
    "biod = bio.merge(dfd,how='left',on='name')\n",
    "\n",
    "eea = ee.merge(atk,how='left',on='name')\n",
    "eed = ee.merge(dfd,how='left',on='name')"
   ]
  },
  {
   "cell_type": "code",
   "execution_count": 4,
   "metadata": {
    "collapsed": true
   },
   "outputs": [],
   "source": [
    "l = [bioa,biod,eea,eed]\n",
    "\n",
    "for df in l:\n",
    "    del df['name']\n",
    "    df.dropna(how='any',inplace=True)\n",
    "    df.drop_duplicates(inplace=True)\n",
    "    df.reset_index(drop=True, inplace=True)"
   ]
  },
  {
   "cell_type": "code",
   "execution_count": 5,
   "metadata": {},
   "outputs": [
    {
     "data": {
      "text/plain": [
       "['gvkey_cited', 'case_row_id', 'year']"
      ]
     },
     "execution_count": 5,
     "metadata": {},
     "output_type": "execute_result"
    }
   ],
   "source": [
    "I = [bioa,eea]\n",
    "\n",
    "for df in I:\n",
    "    del df['party_type']\n",
    "    df.rename(columns={\"gvkey\": \"gvkey_cited\"},inplace=True)\n",
    "\n",
    "list(bioa)"
   ]
  },
  {
   "cell_type": "code",
   "execution_count": 6,
   "metadata": {
    "collapsed": true
   },
   "outputs": [],
   "source": [
    "dcnt = ['Counter Defendant','Counter-defendant','Consol Counter Defendant','Counter-Defendant','Counterclaim Defendant']\n",
    "\n",
    "def counter_d(party):\n",
    "    dum=1 if party in dcnt else 0\n",
    "    return dum\n",
    "\n",
    "d = [biod,eed]\n",
    "        \n",
    "for df in d:\n",
    "    df['counter'] = df['party_type'].apply(counter_d,1)\n",
    "    del df['party_type']"
   ]
  },
  {
   "cell_type": "code",
   "execution_count": 7,
   "metadata": {},
   "outputs": [
    {
     "data": {
      "text/html": [
       "<div>\n",
       "<style>\n",
       "    .dataframe thead tr:only-child th {\n",
       "        text-align: right;\n",
       "    }\n",
       "\n",
       "    .dataframe thead th {\n",
       "        text-align: left;\n",
       "    }\n",
       "\n",
       "    .dataframe tbody tr th {\n",
       "        vertical-align: top;\n",
       "    }\n",
       "</style>\n",
       "<table border=\"1\" class=\"dataframe\">\n",
       "  <thead>\n",
       "    <tr style=\"text-align: right;\">\n",
       "      <th></th>\n",
       "      <th>gvkey</th>\n",
       "      <th>case_row_id</th>\n",
       "      <th>year</th>\n",
       "      <th>counter</th>\n",
       "    </tr>\n",
       "  </thead>\n",
       "  <tbody>\n",
       "    <tr>\n",
       "      <th>0</th>\n",
       "      <td>1078</td>\n",
       "      <td>38104.0</td>\n",
       "      <td>2009.0</td>\n",
       "      <td>0</td>\n",
       "    </tr>\n",
       "    <tr>\n",
       "      <th>1</th>\n",
       "      <td>1078</td>\n",
       "      <td>54941.0</td>\n",
       "      <td>2009.0</td>\n",
       "      <td>0</td>\n",
       "    </tr>\n",
       "    <tr>\n",
       "      <th>2</th>\n",
       "      <td>1078</td>\n",
       "      <td>16362.0</td>\n",
       "      <td>2009.0</td>\n",
       "      <td>1</td>\n",
       "    </tr>\n",
       "    <tr>\n",
       "      <th>3</th>\n",
       "      <td>1078</td>\n",
       "      <td>17361.0</td>\n",
       "      <td>2010.0</td>\n",
       "      <td>0</td>\n",
       "    </tr>\n",
       "    <tr>\n",
       "      <th>4</th>\n",
       "      <td>1078</td>\n",
       "      <td>15824.0</td>\n",
       "      <td>2009.0</td>\n",
       "      <td>1</td>\n",
       "    </tr>\n",
       "    <tr>\n",
       "      <th>5</th>\n",
       "      <td>1078</td>\n",
       "      <td>16490.0</td>\n",
       "      <td>2010.0</td>\n",
       "      <td>1</td>\n",
       "    </tr>\n",
       "    <tr>\n",
       "      <th>6</th>\n",
       "      <td>1078</td>\n",
       "      <td>17105.0</td>\n",
       "      <td>2010.0</td>\n",
       "      <td>0</td>\n",
       "    </tr>\n",
       "    <tr>\n",
       "      <th>7</th>\n",
       "      <td>1078</td>\n",
       "      <td>18303.0</td>\n",
       "      <td>2011.0</td>\n",
       "      <td>1</td>\n",
       "    </tr>\n",
       "    <tr>\n",
       "      <th>8</th>\n",
       "      <td>1078</td>\n",
       "      <td>19092.0</td>\n",
       "      <td>2012.0</td>\n",
       "      <td>1</td>\n",
       "    </tr>\n",
       "    <tr>\n",
       "      <th>9</th>\n",
       "      <td>1078</td>\n",
       "      <td>35734.0</td>\n",
       "      <td>2006.0</td>\n",
       "      <td>0</td>\n",
       "    </tr>\n",
       "  </tbody>\n",
       "</table>\n",
       "</div>"
      ],
      "text/plain": [
       "   gvkey  case_row_id    year  counter\n",
       "0   1078      38104.0  2009.0        0\n",
       "1   1078      54941.0  2009.0        0\n",
       "2   1078      16362.0  2009.0        1\n",
       "3   1078      17361.0  2010.0        0\n",
       "4   1078      15824.0  2009.0        1\n",
       "5   1078      16490.0  2010.0        1\n",
       "6   1078      17105.0  2010.0        0\n",
       "7   1078      18303.0  2011.0        1\n",
       "8   1078      19092.0  2012.0        1\n",
       "9   1078      35734.0  2006.0        0"
      ]
     },
     "execution_count": 7,
     "metadata": {},
     "output_type": "execute_result"
    }
   ],
   "source": [
    "biod.iloc[0:10,:]"
   ]
  },
  {
   "cell_type": "code",
   "execution_count": 8,
   "metadata": {},
   "outputs": [
    {
     "data": {
      "text/plain": [
       "(654, 5589)"
      ]
     },
     "execution_count": 8,
     "metadata": {},
     "output_type": "execute_result"
    }
   ],
   "source": [
    "bio = biod.merge(bioa,how='left',on=['case_row_id','year'])\n",
    "ee = eed.merge(eea,how='left',on=['case_row_id','year'])\n",
    "\n",
    "len(bio),len(ee)"
   ]
  },
  {
   "cell_type": "code",
   "execution_count": 9,
   "metadata": {},
   "outputs": [
    {
     "data": {
      "text/plain": [
       "281"
      ]
     },
     "execution_count": 9,
     "metadata": {},
     "output_type": "execute_result"
    }
   ],
   "source": [
    "bio = bio[['gvkey','gvkey_cited','year','counter','case_row_id']]\n",
    "bio.dropna(how='any',inplace=True)\n",
    "bio = bio.loc[bio['gvkey']!=bio['gvkey_cited'],:].reset_index(drop=True)\n",
    "len(bio)"
   ]
  },
  {
   "cell_type": "code",
   "execution_count": 10,
   "metadata": {},
   "outputs": [
    {
     "data": {
      "text/plain": [
       "3676"
      ]
     },
     "execution_count": 10,
     "metadata": {},
     "output_type": "execute_result"
    }
   ],
   "source": [
    "ee = ee[['gvkey','gvkey_cited','year','counter','case_row_id']]\n",
    "ee.dropna(how='any',inplace=True)\n",
    "ee = ee.loc[ee['gvkey']!=ee['gvkey_cited'],:].reset_index(drop=True)\n",
    "len(ee)"
   ]
  },
  {
   "cell_type": "code",
   "execution_count": 11,
   "metadata": {
    "collapsed": true
   },
   "outputs": [],
   "source": [
    "def get_lit_var(df):    \n",
    "    df1 = df.loc[:,['gvkey','gvkey_cited','year']]\n",
    "    df1['year'] = df1['year']-1\n",
    "    df1['lit_t1'] = 0\n",
    "    df1 = df1.groupby(['gvkey','gvkey_cited','year'], as_index=False).count()    \n",
    "    \n",
    "    df2 = df.loc[:,['gvkey','gvkey_cited','year','counter']]\n",
    "    df2 = df2.loc[df2['counter']==1,['gvkey','gvkey_cited','year']]\n",
    "    df2['year'] = df2['year']-1\n",
    "    df2['lit_t_c'] = 0\n",
    "    df2 = df2.groupby(['gvkey','gvkey_cited','year'], as_index=False).count()\n",
    "    \n",
    "    return [df1,df2]"
   ]
  },
  {
   "cell_type": "code",
   "execution_count": 18,
   "metadata": {
    "collapsed": true,
    "scrolled": true
   },
   "outputs": [],
   "source": [
    "a = get_lit_var(bio)\n",
    "b = get_lit_var(ee)\n",
    "c = ['t1','t1_c']\n",
    "\n",
    "for i in range(0,2):\n",
    "    a[i].to_csv('E:/apps/feature_ffy/lit_'+c[i]+'_bio.csv',index=False)\n",
    "    b[i].to_csv('E:/apps/feature_ffy/lit_'+c[i]+'_EE&IT.csv',index=False)"
   ]
  },
  {
   "cell_type": "markdown",
   "metadata": {},
   "source": [
    "### 3. tech proxy"
   ]
  },
  {
   "cell_type": "code",
   "execution_count": 1,
   "metadata": {
    "collapsed": true
   },
   "outputs": [],
   "source": [
    "import pandas as pd\n",
    "import numpy as np\n",
    "import csv\n",
    "import os\n",
    "import math\n",
    "\n",
    "os.chdir('E:/apps/patcit measure')"
   ]
  },
  {
   "cell_type": "code",
   "execution_count": 4,
   "metadata": {
    "collapsed": true
   },
   "outputs": [],
   "source": [
    "def get_edge(ind):\n",
    "    fname = 'E:/apps/feature_ffy/proximity_' + ind + '.csv'\n",
    "    \n",
    "    with open(fname,'wb') as w:\n",
    "        writer = csv.writer(w)\n",
    "        writer.writerow(['gvkey','gvkey_cited','year','t_proxy'])\n",
    "        \n",
    "        for y in range(2006,2013):\n",
    "            fread = 'proximity_' + ind + '_' + str(y) +'.csv'\n",
    "            with open(fread,'rb') as f:\n",
    "                reader = csv.reader(f)\n",
    "                header = reader.next()[1:]\n",
    "                i=1\n",
    "                for line in reader:\n",
    "                    gvkey = line[0]\n",
    "                    year = str(y)\n",
    "                    for key, value in zip(header[i:],line[i+1:]):\n",
    "                        writer.writerow([gvkey,key,year,value])\n",
    "                    i += 1"
   ]
  },
  {
   "cell_type": "code",
   "execution_count": 5,
   "metadata": {
    "collapsed": true
   },
   "outputs": [],
   "source": [
    "get_edge('bio')\n",
    "get_edge('EE&IT')"
   ]
  },
  {
   "cell_type": "markdown",
   "metadata": {},
   "source": [
    "### 4. Join"
   ]
  },
  {
   "cell_type": "code",
   "execution_count": 10,
   "metadata": {},
   "outputs": [],
   "source": [
    "os.chdir('E:/apps/feature_ffy')\n",
    "\n",
    "bio = pd.read_csv('lit_t1_bio.csv')\n",
    "ee = pd.read_csv('lit_t1_EE&It.csv')\n",
    "\n",
    "bc = pd.read_csv('lit_t1_c_bio.csv')\n",
    "ec = pd.read_csv('lit_t1_c_EE&It.csv')\n",
    "\n",
    "bio = bio.merge(bc,how='left',on=['gvkey','gvkey_cited','year']).fillna(0)\n",
    "ee = ee.merge(ec,how='left',on=['gvkey','gvkey_cited','year']).fillna(0)"
   ]
  },
  {
   "cell_type": "code",
   "execution_count": 14,
   "metadata": {},
   "outputs": [
    {
     "data": {
      "text/plain": [
       "(23510, 135361)"
      ]
     },
     "execution_count": 14,
     "metadata": {},
     "output_type": "execute_result"
    }
   ],
   "source": [
    "bc = pd.read_csv('cit_bio.csv')\n",
    "ec = pd.read_csv('cit_EE&It.csv')\n",
    "\n",
    "bio = bio.merge(bc,how='outer',on=['gvkey','gvkey_cited','year']).fillna(0)\n",
    "ee = ee.merge(ec,how='outer',on=['gvkey','gvkey_cited','year']).fillna(0)\n",
    "\n",
    "len(bio), len(ee)"
   ]
  },
  {
   "cell_type": "code",
   "execution_count": 15,
   "metadata": {
    "scrolled": true
   },
   "outputs": [
    {
     "data": {
      "text/plain": [
       "(23510, 135361)"
      ]
     },
     "execution_count": 15,
     "metadata": {},
     "output_type": "execute_result"
    }
   ],
   "source": [
    "bp = pd.read_csv('proximity_bio.csv')\n",
    "ep = pd.read_csv('proximity_EE&IT.csv')\n",
    "\n",
    "bio = bio.merge(bp,how='left',on=['gvkey','gvkey_cited','year']).fillna(0)\n",
    "ee = ee.merge(ep,how='left',on=['gvkey','gvkey_cited','year']).fillna(0)\n",
    "\n",
    "len(bio), len(ee)"
   ]
  },
  {
   "cell_type": "code",
   "execution_count": 16,
   "metadata": {
    "collapsed": true
   },
   "outputs": [],
   "source": [
    "bio.to_csv('X_bio_mvars.csv',index=False)\n",
    "ee.to_csv('X_EE&IT_mvars.csv',index=False)"
   ]
  }
 ],
 "metadata": {
  "kernelspec": {
   "display_name": "Python 2",
   "language": "python",
   "name": "python2"
  },
  "language_info": {
   "codemirror_mode": {
    "name": "ipython",
    "version": 2
   },
   "file_extension": ".py",
   "mimetype": "text/x-python",
   "name": "python",
   "nbconvert_exporter": "python",
   "pygments_lexer": "ipython2",
   "version": "2.7.13"
  }
 },
 "nbformat": 4,
 "nbformat_minor": 2
}
