{
 "cells": [
  {
   "cell_type": "markdown",
   "metadata": {},
   "source": [
    "# Patent citation 제작\n",
    "\n",
    "### 1. patent assignee, patent year 제작\n",
    "- 기존 파일에 옛날 patent 정보 (3,4,5번대) 업데이트 필요\n",
    "\n",
    "### 2. 기업간 adj matrix 제작\n",
    "- (patent_id -> cited)를 (gvkey -> gvkey)로 바꾸기\n",
    "\n",
    "### 3. weight sum\n",
    "- 전에 구한 weight로 weight sum해서 firm level 변수 제작\n",
    "\n",
    "### 4. patent stock\n",
    "- 01~05부터 5년 단위로 잘라서 07~11까지 firm level 변수 제작"
   ]
  },
  {
   "cell_type": "markdown",
   "metadata": {},
   "source": [
    "### 1. patent assignee 제작\n",
    "- __6836904번까지 assignee 정보, year 정보 필요__\n",
    "- assingee\n",
    "    - raw data에서 patent_id, raw_assignee 추출  \n",
    "    - raw_assignee -> assignee (assignee_raw join)\n",
    "    - 기존 csv에 합치기 (pd.concat)\n",
    "- year\n",
    "    - nber 기준 2001 ~ 2004 patent 정보 뽑기 (pid, nber, uspc, uspc_sub, year)\n",
    "    - 기존 csv에 합치기 (pd.concat)"
   ]
  },
  {
   "cell_type": "markdown",
   "metadata": {},
   "source": [
    "__patent_id, raw_assignee 추출__"
   ]
  },
  {
   "cell_type": "code",
   "execution_count": 1,
   "metadata": {
    "collapsed": true
   },
   "outputs": [],
   "source": [
    "import os\n",
    "import csv\n",
    "import zipfile\n",
    "\n",
    "os.chdir(\"E:/patent/all_patent\")"
   ]
  },
  {
   "cell_type": "code",
   "execution_count": 2,
   "metadata": {
    "collapsed": true
   },
   "outputs": [],
   "source": [
    "zf_patent1 = zipfile.ZipFile('harvard_dataset_final_merged_output_1.zip') \n",
    "csv_patent1 = zf_patent1.open('harvard_dataset_final_merged_output_1.csv')\n",
    "csv_patent_reader1 = csv.reader(csv_patent1)\n",
    "header = csv_patent_reader1.next()\n",
    "\n",
    "zf_patent2 = zipfile.ZipFile('harvard_dataset_final_merged_output_2.zip') \n",
    "csv_patent2 = zf_patent2.open('harvard_dataset_final_merged_output_2.csv')\n",
    "csv_patent_reader2 = csv.reader(csv_patent2)\n",
    "header = csv_patent_reader2.next()"
   ]
  },
  {
   "cell_type": "code",
   "execution_count": 3,
   "metadata": {
    "collapsed": true
   },
   "outputs": [],
   "source": [
    "#select the assignee col\n",
    "assignee_col = []\n",
    "for i in range(0,len(header)):\n",
    "    if 'organization' in header[i]:   \n",
    "        assignee_col.append(i)\n",
    "        \n",
    "del assignee_col[-3:]    #delete lawyer org"
   ]
  },
  {
   "cell_type": "code",
   "execution_count": 4,
   "metadata": {},
   "outputs": [
    {
     "ename": "NameError",
     "evalue": "name 'pd' is not defined",
     "output_type": "error",
     "traceback": [
      "\u001b[1;31m---------------------------------------------------------------------------\u001b[0m",
      "\u001b[1;31mNameError\u001b[0m                                 Traceback (most recent call last)",
      "\u001b[1;32m<ipython-input-4-f8779794d5f3>\u001b[0m in \u001b[0;36m<module>\u001b[1;34m()\u001b[0m\n\u001b[0;32m     30\u001b[0m             \u001b[0mp_id\u001b[0m\u001b[1;33m.\u001b[0m\u001b[0mappend\u001b[0m\u001b[1;33m(\u001b[0m\u001b[0mline\u001b[0m\u001b[1;33m[\u001b[0m\u001b[1;36m1\u001b[0m\u001b[1;33m]\u001b[0m\u001b[1;33m)\u001b[0m\u001b[1;33m\u001b[0m\u001b[0m\n\u001b[0;32m     31\u001b[0m \u001b[1;33m\u001b[0m\u001b[0m\n\u001b[1;32m---> 32\u001b[1;33m \u001b[0mdf\u001b[0m \u001b[1;33m=\u001b[0m \u001b[0mpd\u001b[0m\u001b[1;33m.\u001b[0m\u001b[0mDataFrame\u001b[0m\u001b[1;33m(\u001b[0m\u001b[1;33m{\u001b[0m\u001b[1;34m'patent_id'\u001b[0m\u001b[1;33m:\u001b[0m\u001b[0mp_id\u001b[0m\u001b[1;33m,\u001b[0m\u001b[1;34m'raw_assignee'\u001b[0m\u001b[1;33m:\u001b[0m\u001b[0massignee\u001b[0m\u001b[1;33m}\u001b[0m\u001b[1;33m)\u001b[0m\u001b[1;33m\u001b[0m\u001b[0m\n\u001b[0m\u001b[0;32m     33\u001b[0m \u001b[0mdf\u001b[0m \u001b[1;33m=\u001b[0m \u001b[0mdf\u001b[0m\u001b[1;33m.\u001b[0m\u001b[0mdrop_duplicates\u001b[0m\u001b[1;33m(\u001b[0m\u001b[1;33m)\u001b[0m\u001b[1;33m\u001b[0m\u001b[0m\n\u001b[0;32m     34\u001b[0m \u001b[0mdf\u001b[0m\u001b[1;33m.\u001b[0m\u001b[0mto_csv\u001b[0m\u001b[1;33m(\u001b[0m\u001b[1;34m'E:/apps/pid_raw_assignee.csv'\u001b[0m\u001b[1;33m,\u001b[0m\u001b[0mindex\u001b[0m\u001b[1;33m=\u001b[0m\u001b[0mFalse\u001b[0m\u001b[1;33m)\u001b[0m\u001b[1;33m\u001b[0m\u001b[0m\n",
      "\u001b[1;31mNameError\u001b[0m: name 'pd' is not defined"
     ]
    }
   ],
   "source": [
    "assignee = []\n",
    "p_id = []\n",
    "\n",
    "for line in csv_patent_reader1:\n",
    "    for i in assignee_col:\n",
    "        if line[i]=='':\n",
    "            break\n",
    "        \n",
    "        elif line[i]=='nan':\n",
    "            assignee.append('private')\n",
    "            p_id.append(line[1])\n",
    "                        \n",
    "        else:\n",
    "            assignee.append(line[i])\n",
    "            p_id.append(line[1])\n",
    "                        \n",
    "for line in csv_patent_reader2:\n",
    "    if line[i] == '6836905':\n",
    "        break\n",
    "    for i in assignee_col:\n",
    "        if line[i]=='':\n",
    "            break\n",
    "        \n",
    "        elif line[i]=='nan':\n",
    "            assignee.append('private')\n",
    "            p_id.append(line[1])\n",
    "                        \n",
    "        else:\n",
    "            assignee.append(line[i])\n",
    "            p_id.append(line[1])"
   ]
  },
  {
   "cell_type": "code",
   "execution_count": 5,
   "metadata": {},
   "outputs": [
    {
     "data": {
      "text/plain": [
       "6894521"
      ]
     },
     "execution_count": 5,
     "metadata": {},
     "output_type": "execute_result"
    }
   ],
   "source": [
    "len(p_id)"
   ]
  },
  {
   "cell_type": "code",
   "execution_count": 9,
   "metadata": {},
   "outputs": [
    {
     "data": {
      "text/plain": [
       "'RE45078'"
      ]
     },
     "execution_count": 9,
     "metadata": {},
     "output_type": "execute_result"
    }
   ],
   "source": [
    "p_id[-1]"
   ]
  },
  {
   "cell_type": "code",
   "execution_count": 10,
   "metadata": {
    "collapsed": true
   },
   "outputs": [],
   "source": [
    "import pandas as pd\n",
    "\n",
    "df = pd.DataFrame({'patent_id':p_id,'raw_assignee':assignee})\n",
    "df = df.drop_duplicates()"
   ]
  },
  {
   "cell_type": "code",
   "execution_count": 11,
   "metadata": {},
   "outputs": [
    {
     "data": {
      "text/plain": [
       "5002108"
      ]
     },
     "execution_count": 11,
     "metadata": {},
     "output_type": "execute_result"
    }
   ],
   "source": [
    "len(df)"
   ]
  },
  {
   "cell_type": "code",
   "execution_count": 12,
   "metadata": {},
   "outputs": [
    {
     "data": {
      "text/html": [
       "<div>\n",
       "<style>\n",
       "    .dataframe thead tr:only-child th {\n",
       "        text-align: right;\n",
       "    }\n",
       "\n",
       "    .dataframe thead th {\n",
       "        text-align: left;\n",
       "    }\n",
       "\n",
       "    .dataframe tbody tr th {\n",
       "        vertical-align: top;\n",
       "    }\n",
       "</style>\n",
       "<table border=\"1\" class=\"dataframe\">\n",
       "  <thead>\n",
       "    <tr style=\"text-align: right;\">\n",
       "      <th></th>\n",
       "      <th>patent_id</th>\n",
       "      <th>raw_assignee</th>\n",
       "    </tr>\n",
       "  </thead>\n",
       "  <tbody>\n",
       "    <tr>\n",
       "      <th>0</th>\n",
       "      <td>3858241</td>\n",
       "      <td>UNITED STATES OF AMERICA, ARMY</td>\n",
       "    </tr>\n",
       "    <tr>\n",
       "      <th>1</th>\n",
       "      <td>3858242</td>\n",
       "      <td>private</td>\n",
       "    </tr>\n",
       "    <tr>\n",
       "      <th>2</th>\n",
       "      <td>3858243</td>\n",
       "      <td>PLYMATIC</td>\n",
       "    </tr>\n",
       "    <tr>\n",
       "      <th>3</th>\n",
       "      <td>3858244</td>\n",
       "      <td>private</td>\n",
       "    </tr>\n",
       "    <tr>\n",
       "      <th>4</th>\n",
       "      <td>3858245</td>\n",
       "      <td>HAIR AGAIN LTD.</td>\n",
       "    </tr>\n",
       "    <tr>\n",
       "      <th>5</th>\n",
       "      <td>3858246</td>\n",
       "      <td>private</td>\n",
       "    </tr>\n",
       "    <tr>\n",
       "      <th>6</th>\n",
       "      <td>3858247</td>\n",
       "      <td>private</td>\n",
       "    </tr>\n",
       "    <tr>\n",
       "      <th>7</th>\n",
       "      <td>3858248</td>\n",
       "      <td>private</td>\n",
       "    </tr>\n",
       "    <tr>\n",
       "      <th>8</th>\n",
       "      <td>3858249</td>\n",
       "      <td>private</td>\n",
       "    </tr>\n",
       "    <tr>\n",
       "      <th>9</th>\n",
       "      <td>3858250</td>\n",
       "      <td>private</td>\n",
       "    </tr>\n",
       "  </tbody>\n",
       "</table>\n",
       "</div>"
      ],
      "text/plain": [
       "  patent_id                    raw_assignee\n",
       "0   3858241  UNITED STATES OF AMERICA, ARMY\n",
       "1   3858242                         private\n",
       "2   3858243                        PLYMATIC\n",
       "3   3858244                         private\n",
       "4   3858245                 HAIR AGAIN LTD.\n",
       "5   3858246                         private\n",
       "6   3858247                         private\n",
       "7   3858248                         private\n",
       "8   3858249                         private\n",
       "9   3858250                         private"
      ]
     },
     "execution_count": 12,
     "metadata": {},
     "output_type": "execute_result"
    }
   ],
   "source": [
    "df.sort_values(by='patent_id')\n",
    "df.iloc[0:10,:]"
   ]
  },
  {
   "cell_type": "code",
   "execution_count": 13,
   "metadata": {},
   "outputs": [
    {
     "data": {
      "text/plain": [
       "4641719"
      ]
     },
     "execution_count": 13,
     "metadata": {},
     "output_type": "execute_result"
    }
   ],
   "source": [
    "df = df.loc[df['raw_assignee']!='private',:]\n",
    "len(df)"
   ]
  },
  {
   "cell_type": "code",
   "execution_count": 18,
   "metadata": {},
   "outputs": [
    {
     "data": {
      "text/html": [
       "<div>\n",
       "<style>\n",
       "    .dataframe thead tr:only-child th {\n",
       "        text-align: right;\n",
       "    }\n",
       "\n",
       "    .dataframe thead th {\n",
       "        text-align: left;\n",
       "    }\n",
       "\n",
       "    .dataframe tbody tr th {\n",
       "        vertical-align: top;\n",
       "    }\n",
       "</style>\n",
       "<table border=\"1\" class=\"dataframe\">\n",
       "  <thead>\n",
       "    <tr style=\"text-align: right;\">\n",
       "      <th></th>\n",
       "      <th>patent_id</th>\n",
       "      <th>raw_assignee</th>\n",
       "    </tr>\n",
       "  </thead>\n",
       "  <tbody>\n",
       "    <tr>\n",
       "      <th>2501741</th>\n",
       "      <td>6836905</td>\n",
       "      <td>Sande Hockey Inc.</td>\n",
       "    </tr>\n",
       "  </tbody>\n",
       "</table>\n",
       "</div>"
      ],
      "text/plain": [
       "        patent_id       raw_assignee\n",
       "2501741   6836905  Sande Hockey Inc."
      ]
     },
     "execution_count": 18,
     "metadata": {},
     "output_type": "execute_result"
    }
   ],
   "source": [
    "df.reset_index(drop=True,inplace=True)\n",
    "df.loc[df['patent_id']=='6836905',:]"
   ]
  },
  {
   "cell_type": "code",
   "execution_count": 21,
   "metadata": {
    "collapsed": true
   },
   "outputs": [],
   "source": [
    "df = df.iloc[0:2501741,:]\n",
    "df.to_csv('E:/apps/pid_raw_assignee.csv',index=False)"
   ]
  },
  {
   "cell_type": "markdown",
   "metadata": {},
   "source": [
    "__raw_assignee -> assignee__"
   ]
  },
  {
   "cell_type": "code",
   "execution_count": 30,
   "metadata": {},
   "outputs": [
    {
     "data": {
      "text/plain": [
       "187081"
      ]
     },
     "execution_count": 30,
     "metadata": {},
     "output_type": "execute_result"
    }
   ],
   "source": [
    "os.chdir(\"E:/apps/db_table\")\n",
    "\n",
    "df = pd.read_csv('E:/apps/pid_raw_assignee.csv')\n",
    "\n",
    "ass = pd.read_csv('assignee_raw.csv')\n",
    "ass['raw_assignee'] = map(lambda x: x.upper(), ass['raw_assignee'])\n",
    "\n",
    "len(ass)"
   ]
  },
  {
   "cell_type": "code",
   "execution_count": 31,
   "metadata": {},
   "outputs": [
    {
     "data": {
      "text/plain": [
       "172725"
      ]
     },
     "execution_count": 31,
     "metadata": {},
     "output_type": "execute_result"
    }
   ],
   "source": [
    "ass.drop_duplicates(inplace=True)\n",
    "len(ass)"
   ]
  },
  {
   "cell_type": "code",
   "execution_count": 33,
   "metadata": {},
   "outputs": [
    {
     "data": {
      "text/plain": [
       "2501741"
      ]
     },
     "execution_count": 33,
     "metadata": {},
     "output_type": "execute_result"
    }
   ],
   "source": [
    "df = df.merge(ass, how='left', on='raw_assignee')\n",
    "len(df)"
   ]
  },
  {
   "cell_type": "code",
   "execution_count": 34,
   "metadata": {},
   "outputs": [
    {
     "data": {
      "text/plain": [
       "2499501"
      ]
     },
     "execution_count": 34,
     "metadata": {},
     "output_type": "execute_result"
    }
   ],
   "source": [
    "df.drop('raw_assignee', axis=1, inplace=True)\n",
    "df.drop_duplicates(inplace=True)\n",
    "len(df)"
   ]
  },
  {
   "cell_type": "code",
   "execution_count": 37,
   "metadata": {},
   "outputs": [
    {
     "data": {
      "text/plain": [
       "1799943"
      ]
     },
     "execution_count": 37,
     "metadata": {},
     "output_type": "execute_result"
    }
   ],
   "source": [
    "df.dropna(inplace=True)\n",
    "len(df)"
   ]
  },
  {
   "cell_type": "code",
   "execution_count": 38,
   "metadata": {},
   "outputs": [
    {
     "data": {
      "text/plain": [
       "(3142592, 1799943, 1342649)"
      ]
     },
     "execution_count": 38,
     "metadata": {},
     "output_type": "execute_result"
    }
   ],
   "source": [
    "df.to_csv('patent_assignee_1.csv',index=False)\n",
    "df1 = pd.read_csv('patent_assignee_2.csv')\n",
    "\n",
    "df2 = pd.concat([df,df1],ignore_index=True)\n",
    "\n",
    "len(df2), len(df), len(df1)"
   ]
  },
  {
   "cell_type": "code",
   "execution_count": 39,
   "metadata": {
    "collapsed": true
   },
   "outputs": [],
   "source": [
    "df2.to_csv('patent_assignee.csv',index=False)"
   ]
  },
  {
   "cell_type": "markdown",
   "metadata": {},
   "source": [
    "__nber, year__"
   ]
  },
  {
   "cell_type": "code",
   "execution_count": 1,
   "metadata": {},
   "outputs": [
    {
     "data": {
      "text/plain": [
       "['appl_id',\n",
       " 'pubno',\n",
       " 'patent',\n",
       " 'nber',\n",
       " 'uspc',\n",
       " 'uspc_sub',\n",
       " 'appl_dt',\n",
       " 'prior_dt',\n",
       " 'pub_dt',\n",
       " 'disp_dt',\n",
       " 'disp_ty',\n",
       " 'exp_dt',\n",
       " 'exp_dt_max',\n",
       " 'pta']"
      ]
     },
     "execution_count": 1,
     "metadata": {},
     "output_type": "execute_result"
    }
   ],
   "source": [
    "import csv\n",
    "import os\n",
    "\n",
    "os.chdir('E:/apps')\n",
    "\n",
    "raw = open('raw_uspto/historical_masterfile.csv')\n",
    "reader = csv.reader(raw)\n",
    "header = reader.next()\n",
    "header"
   ]
  },
  {
   "cell_type": "code",
   "execution_count": null,
   "metadata": {
    "collapsed": true
   },
   "outputs": [],
   "source": [
    "IT = ['2','4']\n",
    "YEAR = []   \n",
    "for i in range(0,4):\n",
    "    y=2001\n",
    "    y += i\n",
    "    YEAR.append(str(y))\n",
    "    \n",
    "header = ['patent_id','nber','uspc','uspc_sub','year']\n",
    "\n",
    "with open('raw_uspto/historical_masterfile.csv','rb') as raw,open('patent_class_EE&IT_01_04.csv','wb') as sel, open('patent_class_BIO_01_04.csv','wb') as sel2:\n",
    "    reader = csv.reader(raw)\n",
    "    \n",
    "    writer = csv.writer(sel)\n",
    "    writer2 = csv.writer(sel2)\n",
    "    \n",
    "    writer.writerow(header)\n",
    "    writer2.writerow(header)\n",
    "    \n",
    "    for line in reader:\n",
    "        try:            \n",
    "            if line[3][0] in IT and line[9][-4:] in YEAR:\n",
    "                row = line[2:6] + [line[9][-4:]]\n",
    "                writer.writerow(row)\n",
    "\n",
    "            elif line[3][0] =='3' and line[9][-4:] in YEAR:\n",
    "                row = line[2:6] + [line[9][-4:]]\n",
    "                writer2.writerow(row)\n",
    "                \n",
    "        except ValueError:      #if pid != int, go to the next pat\n",
    "                continue    \n",
    "            "
   ]
  },
  {
   "cell_type": "code",
   "execution_count": 2,
   "metadata": {},
   "outputs": [
    {
     "data": {
      "text/plain": [
       "(210087, 70863, 139224)"
      ]
     },
     "execution_count": 2,
     "metadata": {},
     "output_type": "execute_result"
    }
   ],
   "source": [
    "import os\n",
    "import pandas as pd\n",
    "\n",
    "os.chdir('E:/apps')\n",
    "\n",
    "df = pd.read_csv('patent_class_BIO_01_04.csv')\n",
    "df1 = pd.read_csv('patent_class_BIO_05.csv')\n",
    "\n",
    "df2 = pd.concat([df,df1],ignore_index=True)\n",
    "\n",
    "len(df2), len(df), len(df1)"
   ]
  },
  {
   "cell_type": "code",
   "execution_count": 3,
   "metadata": {
    "collapsed": true
   },
   "outputs": [],
   "source": [
    "df2.to_csv('db_table/patent_class_BIO.csv',index=False)"
   ]
  },
  {
   "cell_type": "code",
   "execution_count": 4,
   "metadata": {
    "collapsed": true
   },
   "outputs": [],
   "source": [
    "df = pd.read_csv('patent_class_EE&IT_01_04.csv')\n",
    "df1 = pd.read_csv('patent_class_EE&IT_05.csv')\n",
    "\n",
    "df2 = pd.concat([df,df1],ignore_index=True)\n",
    "\n",
    "df2.to_csv('db_table/patent_class_EE&IT.csv',index=False)"
   ]
  },
  {
   "cell_type": "markdown",
   "metadata": {},
   "source": [
    "### 2. 기업간 adj matrix 제작\n",
    "- 특정 산업에 해당하는 patent selection (patent_class, pat_citation_byfirm join)  \n",
    "__=> patent_id, cited, year__  \n",
    "- patent_id -> assignee -> gvkey (patent_assignee join, assignee_gvkey join)   \n",
    "__=> gvkey, cited, year__\n",
    "- cited -> assignee -> gvkey (patent_assignee join, assignee_gvkey join)  \n",
    "__=> gvkey, gvkey_cited, year__\n",
    "- year 기준으로 subset, 각각에 대해 adj matrix 제작 (여긴 R 사용)"
   ]
  },
  {
   "cell_type": "code",
   "execution_count": 1,
   "metadata": {
    "collapsed": true
   },
   "outputs": [],
   "source": [
    "import pandas as pd\n",
    "import numpy as np\n",
    "import os\n",
    "\n",
    "os.chdir('E:/apps/db_table')"
   ]
  },
  {
   "cell_type": "markdown",
   "metadata": {},
   "source": [
    "__1. patent selection__"
   ]
  },
  {
   "cell_type": "code",
   "execution_count": 2,
   "metadata": {
    "scrolled": true
   },
   "outputs": [
    {
     "data": {
      "text/plain": [
       "(19694038, 6884027, 12810011)"
      ]
     },
     "execution_count": 2,
     "metadata": {},
     "output_type": "execute_result"
    }
   ],
   "source": [
    "df1 = pd.read_csv('pat_citation_byfirm_1.csv')\n",
    "df2 = pd.read_csv('pat_citation_byfirm_2.csv')\n",
    "\n",
    "df = pd.concat([df1,df2],ignore_index=True)\n",
    "len(df), len(df1), len(df2)"
   ]
  },
  {
   "cell_type": "code",
   "execution_count": 3,
   "metadata": {},
   "outputs": [
    {
     "name": "stdout",
     "output_type": "stream",
     "text": [
      "3870228 8943754\n"
     ]
    }
   ],
   "source": [
    "del df1, df2\n",
    "\n",
    "bio = pd.read_csv('patent_class_BIO.csv')\n",
    "ee = pd.read_csv('patent_class_EE&IT.csv')\n",
    "\n",
    "bio = bio.loc[:,['patent_id','year']]\n",
    "ee = ee.loc[:,['patent_id','year']]\n",
    "\n",
    "bio = bio.merge(df,how='left',on='patent_id')\n",
    "ee = ee.merge(df,how='left',on='patent_id')\n",
    "\n",
    "bio.dropna(how='any',inplace=True)  #drop patents which don't cite apps\n",
    "ee.dropna(how='any',inplace=True)\n",
    "print len(bio), len(ee)"
   ]
  },
  {
   "cell_type": "code",
   "execution_count": 4,
   "metadata": {
    "collapsed": true
   },
   "outputs": [],
   "source": [
    "bio.to_csv('bio_temp.csv',index=False)\n",
    "ee.to_csv('ee_temp.csv',index=False)"
   ]
  },
  {
   "cell_type": "markdown",
   "metadata": {},
   "source": [
    "__2. patent_id -> gvkey__"
   ]
  },
  {
   "cell_type": "code",
   "execution_count": 7,
   "metadata": {},
   "outputs": [
    {
     "data": {
      "text/plain": [
       "(3953630, 9056153)"
      ]
     },
     "execution_count": 7,
     "metadata": {},
     "output_type": "execute_result"
    }
   ],
   "source": [
    "df = pd.read_csv('patent_assignee.csv')\n",
    "\n",
    "bio = bio.merge(df, how='left', on='patent_id')\n",
    "ee = ee.merge(df, how='left', on='patent_id')\n",
    "\n",
    "df = pd.read_csv('assignee_gvkey_BIO.csv')\n",
    "df1 = pd.read_csv('assignee_gvkey_EE&IT.csv')\n",
    "\n",
    "bio = bio.merge(df, how='left', on='assignee')\n",
    "ee = ee.merge(df1, how='left', on='assignee')\n",
    "\n",
    "bio = bio.loc[:,['gvkey','cited','year']]\n",
    "ee = ee.loc[:,['gvkey','cited','year']]\n",
    "\n",
    "len(bio), len(ee)"
   ]
  },
  {
   "cell_type": "code",
   "execution_count": 8,
   "metadata": {},
   "outputs": [
    {
     "data": {
      "text/plain": [
       "(1935285, 4331836)"
      ]
     },
     "execution_count": 8,
     "metadata": {},
     "output_type": "execute_result"
    }
   ],
   "source": [
    "bio.dropna(how='any',inplace=True)  #drop patents which don't have gvkey of assignee\n",
    "ee.dropna(how='any',inplace=True)\n",
    "\n",
    "len(bio), len(ee)"
   ]
  },
  {
   "cell_type": "code",
   "execution_count": 9,
   "metadata": {
    "scrolled": true
   },
   "outputs": [
    {
     "data": {
      "text/html": [
       "<div>\n",
       "<style>\n",
       "    .dataframe thead tr:only-child th {\n",
       "        text-align: right;\n",
       "    }\n",
       "\n",
       "    .dataframe thead th {\n",
       "        text-align: left;\n",
       "    }\n",
       "\n",
       "    .dataframe tbody tr th {\n",
       "        vertical-align: top;\n",
       "    }\n",
       "</style>\n",
       "<table border=\"1\" class=\"dataframe\">\n",
       "  <thead>\n",
       "    <tr style=\"text-align: right;\">\n",
       "      <th></th>\n",
       "      <th>gvkey</th>\n",
       "      <th>cited</th>\n",
       "      <th>year</th>\n",
       "    </tr>\n",
       "  </thead>\n",
       "  <tbody>\n",
       "    <tr>\n",
       "      <th>22</th>\n",
       "      <td>19349.0</td>\n",
       "      <td>6047552</td>\n",
       "      <td>2005</td>\n",
       "    </tr>\n",
       "    <tr>\n",
       "      <th>23</th>\n",
       "      <td>19349.0</td>\n",
       "      <td>5737922</td>\n",
       "      <td>2005</td>\n",
       "    </tr>\n",
       "    <tr>\n",
       "      <th>24</th>\n",
       "      <td>19349.0</td>\n",
       "      <td>5467815</td>\n",
       "      <td>2005</td>\n",
       "    </tr>\n",
       "    <tr>\n",
       "      <th>30</th>\n",
       "      <td>5047.0</td>\n",
       "      <td>5778676</td>\n",
       "      <td>2005</td>\n",
       "    </tr>\n",
       "    <tr>\n",
       "      <th>31</th>\n",
       "      <td>5047.0</td>\n",
       "      <td>5816049</td>\n",
       "      <td>2005</td>\n",
       "    </tr>\n",
       "    <tr>\n",
       "      <th>32</th>\n",
       "      <td>5047.0</td>\n",
       "      <td>5865024</td>\n",
       "      <td>2005</td>\n",
       "    </tr>\n",
       "    <tr>\n",
       "      <th>33</th>\n",
       "      <td>5047.0</td>\n",
       "      <td>6050082</td>\n",
       "      <td>2005</td>\n",
       "    </tr>\n",
       "    <tr>\n",
       "      <th>34</th>\n",
       "      <td>5047.0</td>\n",
       "      <td>6195607</td>\n",
       "      <td>2005</td>\n",
       "    </tr>\n",
       "    <tr>\n",
       "      <th>35</th>\n",
       "      <td>5047.0</td>\n",
       "      <td>6449953</td>\n",
       "      <td>2005</td>\n",
       "    </tr>\n",
       "    <tr>\n",
       "      <th>36</th>\n",
       "      <td>5047.0</td>\n",
       "      <td>6460340</td>\n",
       "      <td>2005</td>\n",
       "    </tr>\n",
       "  </tbody>\n",
       "</table>\n",
       "</div>"
      ],
      "text/plain": [
       "      gvkey    cited  year\n",
       "22  19349.0  6047552  2005\n",
       "23  19349.0  5737922  2005\n",
       "24  19349.0  5467815  2005\n",
       "30   5047.0  5778676  2005\n",
       "31   5047.0  5816049  2005\n",
       "32   5047.0  5865024  2005\n",
       "33   5047.0  6050082  2005\n",
       "34   5047.0  6195607  2005\n",
       "35   5047.0  6449953  2005\n",
       "36   5047.0  6460340  2005"
      ]
     },
     "execution_count": 9,
     "metadata": {},
     "output_type": "execute_result"
    }
   ],
   "source": [
    "ee.iloc[0:10,:]"
   ]
  },
  {
   "cell_type": "code",
   "execution_count": 11,
   "metadata": {
    "collapsed": true
   },
   "outputs": [],
   "source": [
    "bio.to_csv('bio_temp.csv',index=False)\n",
    "ee.to_csv('ee_temp.csv',index=False)"
   ]
  },
  {
   "cell_type": "markdown",
   "metadata": {},
   "source": [
    "__3. cited -> gvkey_cited__"
   ]
  },
  {
   "cell_type": "code",
   "execution_count": 2,
   "metadata": {
    "collapsed": true
   },
   "outputs": [],
   "source": [
    "bio=pd.read_csv('bio_temp.csv')\n",
    "ee=pd.read_csv('ee_temp.csv')"
   ]
  },
  {
   "cell_type": "code",
   "execution_count": 3,
   "metadata": {},
   "outputs": [
    {
     "data": {
      "text/plain": [
       "(1958232, 4387660)"
      ]
     },
     "execution_count": 3,
     "metadata": {},
     "output_type": "execute_result"
    }
   ],
   "source": [
    "df = pd.read_csv('patent_assignee.csv')\n",
    "df['patent_id'] = map(lambda x: str(x),df['patent_id'])\n",
    "\n",
    "bio.rename(columns={'cited':'patent_id'}, inplace=True)\n",
    "ee.rename(columns={'cited':'patent_id'}, inplace=True)\n",
    "\n",
    "bio = bio.merge(df, how='left', on='patent_id')\n",
    "ee = ee.merge(df, how='left', on='patent_id')\n",
    "\n",
    "df = pd.read_csv('assignee_gvkey_BIO.csv')\n",
    "df1 = pd.read_csv('assignee_gvkey_EE&IT.csv')\n",
    "\n",
    "bio = bio.merge(df, how='left', on='assignee', suffixes=('', '_cited'))\n",
    "ee = ee.merge(df1, how='left', on='assignee', suffixes=('', '_cited'))\n",
    "\n",
    "bio = bio.loc[:,['gvkey','gvkey_cited','year']]\n",
    "ee = ee.loc[:,['gvkey','gvkey_cited','year']]\n",
    "\n",
    "len(bio), len(ee)"
   ]
  },
  {
   "cell_type": "code",
   "execution_count": 4,
   "metadata": {},
   "outputs": [
    {
     "data": {
      "text/plain": [
       "(532649, 2425461)"
      ]
     },
     "execution_count": 4,
     "metadata": {},
     "output_type": "execute_result"
    }
   ],
   "source": [
    "bio.dropna(how='any',inplace=True)  #drop patents which cited gvkey-missing application\n",
    "ee.dropna(how='any',inplace=True)\n",
    "\n",
    "len(bio), len(ee)"
   ]
  },
  {
   "cell_type": "code",
   "execution_count": 5,
   "metadata": {
    "collapsed": true
   },
   "outputs": [],
   "source": [
    "bio['gvkey'] = map(int,bio['gvkey'])\n",
    "ee['gvkey'] = map(int,ee['gvkey'])\n",
    "\n",
    "bio.to_csv('E:/apps/pat_cit_edge_BIO.csv',index=False)\n",
    "ee.to_csv('E:/apps/pat_cit_edge_EE&IT.csv',index=False)"
   ]
  },
  {
   "cell_type": "markdown",
   "metadata": {},
   "source": [
    "### 3. weight sum\n",
    "- proximity matrix 구하기\n",
    "    - 전에 사용한 cls vec 사용\n",
    "    - 전체 기업 중 appcit_matrix에 있는 기업만 고르기 (appcit_matrix의 0번째 col, class_vector join)\n",
    "    - 함수 사용 matrix 제작\n",
    "- adj, prox matrix 곱하기\n",
    "    - weight sum > 0인 경우만 남기기 (patcit이 0 이하면 참여 안 한거지 아예)"
   ]
  },
  {
   "cell_type": "markdown",
   "metadata": {},
   "source": [
    "__proximity__"
   ]
  },
  {
   "cell_type": "code",
   "execution_count": 1,
   "metadata": {
    "collapsed": true
   },
   "outputs": [],
   "source": [
    "import pandas as pd\n",
    "import numpy as np\n",
    "import os\n",
    "import csv\n",
    "import math\n",
    "from math import sqrt\n",
    "\n",
    "os.chdir('E:/apps/patcit measure')"
   ]
  },
  {
   "cell_type": "code",
   "execution_count": 2,
   "metadata": {
    "collapsed": true
   },
   "outputs": [],
   "source": [
    "def prox_numer(l1,l2):\n",
    "    cnt = 0.0\n",
    "    for i in xrange(len(l1)):\n",
    "        if l1[i]!=0 and l2[i]!=0:\n",
    "            w= float(l1[i]) * l2[i]\n",
    "            cnt += w\n",
    "    \n",
    "    return cnt \n",
    "\n",
    "def prox_denom(l1,l2):\n",
    "    a = sqrt(sum(map(lambda x: x**2, l1)))\n",
    "    b = sqrt(sum(map(lambda x: x**2, l2)))\n",
    "    \n",
    "    return a*b \n",
    "\n",
    "def proximity(l1,l2):\n",
    "    try:\n",
    "        return round(prox_numer(l1,l2) / prox_denom(l1,l2),3)\n",
    "    \n",
    "    except ZeroDivisionError:\n",
    "        return 0.0          # no proximity = 0\n",
    "\n",
    "def get_prox(l1,arr):\n",
    "    sim = []\n",
    "    for row in arr:\n",
    "        sim.append(proximity(l1,row))\n",
    "        \n",
    "    return sim"
   ]
  },
  {
   "cell_type": "code",
   "execution_count": 3,
   "metadata": {
    "collapsed": true
   },
   "outputs": [],
   "source": [
    "def final(ind,y):\n",
    "    gvkey = 'patcit_matrix_' + ind + '_' + str(y) +'.csv'\n",
    "    clsvec = 'class_vector_' + ind + '_' + str(y) +'.csv'\n",
    "\n",
    "    df = pd.read_csv(gvkey).iloc[:,0].to_frame()\n",
    "    df1 = pd.read_csv(clsvec)\n",
    "    \n",
    "    df = df.merge(df1,how='left',on='gvkey')\n",
    "    df.fillna(0, inplace=True)\n",
    "    arr = df.values\n",
    "\n",
    "    header = arr[:,0].tolist()\n",
    "    header = ['gvkey'] + map(int,header)\n",
    "\n",
    "    arr = np.delete(arr,0,1)\n",
    "    \n",
    "    fname = 'proximity_' + ind + '_' + str(y) +'.csv'\n",
    "    with open(fname,'wb') as f:\n",
    "        writer = csv.writer(f)\n",
    "        writer.writerow(header)\n",
    "\n",
    "        i=1  \n",
    "        for row in arr:        \n",
    "            line = get_prox(row,arr)\n",
    "            line = [header[i]] + line             \n",
    "            writer.writerow(line)\n",
    "            i += 1"
   ]
  },
  {
   "cell_type": "code",
   "execution_count": 4,
   "metadata": {},
   "outputs": [],
   "source": [
    "for y in range(2005,2013):\n",
    "    final('bio',y)\n",
    "    final('EE&IT',y)"
   ]
  },
  {
   "cell_type": "markdown",
   "metadata": {},
   "source": [
    "__weight sum__"
   ]
  },
  {
   "cell_type": "code",
   "execution_count": 7,
   "metadata": {
    "collapsed": true
   },
   "outputs": [],
   "source": [
    "def get_patcit(ind,y):\n",
    "    cit = 'patcit_matrix_' + ind + '_' + str(y) +'.csv'\n",
    "    prox = 'proximity_' + ind + '_' + str(y) +'.csv'\n",
    "    \n",
    "    cit = pd.read_csv(cit)\n",
    "    prox = pd.read_csv(prox)\n",
    "\n",
    "    df = cit * prox\n",
    "\n",
    "    df['pat_cit'] = 0.0\n",
    "    \n",
    "    for i in range(0,len(df)):\n",
    "        df.loc[i,'gvkey'] = int(sqrt(df.loc[i,'gvkey']))\n",
    "        df.loc[i,'pat_cit'] = sum(df.iloc[i,1:]) - df.iloc[i,i+1]\n",
    "        \n",
    "    df['year'] = y\n",
    "    df = df.loc[:,['gvkey','year','pat_cit']]\n",
    "    df = df.loc[df['pat_cit']>0,:]\n",
    "    \n",
    "    fname = 'patcit_' + ind + '_' + str(y) +'.csv'\n",
    "    df.to_csv(fname,index=False)"
   ]
  },
  {
   "cell_type": "code",
   "execution_count": 8,
   "metadata": {},
   "outputs": [],
   "source": [
    "for y in range(2005,2013):\n",
    "    get_patcit('bio',y)\n",
    "    get_patcit('EE&IT',y)"
   ]
  },
  {
   "cell_type": "code",
   "execution_count": 9,
   "metadata": {
    "collapsed": true
   },
   "outputs": [],
   "source": [
    "bio = pd.read_csv('patcit_bio_2005.csv')\n",
    "ee = pd.read_csv('patcit_EE&IT_2005.csv')\n",
    "\n",
    "for y in range(2006,2013):\n",
    "    df = pd.read_csv('patcit_bio_' + str(y) +'.csv')\n",
    "    bio = pd.concat([bio,df],ignore_index=True)\n",
    "    \n",
    "    df = pd.read_csv('patcit_EE&IT_' + str(y) +'.csv')\n",
    "    ee = pd.concat([ee,df],ignore_index=True)\n",
    "    \n",
    "bio.sort_values(by=['gvkey','year'],inplace=True)\n",
    "bio.reset_index(drop=True, inplace=True)\n",
    "ee.sort_values(by=['gvkey','year'],inplace=True)\n",
    "ee.reset_index(drop=True,inplace=True)"
   ]
  },
  {
   "cell_type": "code",
   "execution_count": 10,
   "metadata": {
    "collapsed": true
   },
   "outputs": [],
   "source": [
    "bio.to_csv('patcit_bio.csv',index=False)\n",
    "ee.to_csv('patcit_EE&IT.csv',index=False)"
   ]
  },
  {
   "cell_type": "markdown",
   "metadata": {},
   "source": [
    "### 4. patent stock\n",
    "- 2001 ~ 2012까지 firm-year로 patent counting\n",
    "- gvkey, year (patent_class, patent_assignee join)\n",
    "- groupby\n",
    "- 4년씩 더하는 fn 적용 -> gvkey, year, stock"
   ]
  },
  {
   "cell_type": "code",
   "execution_count": 1,
   "metadata": {
    "collapsed": true
   },
   "outputs": [],
   "source": [
    "import pandas as pd\n",
    "import numpy as np\n",
    "import os\n",
    "\n",
    "os.chdir('E:/apps/db_table')"
   ]
  },
  {
   "cell_type": "markdown",
   "metadata": {},
   "source": [
    "__groupby__"
   ]
  },
  {
   "cell_type": "code",
   "execution_count": 2,
   "metadata": {},
   "outputs": [
    {
     "data": {
      "text/plain": [
       "(218383, 1178075)"
      ]
     },
     "execution_count": 2,
     "metadata": {},
     "output_type": "execute_result"
    }
   ],
   "source": [
    "bio = pd.read_csv('patent_class_BIO.csv')\n",
    "ee = pd.read_csv('patent_class_EE&IT.csv')\n",
    "\n",
    "bio = bio.loc[:,['patent_id','year']]\n",
    "ee = ee.loc[:,['patent_id','year']]\n",
    "\n",
    "df = pd.read_csv('patent_assignee.csv')\n",
    "\n",
    "bio = bio.merge(df, how='left', on='patent_id')\n",
    "ee = ee.merge(df, how='left', on='patent_id')\n",
    "\n",
    "df = pd.read_csv('assignee_gvkey_BIO.csv')\n",
    "df1 = pd.read_csv('assignee_gvkey_EE&IT.csv')\n",
    "\n",
    "bio = bio.merge(df, how='left', on='assignee')\n",
    "ee = ee.merge(df1, how='left', on='assignee')\n",
    "\n",
    "bio = bio.loc[:,['gvkey','year']]\n",
    "ee = ee.loc[:,['gvkey','year']]\n",
    "\n",
    "len(bio), len(ee)"
   ]
  },
  {
   "cell_type": "code",
   "execution_count": 3,
   "metadata": {},
   "outputs": [
    {
     "data": {
      "text/plain": [
       "(72384, 727747)"
      ]
     },
     "execution_count": 3,
     "metadata": {},
     "output_type": "execute_result"
    }
   ],
   "source": [
    "bio.dropna(how='any',inplace=True)  #drop gvkey-missing patents\n",
    "ee.dropna(how='any',inplace=True)\n",
    "\n",
    "len(bio), len(ee)"
   ]
  },
  {
   "cell_type": "code",
   "execution_count": 5,
   "metadata": {
    "scrolled": true
   },
   "outputs": [],
   "source": [
    "bio['count'] = 0\n",
    "ee['count'] = 0\n",
    "\n",
    "bio = bio.groupby(by=['gvkey','year'],as_index=False).count()\n",
    "ee = ee.groupby(by=['gvkey','year'],as_index=False).count()\n",
    "\n",
    "bio.to_csv('bio_temp.csv',index=False)\n",
    "ee.to_csv('ee_temp.csv',index=False)"
   ]
  },
  {
   "cell_type": "markdown",
   "metadata": {},
   "source": [
    "__aggregate__\n",
    "- 모든 gvkey에 대해 2001 ~ 2012 count를 만듦 (없는 경우는 0으로 취급)\n",
    "- 5년씩 sum\n",
    "- 0인 경우 버림"
   ]
  },
  {
   "cell_type": "code",
   "execution_count": 52,
   "metadata": {},
   "outputs": [],
   "source": [
    "def get_pstock(df):    \n",
    "    gvkey = list(df['gvkey'].unique())\n",
    "    year = list(df['year'].unique())\n",
    "    \n",
    "    a = []\n",
    "    b = []\n",
    "    \n",
    "    for i in gvkey:\n",
    "        for j in year:\n",
    "            a.append(i)\n",
    "            b.append(j)\n",
    "            \n",
    "    temp = pd.DataFrame({'gvkey':a,'year':b})\n",
    "    \n",
    "    temp = temp.merge(df,how='left',on=['gvkey','year'])\n",
    "    temp.fillna(0, inplace=True)\n",
    "            \n",
    "    gk = []\n",
    "    yy = list(temp['year'][temp['year']>2005])\n",
    "    ps = []\n",
    "    \n",
    "    for k in gvkey:\n",
    "        df1 = temp.loc[temp['gvkey']==k,:]\n",
    "        \n",
    "        for i in range(0,len(df1)-5):\n",
    "            gk.append(k)            \n",
    "            ps.append(sum(df1['count'][i:i+5]))\n",
    "            \n",
    "    pstock = pd.DataFrame({'gvkey':gk,'year':yy,'pstock':ps})\n",
    "    pstock = pstock.loc[pstock['pstock'] > 0,:]\n",
    "    \n",
    "    return pstock"
   ]
  },
  {
   "cell_type": "code",
   "execution_count": 55,
   "metadata": {},
   "outputs": [],
   "source": [
    "get_pstock(bio).to_csv('E:/apps/feature/patent_stock_bio.csv',index=False)\n",
    "get_pstock(ee).to_csv('E:/apps/feature/patent_stock_EE&IT.csv',index=False)"
   ]
  }
 ],
 "metadata": {
  "kernelspec": {
   "display_name": "Python 2",
   "language": "python",
   "name": "python2"
  },
  "language_info": {
   "codemirror_mode": {
    "name": "ipython",
    "version": 2
   },
   "file_extension": ".py",
   "mimetype": "text/x-python",
   "name": "python",
   "nbconvert_exporter": "python",
   "pygments_lexer": "ipython2",
   "version": "2.7.13"
  }
 },
 "nbformat": 4,
 "nbformat_minor": 2
}
