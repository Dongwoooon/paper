{
 "cells": [
  {
   "cell_type": "markdown",
   "metadata": {},
   "source": [
    "# litigation에서 firm-lv 변수 뽑기\n",
    "\n",
    "### 1. litigation에 gvkey, year 붙이기\n",
    "- litigation 정리\n",
    "- gvkey 부착\n",
    "\n",
    "### 2. 변수 제작\n",
    "- +3, +4, +5 years\n",
    "- counting (공, 수, 전체)"
   ]
  },
  {
   "cell_type": "markdown",
   "metadata": {},
   "source": [
    "### 1. litigation - gvkey year\n",
    "- 2006 ~ 2015 case 추출 (patent_case)\n",
    "- patent_case, names join\n",
    "- party type 정리 (groupby party_type count() 해서 버릴 거 버림)"
   ]
  },
  {
   "cell_type": "markdown",
   "metadata": {},
   "source": [
    "__1. 추출 & join__"
   ]
  },
  {
   "cell_type": "code",
   "execution_count": 1,
   "metadata": {
    "collapsed": true
   },
   "outputs": [],
   "source": [
    "import pandas as pd\n",
    "import numpy as np\n",
    "import csv\n",
    "import os\n",
    "import math\n",
    "\n",
    "os.chdir('E:/apps/db_table')"
   ]
  },
  {
   "cell_type": "code",
   "execution_count": 2,
   "metadata": {
    "scrolled": true
   },
   "outputs": [
    {
     "data": {
      "text/plain": [
       "['case_row_id',\n",
       " 'case_number',\n",
       " 'pacer_id',\n",
       " 'case_name',\n",
       " 'court_name',\n",
       " 'assigned_to',\n",
       " 'referred_to',\n",
       " 'case_cause',\n",
       " 'jurisdictional_basis',\n",
       " 'demand',\n",
       " 'jury_demand',\n",
       " 'lead_case',\n",
       " 'related_case',\n",
       " 'settlement',\n",
       " 'date_filed',\n",
       " 'date_closed',\n",
       " 'date_last_filed']"
      ]
     },
     "execution_count": 2,
     "metadata": {},
     "output_type": "execute_result"
    }
   ],
   "source": [
    "df = pd.read_csv('patent_cases.csv')\n",
    "list(df)"
   ]
  },
  {
   "cell_type": "code",
   "execution_count": 3,
   "metadata": {},
   "outputs": [
    {
     "data": {
      "text/plain": [
       "5654"
      ]
     },
     "execution_count": 3,
     "metadata": {},
     "output_type": "execute_result"
    }
   ],
   "source": [
    "df = df.loc[:,['case_row_id','date_filed']]\n",
    "df.dropna(how='any',inplace=True)\n",
    "df['year'] = df['date_filed'].apply(lambda x: int(x[:4]),1)\n",
    "df = df.loc[df['year']>2005,:]\n",
    "len(df)"
   ]
  },
  {
   "cell_type": "code",
   "execution_count": 4,
   "metadata": {},
   "outputs": [
    {
     "data": {
      "text/plain": [
       "['case_row_id',\n",
       " 'case_number',\n",
       " 'party_row_count',\n",
       " 'party_type',\n",
       " 'name_row_count',\n",
       " 'name']"
      ]
     },
     "execution_count": 4,
     "metadata": {},
     "output_type": "execute_result"
    }
   ],
   "source": [
    "df1 = pd.read_csv('names.csv')\n",
    "list(df1)"
   ]
  },
  {
   "cell_type": "code",
   "execution_count": 5,
   "metadata": {
    "scrolled": true
   },
   "outputs": [
    {
     "data": {
      "text/plain": [
       "66303"
      ]
     },
     "execution_count": 5,
     "metadata": {},
     "output_type": "execute_result"
    }
   ],
   "source": [
    "df1 = df1.loc[:,['case_row_id','party_type','name']]\n",
    "df = df.merge(df1,how='left',on='case_row_id')\n",
    "len(df)"
   ]
  },
  {
   "cell_type": "code",
   "execution_count": 6,
   "metadata": {
    "collapsed": true
   },
   "outputs": [],
   "source": [
    "df.to_csv('lit_temp.csv',index=False)"
   ]
  },
  {
   "cell_type": "markdown",
   "metadata": {},
   "source": [
    "__2. party type 정리__"
   ]
  },
  {
   "cell_type": "code",
   "execution_count": 2,
   "metadata": {
    "collapsed": true
   },
   "outputs": [],
   "source": [
    "df = pd.read_csv('lit_temp.csv')"
   ]
  },
  {
   "cell_type": "code",
   "execution_count": 3,
   "metadata": {
    "collapsed": true
   },
   "outputs": [],
   "source": [
    "ptype = df.loc[:,['party_type','count']]\n",
    "ptype['count']=0\n",
    "ptype = ptype.groupby('party_type', as_index=False).count()\n",
    "ptype.sort_values(by='count',ascending=False,inplace=True)"
   ]
  },
  {
   "cell_type": "code",
   "execution_count": 4,
   "metadata": {},
   "outputs": [
    {
     "data": {
      "text/plain": [
       "66049"
      ]
     },
     "execution_count": 4,
     "metadata": {},
     "output_type": "execute_result"
    }
   ],
   "source": [
    "sum(ptype['count'])"
   ]
  },
  {
   "cell_type": "code",
   "execution_count": 5,
   "metadata": {
    "scrolled": false
   },
   "outputs": [
    {
     "data": {
      "text/plain": [
       "65986"
      ]
     },
     "execution_count": 5,
     "metadata": {},
     "output_type": "execute_result"
    }
   ],
   "source": [
    "sum(ptype['count'][0:40])"
   ]
  },
  {
   "cell_type": "markdown",
   "metadata": {},
   "source": [
    "- 공격: plaintiff, count claim (consol, 3rd party, ...)\n",
    "- 수비: defendant, counter defendant (consol, 3rd party, ...)\n",
    "  \n",
    "__=> 전체 통합 버전, counter 분리 버전 만들기__ "
   ]
  },
  {
   "cell_type": "markdown",
   "metadata": {},
   "source": [
    "__전체 통합 (공, 수)__"
   ]
  },
  {
   "cell_type": "code",
   "execution_count": 6,
   "metadata": {},
   "outputs": [
    {
     "data": {
      "text/plain": [
       "(28494, 35720)"
      ]
     },
     "execution_count": 6,
     "metadata": {},
     "output_type": "execute_result"
    }
   ],
   "source": [
    "attack = ['Counter Claimant','Plaintiff','Counter-claimant','Consol Counter Claimant','Consol Plaintiff','ThirdParty Plaintiff',\n",
    "          'Counter Plaintiff','Counter-Claimant','Third Party Plaintiff','3rd party plaintiff','Counterclaim Plaintiff']\n",
    "defend = ['Defendant','Counter Defendant','Consol Defendant','Counter-defendant','ThirdParty Defendant','Consol Counter Defendant',\n",
    "         'Third Party Defendant','3rd party defendant','Counter-Defendant','Consolidated Defendant','Counterclaim Defendant']\n",
    "\n",
    "atk = df.loc[df['party_type'].isin(attack),:]\n",
    "dfd = df.loc[df['party_type'].isin(defend),:]\n",
    "\n",
    "len(atk), len(dfd)"
   ]
  },
  {
   "cell_type": "code",
   "execution_count": 7,
   "metadata": {
    "scrolled": true
   },
   "outputs": [
    {
     "data": {
      "text/plain": [
       "['case_row_id', 'date_filed', 'year', 'party_type', 'name']"
      ]
     },
     "execution_count": 7,
     "metadata": {},
     "output_type": "execute_result"
    }
   ],
   "source": [
    "list(atk)"
   ]
  },
  {
   "cell_type": "code",
   "execution_count": 8,
   "metadata": {
    "collapsed": true
   },
   "outputs": [],
   "source": [
    "del atk['case_row_id']\n",
    "del dfd['case_row_id']"
   ]
  },
  {
   "cell_type": "code",
   "execution_count": 9,
   "metadata": {
    "collapsed": true
   },
   "outputs": [],
   "source": [
    "bio = pd.read_csv('litigation_gvkey_BIO.csv')\n",
    "ee = pd.read_csv('litigation_gvkey_EE&IT.csv')\n",
    "\n",
    "bioa = bio.merge(atk,how='left',on='name')\n",
    "biod = bio.merge(dfd,how='left',on='name')\n",
    "\n",
    "eea = ee.merge(atk,how='left',on='name')\n",
    "eed = ee.merge(dfd,how='left',on='name')"
   ]
  },
  {
   "cell_type": "code",
   "execution_count": 10,
   "metadata": {
    "collapsed": true
   },
   "outputs": [],
   "source": [
    "l = [bioa,biod,eea,eed]\n",
    "\n",
    "for df in l:\n",
    "    del df['name']\n",
    "    df.dropna(how='any',inplace=True)\n",
    "    df.drop_duplicates(inplace=True)"
   ]
  },
  {
   "cell_type": "code",
   "execution_count": 11,
   "metadata": {
    "scrolled": true
   },
   "outputs": [
    {
     "name": "stdout",
     "output_type": "stream",
     "text": [
      "2766 395 431\n"
     ]
    }
   ],
   "source": [
    "print len(bio), len(bioa), len(biod)"
   ]
  },
  {
   "cell_type": "code",
   "execution_count": 12,
   "metadata": {},
   "outputs": [
    {
     "name": "stdout",
     "output_type": "stream",
     "text": [
      "5137 1973 2548\n"
     ]
    }
   ],
   "source": [
    "print len(ee), len(eea), len(eed)"
   ]
  },
  {
   "cell_type": "markdown",
   "metadata": {},
   "source": [
    "__counter 버전__"
   ]
  },
  {
   "cell_type": "code",
   "execution_count": 15,
   "metadata": {
    "collapsed": true
   },
   "outputs": [],
   "source": [
    "acnt = ['Counter Claimant','Counter-claimant','Consol Counter Claimant','Counter Plaintiff','Counter-Claimant','Counterclaim Plaintiff']\n",
    "dcnt = ['Counter Defendant','Counter-defendant','Consol Counter Defendant','Counter-Defendant','Counterclaim Defendant']"
   ]
  },
  {
   "cell_type": "code",
   "execution_count": 28,
   "metadata": {
    "collapsed": true
   },
   "outputs": [],
   "source": [
    "def counter_a(party):\n",
    "    dum=1 if party in acnt else 0\n",
    "    return dum\n",
    "\n",
    "def counter_d(party):\n",
    "    dum=1 if party in dcnt else 0\n",
    "    return dum\n",
    "\n",
    "a = [bioa,eea]\n",
    "d = [biod,eed]\n",
    "\n",
    "for df in a:\n",
    "    df['counter'] = df['party_type'].apply(counter_a,1)\n",
    "        \n",
    "for df in d:\n",
    "    df['counter'] = df['party_type'].apply(counter_d,1)"
   ]
  },
  {
   "cell_type": "code",
   "execution_count": 29,
   "metadata": {
    "collapsed": true
   },
   "outputs": [],
   "source": [
    "bioa.to_csv('E:/apps/bioa.csv',index=False)\n",
    "biod.to_csv('E:/apps/biod.csv',index=False)\n",
    "eea.to_csv('E:/apps/eea.csv',index=False)\n",
    "eed.to_csv('E:/apps/eed.csv',index=False)"
   ]
  },
  {
   "cell_type": "markdown",
   "metadata": {},
   "source": [
    "### 2. 변수 제작\n",
    "- +3, +4, +5 years\n",
    "- groupby gvkey, year\n",
    "- 3, 4, 5년씩 묶기"
   ]
  },
  {
   "cell_type": "code",
   "execution_count": 1,
   "metadata": {
    "collapsed": true
   },
   "outputs": [],
   "source": [
    "import pandas as pd\n",
    "import numpy as np\n",
    "import csv\n",
    "import os\n",
    "import math\n",
    "os.chdir('E:/apps')"
   ]
  },
  {
   "cell_type": "code",
   "execution_count": 2,
   "metadata": {},
   "outputs": [
    {
     "data": {
      "text/plain": [
       "['gvkey', 'date_filed', 'year', 'party_type', 'counter']"
      ]
     },
     "execution_count": 2,
     "metadata": {},
     "output_type": "execute_result"
    }
   ],
   "source": [
    "bioa = pd.read_csv('bioa.csv')\n",
    "biod = pd.read_csv('biod.csv')\n",
    "eea = pd.read_csv('eea.csv')\n",
    "eed = pd.read_csv('eed.csv')\n",
    "\n",
    "list(bioa)"
   ]
  },
  {
   "cell_type": "code",
   "execution_count": 3,
   "metadata": {
    "collapsed": true
   },
   "outputs": [],
   "source": [
    "def get_lit_var(df,types,interval):\n",
    "    df = df.loc[:,['gvkey','year']]\n",
    "    df['count'] = 0\n",
    "    df = df.groupby(['gvkey','year'], as_index=False).count()\n",
    "    \n",
    "    f_df = pd.DataFrame(columns=['gvkey', 'year'])\n",
    "    gvkey = df['gvkey'].unique()\n",
    "    \n",
    "    for key in gvkey:\n",
    "        for y in range(2006,2016):\n",
    "            f_df = f_df.append({'gvkey': key,'year':y}, ignore_index=True)\n",
    "            \n",
    "    f_df = f_df.merge(df,how='left',on=['gvkey','year'])\n",
    "    f_df.fillna(0,inplace=True)\n",
    "    \n",
    "    df = pd.DataFrame(columns=['gvkey', 'year','lit_'+str(types)+'_'+str(interval)])\n",
    "\n",
    "    for key in gvkey:\n",
    "        tmp = f_df.loc[f_df['gvkey']==key,:]\n",
    "\n",
    "        for i in range(0,len(tmp)-interval+1):\n",
    "            lit = sum(tmp['count'][i:i+interval])        \n",
    "            df = df.append({'gvkey': key,'year':tmp.iloc[i,1]-1,'lit_'+str(types)+'_'+str(interval):lit}, ignore_index=True)\n",
    "            \n",
    "    df = df.apply(lambda x: map(int,x),axis=1,reduce=False)\n",
    "    \n",
    "    return df"
   ]
  },
  {
   "cell_type": "code",
   "execution_count": 4,
   "metadata": {
    "collapsed": true
   },
   "outputs": [],
   "source": [
    "for i in range(3,6):\n",
    "    get_lit_var(bioa,types='a',interval=i).to_csv('feature/lit_a_'+str(i)+'_bio.csv',index=False)\n",
    "    get_lit_var(eea,types='a',interval=i).to_csv('feature/lit_a_'+str(i)+'_EE&IT.csv',index=False)\n",
    "    get_lit_var(biod,types='d',interval=i).to_csv('feature/lit_d_'+str(i)+'_bio.csv',index=False)\n",
    "    get_lit_var(eed,types='d',interval=i).to_csv('feature/lit_d_'+str(i)+'_EE&IT.csv',index=False)"
   ]
  }
 ],
 "metadata": {
  "kernelspec": {
   "display_name": "Python 2",
   "language": "python",
   "name": "python2"
  },
  "language_info": {
   "codemirror_mode": {
    "name": "ipython",
    "version": 2
   },
   "file_extension": ".py",
   "mimetype": "text/x-python",
   "name": "python",
   "nbconvert_exporter": "python",
   "pygments_lexer": "ipython2",
   "version": "2.7.13"
  }
 },
 "nbformat": 4,
 "nbformat_minor": 2
}
