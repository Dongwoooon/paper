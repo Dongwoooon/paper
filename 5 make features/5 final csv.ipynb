{
 "cells": [
  {
   "cell_type": "markdown",
   "metadata": {},
   "source": [
    "# feature들 합쳐서 분석 가능하게 만들기\n",
    "\n",
    "### 1. X (IV, control) 다 때려넣기\n",
    "- 기준 고르기: 원래라면 compu, 걍 app_cit으로 할까? app_cit 한 번이라도 하거나 받은 애들 조사할거니까\n",
    "- na처리: drop / 0 / 평균 잘 생각\n",
    "\n",
    "### 2. DV 고르기 (3, 4, 5년 짜리, 공수) \n",
    "\n",
    "### 3. dummy 제작 (firm fixed, year fixed)"
   ]
  },
  {
   "cell_type": "code",
   "execution_count": 1,
   "metadata": {
    "collapsed": true
   },
   "outputs": [],
   "source": [
    "#-*- coding: utf-8 -*-\n",
    "import os\n",
    "import pandas as pd\n",
    "import numpy as np\n",
    "\n",
    "os.chdir('E:/apps/feature')"
   ]
  },
  {
   "cell_type": "markdown",
   "metadata": {},
   "source": [
    "### 1. X 만들기\n",
    "__app cit 기준__"
   ]
  },
  {
   "cell_type": "code",
   "execution_count": 2,
   "metadata": {},
   "outputs": [
    {
     "data": {
      "text/plain": [
       "(1445, 2665)"
      ]
     },
     "execution_count": 2,
     "metadata": {},
     "output_type": "execute_result"
    }
   ],
   "source": [
    "bio = pd.read_csv('appcit_bio.csv')\n",
    "ee = pd.read_csv('appcit_EE&IT.csv')\n",
    "\n",
    "len(bio), len(ee)"
   ]
  },
  {
   "cell_type": "markdown",
   "metadata": {},
   "source": [
    "__patent 붙이기__"
   ]
  },
  {
   "cell_type": "code",
   "execution_count": 3,
   "metadata": {},
   "outputs": [
    {
     "data": {
      "text/plain": [
       "(1445, 2665)"
      ]
     },
     "execution_count": 3,
     "metadata": {},
     "output_type": "execute_result"
    }
   ],
   "source": [
    "df = pd.read_csv('patent_bio.csv')\n",
    "df1 = pd.read_csv('patent_EE&IT.csv')\n",
    "\n",
    "bio = bio.merge(df,how='left',on=['gvkey','year'])\n",
    "ee = ee.merge(df1,how='left',on=['gvkey','year'])\n",
    "\n",
    "len(bio), len(ee)"
   ]
  },
  {
   "cell_type": "code",
   "execution_count": 4,
   "metadata": {},
   "outputs": [
    {
     "data": {
      "text/plain": [
       "gvkey         False\n",
       "year          False\n",
       "app_cit       False\n",
       "pat_size      False\n",
       "num_claims    False\n",
       "bwd           False\n",
       "fwd           False\n",
       "self          False\n",
       "self_fwd      False\n",
       "dtype: bool"
      ]
     },
     "execution_count": 4,
     "metadata": {},
     "output_type": "execute_result"
    }
   ],
   "source": [
    "bio.isnull().any()"
   ]
  },
  {
   "cell_type": "code",
   "execution_count": 5,
   "metadata": {
    "scrolled": true
   },
   "outputs": [
    {
     "data": {
      "text/plain": [
       "gvkey         False\n",
       "year          False\n",
       "app_cit       False\n",
       "pat_size      False\n",
       "num_claims    False\n",
       "bwd           False\n",
       "fwd           False\n",
       "self          False\n",
       "self_fwd      False\n",
       "dtype: bool"
      ]
     },
     "execution_count": 5,
     "metadata": {},
     "output_type": "execute_result"
    }
   ],
   "source": [
    "ee.isnull().any()"
   ]
  },
  {
   "cell_type": "code",
   "execution_count": 6,
   "metadata": {},
   "outputs": [
    {
     "data": {
      "text/plain": [
       "gvkey             False\n",
       "year              False\n",
       "app_cit           False\n",
       "pat_size          False\n",
       "num_claims        False\n",
       "bwd               False\n",
       "fwd               False\n",
       "self              False\n",
       "self_fwd          False\n",
       "self_ratio        False\n",
       "self_ratio_fwd    False\n",
       "dtype: bool"
      ]
     },
     "execution_count": 6,
     "metadata": {},
     "output_type": "execute_result"
    }
   ],
   "source": [
    "df = pd.read_csv('patent_self_bio.csv')\n",
    "df1 = pd.read_csv('patent_self_EE&IT.csv')\n",
    "\n",
    "df = df.loc[:,['gvkey','year','self_ratio','self_ratio_fwd']]\n",
    "df1 = df1.loc[:,['gvkey','year','self_ratio','self_ratio_fwd']]\n",
    "\n",
    "bio = bio.merge(df,how='left',on=['gvkey','year'])\n",
    "ee = ee.merge(df1,how='left',on=['gvkey','year'])\n",
    "\n",
    "ee.isnull().any()"
   ]
  },
  {
   "cell_type": "code",
   "execution_count": 7,
   "metadata": {},
   "outputs": [
    {
     "data": {
      "text/plain": [
       "gvkey             False\n",
       "year              False\n",
       "app_cit           False\n",
       "pat_size          False\n",
       "num_claims        False\n",
       "bwd               False\n",
       "fwd               False\n",
       "self              False\n",
       "self_fwd          False\n",
       "self_ratio         True\n",
       "self_ratio_fwd     True\n",
       "dtype: bool"
      ]
     },
     "execution_count": 7,
     "metadata": {},
     "output_type": "execute_result"
    }
   ],
   "source": [
    "bio.isnull().any()"
   ]
  },
  {
   "cell_type": "markdown",
   "metadata": {},
   "source": [
    "여기는 얘네 둘 쓰려면 __dropna__ 필요"
   ]
  },
  {
   "cell_type": "markdown",
   "metadata": {},
   "source": [
    "__compustat 붙이기__"
   ]
  },
  {
   "cell_type": "code",
   "execution_count": 8,
   "metadata": {
    "scrolled": true
   },
   "outputs": [
    {
     "data": {
      "text/plain": [
       "['gvkey',\n",
       " 'fyear',\n",
       " 'conm',\n",
       " 'consol',\n",
       " 'datadate',\n",
       " 'fic',\n",
       " 'curcd',\n",
       " 'act',\n",
       " 'at',\n",
       " 'ebit',\n",
       " 'emp',\n",
       " 'ppegt',\n",
       " 'ppent',\n",
       " 'revt',\n",
       " 'teq',\n",
       " 'xlr',\n",
       " 'xrd',\n",
       " 'xstfws',\n",
       " 'ni',\n",
       " 'sic',\n",
       " 'roa',\n",
       " 'margin',\n",
       " 'rdi',\n",
       " 'revt_sic4',\n",
       " 'sic_3',\n",
       " 'revt_sic3',\n",
       " 'mkt_4',\n",
       " 'mkt_3']"
      ]
     },
     "execution_count": 8,
     "metadata": {},
     "output_type": "execute_result"
    }
   ],
   "source": [
    "df = pd.read_csv('compu_bio.csv')\n",
    "df1 = pd.read_csv('compu_EE&IT.csv')\n",
    "\n",
    "list(df)"
   ]
  },
  {
   "cell_type": "code",
   "execution_count": 9,
   "metadata": {
    "scrolled": true
   },
   "outputs": [
    {
     "data": {
      "text/plain": [
       "gvkey             False\n",
       "year              False\n",
       "app_cit           False\n",
       "pat_size          False\n",
       "num_claims        False\n",
       "bwd               False\n",
       "fwd               False\n",
       "self              False\n",
       "self_fwd          False\n",
       "self_ratio        False\n",
       "self_ratio_fwd    False\n",
       "roa                True\n",
       "margin             True\n",
       "rdi                True\n",
       "mkt_4              True\n",
       "mkt_3              True\n",
       "dtype: bool"
      ]
     },
     "execution_count": 9,
     "metadata": {},
     "output_type": "execute_result"
    }
   ],
   "source": [
    "df = df.loc[:,['gvkey','fyear','roa','margin','rdi','mkt_4','mkt_3']]\n",
    "df1 = df1.loc[:,['gvkey','fyear','roa','margin','rdi','mkt_4','mkt_3']]\n",
    "\n",
    "df = df.rename(columns ={'fyear':'year'})\n",
    "df1 = df1.rename(columns ={'fyear':'year'})\n",
    "\n",
    "bio = bio.merge(df,how='left',on=['gvkey','year'])\n",
    "ee = ee.merge(df1,how='left',on=['gvkey','year'])\n",
    "\n",
    "ee.isnull().any()"
   ]
  },
  {
   "cell_type": "code",
   "execution_count": 10,
   "metadata": {
    "scrolled": false
   },
   "outputs": [
    {
     "data": {
      "text/plain": [
       "gvkey             False\n",
       "year              False\n",
       "app_cit           False\n",
       "pat_size          False\n",
       "num_claims        False\n",
       "bwd               False\n",
       "fwd               False\n",
       "self              False\n",
       "self_fwd          False\n",
       "self_ratio         True\n",
       "self_ratio_fwd     True\n",
       "roa                True\n",
       "margin             True\n",
       "rdi                True\n",
       "mkt_4              True\n",
       "mkt_3              True\n",
       "dtype: bool"
      ]
     },
     "execution_count": 10,
     "metadata": {},
     "output_type": "execute_result"
    }
   ],
   "source": [
    "bio.isnull().any()"
   ]
  },
  {
   "cell_type": "markdown",
   "metadata": {},
   "source": [
    "여기는 얘네 둘 쓰려면 __average__ 때려버리자"
   ]
  },
  {
   "cell_type": "markdown",
   "metadata": {},
   "source": [
    "__tech concentration 붙이기__"
   ]
  },
  {
   "cell_type": "code",
   "execution_count": 11,
   "metadata": {},
   "outputs": [
    {
     "data": {
      "text/plain": [
       "gvkey             False\n",
       "year              False\n",
       "app_cit           False\n",
       "pat_size          False\n",
       "num_claims        False\n",
       "bwd               False\n",
       "fwd               False\n",
       "self              False\n",
       "self_fwd          False\n",
       "self_ratio        False\n",
       "self_ratio_fwd    False\n",
       "roa                True\n",
       "margin             True\n",
       "rdi                True\n",
       "mkt_4              True\n",
       "mkt_3              True\n",
       "herf_cls          False\n",
       "dtype: bool"
      ]
     },
     "execution_count": 11,
     "metadata": {},
     "output_type": "execute_result"
    }
   ],
   "source": [
    "df = pd.read_csv('cls_herf_bio.csv')\n",
    "df1 = pd.read_csv('cls_herf_EE&IT.csv')\n",
    "\n",
    "bio = bio.merge(df,how='left',on=['gvkey','year'])\n",
    "ee = ee.merge(df1,how='left',on=['gvkey','year'])\n",
    "\n",
    "ee.isnull().any()"
   ]
  },
  {
   "cell_type": "code",
   "execution_count": 12,
   "metadata": {},
   "outputs": [
    {
     "data": {
      "text/plain": [
       "gvkey             False\n",
       "year              False\n",
       "app_cit           False\n",
       "pat_size          False\n",
       "num_claims        False\n",
       "bwd               False\n",
       "fwd               False\n",
       "self              False\n",
       "self_fwd          False\n",
       "self_ratio         True\n",
       "self_ratio_fwd     True\n",
       "roa                True\n",
       "margin             True\n",
       "rdi                True\n",
       "mkt_4              True\n",
       "mkt_3              True\n",
       "herf_cls          False\n",
       "dtype: bool"
      ]
     },
     "execution_count": 12,
     "metadata": {},
     "output_type": "execute_result"
    }
   ],
   "source": [
    "bio.isnull().any()"
   ]
  },
  {
   "cell_type": "code",
   "execution_count": 13,
   "metadata": {
    "collapsed": true
   },
   "outputs": [],
   "source": [
    "bio.to_csv('X_bio_na.csv',index=False)\n",
    "ee.to_csv('X_EE&IT_na.csv',index=False)"
   ]
  },
  {
   "cell_type": "markdown",
   "metadata": {},
   "source": [
    "### 2. DV 고르기\n",
    "- 공수 붙이기: 공수 outer join, X에 left join 후 fillna\n",
    "- 3, 4, 5년은 따로"
   ]
  },
  {
   "cell_type": "code",
   "execution_count": 2,
   "metadata": {},
   "outputs": [
    {
     "name": "stdout",
     "output_type": "stream",
     "text": [
      "848 872 2032 2320\n"
     ]
    }
   ],
   "source": [
    "bio = pd.read_csv('X_bio_na.csv')\n",
    "ee = pd.read_csv('X_EE&IT_na.csv')\n",
    "\n",
    "ba = pd.read_csv('lit_a_3_bio.csv')\n",
    "bd = pd.read_csv('lit_d_3_bio.csv')\n",
    "\n",
    "ea = pd.read_csv('lit_a_3_EE&IT.csv')\n",
    "ed = pd.read_csv('lit_d_3_EE&IT.csv')\n",
    "\n",
    "print len(ba), len(bd), len(ea), len(ed)"
   ]
  },
  {
   "cell_type": "code",
   "execution_count": 3,
   "metadata": {},
   "outputs": [
    {
     "data": {
      "text/plain": [
       "(968, 2512)"
      ]
     },
     "execution_count": 3,
     "metadata": {},
     "output_type": "execute_result"
    }
   ],
   "source": [
    "b = ba.merge(bd,how='outer',on=['gvkey','year'])\n",
    "e = ea.merge(ed,how='outer',on=['gvkey','year'])\n",
    "\n",
    "len(b), len(e)"
   ]
  },
  {
   "cell_type": "code",
   "execution_count": 4,
   "metadata": {
    "scrolled": true
   },
   "outputs": [
    {
     "data": {
      "text/plain": [
       "(1445, 2665)"
      ]
     },
     "execution_count": 4,
     "metadata": {},
     "output_type": "execute_result"
    }
   ],
   "source": [
    "len(bio), len(ee)"
   ]
  },
  {
   "cell_type": "code",
   "execution_count": 5,
   "metadata": {
    "scrolled": true
   },
   "outputs": [
    {
     "data": {
      "text/plain": [
       "gvkey             False\n",
       "year              False\n",
       "app_cit           False\n",
       "pat_size          False\n",
       "num_claims        False\n",
       "bwd               False\n",
       "fwd               False\n",
       "self              False\n",
       "self_fwd          False\n",
       "self_ratio        False\n",
       "self_ratio_fwd    False\n",
       "roa                True\n",
       "margin             True\n",
       "rdi                True\n",
       "mkt_4              True\n",
       "mkt_3              True\n",
       "herf_cls          False\n",
       "lit_a_3           False\n",
       "lit_d_3           False\n",
       "dtype: bool"
      ]
     },
     "execution_count": 5,
     "metadata": {},
     "output_type": "execute_result"
    }
   ],
   "source": [
    "bio = bio.merge(b,how='left',on=['gvkey','year'])\n",
    "ee = ee.merge(e,how='left',on=['gvkey','year'])\n",
    "\n",
    "bio.loc[:, ['lit_a_3', 'lit_d_3']] = bio.loc[:, ['lit_a_3', 'lit_d_3']].fillna(0)\n",
    "ee.loc[:, ['lit_a_3', 'lit_d_3']] = ee.loc[:, ['lit_a_3', 'lit_d_3']].fillna(0)\n",
    "\n",
    "ee.isnull().any()"
   ]
  },
  {
   "cell_type": "code",
   "execution_count": 6,
   "metadata": {},
   "outputs": [
    {
     "data": {
      "text/plain": [
       "gvkey             False\n",
       "year              False\n",
       "app_cit           False\n",
       "pat_size          False\n",
       "num_claims        False\n",
       "bwd               False\n",
       "fwd               False\n",
       "self              False\n",
       "self_fwd          False\n",
       "self_ratio         True\n",
       "self_ratio_fwd     True\n",
       "roa                True\n",
       "margin             True\n",
       "rdi                True\n",
       "mkt_4              True\n",
       "mkt_3              True\n",
       "herf_cls          False\n",
       "lit_a_3           False\n",
       "lit_d_3           False\n",
       "dtype: bool"
      ]
     },
     "execution_count": 6,
     "metadata": {},
     "output_type": "execute_result"
    }
   ],
   "source": [
    "bio.isnull().any()"
   ]
  },
  {
   "cell_type": "markdown",
   "metadata": {},
   "source": [
    "### 3. dummy들 만들기"
   ]
  },
  {
   "cell_type": "code",
   "execution_count": 7,
   "metadata": {
    "collapsed": true
   },
   "outputs": [],
   "source": [
    "bio = pd.get_dummies(bio, dummy_na=True, columns=['gvkey','year'])\n",
    "ee = pd.get_dummies(ee, dummy_na=True, columns=['gvkey','year'])\n",
    "\n",
    "bio.to_csv('X_bio_na_dum_3.csv',index=False)\n",
    "ee.to_csv('X_EE&IT_na_dum_3.csv',index=False)"
   ]
  },
  {
   "cell_type": "markdown",
   "metadata": {},
   "source": [
    "### 4. 보수공사\n",
    "- compustat에서 빠진 변수\n",
    "- patent에서 빠진 변수"
   ]
  },
  {
   "cell_type": "markdown",
   "metadata": {},
   "source": [
    "__compustat에서 빠진 변수__"
   ]
  },
  {
   "cell_type": "code",
   "execution_count": 2,
   "metadata": {
    "collapsed": true
   },
   "outputs": [],
   "source": [
    "bio = pd.read_csv('X_bio_na.csv')\n",
    "ee = pd.read_csv('X_EE&IT_na.csv')\n",
    "\n",
    "df = pd.read_csv('compu_bio.csv')\n",
    "df1 = pd.read_csv('compu_EE&IT.csv')\n",
    "\n",
    "df = df.loc[:,['gvkey','fyear','xrd','emp']]\n",
    "df1 = df1.loc[:,['gvkey','fyear','xrd','emp']]\n",
    "\n",
    "df = df.rename(columns ={'fyear':'year'})\n",
    "df1 = df1.rename(columns ={'fyear':'year'})"
   ]
  },
  {
   "cell_type": "code",
   "execution_count": 3,
   "metadata": {
    "collapsed": true
   },
   "outputs": [],
   "source": [
    "def emp(x):\n",
    "    if x>0:\n",
    "        return np.log(x*1000)\n",
    "    else:\n",
    "        return np.nan\n",
    "    \n",
    "def rnd(x):\n",
    "    if x>0:\n",
    "        return np.log(x*1000000)\n",
    "    else:\n",
    "        return np.nan\n",
    "\n",
    "df['emp'] = df['emp'].apply(emp)\n",
    "df['rnd'] = df['xrd'].apply(rnd)\n",
    "del df['xrd']\n",
    "\n",
    "df1['emp'] = df1['emp'].apply(emp)\n",
    "df1['rnd'] = df1['xrd'].apply(rnd)\n",
    "del df1['xrd']\n",
    "\n",
    "bio = bio.merge(df,how='left',on=['gvkey','year'])\n",
    "ee = ee.merge(df1,how='left',on=['gvkey','year'])"
   ]
  },
  {
   "cell_type": "code",
   "execution_count": 4,
   "metadata": {
    "scrolled": true
   },
   "outputs": [
    {
     "data": {
      "text/plain": [
       "gvkey             False\n",
       "year              False\n",
       "app_cit           False\n",
       "pat_size          False\n",
       "num_claims        False\n",
       "bwd               False\n",
       "fwd               False\n",
       "self              False\n",
       "self_fwd          False\n",
       "self_ratio         True\n",
       "self_ratio_fwd     True\n",
       "roa                True\n",
       "margin             True\n",
       "rdi                True\n",
       "mkt_4              True\n",
       "mkt_3              True\n",
       "herf_cls          False\n",
       "emp                True\n",
       "rnd                True\n",
       "dtype: bool"
      ]
     },
     "execution_count": 4,
     "metadata": {},
     "output_type": "execute_result"
    }
   ],
   "source": [
    "bio.isnull().any()"
   ]
  },
  {
   "cell_type": "code",
   "execution_count": 5,
   "metadata": {
    "scrolled": true
   },
   "outputs": [
    {
     "data": {
      "text/plain": [
       "gvkey             False\n",
       "year              False\n",
       "app_cit           False\n",
       "pat_size          False\n",
       "num_claims        False\n",
       "bwd               False\n",
       "fwd               False\n",
       "self              False\n",
       "self_fwd          False\n",
       "self_ratio        False\n",
       "self_ratio_fwd    False\n",
       "roa                True\n",
       "margin             True\n",
       "rdi                True\n",
       "mkt_4              True\n",
       "mkt_3              True\n",
       "herf_cls          False\n",
       "emp                True\n",
       "rnd                True\n",
       "dtype: bool"
      ]
     },
     "execution_count": 5,
     "metadata": {},
     "output_type": "execute_result"
    }
   ],
   "source": [
    "ee.isnull().any()"
   ]
  },
  {
   "cell_type": "code",
   "execution_count": 6,
   "metadata": {
    "collapsed": true
   },
   "outputs": [],
   "source": [
    "bio.to_csv('X_bio_na1.csv',index=False)\n",
    "ee.to_csv('X_EE&IT_na1.csv',index=False)"
   ]
  },
  {
   "cell_type": "code",
   "execution_count": 7,
   "metadata": {},
   "outputs": [
    {
     "data": {
      "text/plain": [
       "(1445, 2665)"
      ]
     },
     "execution_count": 7,
     "metadata": {},
     "output_type": "execute_result"
    }
   ],
   "source": [
    "len(bio),len(ee)"
   ]
  },
  {
   "cell_type": "code",
   "execution_count": 8,
   "metadata": {},
   "outputs": [
    {
     "data": {
      "text/plain": [
       "(1224, 2157)"
      ]
     },
     "execution_count": 8,
     "metadata": {},
     "output_type": "execute_result"
    }
   ],
   "source": [
    "bio.dropna(inplace=True)\n",
    "ee.dropna(inplace=True)\n",
    "\n",
    "len(bio),len(ee)"
   ]
  },
  {
   "cell_type": "code",
   "execution_count": 9,
   "metadata": {
    "collapsed": true
   },
   "outputs": [],
   "source": [
    "bio.to_csv('X_bio_dropna.csv',index=False)\n",
    "ee.to_csv('X_EE&IT_dropna.csv',index=False)"
   ]
  }
 ],
 "metadata": {
  "kernelspec": {
   "display_name": "Python 2",
   "language": "python",
   "name": "python2"
  },
  "language_info": {
   "codemirror_mode": {
    "name": "ipython",
    "version": 2
   },
   "file_extension": ".py",
   "mimetype": "text/x-python",
   "name": "python",
   "nbconvert_exporter": "python",
   "pygments_lexer": "ipython2",
   "version": "2.7.13"
  }
 },
 "nbformat": 4,
 "nbformat_minor": 2
}
