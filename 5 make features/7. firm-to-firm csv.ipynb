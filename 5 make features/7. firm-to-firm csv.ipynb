{
 "cells": [
  {
   "cell_type": "markdown",
   "metadata": {},
   "source": [
    "# firm-firm-year csv 만들기\n",
    "\n",
    "### 1. firm i, j 변수 그대로 사용\n",
    "- X_i, X_j join (left join)\n",
    "- forward 빼고 붙이기\n",
    "\n",
    "### 2. firm i 변수, firm j ratio 사용\n",
    "- X_i, X_j로 X_ij 만들기 (X_i / X_j)\n",
    "- X_j 제거"
   ]
  },
  {
   "cell_type": "code",
   "execution_count": 1,
   "metadata": {
    "collapsed": true
   },
   "outputs": [],
   "source": [
    "import pandas as pd\n",
    "import numpy as np\n",
    "import csv\n",
    "import os\n",
    "import math\n",
    "\n",
    "os.chdir('E:/apps/feature_ffy')"
   ]
  },
  {
   "cell_type": "markdown",
   "metadata": {},
   "source": [
    "### 1. firm i,j 변수 그대로\n",
    "** 쓸모없는 변수는 엑셀로 미리 제거 **"
   ]
  },
  {
   "cell_type": "code",
   "execution_count": 2,
   "metadata": {},
   "outputs": [
    {
     "data": {
      "text/plain": [
       "(23510, 135361)"
      ]
     },
     "execution_count": 2,
     "metadata": {},
     "output_type": "execute_result"
    }
   ],
   "source": [
    "bio = pd.read_csv('X_bio_mvars.csv')\n",
    "ee = pd.read_csv('X_EE&IT_mvars.csv')\n",
    "\n",
    "bx = pd.read_csv('X_bio.csv')\n",
    "ex = pd.read_csv('X_EE&IT.csv')\n",
    "\n",
    "len(bio), len(ee)"
   ]
  },
  {
   "cell_type": "code",
   "execution_count": 3,
   "metadata": {},
   "outputs": [
    {
     "data": {
      "text/plain": [
       "(23510, 135361)"
      ]
     },
     "execution_count": 3,
     "metadata": {},
     "output_type": "execute_result"
    }
   ],
   "source": [
    "bio = bio.merge(bx,how='left',on=['gvkey','year'])\n",
    "ee = ee.merge(ex,how='left',on=['gvkey','year'])\n",
    "\n",
    "len(bio), len(ee)"
   ]
  },
  {
   "cell_type": "code",
   "execution_count": 4,
   "metadata": {},
   "outputs": [
    {
     "data": {
      "text/plain": [
       "['gvkey_cited',\n",
       " 'year',\n",
       " 'num_claims',\n",
       " 'self_ratio',\n",
       " 'self_ratio_fwd',\n",
       " 'roa',\n",
       " 'margin',\n",
       " 'rdi',\n",
       " 'mkt_4',\n",
       " 'herf_cls',\n",
       " 'emp',\n",
       " 'rnd',\n",
       " 'pstock']"
      ]
     },
     "execution_count": 4,
     "metadata": {},
     "output_type": "execute_result"
    }
   ],
   "source": [
    "bx.rename(columns={\"gvkey\": \"gvkey_cited\"},inplace=True)\n",
    "ex.rename(columns={\"gvkey\": \"gvkey_cited\"},inplace=True)\n",
    "\n",
    "list(bx)"
   ]
  },
  {
   "cell_type": "code",
   "execution_count": 5,
   "metadata": {},
   "outputs": [
    {
     "data": {
      "text/plain": [
       "(23510, 135361)"
      ]
     },
     "execution_count": 5,
     "metadata": {},
     "output_type": "execute_result"
    }
   ],
   "source": [
    "bio = bio.merge(bx,how='left',on=['gvkey_cited','year'],suffixes=('_i', '_j'))\n",
    "ee = ee.merge(ex,how='left',on=['gvkey_cited','year'],suffixes=('_i', '_j'))\n",
    "\n",
    "len(bio), len(ee)"
   ]
  },
  {
   "cell_type": "code",
   "execution_count": 6,
   "metadata": {
    "scrolled": true
   },
   "outputs": [
    {
     "data": {
      "text/plain": [
       "['gvkey',\n",
       " 'gvkey_cited',\n",
       " 'year',\n",
       " 'lit_t1',\n",
       " 'lit_t_c',\n",
       " 'pat_cit',\n",
       " 'app_cit',\n",
       " 't_proxy',\n",
       " 'num_claims_i',\n",
       " 'self_ratio_i',\n",
       " 'self_ratio_fwd_i',\n",
       " 'roa_i',\n",
       " 'margin_i',\n",
       " 'rdi_i',\n",
       " 'mkt_4_i',\n",
       " 'herf_cls_i',\n",
       " 'emp_i',\n",
       " 'rnd_i',\n",
       " 'pstock_i',\n",
       " 'num_claims_j',\n",
       " 'self_ratio_j',\n",
       " 'self_ratio_fwd_j',\n",
       " 'roa_j',\n",
       " 'margin_j',\n",
       " 'rdi_j',\n",
       " 'mkt_4_j',\n",
       " 'herf_cls_j',\n",
       " 'emp_j',\n",
       " 'rnd_j',\n",
       " 'pstock_j']"
      ]
     },
     "execution_count": 6,
     "metadata": {},
     "output_type": "execute_result"
    }
   ],
   "source": [
    "list(bio)"
   ]
  },
  {
   "cell_type": "code",
   "execution_count": 7,
   "metadata": {},
   "outputs": [
    {
     "data": {
      "text/plain": [
       "(18456, 126012)"
      ]
     },
     "execution_count": 7,
     "metadata": {},
     "output_type": "execute_result"
    }
   ],
   "source": [
    "bio.dropna(how='any',inplace=True)\n",
    "ee.dropna(how='any',inplace=True)\n",
    "len(bio), len(ee)"
   ]
  },
  {
   "cell_type": "code",
   "execution_count": 8,
   "metadata": {
    "collapsed": true
   },
   "outputs": [],
   "source": [
    "bio.to_csv('X_bio_ij.csv',index=False)\n",
    "ee.to_csv('X_EE&IT_ij.csv',index=False)"
   ]
  },
  {
   "cell_type": "markdown",
   "metadata": {},
   "source": [
    "### 2. firm i, firm j ratio"
   ]
  },
  {
   "cell_type": "code",
   "execution_count": 10,
   "metadata": {
    "scrolled": true
   },
   "outputs": [
    {
     "data": {
      "text/plain": [
       "(30, 8, 19)"
      ]
     },
     "execution_count": 10,
     "metadata": {},
     "output_type": "execute_result"
    }
   ],
   "source": [
    "len(list(bio)), list(bio).index('num_claims_i'), list(bio).index('num_claims_j')"
   ]
  },
  {
   "cell_type": "code",
   "execution_count": 11,
   "metadata": {},
   "outputs": [
    {
     "data": {
      "text/plain": [
       "'num_claims_ij'"
      ]
     },
     "execution_count": 11,
     "metadata": {},
     "output_type": "execute_result"
    }
   ],
   "source": [
    "varname = list(bio)[8]+'j'\n",
    "bio[varname] = bio[list(bio)[8]]/bio[list(bio)[19]]\n",
    "list(bio)[30]"
   ]
  },
  {
   "cell_type": "code",
   "execution_count": 12,
   "metadata": {},
   "outputs": [
    {
     "data": {
      "text/plain": [
       "(30, 'self_ratio_j', 'num_claims_ij')"
      ]
     },
     "execution_count": 12,
     "metadata": {},
     "output_type": "execute_result"
    }
   ],
   "source": [
    "del bio[list(bio)[19]]\n",
    "\n",
    "len(list(bio)),list(bio)[19],list(bio)[29]"
   ]
  },
  {
   "cell_type": "code",
   "execution_count": 16,
   "metadata": {
    "collapsed": true
   },
   "outputs": [],
   "source": [
    "bio = pd.read_csv('X_bio_ij.csv')"
   ]
  },
  {
   "cell_type": "code",
   "execution_count": 17,
   "metadata": {
    "scrolled": true
   },
   "outputs": [
    {
     "data": {
      "text/plain": [
       "['gvkey',\n",
       " 'gvkey_cited',\n",
       " 'year',\n",
       " 'lit_t1',\n",
       " 'lit_t_c',\n",
       " 'pat_cit',\n",
       " 'app_cit',\n",
       " 't_proxy',\n",
       " 'num_claims_i',\n",
       " 'self_ratio_i',\n",
       " 'self_ratio_fwd_i',\n",
       " 'roa_i',\n",
       " 'margin_i',\n",
       " 'rdi_i',\n",
       " 'mkt_4_i',\n",
       " 'herf_cls_i',\n",
       " 'emp_i',\n",
       " 'rnd_i',\n",
       " 'pstock_i',\n",
       " 'num_claims_ij',\n",
       " 'self_ratio_ij',\n",
       " 'self_ratio_fwd_ij',\n",
       " 'roa_ij',\n",
       " 'margin_ij',\n",
       " 'rdi_ij',\n",
       " 'mkt_4_ij',\n",
       " 'herf_cls_ij',\n",
       " 'emp_ij',\n",
       " 'rnd_ij',\n",
       " 'pstock_ij']"
      ]
     },
     "execution_count": 17,
     "metadata": {},
     "output_type": "execute_result"
    }
   ],
   "source": [
    "def get_ratio(df):\n",
    "    for i in range(8,19):\n",
    "        varname = list(df)[i]+'j'\n",
    "        df[varname] = df[list(df)[i]]/df[list(df)[19]]\n",
    "        del df[list(df)[19]]\n",
    "    \n",
    "    return df\n",
    "\n",
    "get_ratio(bio)\n",
    "get_ratio(ee)\n",
    "\n",
    "list(bio)"
   ]
  },
  {
   "cell_type": "code",
   "execution_count": 18,
   "metadata": {
    "collapsed": true
   },
   "outputs": [],
   "source": [
    "bio.to_csv('X_bio_ij_ratio.csv',index=False)\n",
    "ee.to_csv('X_EE&IT_ij_ratio.csv',index=False)"
   ]
  }
 ],
 "metadata": {
  "kernelspec": {
   "display_name": "Python 2",
   "language": "python",
   "name": "python2"
  },
  "language_info": {
   "codemirror_mode": {
    "name": "ipython",
    "version": 2
   },
   "file_extension": ".py",
   "mimetype": "text/x-python",
   "name": "python",
   "nbconvert_exporter": "python",
   "pygments_lexer": "ipython2",
   "version": "2.7.13"
  }
 },
 "nbformat": 4,
 "nbformat_minor": 2
}
