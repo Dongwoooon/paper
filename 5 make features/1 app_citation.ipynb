{
 "cells": [
  {
   "cell_type": "markdown",
   "metadata": {},
   "source": [
    "# App citation (IV) 제작\n",
    "\n",
    "### 1. 기업간 adj matrix 제작\n",
    "- (patent_id -> number)를 (gvkey -> gvkey)로 바꾸기\n",
    "\n",
    "### 2. weight로 사용할 similarity\n",
    "- app cite한 기업 사이 technological similarity (proximity) 계산 \n",
    "- 각 기업별 patent class 비율 vector 구해서 correlation 보면 됨 \n",
    "\n",
    "### 3. weight sum\n",
    "- 걍 weight sum해서 firm level 변수 제작"
   ]
  },
  {
   "cell_type": "markdown",
   "metadata": {},
   "source": [
    "### 1. 기업간 adj matrix 제작\n",
    "- 특정 산업에 해당하는 patent selection (patent_class, app_citation_byfirm join)  \n",
    "__=> patent_id, number, year__  \n",
    "- patent_id -> assignee -> gvkey (patent_assignee join, assignee_gvkey join)   \n",
    "__=> gvkey, number, year__\n",
    "- number -> raw_assignee -> assignee -> gvkey (app_info join, assignee_raw join, assignee_gvkey join)  \n",
    "__=> gvkey, gvkey_cited, year__\n",
    "- year 기준으로 subset, 각각에 대해 adj matrix 제작 (여긴 R 사용)"
   ]
  },
  {
   "cell_type": "code",
   "execution_count": 4,
   "metadata": {
    "collapsed": true
   },
   "outputs": [],
   "source": [
    "import pandas as pd\n",
    "import numpy as np\n",
    "import os\n",
    "\n",
    "os.chdir('E:/apps/db_table')"
   ]
  },
  {
   "cell_type": "markdown",
   "metadata": {},
   "source": [
    "__by firm 부터 ㄱㄱ__  \n",
    "__1. patent selection__"
   ]
  },
  {
   "cell_type": "code",
   "execution_count": 2,
   "metadata": {},
   "outputs": [
    {
     "name": "stdout",
     "output_type": "stream",
     "text": [
      "139224 850774\n"
     ]
    }
   ],
   "source": [
    "bio = pd.read_csv('patent_class_BIO.csv')\n",
    "ee = pd.read_csv('patent_class_EE&IT.csv')\n",
    "\n",
    "bio = bio.loc[:,['patent_id','year']]\n",
    "ee = ee.loc[:,['patent_id','year']]\n",
    "\n",
    "print len(bio), len(ee)"
   ]
  },
  {
   "cell_type": "code",
   "execution_count": 3,
   "metadata": {},
   "outputs": [
    {
     "name": "stdout",
     "output_type": "stream",
     "text": [
      "1061284 2680241\n"
     ]
    }
   ],
   "source": [
    "df = pd.read_csv('app_citation_byfirm.csv')\n",
    "\n",
    "bio = bio.merge(df,how='left',on='patent_id')\n",
    "ee = ee.merge(df,how='left',on='patent_id')\n",
    "\n",
    "bio.dropna(how='any',inplace=True)  #drop patents which don't cite apps\n",
    "ee.dropna(how='any',inplace=True)\n",
    "print len(bio), len(ee)"
   ]
  },
  {
   "cell_type": "code",
   "execution_count": 4,
   "metadata": {
    "collapsed": true
   },
   "outputs": [],
   "source": [
    "bio.to_csv('bio_temp.csv',index=False)\n",
    "ee.to_csv('ee_temp.csv',index=False)"
   ]
  },
  {
   "cell_type": "markdown",
   "metadata": {},
   "source": [
    "__2. patent_id -> gvkey__"
   ]
  },
  {
   "cell_type": "code",
   "execution_count": 5,
   "metadata": {},
   "outputs": [
    {
     "data": {
      "text/plain": [
       "(1088254, 2760338)"
      ]
     },
     "execution_count": 5,
     "metadata": {},
     "output_type": "execute_result"
    }
   ],
   "source": [
    "df = pd.read_csv('patent_assignee.csv')\n",
    "\n",
    "bio = bio.merge(df, how='left', on='patent_id')\n",
    "ee = ee.merge(df, how='left', on='patent_id')\n",
    "\n",
    "df = pd.read_csv('assignee_gvkey_BIO.csv')\n",
    "df1 = pd.read_csv('assignee_gvkey_EE&IT.csv')\n",
    "\n",
    "bio = bio.merge(df, how='left', on='assignee')\n",
    "ee = ee.merge(df1, how='left', on='assignee')\n",
    "\n",
    "bio = bio.loc[:,['gvkey','number','year']]\n",
    "ee = ee.loc[:,['gvkey','number','year']]\n",
    "\n",
    "len(bio), len(ee)"
   ]
  },
  {
   "cell_type": "code",
   "execution_count": 6,
   "metadata": {},
   "outputs": [
    {
     "data": {
      "text/plain": [
       "(527529, 1484488)"
      ]
     },
     "execution_count": 6,
     "metadata": {},
     "output_type": "execute_result"
    }
   ],
   "source": [
    "bio.dropna(how='any',inplace=True)  #drop patents which don't have gvkey of assignee\n",
    "ee.dropna(how='any',inplace=True)\n",
    "\n",
    "len(bio), len(ee)"
   ]
  },
  {
   "cell_type": "code",
   "execution_count": 7,
   "metadata": {
    "scrolled": true
   },
   "outputs": [
    {
     "data": {
      "text/html": [
       "<div>\n",
       "<style>\n",
       "    .dataframe thead tr:only-child th {\n",
       "        text-align: right;\n",
       "    }\n",
       "\n",
       "    .dataframe thead th {\n",
       "        text-align: left;\n",
       "    }\n",
       "\n",
       "    .dataframe tbody tr th {\n",
       "        vertical-align: top;\n",
       "    }\n",
       "</style>\n",
       "<table border=\"1\" class=\"dataframe\">\n",
       "  <thead>\n",
       "    <tr style=\"text-align: right;\">\n",
       "      <th></th>\n",
       "      <th>gvkey</th>\n",
       "      <th>number</th>\n",
       "      <th>year</th>\n",
       "    </tr>\n",
       "  </thead>\n",
       "  <tbody>\n",
       "    <tr>\n",
       "      <th>0</th>\n",
       "      <td>1976.0</td>\n",
       "      <td>20030085039</td>\n",
       "      <td>2005</td>\n",
       "    </tr>\n",
       "    <tr>\n",
       "      <th>1</th>\n",
       "      <td>1976.0</td>\n",
       "      <td>20030185099</td>\n",
       "      <td>2005</td>\n",
       "    </tr>\n",
       "    <tr>\n",
       "      <th>3</th>\n",
       "      <td>104604.0</td>\n",
       "      <td>20020070991</td>\n",
       "      <td>2005</td>\n",
       "    </tr>\n",
       "    <tr>\n",
       "      <th>4</th>\n",
       "      <td>5606.0</td>\n",
       "      <td>20030082841</td>\n",
       "      <td>2005</td>\n",
       "    </tr>\n",
       "    <tr>\n",
       "      <th>5</th>\n",
       "      <td>5606.0</td>\n",
       "      <td>20010015744</td>\n",
       "      <td>2005</td>\n",
       "    </tr>\n",
       "    <tr>\n",
       "      <th>6</th>\n",
       "      <td>61552.0</td>\n",
       "      <td>20030052944</td>\n",
       "      <td>2005</td>\n",
       "    </tr>\n",
       "    <tr>\n",
       "      <th>7</th>\n",
       "      <td>61552.0</td>\n",
       "      <td>20030016279</td>\n",
       "      <td>2005</td>\n",
       "    </tr>\n",
       "    <tr>\n",
       "      <th>8</th>\n",
       "      <td>61552.0</td>\n",
       "      <td>20020191061</td>\n",
       "      <td>2005</td>\n",
       "    </tr>\n",
       "    <tr>\n",
       "      <th>9</th>\n",
       "      <td>61552.0</td>\n",
       "      <td>20020186284</td>\n",
       "      <td>2005</td>\n",
       "    </tr>\n",
       "    <tr>\n",
       "      <th>10</th>\n",
       "      <td>61552.0</td>\n",
       "      <td>20020145650</td>\n",
       "      <td>2005</td>\n",
       "    </tr>\n",
       "  </tbody>\n",
       "</table>\n",
       "</div>"
      ],
      "text/plain": [
       "       gvkey       number  year\n",
       "0     1976.0  20030085039  2005\n",
       "1     1976.0  20030185099  2005\n",
       "3   104604.0  20020070991  2005\n",
       "4     5606.0  20030082841  2005\n",
       "5     5606.0  20010015744  2005\n",
       "6    61552.0  20030052944  2005\n",
       "7    61552.0  20030016279  2005\n",
       "8    61552.0  20020191061  2005\n",
       "9    61552.0  20020186284  2005\n",
       "10   61552.0  20020145650  2005"
      ]
     },
     "execution_count": 7,
     "metadata": {},
     "output_type": "execute_result"
    }
   ],
   "source": [
    "ee.iloc[0:10,:]"
   ]
  },
  {
   "cell_type": "code",
   "execution_count": 8,
   "metadata": {},
   "outputs": [
    {
     "data": {
      "text/plain": [
       "gvkey     False\n",
       "number    False\n",
       "year      False\n",
       "dtype: bool"
      ]
     },
     "execution_count": 8,
     "metadata": {},
     "output_type": "execute_result"
    }
   ],
   "source": [
    "ee.isnull().any()"
   ]
  },
  {
   "cell_type": "code",
   "execution_count": 9,
   "metadata": {
    "scrolled": false
   },
   "outputs": [
    {
     "data": {
      "text/plain": [
       "gvkey     False\n",
       "number    False\n",
       "year      False\n",
       "dtype: bool"
      ]
     },
     "execution_count": 9,
     "metadata": {},
     "output_type": "execute_result"
    }
   ],
   "source": [
    "bio.isnull().any()"
   ]
  },
  {
   "cell_type": "code",
   "execution_count": 10,
   "metadata": {
    "collapsed": true
   },
   "outputs": [],
   "source": [
    "bio.to_csv('bio_temp.csv',index=False)\n",
    "ee.to_csv('ee_temp.csv',index=False)"
   ]
  },
  {
   "cell_type": "markdown",
   "metadata": {},
   "source": [
    "__3. number -> gvkey_cited__"
   ]
  },
  {
   "cell_type": "code",
   "execution_count": 11,
   "metadata": {},
   "outputs": [
    {
     "name": "stderr",
     "output_type": "stream",
     "text": [
      "C:\\Users\\DW\\Anaconda2\\lib\\site-packages\\IPython\\core\\interactiveshell.py:2717: DtypeWarning: Columns (1) have mixed types. Specify dtype option on import or set low_memory=False.\n",
      "  interactivity=interactivity, compiler=compiler, result=result)\n"
     ]
    }
   ],
   "source": [
    "bio = pd.read_csv('bio_temp.csv')\n",
    "ee = pd.read_csv('ee_temp.csv')"
   ]
  },
  {
   "cell_type": "code",
   "execution_count": 12,
   "metadata": {},
   "outputs": [
    {
     "data": {
      "text/plain": [
       "(536106, 1493918)"
      ]
     },
     "execution_count": 12,
     "metadata": {},
     "output_type": "execute_result"
    }
   ],
   "source": [
    "df = pd.read_csv('app_info.csv')\n",
    "df = df.loc[:,['number','raw_assignee']]\n",
    "df = df.loc[df['raw_assignee']!='private',:]  #selecting non-private apps\n",
    "df['number'] = map(str,df['number'])\n",
    "\n",
    "bio['number'] = map(str,bio['number'])\n",
    "ee['number'] = map(str,ee['number'])\n",
    "\n",
    "bio = bio.merge(df, how='left', on='number')\n",
    "ee = ee.merge(df, how='left', on='number')\n",
    "\n",
    "len(bio), len(ee)"
   ]
  },
  {
   "cell_type": "code",
   "execution_count": 13,
   "metadata": {},
   "outputs": [
    {
     "data": {
      "text/plain": [
       "(224617, 643978)"
      ]
     },
     "execution_count": 13,
     "metadata": {},
     "output_type": "execute_result"
    }
   ],
   "source": [
    "bio.dropna(how='any',inplace=True)  #drop patents which cited assignee-missing application\n",
    "ee.dropna(how='any',inplace=True)\n",
    "\n",
    "len(bio), len(ee)"
   ]
  },
  {
   "cell_type": "code",
   "execution_count": 14,
   "metadata": {},
   "outputs": [
    {
     "data": {
      "text/html": [
       "<div>\n",
       "<style>\n",
       "    .dataframe thead tr:only-child th {\n",
       "        text-align: right;\n",
       "    }\n",
       "\n",
       "    .dataframe thead th {\n",
       "        text-align: left;\n",
       "    }\n",
       "\n",
       "    .dataframe tbody tr th {\n",
       "        vertical-align: top;\n",
       "    }\n",
       "</style>\n",
       "<table border=\"1\" class=\"dataframe\">\n",
       "  <thead>\n",
       "    <tr style=\"text-align: right;\">\n",
       "      <th></th>\n",
       "      <th>gvkey</th>\n",
       "      <th>number</th>\n",
       "      <th>year</th>\n",
       "      <th>raw_assignee</th>\n",
       "    </tr>\n",
       "  </thead>\n",
       "  <tbody>\n",
       "    <tr>\n",
       "      <th>0</th>\n",
       "      <td>1976.0</td>\n",
       "      <td>20030085039</td>\n",
       "      <td>2005</td>\n",
       "      <td>Baker Hughes, Inc.</td>\n",
       "    </tr>\n",
       "    <tr>\n",
       "      <th>1</th>\n",
       "      <td>1976.0</td>\n",
       "      <td>20030185099</td>\n",
       "      <td>2005</td>\n",
       "      <td>Baker Hughes Incorporated</td>\n",
       "    </tr>\n",
       "    <tr>\n",
       "      <th>2</th>\n",
       "      <td>104604.0</td>\n",
       "      <td>20020070991</td>\n",
       "      <td>2005</td>\n",
       "      <td>Seiko Epson Corporation</td>\n",
       "    </tr>\n",
       "    <tr>\n",
       "      <th>9</th>\n",
       "      <td>61552.0</td>\n",
       "      <td>20020145650</td>\n",
       "      <td>2005</td>\n",
       "      <td>Eastman Kodak Company</td>\n",
       "    </tr>\n",
       "    <tr>\n",
       "      <th>10</th>\n",
       "      <td>61552.0</td>\n",
       "      <td>20020105567</td>\n",
       "      <td>2005</td>\n",
       "      <td>BROTHER KOGYO KABUSHIKI KAISHA</td>\n",
       "    </tr>\n",
       "    <tr>\n",
       "      <th>39</th>\n",
       "      <td>7343.0</td>\n",
       "      <td>20030096497</td>\n",
       "      <td>2005</td>\n",
       "      <td>Micron Technology, Inc.</td>\n",
       "    </tr>\n",
       "    <tr>\n",
       "      <th>53</th>\n",
       "      <td>7343.0</td>\n",
       "      <td>20020163828</td>\n",
       "      <td>2005</td>\n",
       "      <td>Coatue Corporation</td>\n",
       "    </tr>\n",
       "    <tr>\n",
       "      <th>74</th>\n",
       "      <td>7343.0</td>\n",
       "      <td>20020190350</td>\n",
       "      <td>2005</td>\n",
       "      <td>ARIZONA BOARD OF REGENTS</td>\n",
       "    </tr>\n",
       "    <tr>\n",
       "      <th>80</th>\n",
       "      <td>7772.0</td>\n",
       "      <td>20020089067</td>\n",
       "      <td>2005</td>\n",
       "      <td>Loctite Corporation</td>\n",
       "    </tr>\n",
       "    <tr>\n",
       "      <th>82</th>\n",
       "      <td>7114.0</td>\n",
       "      <td>20020024119</td>\n",
       "      <td>2005</td>\n",
       "      <td>Kabushiki Kaisha Toshiba</td>\n",
       "    </tr>\n",
       "  </tbody>\n",
       "</table>\n",
       "</div>"
      ],
      "text/plain": [
       "       gvkey       number  year                    raw_assignee\n",
       "0     1976.0  20030085039  2005              Baker Hughes, Inc.\n",
       "1     1976.0  20030185099  2005       Baker Hughes Incorporated\n",
       "2   104604.0  20020070991  2005         Seiko Epson Corporation\n",
       "9    61552.0  20020145650  2005           Eastman Kodak Company\n",
       "10   61552.0  20020105567  2005  BROTHER KOGYO KABUSHIKI KAISHA\n",
       "39    7343.0  20030096497  2005         Micron Technology, Inc.\n",
       "53    7343.0  20020163828  2005              Coatue Corporation\n",
       "74    7343.0  20020190350  2005        ARIZONA BOARD OF REGENTS\n",
       "80    7772.0  20020089067  2005             Loctite Corporation\n",
       "82    7114.0  20020024119  2005        Kabushiki Kaisha Toshiba"
      ]
     },
     "execution_count": 14,
     "metadata": {},
     "output_type": "execute_result"
    }
   ],
   "source": [
    "ee.iloc[0:10,:]"
   ]
  },
  {
   "cell_type": "code",
   "execution_count": 15,
   "metadata": {
    "collapsed": true
   },
   "outputs": [],
   "source": [
    "bio.to_csv('bio_temp.csv',index=False)\n",
    "ee.to_csv('ee_temp.csv',index=False)"
   ]
  },
  {
   "cell_type": "code",
   "execution_count": 16,
   "metadata": {
    "scrolled": true
   },
   "outputs": [
    {
     "data": {
      "text/plain": [
       "(224953, 644369)"
      ]
     },
     "execution_count": 16,
     "metadata": {},
     "output_type": "execute_result"
    }
   ],
   "source": [
    "df = pd.read_csv('assignee_raw.csv')\n",
    "\n",
    "bio = bio.merge(df, how='left', on='raw_assignee')\n",
    "ee = ee.merge(df, how='left', on='raw_assignee')\n",
    "\n",
    "df = pd.read_csv('assignee_gvkey_BIO.csv')\n",
    "df1 = pd.read_csv('assignee_gvkey_EE&IT.csv')\n",
    "\n",
    "bio = bio.merge(df, how='left', on='assignee', suffixes=('', '_cited'))\n",
    "ee = ee.merge(df1, how='left', on='assignee', suffixes=('', '_cited'))\n",
    "\n",
    "bio = bio.loc[:,['gvkey','gvkey_cited','year']]\n",
    "ee = ee.loc[:,['gvkey','gvkey_cited','year']]\n",
    "\n",
    "len(bio), len(ee)"
   ]
  },
  {
   "cell_type": "code",
   "execution_count": 17,
   "metadata": {},
   "outputs": [
    {
     "data": {
      "text/plain": [
       "(100703, 332001)"
      ]
     },
     "execution_count": 17,
     "metadata": {},
     "output_type": "execute_result"
    }
   ],
   "source": [
    "bio.dropna(how='any',inplace=True)  #drop patents which cited gvkey-missing application\n",
    "ee.dropna(how='any',inplace=True)\n",
    "\n",
    "len(bio), len(ee)"
   ]
  },
  {
   "cell_type": "code",
   "execution_count": 18,
   "metadata": {},
   "outputs": [
    {
     "data": {
      "text/plain": [
       "gvkey          False\n",
       "gvkey_cited    False\n",
       "year           False\n",
       "dtype: bool"
      ]
     },
     "execution_count": 18,
     "metadata": {},
     "output_type": "execute_result"
    }
   ],
   "source": [
    "ee.isnull().any()"
   ]
  },
  {
   "cell_type": "code",
   "execution_count": 19,
   "metadata": {},
   "outputs": [
    {
     "data": {
      "text/plain": [
       "gvkey          False\n",
       "gvkey_cited    False\n",
       "year           False\n",
       "dtype: bool"
      ]
     },
     "execution_count": 19,
     "metadata": {},
     "output_type": "execute_result"
    }
   ],
   "source": [
    "bio.isnull().any()"
   ]
  },
  {
   "cell_type": "code",
   "execution_count": null,
   "metadata": {
    "collapsed": true
   },
   "outputs": [],
   "source": [
    "bio['gvkey'] = map(int,bio['gvkey'])\n",
    "ee['gvkey'] = map(int,ee['gvkey'])\n",
    "\n",
    "bio.to_csv('E:/apps/app_cit_edge_BIO.csv',index=False)\n",
    "ee.to_csv('E:/apps/app_cit_edge_EE&IT.csv',index=False)"
   ]
  },
  {
   "cell_type": "markdown",
   "metadata": {},
   "source": [
    "__r 써서 마무리__"
   ]
  },
  {
   "cell_type": "markdown",
   "metadata": {},
   "source": [
    "### 2. weight로 사용할 similarity (tech proximity)\n",
    "__2.1 기업별 patent class vector 제작__\n",
    "- 기업별 patent class 파악 (patent_class, patent_assignee, gvkey join)  \n",
    "__=> gvkey, uspc, year__  \n",
    "- 기업, 연도 레벨로 patent class aggregate(count, groupby gvkey, year, uspc)  \n",
    "__=>gvkey, year, uspc, count__\n",
    "- matrix로 제작 (uspc X gvkey pivot), count를 비율로 변경 \n",
    "\n",
    "__2.2 기업간 proximity matrix 제작__\n",
    "- 전체 기업 중 appcit_matrix에 있는 기업만 고르기 (appcit_matrix의 0번째 col, class_vector join)\n",
    "- 함수 사용 matrix 제작"
   ]
  },
  {
   "cell_type": "markdown",
   "metadata": {},
   "source": [
    "__1. 기업별 patent class 파악__"
   ]
  },
  {
   "cell_type": "code",
   "execution_count": 1,
   "metadata": {
    "collapsed": true
   },
   "outputs": [],
   "source": [
    "import pandas as pd\n",
    "import numpy as np\n",
    "import os\n",
    "\n",
    "os.chdir('E:/apps/db_table')"
   ]
  },
  {
   "cell_type": "code",
   "execution_count": 3,
   "metadata": {},
   "outputs": [
    {
     "name": "stdout",
     "output_type": "stream",
     "text": [
      "139224 850774\n"
     ]
    }
   ],
   "source": [
    "bio = pd.read_csv('patent_class_BIO.csv')\n",
    "ee = pd.read_csv('patent_class_EE&IT.csv')\n",
    "\n",
    "bio = bio.loc[:,['patent_id','uspc','year']]\n",
    "ee = ee.loc[:,['patent_id','uspc','year']]\n",
    "\n",
    "print len(bio), len(ee)"
   ]
  },
  {
   "cell_type": "code",
   "execution_count": 4,
   "metadata": {},
   "outputs": [
    {
     "name": "stdout",
     "output_type": "stream",
     "text": [
      "116260 783601\n"
     ]
    }
   ],
   "source": [
    "df = pd.read_csv('patent_assignee.csv')\n",
    "\n",
    "bio = bio.merge(df,how='left',on='patent_id')\n",
    "ee = ee.merge(df,how='left',on='patent_id')\n",
    "\n",
    "bio = bio.loc[:,['assignee','uspc','year']]\n",
    "ee = ee.loc[:,['assignee','uspc','year']]\n",
    "\n",
    "bio.dropna(how='any',inplace=True)  #drop patents which don't have assignee\n",
    "ee.dropna(how='any',inplace=True)\n",
    "print len(bio), len(ee)"
   ]
  },
  {
   "cell_type": "code",
   "execution_count": 5,
   "metadata": {},
   "outputs": [
    {
     "name": "stdout",
     "output_type": "stream",
     "text": [
      "54112 554481\n"
     ]
    }
   ],
   "source": [
    "df = pd.read_csv('assignee_gvkey_BIO.csv')\n",
    "df1 = pd.read_csv('assignee_gvkey_EE&IT.csv')\n",
    "\n",
    "bio = bio.merge(df,how='left',on='assignee')\n",
    "ee = ee.merge(df1,how='left',on='assignee')\n",
    "\n",
    "bio = bio.loc[:,['gvkey','uspc','year']]\n",
    "ee = ee.loc[:,['gvkey','uspc','year']]\n",
    "\n",
    "bio.dropna(how='any',inplace=True)  #drop patents which don't have assignee\n",
    "ee.dropna(how='any',inplace=True)\n",
    "print len(bio), len(ee)"
   ]
  },
  {
   "cell_type": "code",
   "execution_count": 6,
   "metadata": {
    "collapsed": true
   },
   "outputs": [],
   "source": [
    "bio.to_csv('bio_temp.csv',index=False)\n",
    "ee.to_csv('ee_temp.csv',index=False)"
   ]
  },
  {
   "cell_type": "markdown",
   "metadata": {},
   "source": [
    "__2. firm-year level aggregation__"
   ]
  },
  {
   "cell_type": "code",
   "execution_count": 7,
   "metadata": {},
   "outputs": [
    {
     "name": "stdout",
     "output_type": "stream",
     "text": [
      "5480 56897\n"
     ]
    }
   ],
   "source": [
    "bio['count'] = ''\n",
    "ee['count'] = ''\n",
    "\n",
    "bio = bio.groupby(['gvkey','year','uspc'], as_index=False).agg('count')\n",
    "ee = ee.groupby(['gvkey','year','uspc'], as_index=False).agg('count')\n",
    "\n",
    "print len(bio), len(ee)"
   ]
  },
  {
   "cell_type": "code",
   "execution_count": 8,
   "metadata": {
    "collapsed": true
   },
   "outputs": [],
   "source": [
    "bio.to_csv('bio_temp.csv',index=False)\n",
    "ee.to_csv('ee_temp.csv',index=False)"
   ]
  },
  {
   "cell_type": "markdown",
   "metadata": {},
   "source": [
    "__3. matrix로 변경__"
   ]
  },
  {
   "cell_type": "code",
   "execution_count": 2,
   "metadata": {
    "collapsed": true
   },
   "outputs": [],
   "source": [
    "bio = pd.read_csv('bio_temp.csv')\n",
    "ee = pd.read_csv('ee_temp.csv')"
   ]
  },
  {
   "cell_type": "code",
   "execution_count": 3,
   "metadata": {
    "collapsed": true
   },
   "outputs": [],
   "source": [
    "def get_ratio(row):\n",
    "    tot = sum(row)\n",
    "    row = map(lambda x: round(float(x)/tot,3), row)    \n",
    "\n",
    "    return row\n",
    "\n",
    "def pivot(df,y):\n",
    "    df = df.loc[df['year']==y,:]\n",
    "    df = pd.pivot_table(df,index='gvkey',columns='uspc', values='count', fill_value=0)\n",
    "    df = df.apply(get_ratio, axis=1,reduce = False)\n",
    "    \n",
    "    return df"
   ]
  },
  {
   "cell_type": "code",
   "execution_count": 4,
   "metadata": {
    "collapsed": true
   },
   "outputs": [],
   "source": [
    "os.chdir('E:/apps/appcit measure')\n",
    "\n",
    "for i in range(2005,2013):\n",
    "    bdf = pivot(bio,i)\n",
    "    fname = 'class_vector_bio_' + str(i) +'.csv'\n",
    "    bdf.to_csv(fname)\n",
    "    \n",
    "    edf = pivot(ee,i)\n",
    "    fname = 'class_vector_EE&IT_' + str(i) +'.csv'\n",
    "    edf.to_csv(fname)"
   ]
  },
  {
   "cell_type": "markdown",
   "metadata": {},
   "source": [
    "__4. proximity 계산__"
   ]
  },
  {
   "cell_type": "code",
   "execution_count": 1,
   "metadata": {
    "collapsed": true
   },
   "outputs": [],
   "source": [
    "import pandas as pd\n",
    "import numpy as np\n",
    "import os\n",
    "import csv\n",
    "import math\n",
    "from math import sqrt\n",
    "\n",
    "os.chdir('E:/apps/appcit measure')"
   ]
  },
  {
   "cell_type": "code",
   "execution_count": 2,
   "metadata": {
    "collapsed": true
   },
   "outputs": [],
   "source": [
    "def prox_numer(l1,l2):\n",
    "    cnt = 0.0\n",
    "    for i in xrange(len(l1)):\n",
    "        if l1[i]!=0 and l2[i]!=0:\n",
    "            w= float(l1[i]) * l2[i]\n",
    "            cnt += w\n",
    "    \n",
    "    return cnt \n",
    "\n",
    "def prox_denom(l1,l2):\n",
    "    a = sqrt(sum(map(lambda x: x**2, l1)))\n",
    "    b = sqrt(sum(map(lambda x: x**2, l2)))\n",
    "    \n",
    "    return a*b \n",
    "\n",
    "def proximity(l1,l2):\n",
    "    return round(prox_numer(l1,l2) / prox_denom(l1,l2),3)\n",
    "\n",
    "def get_prox(l1,arr):\n",
    "    sim = []\n",
    "    for row in arr:\n",
    "        sim.append(proximity(l1,row))\n",
    "        \n",
    "    return sim"
   ]
  },
  {
   "cell_type": "code",
   "execution_count": 3,
   "metadata": {
    "collapsed": true
   },
   "outputs": [],
   "source": [
    "def final(ind,y):\n",
    "    gvkey = 'appcit_matrix_' + ind + '_' + str(y) +'.csv'\n",
    "    clsvec = 'class_vector_' + ind + '_' + str(y) +'.csv'\n",
    "\n",
    "    df = pd.read_csv(gvkey).iloc[:,0].to_frame()\n",
    "    df1 = pd.read_csv(clsvec)\n",
    "    \n",
    "    df = df.merge(df1,how='left',on='gvkey')\n",
    "    arr = df.values\n",
    "\n",
    "    header = arr[:,0].tolist()\n",
    "    header = ['gvkey'] + map(int,header)\n",
    "\n",
    "    arr = np.delete(arr,0,1)\n",
    "    \n",
    "    fname = 'proximity_' + ind + '_' + str(y) +'.csv'\n",
    "    with open(fname,'wb') as f:\n",
    "        writer = csv.writer(f)\n",
    "        writer.writerow(header)\n",
    "\n",
    "        i=1  \n",
    "        for row in arr:        \n",
    "            line = get_prox(row,arr)\n",
    "            line = [header[i]] + line             \n",
    "            writer.writerow(line)\n",
    "            i += 1"
   ]
  },
  {
   "cell_type": "code",
   "execution_count": 4,
   "metadata": {
    "collapsed": true
   },
   "outputs": [],
   "source": [
    "for y in range(2005,2013):\n",
    "    final('bio',y)\n",
    "    final('EE&IT',y)"
   ]
  },
  {
   "cell_type": "markdown",
   "metadata": {},
   "source": [
    "### 3. weight sum\n",
    "- matrix끼리 곱하기"
   ]
  },
  {
   "cell_type": "code",
   "execution_count": 2,
   "metadata": {
    "collapsed": true
   },
   "outputs": [],
   "source": [
    "def get_appcit(ind,y):\n",
    "    cit = 'appcit_matrix_' + ind + '_' + str(y) +'.csv'\n",
    "    prox = 'proximity_' + ind + '_' + str(y) +'.csv'\n",
    "    \n",
    "    cit = pd.read_csv(cit)\n",
    "    prox = pd.read_csv(prox)\n",
    "\n",
    "    df = cit * prox\n",
    "\n",
    "    df['app_cit'] = 0.0\n",
    "    \n",
    "    for i in range(0,len(df)):\n",
    "        df.loc[i,'gvkey'] = int(sqrt(df.loc[i,'gvkey']))\n",
    "        df.loc[i,'app_cit'] = sum(df.iloc[i,1:]) - df.iloc[i,i+1]\n",
    "        \n",
    "    df['year'] = y\n",
    "    df = df.loc[:,['gvkey','year','app_cit']]\n",
    "    \n",
    "    fname = 'appcit_' + ind + '_' + str(y) +'.csv'\n",
    "    df.to_csv(fname,index=False)"
   ]
  },
  {
   "cell_type": "code",
   "execution_count": 3,
   "metadata": {
    "collapsed": true
   },
   "outputs": [],
   "source": [
    "for y in range(2005,2013):\n",
    "    get_appcit('bio',y)\n",
    "    get_appcit('EE&IT',y)"
   ]
  },
  {
   "cell_type": "markdown",
   "metadata": {},
   "source": [
    "- 하나로 만들기"
   ]
  },
  {
   "cell_type": "code",
   "execution_count": 17,
   "metadata": {
    "collapsed": true
   },
   "outputs": [],
   "source": [
    "bio = pd.read_csv('appcit_bio_2005.csv')\n",
    "ee = pd.read_csv('appcit_EE&IT_2005.csv')\n",
    "\n",
    "for y in range(2006,2013):\n",
    "    df = pd.read_csv('appcit_bio_' + str(y) +'.csv')\n",
    "    bio = pd.concat([bio,df],ignore_index=True)\n",
    "    \n",
    "    df = pd.read_csv('appcit_EE&IT_' + str(y) +'.csv')\n",
    "    ee = pd.concat([ee,df],ignore_index=True)\n",
    "    \n",
    "bio.sort_values(by=['gvkey','year'],inplace=True)\n",
    "bio.reset_index(drop=True, inplace=True)\n",
    "ee.sort_values(by=['gvkey','year'],inplace=True)\n",
    "ee.reset_index(drop=True,inplace=True)"
   ]
  },
  {
   "cell_type": "code",
   "execution_count": 19,
   "metadata": {},
   "outputs": [],
   "source": [
    "bio.to_csv('appcit_bio.csv',index=False)\n",
    "ee.to_csv('appcit_EE&IT.csv',index=False)"
   ]
  }
 ],
 "metadata": {
  "kernelspec": {
   "display_name": "Python 2",
   "language": "python",
   "name": "python2"
  },
  "language_info": {
   "codemirror_mode": {
    "name": "ipython",
    "version": 2
   },
   "file_extension": ".py",
   "mimetype": "text/x-python",
   "name": "python",
   "nbconvert_exporter": "python",
   "pygments_lexer": "ipython2",
   "version": "2.7.13"
  }
 },
 "nbformat": 4,
 "nbformat_minor": 2
}
