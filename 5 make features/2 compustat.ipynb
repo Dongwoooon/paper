{
 "cells": [
  {
   "cell_type": "markdown",
   "metadata": {},
   "source": [
    "# Compustat에서 필요한 firm-lv 변수 뽑기\n",
    "\n",
    "### 1. gvkey, year selection\n",
    "- app_cit에 있는 기업만 고르기\n",
    "\n",
    "### 2. 단순 변수 선택 & 제작\n",
    "- ROA (ebit / at)\n",
    "- 이익률 (ebit / revt)\n",
    "- R&D intensity (xrd / revt)\n",
    "\n",
    "### 3. market concentration\n",
    "- 이건 전체 compustat 데이터로 비교 필요\n",
    "- sic 코드 같은 애들 싹 다 모은 후 구하기"
   ]
  },
  {
   "cell_type": "markdown",
   "metadata": {},
   "source": [
    "### 1. selection"
   ]
  },
  {
   "cell_type": "code",
   "execution_count": 1,
   "metadata": {
    "collapsed": true
   },
   "outputs": [],
   "source": [
    "import pandas as pd\n",
    "import numpy as np\n",
    "import csv\n",
    "import os\n",
    "import math\n",
    "\n",
    "os.chdir('E:/apps')"
   ]
  },
  {
   "cell_type": "code",
   "execution_count": 2,
   "metadata": {},
   "outputs": [
    {
     "data": {
      "text/plain": [
       "(1445, 2665)"
      ]
     },
     "execution_count": 2,
     "metadata": {},
     "output_type": "execute_result"
    }
   ],
   "source": [
    "raw = pd.read_csv('db_table/compustat_05-12.csv')\n",
    "\n",
    "bio = pd.read_csv('appcit_bio.csv')\n",
    "bio = bio.rename(columns = {'year':'fyear'})\n",
    "bio.drop('app_cit', axis=1, inplace=True)\n",
    "\n",
    "ee = pd.read_csv('appcit_EE&IT.csv')\n",
    "ee = ee.rename(columns = {'year':'fyear'})\n",
    "ee.drop('app_cit', axis=1, inplace=True)\n",
    "\n",
    "len(bio), len(ee)"
   ]
  },
  {
   "cell_type": "code",
   "execution_count": 3,
   "metadata": {},
   "outputs": [
    {
     "data": {
      "text/plain": [
       "(1445, 2665)"
      ]
     },
     "execution_count": 3,
     "metadata": {},
     "output_type": "execute_result"
    }
   ],
   "source": [
    "bio = bio.merge(raw,how='left',on=['gvkey','fyear'])\n",
    "ee = ee.merge(raw,how='left',on=['gvkey','fyear'])\n",
    "\n",
    "len(bio), len(ee)"
   ]
  },
  {
   "cell_type": "code",
   "execution_count": 7,
   "metadata": {
    "collapsed": true
   },
   "outputs": [],
   "source": [
    "bio.to_csv('compu_bio.csv', index=False)\n",
    "ee.to_csv('compu_EE&IT.csv',index=False)"
   ]
  },
  {
   "cell_type": "markdown",
   "metadata": {},
   "source": [
    "### 2. simple feature 제작\n",
    "- ROA : ebit, at 없는 애들 못 구함\n",
    "- 이익률 : ebit, revt 없는 애들 못 구함\n",
    "- R&D intensity : xrd, revt 없는 애들 못 구함  \n",
    "=> dropna on [ebit, at, revt, (xrd)]"
   ]
  },
  {
   "cell_type": "markdown",
   "metadata": {},
   "source": [
    "__2.1 drop na__"
   ]
  },
  {
   "cell_type": "code",
   "execution_count": 4,
   "metadata": {
    "scrolled": true
   },
   "outputs": [
    {
     "data": {
      "text/plain": [
       "['gvkey',\n",
       " 'fyear',\n",
       " 'conm',\n",
       " 'consol',\n",
       " 'datadate',\n",
       " 'fic',\n",
       " 'curcd',\n",
       " 'act',\n",
       " 'at',\n",
       " 'ebit',\n",
       " 'emp',\n",
       " 'fatb',\n",
       " 'fate',\n",
       " 'fatl',\n",
       " 'fatp',\n",
       " 'fopo',\n",
       " 'fsrco',\n",
       " 'fsrcopo',\n",
       " 'fsrcopt',\n",
       " 'fsrct',\n",
       " 'fuseo',\n",
       " 'fuset',\n",
       " 'ppegt',\n",
       " 'ppent',\n",
       " 'revt',\n",
       " 'teq',\n",
       " 'xlr',\n",
       " 'xrd',\n",
       " 'xstfws',\n",
       " 'ni',\n",
       " 'sic']"
      ]
     },
     "execution_count": 4,
     "metadata": {},
     "output_type": "execute_result"
    }
   ],
   "source": [
    "list(bio)"
   ]
  },
  {
   "cell_type": "code",
   "execution_count": 5,
   "metadata": {},
   "outputs": [
    {
     "name": "stdout",
     "output_type": "stream",
     "text": [
      "11 21\n"
     ]
    }
   ],
   "source": [
    "colnm = list(bio)\n",
    "print colnm.index('fatb'), colnm.index('fuset')"
   ]
  },
  {
   "cell_type": "code",
   "execution_count": 6,
   "metadata": {
    "collapsed": true
   },
   "outputs": [],
   "source": [
    "bio.drop(colnm[11:22], axis=1, inplace=True)\n",
    "ee.drop(colnm[11:22], axis=1, inplace=True)"
   ]
  },
  {
   "cell_type": "code",
   "execution_count": 7,
   "metadata": {},
   "outputs": [
    {
     "name": "stdout",
     "output_type": "stream",
     "text": [
      "1445 1341 1300\n"
     ]
    }
   ],
   "source": [
    "bio1 = bio.dropna(axis=0, how='any',subset=['at','revt','ebit'])\n",
    "bio2 = bio.dropna(axis=0, how='any',subset=['at','revt','ebit','xrd'])\n",
    "\n",
    "print len(bio), len(bio1), len(bio2)"
   ]
  },
  {
   "cell_type": "code",
   "execution_count": 8,
   "metadata": {},
   "outputs": [
    {
     "name": "stdout",
     "output_type": "stream",
     "text": [
      "2665 2542 2411\n"
     ]
    }
   ],
   "source": [
    "ee1 = ee.dropna(axis=0, how='any',subset=['at','revt','ebit'])\n",
    "ee2 = ee.dropna(axis=0, how='any',subset=['at','revt','ebit','xrd'])\n",
    "\n",
    "print len(ee), len(ee1), len(ee2)"
   ]
  },
  {
   "cell_type": "code",
   "execution_count": 9,
   "metadata": {
    "collapsed": true
   },
   "outputs": [],
   "source": [
    "bio2.to_csv('compu_bio_na.csv', index=False)\n",
    "ee2.to_csv('compu_EE&IT_na.csv',index=False)"
   ]
  },
  {
   "cell_type": "markdown",
   "metadata": {},
   "source": [
    "__2.2 변수 제작__"
   ]
  },
  {
   "cell_type": "code",
   "execution_count": 2,
   "metadata": {
    "collapsed": true
   },
   "outputs": [],
   "source": [
    "bio = pd.read_csv('compu_bio_na.csv')\n",
    "ee = pd.read_csv('compu_EE&IT_na.csv')\n",
    "\n",
    "bio['roa'] = bio['ebit'] / bio['at']\n",
    "bio['margin'] = bio['ebit'] / bio['revt']\n",
    "bio['rdi'] = bio['xrd'] / bio['revt']\n",
    "\n",
    "ee['roa'] = ee['ebit'] / ee['at']\n",
    "ee['margin'] = ee['ebit'] / ee['revt']\n",
    "ee['rdi'] = ee['xrd'] / ee['revt']"
   ]
  },
  {
   "cell_type": "code",
   "execution_count": 5,
   "metadata": {
    "collapsed": true
   },
   "outputs": [],
   "source": [
    "bio.to_csv('compu_bio_temp.csv', index=False)\n",
    "ee.to_csv('compu_EE&IT_temp.csv',index=False)"
   ]
  },
  {
   "cell_type": "markdown",
   "metadata": {},
   "source": [
    "### 3. market concentration\n",
    "- 4digit, 3digit lv ㄱㄱ\n",
    "- compu_temp 기업 gvkey, year, sic 뽑기\n",
    "- 진짜 compustat에서 sic 매칭, gvkey, year, sic, revt 뽑기\n",
    "- groupby sic, year sum()\n",
    "- sic, year로 compu_temp에 join, 각 기업별 concentration 구함"
   ]
  },
  {
   "cell_type": "code",
   "execution_count": 1,
   "metadata": {
    "collapsed": true
   },
   "outputs": [],
   "source": [
    "import pandas as pd\n",
    "import numpy as np\n",
    "import csv\n",
    "import os\n",
    "import math\n",
    "\n",
    "os.chdir('E:/apps')"
   ]
  },
  {
   "cell_type": "markdown",
   "metadata": {},
   "source": [
    "__4digit 후 3digit으로 넘어가자__"
   ]
  },
  {
   "cell_type": "code",
   "execution_count": 2,
   "metadata": {},
   "outputs": [
    {
     "data": {
      "text/plain": [
       "(234, 558)"
      ]
     },
     "execution_count": 2,
     "metadata": {},
     "output_type": "execute_result"
    }
   ],
   "source": [
    "bio = pd.read_csv('compu_bio_temp.csv')\n",
    "ee = pd.read_csv('compu_EE&IT_temp.csv')\n",
    "\n",
    "bio = bio.loc[:,['fyear','sic']]\n",
    "bio.drop_duplicates(inplace=True)\n",
    "\n",
    "ee = ee.loc[:,['fyear','sic']]\n",
    "ee.drop_duplicates(inplace=True)\n",
    "\n",
    "len(bio), len(ee)"
   ]
  },
  {
   "cell_type": "code",
   "execution_count": 3,
   "metadata": {},
   "outputs": [
    {
     "data": {
      "text/plain": [
       "(32953, 81963)"
      ]
     },
     "execution_count": 3,
     "metadata": {},
     "output_type": "execute_result"
    }
   ],
   "source": [
    "comp = pd.read_csv('db_table/compustat_05-12.csv')\n",
    "comp = comp.loc[:,['gvkey','fyear','revt','sic']]\n",
    "comp.drop_duplicates(inplace=True)\n",
    "\n",
    "bio = bio.merge(comp,how='left',on=['sic','fyear'])\n",
    "ee = ee.merge(comp,how='left',on=['sic','fyear'])\n",
    "\n",
    "len(bio), len(ee)"
   ]
  },
  {
   "cell_type": "code",
   "execution_count": 4,
   "metadata": {},
   "outputs": [
    {
     "data": {
      "text/plain": [
       "(234, 558)"
      ]
     },
     "execution_count": 4,
     "metadata": {},
     "output_type": "execute_result"
    }
   ],
   "source": [
    "del bio['gvkey']\n",
    "bio = bio.groupby(['sic','fyear'], as_index=False).sum()\n",
    "\n",
    "del ee['gvkey']\n",
    "ee = ee.groupby(['sic','fyear'], as_index=False).sum()\n",
    "\n",
    "len(bio), len(ee)"
   ]
  },
  {
   "cell_type": "code",
   "execution_count": 5,
   "metadata": {
    "scrolled": true
   },
   "outputs": [
    {
     "data": {
      "text/html": [
       "<div>\n",
       "<style>\n",
       "    .dataframe thead tr:only-child th {\n",
       "        text-align: right;\n",
       "    }\n",
       "\n",
       "    .dataframe thead th {\n",
       "        text-align: left;\n",
       "    }\n",
       "\n",
       "    .dataframe tbody tr th {\n",
       "        vertical-align: top;\n",
       "    }\n",
       "</style>\n",
       "<table border=\"1\" class=\"dataframe\">\n",
       "  <thead>\n",
       "    <tr style=\"text-align: right;\">\n",
       "      <th></th>\n",
       "      <th>sic</th>\n",
       "      <th>fyear</th>\n",
       "      <th>revt_sic4</th>\n",
       "    </tr>\n",
       "  </thead>\n",
       "  <tbody>\n",
       "    <tr>\n",
       "      <th>0</th>\n",
       "      <td>1381</td>\n",
       "      <td>2005</td>\n",
       "      <td>3.724061e+04</td>\n",
       "    </tr>\n",
       "    <tr>\n",
       "      <th>1</th>\n",
       "      <td>1381</td>\n",
       "      <td>2006</td>\n",
       "      <td>1.405922e+06</td>\n",
       "    </tr>\n",
       "    <tr>\n",
       "      <th>2</th>\n",
       "      <td>1381</td>\n",
       "      <td>2007</td>\n",
       "      <td>2.802875e+06</td>\n",
       "    </tr>\n",
       "    <tr>\n",
       "      <th>3</th>\n",
       "      <td>1381</td>\n",
       "      <td>2008</td>\n",
       "      <td>3.811498e+06</td>\n",
       "    </tr>\n",
       "    <tr>\n",
       "      <th>4</th>\n",
       "      <td>1381</td>\n",
       "      <td>2009</td>\n",
       "      <td>4.170336e+06</td>\n",
       "    </tr>\n",
       "    <tr>\n",
       "      <th>5</th>\n",
       "      <td>1381</td>\n",
       "      <td>2010</td>\n",
       "      <td>7.651192e+06</td>\n",
       "    </tr>\n",
       "    <tr>\n",
       "      <th>6</th>\n",
       "      <td>1381</td>\n",
       "      <td>2011</td>\n",
       "      <td>9.305952e+06</td>\n",
       "    </tr>\n",
       "    <tr>\n",
       "      <th>7</th>\n",
       "      <td>1381</td>\n",
       "      <td>2012</td>\n",
       "      <td>1.207669e+07</td>\n",
       "    </tr>\n",
       "    <tr>\n",
       "      <th>8</th>\n",
       "      <td>1389</td>\n",
       "      <td>2005</td>\n",
       "      <td>3.325716e+06</td>\n",
       "    </tr>\n",
       "    <tr>\n",
       "      <th>9</th>\n",
       "      <td>1389</td>\n",
       "      <td>2006</td>\n",
       "      <td>4.601941e+06</td>\n",
       "    </tr>\n",
       "  </tbody>\n",
       "</table>\n",
       "</div>"
      ],
      "text/plain": [
       "    sic  fyear     revt_sic4\n",
       "0  1381   2005  3.724061e+04\n",
       "1  1381   2006  1.405922e+06\n",
       "2  1381   2007  2.802875e+06\n",
       "3  1381   2008  3.811498e+06\n",
       "4  1381   2009  4.170336e+06\n",
       "5  1381   2010  7.651192e+06\n",
       "6  1381   2011  9.305952e+06\n",
       "7  1381   2012  1.207669e+07\n",
       "8  1389   2005  3.325716e+06\n",
       "9  1389   2006  4.601941e+06"
      ]
     },
     "execution_count": 5,
     "metadata": {},
     "output_type": "execute_result"
    }
   ],
   "source": [
    "bio['sic'] = bio['sic'].apply(int,1)\n",
    "ee['sic'] = ee['sic'].apply(int,1)\n",
    "\n",
    "bio=bio.rename(columns = {'revt':'revt_sic4'})\n",
    "ee=ee.rename(columns = {'revt':'revt_sic4'})\n",
    "\n",
    "ee.iloc[0:10,:]"
   ]
  },
  {
   "cell_type": "code",
   "execution_count": 6,
   "metadata": {},
   "outputs": [
    {
     "data": {
      "text/plain": [
       "(41, 81)"
      ]
     },
     "execution_count": 6,
     "metadata": {},
     "output_type": "execute_result"
    }
   ],
   "source": [
    "len(bio['sic'].unique()), len(ee['sic'].unique())"
   ]
  },
  {
   "cell_type": "code",
   "execution_count": 7,
   "metadata": {
    "collapsed": true
   },
   "outputs": [],
   "source": [
    "bio.to_csv('sic_4_bio.csv',index=False)\n",
    "ee.to_csv('sic_4_ee.csv',index=False)"
   ]
  },
  {
   "cell_type": "markdown",
   "metadata": {},
   "source": [
    "__바탕으로 3digit ㄱㄱ__"
   ]
  },
  {
   "cell_type": "code",
   "execution_count": 8,
   "metadata": {},
   "outputs": [
    {
     "data": {
      "text/html": [
       "<div>\n",
       "<style>\n",
       "    .dataframe thead tr:only-child th {\n",
       "        text-align: right;\n",
       "    }\n",
       "\n",
       "    .dataframe thead th {\n",
       "        text-align: left;\n",
       "    }\n",
       "\n",
       "    .dataframe tbody tr th {\n",
       "        vertical-align: top;\n",
       "    }\n",
       "</style>\n",
       "<table border=\"1\" class=\"dataframe\">\n",
       "  <thead>\n",
       "    <tr style=\"text-align: right;\">\n",
       "      <th></th>\n",
       "      <th>sic</th>\n",
       "      <th>fyear</th>\n",
       "      <th>revt_sic4</th>\n",
       "      <th>sic_3</th>\n",
       "    </tr>\n",
       "  </thead>\n",
       "  <tbody>\n",
       "    <tr>\n",
       "      <th>0</th>\n",
       "      <td>1381</td>\n",
       "      <td>2005</td>\n",
       "      <td>3.724061e+04</td>\n",
       "      <td>138</td>\n",
       "    </tr>\n",
       "    <tr>\n",
       "      <th>1</th>\n",
       "      <td>1381</td>\n",
       "      <td>2006</td>\n",
       "      <td>1.405922e+06</td>\n",
       "      <td>138</td>\n",
       "    </tr>\n",
       "    <tr>\n",
       "      <th>2</th>\n",
       "      <td>1381</td>\n",
       "      <td>2007</td>\n",
       "      <td>2.802875e+06</td>\n",
       "      <td>138</td>\n",
       "    </tr>\n",
       "    <tr>\n",
       "      <th>3</th>\n",
       "      <td>1381</td>\n",
       "      <td>2008</td>\n",
       "      <td>3.811498e+06</td>\n",
       "      <td>138</td>\n",
       "    </tr>\n",
       "    <tr>\n",
       "      <th>4</th>\n",
       "      <td>1381</td>\n",
       "      <td>2009</td>\n",
       "      <td>4.170336e+06</td>\n",
       "      <td>138</td>\n",
       "    </tr>\n",
       "    <tr>\n",
       "      <th>5</th>\n",
       "      <td>1381</td>\n",
       "      <td>2010</td>\n",
       "      <td>7.651192e+06</td>\n",
       "      <td>138</td>\n",
       "    </tr>\n",
       "    <tr>\n",
       "      <th>6</th>\n",
       "      <td>1381</td>\n",
       "      <td>2011</td>\n",
       "      <td>9.305952e+06</td>\n",
       "      <td>138</td>\n",
       "    </tr>\n",
       "    <tr>\n",
       "      <th>7</th>\n",
       "      <td>1381</td>\n",
       "      <td>2012</td>\n",
       "      <td>1.207669e+07</td>\n",
       "      <td>138</td>\n",
       "    </tr>\n",
       "    <tr>\n",
       "      <th>8</th>\n",
       "      <td>1389</td>\n",
       "      <td>2005</td>\n",
       "      <td>3.325716e+06</td>\n",
       "      <td>138</td>\n",
       "    </tr>\n",
       "    <tr>\n",
       "      <th>9</th>\n",
       "      <td>1389</td>\n",
       "      <td>2006</td>\n",
       "      <td>4.601941e+06</td>\n",
       "      <td>138</td>\n",
       "    </tr>\n",
       "  </tbody>\n",
       "</table>\n",
       "</div>"
      ],
      "text/plain": [
       "    sic  fyear     revt_sic4  sic_3\n",
       "0  1381   2005  3.724061e+04    138\n",
       "1  1381   2006  1.405922e+06    138\n",
       "2  1381   2007  2.802875e+06    138\n",
       "3  1381   2008  3.811498e+06    138\n",
       "4  1381   2009  4.170336e+06    138\n",
       "5  1381   2010  7.651192e+06    138\n",
       "6  1381   2011  9.305952e+06    138\n",
       "7  1381   2012  1.207669e+07    138\n",
       "8  1389   2005  3.325716e+06    138\n",
       "9  1389   2006  4.601941e+06    138"
      ]
     },
     "execution_count": 8,
     "metadata": {},
     "output_type": "execute_result"
    }
   ],
   "source": [
    "def to_3d(sic):\n",
    "    sic = str(sic)[:-1]\n",
    "    return int(sic)\n",
    "\n",
    "bio['sic_3'] = bio['sic'].apply(to_3d,1)\n",
    "ee['sic_3'] = ee['sic'].apply(to_3d,1)\n",
    "\n",
    "bio3 = bio.drop('sic',axis=1)\n",
    "ee3 = ee.drop('sic',axis=1)\n",
    "\n",
    "ee.iloc[0:10,:]"
   ]
  },
  {
   "cell_type": "code",
   "execution_count": 9,
   "metadata": {},
   "outputs": [
    {
     "data": {
      "text/plain": [
       "(30, 53)"
      ]
     },
     "execution_count": 9,
     "metadata": {},
     "output_type": "execute_result"
    }
   ],
   "source": [
    "bio3 = bio3.groupby(['sic_3','fyear'], as_index=False).sum()\n",
    "ee3 = ee3.groupby(['sic_3','fyear'], as_index=False).sum()\n",
    "\n",
    "bio3 = bio3.rename(columns = {'revt_sic4':'revt_sic3'})\n",
    "ee3 = ee3.rename(columns = {'revt_sic4':'revt_sic3'})\n",
    "\n",
    "len(bio3['sic_3'].unique()), len(ee3['sic_3'].unique()), "
   ]
  },
  {
   "cell_type": "code",
   "execution_count": 10,
   "metadata": {},
   "outputs": [],
   "source": [
    "bio3.to_csv('sic_3_bio.csv',index=False)\n",
    "ee3.to_csv('sic_3_ee.csv',index=False)"
   ]
  },
  {
   "cell_type": "markdown",
   "metadata": {},
   "source": [
    "__concetration 계산__"
   ]
  },
  {
   "cell_type": "code",
   "execution_count": 11,
   "metadata": {
    "collapsed": true
   },
   "outputs": [],
   "source": [
    "bio4 = bio\n",
    "ee4 = ee\n",
    "\n",
    "bio = pd.read_csv('compu_bio_temp.csv')\n",
    "ee = pd.read_csv('compu_EE&IT_temp.csv')\n",
    "\n",
    "bio = bio.merge(bio4,how='left',on=['sic','fyear'])\n",
    "ee = ee.merge(ee4,how='left',on=['sic','fyear'])\n",
    "\n",
    "bio = bio.merge(bio3,how='left',on=['sic_3','fyear'])\n",
    "ee = ee.merge(ee3,how='left',on=['sic_3','fyear'])"
   ]
  },
  {
   "cell_type": "code",
   "execution_count": 14,
   "metadata": {},
   "outputs": [],
   "source": [
    "bio['mkt_4'] = bio['revt'] / bio['revt_sic4']\n",
    "bio['mkt_3'] = bio['revt'] / bio['revt_sic3']\n",
    "\n",
    "ee['mkt_4'] = ee['revt'] / ee['revt_sic4']\n",
    "ee['mkt_3'] = ee['revt'] / ee['revt_sic3']"
   ]
  },
  {
   "cell_type": "code",
   "execution_count": 17,
   "metadata": {
    "collapsed": true
   },
   "outputs": [],
   "source": [
    "bio.to_csv('feature/compu_bio.csv',index=False)\n",
    "ee.to_csv('feature/compu_EE&IT.csv',index=False)"
   ]
  }
 ],
 "metadata": {
  "kernelspec": {
   "display_name": "Python 2",
   "language": "python",
   "name": "python2"
  },
  "language_info": {
   "codemirror_mode": {
    "name": "ipython",
    "version": 2
   },
   "file_extension": ".py",
   "mimetype": "text/x-python",
   "name": "python",
   "nbconvert_exporter": "python",
   "pygments_lexer": "ipython2",
   "version": "2.7.13"
  }
 },
 "nbformat": 4,
 "nbformat_minor": 2
}
