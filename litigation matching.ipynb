{
 "cells": [
  {
   "cell_type": "markdown",
   "metadata": {},
   "source": [
    "# Matching litigation firm with others\n",
    "\n",
    "### Litigation\n",
    "- nameprocessing 필요 => 업그레이드 한 번 하자 (corporate, incorporated, company도 제거 좀...)\n",
    "- compustat, assignee matching 성공한 기업들 데이터만 필요\n",
    "- raw_assignee가 제일 잘 붙을거임\n",
    "\n",
    "### matching 방법\n",
    "- raw_assignee와 이름 기준으로 matching 하자\n",
    "- nameprocessing 결과로 1차 matching\n",
    "- raw_assignee -> assignee -> GVkey 순서로 match\n",
    "- 나머지에 대해 manual matching\n",
    "\n",
    "### 마무리\n",
    "- patent_lit_key.csv"
   ]
  },
  {
   "cell_type": "markdown",
   "metadata": {},
   "source": [
    "### 1. nameprocessing & 1차 matching"
   ]
  },
  {
   "cell_type": "code",
   "execution_count": 1,
   "metadata": {
    "collapsed": true
   },
   "outputs": [],
   "source": [
    "#-*- coding: utf-8 -*-\n",
    "import os\n",
    "\n",
    "os.chdir('E:/apps')\n",
    "\n",
    "### AG, BV, CORP, CO, kabushiki kaisha 처리 필요\n",
    "\n",
    "def nameprocessing(s):\n",
    "    s = s.lower()\n",
    "    s = s.replace(\"-\",\" \")\n",
    "    s = s.replace(\"&\",'and')\n",
    "\n",
    "    rm = ['.',',',';',\"'\",'kabushiki kaisha','kabushikikaisha','limited','company','corporation','incorporated']\n",
    "\n",
    "    for i in rm:\n",
    "        s = s.replace(i,\"\")\n",
    "\n",
    "    sp=s.split()\n",
    "    sp.reverse()\n",
    "\n",
    "    abb=['inc','ltd','llc','pte','plc','kft','co','gmbh','corp','ag','bv','kg']\n",
    "\n",
    "    for i in range(0,len(sp)):\n",
    "        if sp[i] in abb:\n",
    "            sp[i]=''\n",
    "    \n",
    "    sp.reverse()\n",
    "    return ''.join(sp)"
   ]
  },
  {
   "cell_type": "code",
   "execution_count": 2,
   "metadata": {},
   "outputs": [
    {
     "data": {
      "text/plain": [
       "'sevenelevenjapanand'"
      ]
     },
     "execution_count": 2,
     "metadata": {},
     "output_type": "execute_result"
    }
   ],
   "source": [
    "s=\"kabushiki kaisha Seven-Eleven' Japancorporat'ion Co., Ltd. company cor;poRati'On kabushiki kaisha co & KG\"\n",
    "\n",
    "nameprocessing(s)"
   ]
  },
  {
   "cell_type": "code",
   "execution_count": 3,
   "metadata": {},
   "outputs": [],
   "source": [
    "import pandas as pd\n",
    "\n",
    "df = pd.read_csv('assignee_raw.csv')\n",
    "df['new_raw_assignee'] = df['raw_assignee'].apply(nameprocessing)\n",
    "del df['assignee']\n",
    "df.drop_duplicates(inplace=True)\n",
    "\n",
    "df1 = pd.read_csv('litigation/lit_name.csv')\n",
    "df1['new_raw_assignee'] = df1['name'].apply(nameprocessing)\n",
    "df1.drop_duplicates(inplace=True)\n",
    "\n",
    "df = df.merge(df1, on='new_raw_assignee', how='left', sort=True)\n",
    "df.drop_duplicates(inplace=True)\n",
    "\n",
    "df.to_csv('pat_lit_raw_match.csv',index=False)\n",
    "df1.to_csv('lit_new.csv',index=False)"
   ]
  },
  {
   "cell_type": "markdown",
   "metadata": {},
   "source": [
    "### 2. raw_assignee -> assignee -> GVkey 순서로 match"
   ]
  },
  {
   "cell_type": "code",
   "execution_count": 5,
   "metadata": {
    "collapsed": true
   },
   "outputs": [],
   "source": [
    "import os\n",
    "import pandas as pd\n",
    "\n",
    "os.chdir('E:/apps')\n",
    "\n",
    "df = pd.read_csv('pat_lit_raw_match.csv')\n",
    "df1 = pd.read_csv('assignee_raw.csv')\n",
    "\n",
    "del df['new_raw_assignee']\n",
    "df1 = df1.merge(df, on='raw_assignee', how='left', sort=True)\n",
    "df1.drop_duplicates(inplace=True)\n",
    "\n",
    "del df, df1['raw_assignee']\n",
    "df2 = pd.read_csv('assignee_gvkey.csv')\n",
    "df2 = df2.merge(df1, on='assignee', how='left', sort=True)\n",
    "df2.drop_duplicates(inplace=True)\n",
    "\n",
    "df2.to_csv('patent_lit_key.csv',index=False)"
   ]
  },
  {
   "cell_type": "markdown",
   "metadata": {},
   "source": [
    "### 3. matching 성공률 확인"
   ]
  },
  {
   "cell_type": "code",
   "execution_count": 11,
   "metadata": {
    "collapsed": true
   },
   "outputs": [],
   "source": [
    "df1 = pd.read_csv('litigation/patent_names.csv')\n",
    "df1 = df1[['case_row_id','name']]\n",
    "df1.drop_duplicates(inplace=True)\n",
    "\n",
    "df2 = pd.read_csv('patent_lit_key.csv')\n",
    "df2 = df2['name'].to_frame()\n",
    "df2.drop_duplicates(inplace=True)\n",
    "\n",
    "df2 = df2.merge(df1, on='name', how='left', sort=True)\n",
    "df2.drop_duplicates(inplace=True)"
   ]
  },
  {
   "cell_type": "code",
   "execution_count": 14,
   "metadata": {},
   "outputs": [
    {
     "data": {
      "text/plain": [
       "9457"
      ]
     },
     "execution_count": 14,
     "metadata": {},
     "output_type": "execute_result"
    }
   ],
   "source": [
    "cases = df2['case_row_id'].to_frame()\n",
    "cases.drop_duplicates(inplace=True)\n",
    "len(cases)"
   ]
  },
  {
   "cell_type": "code",
   "execution_count": 16,
   "metadata": {},
   "outputs": [],
   "source": [
    "cases.to_csv('related_cases.csv',index=False)"
   ]
  }
 ],
 "metadata": {
  "kernelspec": {
   "display_name": "Python 2",
   "language": "python",
   "name": "python2"
  },
  "language_info": {
   "codemirror_mode": {
    "name": "ipython",
    "version": 2
   },
   "file_extension": ".py",
   "mimetype": "text/x-python",
   "name": "python",
   "nbconvert_exporter": "python",
   "pygments_lexer": "ipython2",
   "version": "2.7.13"
  }
 },
 "nbformat": 4,
 "nbformat_minor": 2
}
