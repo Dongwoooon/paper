{
 "cells": [
  {
   "cell_type": "markdown",
   "metadata": {},
   "source": [
    "# patent가 인용한 application 찾기\n",
    "\n",
    "### USPTO xml file에서 cited application 정보 추출\n",
    "- Fung에서 이제 app citation 제공 안 한다고 함...\n",
    "- 그럼 직접 해야지 뭐!\n",
    "- 나중에 join하면 되니까 => DB schema 함 짜야겠네\n",
    "\n",
    "### 추출할 element\n",
    "patent_id: 첫 doc-number  \n",
    "app_cited: citation / patcit / document-id / country='US' & len(doc-number) > 8 => **country != 'US'에서 탈출** (다음 doc으로 ㄱㄱ)   \n",
    "examiner: citation / category\n",
    "\n",
    "### some issues on the elements\n",
    "**patent_id**\n",
    "- 맨 앞이 D로 시작하는 애들 때문에 D없는 애들 앞에 0이 붙음   \n",
    "- but, 우리가 관심있는 특허는 D로 시작하는 애들 없음  \n",
    "- **=> int 만들어서 0 떼고 value Error 뜨면 바로 다음 doc으로 넘겨버리자**\n",
    "\n",
    "**cit id**\n",
    "- DN이 연도 / 숫자로 구성 (중간에 '/' 무의미)  \n",
    "- **=> / 를 공백으로 만들자**\n",
    "  \n",
    "**examiner**  \n",
    "- dummy로 변경"
   ]
  },
  {
   "cell_type": "code",
   "execution_count": 1,
   "metadata": {
    "collapsed": true
   },
   "outputs": [],
   "source": [
    "#-*- coding: utf-8 -*-\n",
    "import os\n",
    "import re\n",
    "import csv\n",
    "import sys\n",
    "import xml.etree.ElementTree as et\n",
    "import datetime as dt\n",
    "\n",
    "os.chdir('E:/apps')"
   ]
  },
  {
   "cell_type": "code",
   "execution_count": 2,
   "metadata": {
    "collapsed": true
   },
   "outputs": [],
   "source": [
    "def extract_xml_strings(filename):\n",
    "    \"\"\"\n",
    "    Given a string [filename], opens the file and returns a generator\n",
    "    that yields tuples. A tuple is of format (year, xmldoc string). A tuple\n",
    "    is returned for every valid XML doc in [filename]\n",
    "    \"\"\"\n",
    "    # search for terminating XML tag\n",
    "    endtag_regex = re.compile('^<!DOCTYPE (.*) SYSTEM')\n",
    "    endtag = ''\n",
    "    with open(filename, 'r') as f:\n",
    "        doc = ''  # initialize current XML doc to empty string\n",
    "        for line in f:\n",
    "            doc += line\n",
    "            endtag = endtag_regex.findall(line) if not endtag else endtag   #is there any endtags?\n",
    "            if not endtag:\n",
    "                continue      #if there's no end tag, keep the loop going\n",
    "            terminate = re.compile('^</{0}>'.format(endtag[0]))    #if there's a end tag, then check whether the doc is finished or not\n",
    "            if terminate.findall(line):     #if there's a terminator\n",
    "                yield (doc)                 #export doc and reinitialize a doc\n",
    "                endtag = ''\n",
    "                doc = ''"
   ]
  },
  {
   "cell_type": "code",
   "execution_count": 3,
   "metadata": {
    "collapsed": true,
    "scrolled": false
   },
   "outputs": [],
   "source": [
    "date = '20080101'  #initializing date\n",
    "\n",
    "with open('app_citation.csv', 'wb') as cit:\n",
    "    writer = csv.writer(cit,quoting=csv.QUOTE_ALL)\n",
    "    writer.writerow(['patent_id','app_cited','by_examiner'])\n",
    "    \n",
    "    while not date=='20130101':\n",
    "        filename = 'pat_xmls/ipgb'+ date + '.xml'   #making filename\n",
    "        xml = extract_xml_strings(filename)   #load and split whole xml into app_xmls  \n",
    "        for doc in xml:\n",
    "            root = et.fromstring(doc)\n",
    "            n = root.iter('doc-number')\n",
    "            pid = n.next().text\n",
    "\n",
    "            try:\n",
    "                pid = int(pid)                          \n",
    "                for cit in root.iter('citation'):   #using iter because of multi-assignee apps \n",
    "                    did = cit[0][0]\n",
    "                    cited = cit[1].text              \n",
    "                    try:\n",
    "                        if did.find('country').text != 'US':  #if foreign cit, go to next doc\n",
    "                            break \n",
    "\n",
    "                        cid = did.find('doc-number').text\n",
    "                        if len(cid) < 8:\n",
    "                            continue\n",
    "\n",
    "                        cid=cid.replace('/','')\n",
    "                        cit_dum = 1 if cited.split()[-1] == 'examiner' else 0\n",
    "\n",
    "                        writer.writerow([pid,cid,cit_dum])\n",
    "                    \n",
    "                    except AttributeError:         #if other cit, go to next doc\n",
    "                        break\n",
    "                        \n",
    "            except ValueError:      #if pid != int, go to the next doc\n",
    "                continue    \n",
    "                             \n",
    "        date = dt.datetime.strptime(date,'%Y%m%d')   #Let's move on to next xml\n",
    "        date += dt.timedelta(weeks=1)\n",
    "        date = date.strftime('%Y%m%d')"
   ]
  },
  {
   "cell_type": "markdown",
   "metadata": {},
   "source": [
    "__05~07 새로 붙이기__"
   ]
  },
  {
   "cell_type": "code",
   "execution_count": 9,
   "metadata": {
    "scrolled": true
   },
   "outputs": [],
   "source": [
    "date = '20050104'  #initializing date\n",
    "\n",
    "with open('app_citation.csv', 'ab') as cit:\n",
    "    writer = csv.writer(cit,quoting=csv.QUOTE_ALL)\n",
    "    \n",
    "    while not date=='20080101':\n",
    "        filename = 'pat_xmls/ipgb'+ date + '.xml'   #making filename\n",
    "        xml = extract_xml_strings(filename)   #load and split whole xml into app_xmls  \n",
    "        for doc in xml:\n",
    "            root = et.fromstring(doc)\n",
    "            n = root.iter('doc-number')\n",
    "            pid = n.next().text\n",
    "\n",
    "            try:\n",
    "                pid = int(pid)                          \n",
    "                for cit in root.iter('citation'):   #using iter because of multi-assignee apps \n",
    "                    did = cit[0][0]\n",
    "                    try:\n",
    "                        cited = cit[1].text              \n",
    "                        try:\n",
    "                            if did.find('country').text != 'US':  #if foreign cit, go to next doc\n",
    "                                break \n",
    "\n",
    "                            cid = did.find('doc-number').text\n",
    "                            if len(cid) < 8:\n",
    "                                continue\n",
    "\n",
    "                            cid=cid.replace('/','')\n",
    "                            cit_dum = 1 if cited.split()[-1] == 'examiner' else 0\n",
    "\n",
    "                            writer.writerow([pid,cid,cit_dum])\n",
    "\n",
    "                        except AttributeError:         #if other cit, go to next doc\n",
    "                            break\n",
    "                        \n",
    "                    except IndexError:    #if other cit, go to next doc\n",
    "                        break\n",
    "                        \n",
    "            except ValueError:      #if pid != int, go to the next doc\n",
    "                continue    \n",
    "                             \n",
    "        date = dt.datetime.strptime(date,'%Y%m%d')   #Let's move on to next xml\n",
    "        date += dt.timedelta(weeks=1)\n",
    "        date = date.strftime('%Y%m%d')"
   ]
  },
  {
   "cell_type": "markdown",
   "metadata": {},
   "source": [
    "### examiner or firm 으로 분리"
   ]
  },
  {
   "cell_type": "code",
   "execution_count": 2,
   "metadata": {},
   "outputs": [
    {
     "data": {
      "text/plain": [
       "7256167"
      ]
     },
     "execution_count": 2,
     "metadata": {},
     "output_type": "execute_result"
    }
   ],
   "source": [
    "import os\n",
    "import pandas as pd\n",
    "\n",
    "os.chdir('E:/apps')\n",
    "df = pd.read_csv('app_citation.csv')\n",
    "df.sort_values(by='patent_id',inplace=True)\n",
    "df.to_csv('app_citation.csv',index=False)\n",
    "len(df)"
   ]
  },
  {
   "cell_type": "code",
   "execution_count": 4,
   "metadata": {},
   "outputs": [
    {
     "data": {
      "text/html": [
       "<div>\n",
       "<style>\n",
       "    .dataframe thead tr:only-child th {\n",
       "        text-align: right;\n",
       "    }\n",
       "\n",
       "    .dataframe thead th {\n",
       "        text-align: left;\n",
       "    }\n",
       "\n",
       "    .dataframe tbody tr th {\n",
       "        vertical-align: top;\n",
       "    }\n",
       "</style>\n",
       "<table border=\"1\" class=\"dataframe\">\n",
       "  <thead>\n",
       "    <tr style=\"text-align: right;\">\n",
       "      <th></th>\n",
       "      <th>patent_id</th>\n",
       "      <th>app_cited</th>\n",
       "      <th>by_examiner</th>\n",
       "    </tr>\n",
       "  </thead>\n",
       "  <tbody>\n",
       "    <tr>\n",
       "      <th>6500451</th>\n",
       "      <td>6836907</td>\n",
       "      <td>20020116756</td>\n",
       "      <td>0</td>\n",
       "    </tr>\n",
       "    <tr>\n",
       "      <th>6500452</th>\n",
       "      <td>6836913</td>\n",
       "      <td>20020062522</td>\n",
       "      <td>1</td>\n",
       "    </tr>\n",
       "    <tr>\n",
       "      <th>6500453</th>\n",
       "      <td>6836913</td>\n",
       "      <td>20030229973</td>\n",
       "      <td>1</td>\n",
       "    </tr>\n",
       "    <tr>\n",
       "      <th>6500454</th>\n",
       "      <td>6836914</td>\n",
       "      <td>20020194678</td>\n",
       "      <td>1</td>\n",
       "    </tr>\n",
       "    <tr>\n",
       "      <th>6500455</th>\n",
       "      <td>6836916</td>\n",
       "      <td>20030009908</td>\n",
       "      <td>1</td>\n",
       "    </tr>\n",
       "    <tr>\n",
       "      <th>6500456</th>\n",
       "      <td>6836917</td>\n",
       "      <td>20020162180</td>\n",
       "      <td>0</td>\n",
       "    </tr>\n",
       "    <tr>\n",
       "      <th>6500457</th>\n",
       "      <td>6836917</td>\n",
       "      <td>20040016067</td>\n",
       "      <td>0</td>\n",
       "    </tr>\n",
       "    <tr>\n",
       "      <th>6500458</th>\n",
       "      <td>6836918</td>\n",
       "      <td>20020066147</td>\n",
       "      <td>1</td>\n",
       "    </tr>\n",
       "    <tr>\n",
       "      <th>6500459</th>\n",
       "      <td>6836918</td>\n",
       "      <td>20030084528</td>\n",
       "      <td>1</td>\n",
       "    </tr>\n",
       "    <tr>\n",
       "      <th>6500460</th>\n",
       "      <td>6836921</td>\n",
       "      <td>20040098820</td>\n",
       "      <td>1</td>\n",
       "    </tr>\n",
       "  </tbody>\n",
       "</table>\n",
       "</div>"
      ],
      "text/plain": [
       "         patent_id    app_cited  by_examiner\n",
       "6500451    6836907  20020116756            0\n",
       "6500452    6836913  20020062522            1\n",
       "6500453    6836913  20030229973            1\n",
       "6500454    6836914  20020194678            1\n",
       "6500455    6836916  20030009908            1\n",
       "6500456    6836917  20020162180            0\n",
       "6500457    6836917  20040016067            0\n",
       "6500458    6836918  20020066147            1\n",
       "6500459    6836918  20030084528            1\n",
       "6500460    6836921  20040098820            1"
      ]
     },
     "execution_count": 4,
     "metadata": {},
     "output_type": "execute_result"
    }
   ],
   "source": [
    "df.sort_values(by='patent_id',inplace=True)\n",
    "df.iloc[0:10,]"
   ]
  },
  {
   "cell_type": "code",
   "execution_count": 6,
   "metadata": {},
   "outputs": [
    {
     "data": {
      "text/plain": [
       "4915882"
      ]
     },
     "execution_count": 6,
     "metadata": {},
     "output_type": "execute_result"
    }
   ],
   "source": [
    "df1 = df.loc[df['by_examiner']==0]\n",
    "len(df1)"
   ]
  },
  {
   "cell_type": "code",
   "execution_count": 7,
   "metadata": {},
   "outputs": [],
   "source": [
    "del df1['by_examiner']\n",
    "df1.to_csv('app_citation_byfirm.csv',index=False)"
   ]
  },
  {
   "cell_type": "code",
   "execution_count": 8,
   "metadata": {},
   "outputs": [
    {
     "data": {
      "text/plain": [
       "2340285"
      ]
     },
     "execution_count": 8,
     "metadata": {},
     "output_type": "execute_result"
    }
   ],
   "source": [
    "df1 = df.loc[df['by_examiner']==1]\n",
    "len(df1)"
   ]
  },
  {
   "cell_type": "code",
   "execution_count": 9,
   "metadata": {},
   "outputs": [],
   "source": [
    "del df1['by_examiner']\n",
    "df1.to_csv('app_citation_byexam.csv',index=False)"
   ]
  },
  {
   "cell_type": "code",
   "execution_count": 10,
   "metadata": {},
   "outputs": [
    {
     "data": {
      "text/plain": [
       "0.6774764142005001"
      ]
     },
     "execution_count": 10,
     "metadata": {},
     "output_type": "execute_result"
    }
   ],
   "source": [
    "4915882.0/7256167"
   ]
  }
 ],
 "metadata": {
  "kernelspec": {
   "display_name": "Python 2",
   "language": "python",
   "name": "python2"
  },
  "language_info": {
   "codemirror_mode": {
    "name": "ipython",
    "version": 2
   },
   "file_extension": ".py",
   "mimetype": "text/x-python",
   "name": "python",
   "nbconvert_exporter": "python",
   "pygments_lexer": "ipython2",
   "version": "2.7.13"
  }
 },
 "nbformat": 4,
 "nbformat_minor": 2
}
