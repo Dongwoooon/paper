{
 "cells": [
  {
   "cell_type": "markdown",
   "metadata": {},
   "source": [
    "# app citation에 grant dummy 붙이기 "
   ]
  },
  {
   "cell_type": "markdown",
   "metadata": {},
   "source": [
    "### merge 관련 issues  \n",
    "1. 분석 범위: 2002년 ~ 2013년  \n",
    "=> app_cite, app_granted 모두 2002 ~ 2013에 해당하는 친구들만 필요\n",
    "2. 2002 ~ 2013에 해당하는 app은 app_profile에 있음\n",
    "3. app_cite data가 아직 없어서 app_id 썼는지 DN 썼는지 모름  \n",
    "=> 그렇다면 일단 app_profile에 granted dummy를 붙이자\n",
    "4. 하지만 app_granted는 app_id, DN 섞여있음  \n",
    "=> 2개 key (app_id, DN) 각각 join 후, column을 하나로 합침"
   ]
  },
  {
   "cell_type": "markdown",
   "metadata": {},
   "source": [
    "### 1. app_profile + granted dummy"
   ]
  },
  {
   "cell_type": "code",
   "execution_count": 1,
   "metadata": {
    "collapsed": true
   },
   "outputs": [],
   "source": [
    "import csv\n",
    "import os\n",
    "import pandas as pd\n",
    "import numpy as np\n",
    "import math\n",
    "\n",
    "os.chdir('E:/apps')"
   ]
  },
  {
   "cell_type": "code",
   "execution_count": 2,
   "metadata": {
    "scrolled": true
   },
   "outputs": [
    {
     "name": "stderr",
     "output_type": "stream",
     "text": [
      "C:\\Users\\DW\\Anaconda2\\lib\\site-packages\\IPython\\core\\interactiveshell.py:2717: DtypeWarning: Columns (1) have mixed types. Specify dtype option on import or set low_memory=False.\n",
      "  interactivity=interactivity, compiler=compiler, result=result)\n"
     ]
    },
    {
     "data": {
      "text/html": [
       "<div>\n",
       "<style>\n",
       "    .dataframe thead tr:only-child th {\n",
       "        text-align: right;\n",
       "    }\n",
       "\n",
       "    .dataframe thead th {\n",
       "        text-align: left;\n",
       "    }\n",
       "\n",
       "    .dataframe tbody tr th {\n",
       "        vertical-align: top;\n",
       "    }\n",
       "</style>\n",
       "<table border=\"1\" class=\"dataframe\">\n",
       "  <thead>\n",
       "    <tr style=\"text-align: right;\">\n",
       "      <th></th>\n",
       "      <th>number</th>\n",
       "      <th>app_id</th>\n",
       "      <th>granted_dum</th>\n",
       "    </tr>\n",
       "  </thead>\n",
       "  <tbody>\n",
       "    <tr>\n",
       "      <th>0</th>\n",
       "      <td>NaN</td>\n",
       "      <td>07/683484</td>\n",
       "      <td>0.0</td>\n",
       "    </tr>\n",
       "    <tr>\n",
       "      <th>1</th>\n",
       "      <td>NaN</td>\n",
       "      <td>08/537802</td>\n",
       "      <td>0.0</td>\n",
       "    </tr>\n",
       "    <tr>\n",
       "      <th>2</th>\n",
       "      <td>NaN</td>\n",
       "      <td>08/541191</td>\n",
       "      <td>0.0</td>\n",
       "    </tr>\n",
       "    <tr>\n",
       "      <th>3</th>\n",
       "      <td>NaN</td>\n",
       "      <td>08/565943</td>\n",
       "      <td>0.0</td>\n",
       "    </tr>\n",
       "    <tr>\n",
       "      <th>4</th>\n",
       "      <td>NaN</td>\n",
       "      <td>08/579733</td>\n",
       "      <td>0.0</td>\n",
       "    </tr>\n",
       "  </tbody>\n",
       "</table>\n",
       "</div>"
      ],
      "text/plain": [
       "   number     app_id  granted_dum\n",
       "0     NaN  07/683484          0.0\n",
       "1     NaN  08/537802          0.0\n",
       "2     NaN  08/541191          0.0\n",
       "3     NaN  08/565943          0.0\n",
       "4     NaN  08/579733          0.0"
      ]
     },
     "execution_count": 2,
     "metadata": {},
     "output_type": "execute_result"
    }
   ],
   "source": [
    "grt = pd.read_csv('app_granted.csv')\n",
    "grt.iloc[0:5,:]"
   ]
  },
  {
   "cell_type": "markdown",
   "metadata": {},
   "source": [
    "__문제__\n",
    "- granted_dum에는 0, 1, NaN이 섞여 있음   \n",
    "=> Join 시 생기는 NaN과 원래 있었던 NaN 구분 불가 \n",
    "- 그렇다면 원래 있는 NaN을 2로 바꿔버리자!"
   ]
  },
  {
   "cell_type": "code",
   "execution_count": 3,
   "metadata": {},
   "outputs": [
    {
     "data": {
      "text/html": [
       "<div>\n",
       "<style>\n",
       "    .dataframe thead tr:only-child th {\n",
       "        text-align: right;\n",
       "    }\n",
       "\n",
       "    .dataframe thead th {\n",
       "        text-align: left;\n",
       "    }\n",
       "\n",
       "    .dataframe tbody tr th {\n",
       "        vertical-align: top;\n",
       "    }\n",
       "</style>\n",
       "<table border=\"1\" class=\"dataframe\">\n",
       "  <thead>\n",
       "    <tr style=\"text-align: right;\">\n",
       "      <th></th>\n",
       "      <th>number</th>\n",
       "      <th>app_id</th>\n",
       "      <th>granted_dum</th>\n",
       "    </tr>\n",
       "  </thead>\n",
       "  <tbody>\n",
       "    <tr>\n",
       "      <th>1044847</th>\n",
       "      <td>2.005000e+10</td>\n",
       "      <td>NaN</td>\n",
       "      <td>2.0</td>\n",
       "    </tr>\n",
       "  </tbody>\n",
       "</table>\n",
       "</div>"
      ],
      "text/plain": [
       "               number app_id  granted_dum\n",
       "1044847  2.005000e+10    NaN          2.0"
      ]
     },
     "execution_count": 3,
     "metadata": {},
     "output_type": "execute_result"
    }
   ],
   "source": [
    "grt['granted_dum'].fillna(2, inplace=True)\n",
    "grt.loc[grt['number'] == 20050000001]"
   ]
  },
  {
   "cell_type": "code",
   "execution_count": 4,
   "metadata": {},
   "outputs": [
    {
     "name": "stdout",
     "output_type": "stream",
     "text": [
      "['app_id', 'granted_dum_i'] ['number', 'granted_dum_n']\n"
     ]
    },
    {
     "name": "stderr",
     "output_type": "stream",
     "text": [
      "C:\\Users\\DW\\Anaconda2\\lib\\site-packages\\pandas\\core\\frame.py:2844: SettingWithCopyWarning: \n",
      "A value is trying to be set on a copy of a slice from a DataFrame\n",
      "\n",
      "See the caveats in the documentation: http://pandas.pydata.org/pandas-docs/stable/indexing.html#indexing-view-versus-copy\n",
      "  **kwargs)\n"
     ]
    }
   ],
   "source": [
    "grt_id = grt.iloc[:,1:3]\n",
    "grt_id.rename(columns={'granted_dum': 'granted_dum_i'}, inplace=True)\n",
    "\n",
    "grt_n = grt.iloc[:,[0,2]]\n",
    "grt_n.rename(columns={'granted_dum': 'granted_dum_n'}, inplace=True)\n",
    "\n",
    "print list(grt_id), list(grt_n)"
   ]
  },
  {
   "cell_type": "code",
   "execution_count": 5,
   "metadata": {
    "collapsed": true
   },
   "outputs": [],
   "source": [
    "del grt\n",
    "\n",
    "prf = pd.read_csv('app_profile_melted.csv')\n",
    "\n",
    "prf = prf.merge(grt_id, how='left')\n",
    "prf = prf.merge(grt_n, how='left')"
   ]
  },
  {
   "cell_type": "markdown",
   "metadata": {},
   "source": [
    "merge 후 granted_dum_i, granted_dum_i 중 __하나만 NaN 일 때__ 정상  \n",
    "둘 다 NaN일 경우 (matching 실패) or 둘 다 NaN 아닐 경우 (matching 중복) 처리 필요  \n",
    "=> numpy array로 처리 후 다시 갖다 붙이자"
   ]
  },
  {
   "cell_type": "code",
   "execution_count": 18,
   "metadata": {
    "collapsed": true
   },
   "outputs": [],
   "source": [
    "prf_dum = prf.iloc[:,5:7]\n",
    "prf.to_csv('app_prf_temp.csv',index=False)\n",
    "prf_dum.to_csv('grtdum_temp.csv', index=False)"
   ]
  },
  {
   "cell_type": "code",
   "execution_count": 2,
   "metadata": {
    "collapsed": true
   },
   "outputs": [],
   "source": [
    "# dummy 뒷처리\n",
    "\n",
    "def granted_dum(arr):\n",
    "    a = arr[0] + arr[1]\n",
    "    if math.isnan(a):\n",
    "        if not math.isnan(arr[0]):\n",
    "            a = arr[0]\n",
    "        else:\n",
    "            a = arr[1] if not math.isnan(arr[1]) else a\n",
    "            a = np.nan if a==2 else a\n",
    "     \n",
    "    else:\n",
    "        if a==2:\n",
    "            if arr[0]==arr[1]:\n",
    "                a=1\n",
    "            \n",
    "            else:\n",
    "                a=0\n",
    "        \n",
    "        elif a==3:\n",
    "            a=1\n",
    "            \n",
    "    return a"
   ]
  },
  {
   "cell_type": "code",
   "execution_count": 3,
   "metadata": {
    "collapsed": true
   },
   "outputs": [],
   "source": [
    "dum = np.genfromtxt('grtdum_temp.csv',delimiter=',',names=True)\n",
    "\n",
    "vfunc = np.vectorize(granted_dum)\n",
    "result = vfunc(dum)\n",
    "np.savetxt('grtdum.csv', result,delimiter=',', fmt='%1.1f', header='granted_dum', comments='')"
   ]
  },
  {
   "cell_type": "code",
   "execution_count": 4,
   "metadata": {
    "scrolled": true
   },
   "outputs": [],
   "source": [
    "prf = pd.read_csv('app_prf_temp.csv')\n",
    "dum = pd.read_csv('grtdum.csv')\n",
    "\n",
    "prf = prf.iloc[:,0:5]"
   ]
  },
  {
   "cell_type": "code",
   "execution_count": 6,
   "metadata": {},
   "outputs": [
    {
     "name": "stdout",
     "output_type": "stream",
     "text": [
      "3642191 3642191\n"
     ]
    }
   ],
   "source": [
    "print len(prf), len(dum)"
   ]
  },
  {
   "cell_type": "code",
   "execution_count": 8,
   "metadata": {},
   "outputs": [
    {
     "data": {
      "text/html": [
       "<div>\n",
       "<style>\n",
       "    .dataframe thead tr:only-child th {\n",
       "        text-align: right;\n",
       "    }\n",
       "\n",
       "    .dataframe thead th {\n",
       "        text-align: left;\n",
       "    }\n",
       "\n",
       "    .dataframe tbody tr th {\n",
       "        vertical-align: top;\n",
       "    }\n",
       "</style>\n",
       "<table border=\"1\" class=\"dataframe\">\n",
       "  <thead>\n",
       "    <tr style=\"text-align: right;\">\n",
       "      <th></th>\n",
       "      <th>number</th>\n",
       "      <th>app_id</th>\n",
       "      <th>date</th>\n",
       "      <th>assignee</th>\n",
       "      <th>country</th>\n",
       "      <th>granted_dum</th>\n",
       "    </tr>\n",
       "  </thead>\n",
       "  <tbody>\n",
       "    <tr>\n",
       "      <th>0</th>\n",
       "      <td>20020000001</td>\n",
       "      <td>09/836917</td>\n",
       "      <td>2001-04-18</td>\n",
       "      <td>private</td>\n",
       "      <td>NaN</td>\n",
       "      <td>1.0</td>\n",
       "    </tr>\n",
       "    <tr>\n",
       "      <th>1</th>\n",
       "      <td>20020000002</td>\n",
       "      <td>09/888723</td>\n",
       "      <td>2001-06-25</td>\n",
       "      <td>private</td>\n",
       "      <td>NaN</td>\n",
       "      <td>1.0</td>\n",
       "    </tr>\n",
       "    <tr>\n",
       "      <th>2</th>\n",
       "      <td>20020000003</td>\n",
       "      <td>09/894736</td>\n",
       "      <td>2001-06-28</td>\n",
       "      <td>private</td>\n",
       "      <td>NaN</td>\n",
       "      <td>1.0</td>\n",
       "    </tr>\n",
       "    <tr>\n",
       "      <th>3</th>\n",
       "      <td>20020000004</td>\n",
       "      <td>09/939364</td>\n",
       "      <td>2001-08-24</td>\n",
       "      <td>private</td>\n",
       "      <td>NaN</td>\n",
       "      <td>1.0</td>\n",
       "    </tr>\n",
       "    <tr>\n",
       "      <th>4</th>\n",
       "      <td>20020000005</td>\n",
       "      <td>09/552169</td>\n",
       "      <td>2000-04-18</td>\n",
       "      <td>private</td>\n",
       "      <td>NaN</td>\n",
       "      <td>1.0</td>\n",
       "    </tr>\n",
       "  </tbody>\n",
       "</table>\n",
       "</div>"
      ],
      "text/plain": [
       "        number     app_id        date assignee country  granted_dum\n",
       "0  20020000001  09/836917  2001-04-18  private     NaN          1.0\n",
       "1  20020000002  09/888723  2001-06-25  private     NaN          1.0\n",
       "2  20020000003  09/894736  2001-06-28  private     NaN          1.0\n",
       "3  20020000004  09/939364  2001-08-24  private     NaN          1.0\n",
       "4  20020000005  09/552169  2000-04-18  private     NaN          1.0"
      ]
     },
     "execution_count": 8,
     "metadata": {},
     "output_type": "execute_result"
    }
   ],
   "source": [
    "result = pd.concat([prf, dum], axis=1)\n",
    "result.iloc[0:5,:]"
   ]
  },
  {
   "cell_type": "code",
   "execution_count": 10,
   "metadata": {
    "collapsed": true
   },
   "outputs": [],
   "source": [
    "result.to_csv('app_profile_granted.csv',index=False)"
   ]
  }
 ],
 "metadata": {
  "kernelspec": {
   "display_name": "Python 2",
   "language": "python",
   "name": "python2"
  },
  "language_info": {
   "codemirror_mode": {
    "name": "ipython",
    "version": 2
   },
   "file_extension": ".py",
   "mimetype": "text/x-python",
   "name": "python",
   "nbconvert_exporter": "python",
   "pygments_lexer": "ipython2",
   "version": "2.7.13"
  }
 },
 "nbformat": 4,
 "nbformat_minor": 2
}
